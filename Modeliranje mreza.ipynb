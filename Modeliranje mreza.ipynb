{
 "cells": [
  {
   "cell_type": "code",
   "execution_count": 1,
   "id": "d8f9a132",
   "metadata": {},
   "outputs": [],
   "source": [
    "import networkx as nx\n",
    "import pickle\n",
    "import numpy as np\n",
    "import pandas as pd\n",
    "import matplotlib.pyplot as plt"
   ]
  },
  {
   "cell_type": "code",
   "execution_count": 2,
   "id": "8ac6faf7",
   "metadata": {},
   "outputs": [],
   "source": [
    "with open(\"data/comments_cleaned\", 'rb') as file:\n",
    "    data_comments = pickle.load(file)"
   ]
  },
  {
   "cell_type": "code",
   "execution_count": 3,
   "id": "d4d91d7f",
   "metadata": {},
   "outputs": [],
   "source": [
    "with open(\"data/submissions_cleaned\", 'rb') as file:\n",
    "    data_submissions=pickle.load(file)"
   ]
  },
  {
   "cell_type": "markdown",
   "id": "024a11f5",
   "metadata": {},
   "source": [
    "## SNet mreža ###"
   ]
  },
  {
   "cell_type": "code",
   "execution_count": 4,
   "id": "2312f6de",
   "metadata": {},
   "outputs": [
    {
     "name": "stdout",
     "output_type": "stream",
     "text": [
      "4174\n"
     ]
    }
   ],
   "source": [
    "#pravimo jedinstvene sabredite da budu čvorovi\n",
    "subs1=set(data_submissions['subreddit'].unique())\n",
    "subs2=set(data_comments['subreddit'].unique())\n",
    "data_subs=subs1.union(subs2)\n",
    "print(len(data_subs))"
   ]
  },
  {
   "cell_type": "code",
   "execution_count": 5,
   "id": "5d57fea9",
   "metadata": {},
   "outputs": [],
   "source": [
    "#graf i cvorovi\n",
    "G=nx.Graph()\n",
    "G.add_nodes_from(data_subs)"
   ]
  },
  {
   "cell_type": "code",
   "execution_count": null,
   "id": "56f2d92f",
   "metadata": {},
   "outputs": [],
   "source": [
    "print('Čvorovi:')\n",
    "list(G.nodes())"
   ]
  },
  {
   "cell_type": "code",
   "execution_count": 7,
   "id": "ecbf9058",
   "metadata": {},
   "outputs": [
    {
     "data": {
      "text/plain": [
       "author\n",
       "*polhold00133                                                [reddit.com]\n",
       "*polhold00149                                                   [science]\n",
       "--------------------                  [politics, reddit.com, programming]\n",
       "-----KATHRINE                                                [reddit.com]\n",
       "--Aly95--                                                            [it]\n",
       "                                              ...                        \n",
       "zzzxxc                                                       [reddit.com]\n",
       "zzzz2008                [politics, Libertarian, reddit.com, pics, Econ...\n",
       "zzzz71                                                       [reddit.com]\n",
       "zzzzzzzzzzz                                        [reddit.com, politics]\n",
       "zzzzzzzzzzzzzzzzzzz                                          [reddit.com]\n",
       "Length: 218731, dtype: object"
      ]
     },
     "execution_count": 7,
     "metadata": {},
     "output_type": "execute_result"
    }
   ],
   "source": [
    "#kako napraviti grane, ako svaka dva sabredita imaju korisnike aktivnih na tim sabreditima, pa racunamo za tezinu broj\n",
    "#korisnika vezano za te sabredite, ako je autor jednog i drugog sabredita, to je tezina broj korisnika na jednom i drugom sabreditu\n",
    "komentari=data_comments[['author','subreddit']].drop_duplicates()\n",
    "objave=data_submissions[['author','subreddit']].drop_duplicates()\n",
    "komObj=pd.merge(komentari, objave, how='outer', on=['subreddit','author'])\n",
    "grupa=komObj.groupby('author')\n",
    "sabrediti=grupa.apply(lambda x: x['subreddit'].unique())\n",
    "sabrediti"
   ]
  },
  {
   "cell_type": "code",
   "execution_count": 8,
   "id": "807be22c",
   "metadata": {},
   "outputs": [],
   "source": [
    "for subreddits in sabrediti:\n",
    "    for j in range(0, len(subreddits)):\n",
    "        for k in range(j+1, len(subreddits)):\n",
    "            #print(subreddits[j])\n",
    "            #print(subreddits[k])\n",
    "            subreddit1=subreddits[j]\n",
    "            subreddit2=subreddits[k]\n",
    "            if (subreddit1, subreddit2) in G.edges:\n",
    "                G.edges[subreddit1, subreddit2]['weight'] += 1\n",
    "            else:\n",
    "                G.add_edge(subreddit1, subreddit2, weight=1)"
   ]
  },
  {
   "cell_type": "code",
   "execution_count": null,
   "id": "a2baa568",
   "metadata": {},
   "outputs": [],
   "source": [
    "print(G.edges(['geek']))"
   ]
  },
  {
   "cell_type": "code",
   "execution_count": 9,
   "id": "ae494e8f",
   "metadata": {},
   "outputs": [
    {
     "name": "stdout",
     "output_type": "stream",
     "text": [
      "{'weight': 3866}\n"
     ]
    }
   ],
   "source": [
    "print(G.edges['geek','reddit.com'])"
   ]
  },
  {
   "cell_type": "code",
   "execution_count": 11,
   "id": "6b56a31a",
   "metadata": {},
   "outputs": [
    {
     "name": "stdout",
     "output_type": "stream",
     "text": [
      "           author subreddit_x subreddit_y\n",
      "0     OriginalSyn        geek  reddit.com\n",
      "1           jmmcd        geek  reddit.com\n",
      "2        mjsolaro        geek  reddit.com\n",
      "3          MadAce        geek  reddit.com\n",
      "4      astrosmash        geek  reddit.com\n",
      "...           ...         ...         ...\n",
      "3861      Fishbum        geek  reddit.com\n",
      "3862   phillapier        geek  reddit.com\n",
      "3863       Nurgle        geek  reddit.com\n",
      "3864         nirk        geek  reddit.com\n",
      "3865    dialector        geek  reddit.com\n",
      "\n",
      "[3866 rows x 3 columns]\n"
     ]
    }
   ],
   "source": [
    "kom1=komObj[komObj['subreddit']=='geek']\n",
    "kom2=komObj[komObj['subreddit']=='reddit.com']\n",
    "komIn=pd.merge(kom1, kom2, on=['author'], how='inner')\n",
    "print(komIn) #ok je resenje"
   ]
  },
  {
   "cell_type": "code",
   "execution_count": 12,
   "id": "1654d8d1",
   "metadata": {},
   "outputs": [],
   "source": [
    "output_SNet = \"models/undirected_count_aggregationSNET.gml\"\n",
    "\n",
    "nx.write_gml(G, output_SNet)"
   ]
  },
  {
   "cell_type": "code",
   "execution_count": 13,
   "id": "d624c770",
   "metadata": {},
   "outputs": [
    {
     "name": "stdout",
     "output_type": "stream",
     "text": [
      "Name: \n",
      "Type: Graph\n",
      "Number of nodes: 4174\n",
      "Number of edges: 135829\n",
      "Average degree:  65.0834\n"
     ]
    }
   ],
   "source": [
    "print(nx.info(G))"
   ]
  },
  {
   "cell_type": "markdown",
   "id": "8ff0705b",
   "metadata": {},
   "source": [
    "## SNetF mreža ##"
   ]
  },
  {
   "cell_type": "code",
   "execution_count": 2,
   "id": "9c7bee95",
   "metadata": {},
   "outputs": [],
   "source": [
    "from collections import Counter\n",
    "from operator import itemgetter"
   ]
  },
  {
   "cell_type": "code",
   "execution_count": 3,
   "id": "a0d2e0e6",
   "metadata": {},
   "outputs": [],
   "source": [
    "def raspodela_tezina(G):\n",
    "    plt.figure(1)\n",
    "    plt.xlabel('edge')  #edge\n",
    "    plt.ylabel('weight') #weight\n",
    "    xarray=[]\n",
    "    yarray=[]\n",
    "    i=1\n",
    "    for node1, node2, weight in G.edges.data('weight'):\n",
    "        xarray.append(i)\n",
    "        yarray.append(weight)\n",
    "        i=i+1\n",
    "    plt.xlim(-1, max(xarray))\n",
    "    plt.ylim(-1, max(yarray))\n",
    "    plt.scatter(xarray, yarray, marker='.')\n",
    "    plt.show()"
   ]
  },
  {
   "cell_type": "code",
   "execution_count": 4,
   "id": "7fd1055d",
   "metadata": {},
   "outputs": [
    {
     "data": {
      "image/png": "[encoded data removed]",
      "text/plain": [
       "<Figure size 432x288 with 1 Axes>"
      ]
     },
     "metadata": {
      "needs_background": "light"
     },
     "output_type": "display_data"
    }
   ],
   "source": [
    "input_path = \"models/undirected_count_aggregationSNET.gml\" \n",
    "G = nx.Graph(nx.read_gml(input_path)) \n",
    "\n",
    "raspodela_tezina(G)"
   ]
  },
  {
   "cell_type": "code",
   "execution_count": 5,
   "id": "f6a04af8",
   "metadata": {},
   "outputs": [],
   "source": [
    "def plot_deg_frequency(G, weighted = False, xscale = \"log\", yscale = \"log\"):\n",
    "\n",
    "    if weighted:\n",
    "        degrees = G.degree(weight=\"weight\")\n",
    "    else:\n",
    "        degrees = G.degree()\n",
    "        \n",
    "    _, deg_list = zip(*degrees) #raspakovanje\n",
    "    deg_counts = Counter(deg_list)        \n",
    "    print(deg_counts)\n",
    "    x, y = zip(*deg_counts.items())     #x-stepen, y-broj cvorova koji imaju odredjeni stepen                                                 \n",
    "\n",
    "    plt.figure(1)   \n",
    "\n",
    "    # prep axes   \n",
    "    if weighted:\n",
    "        plt.xlabel('weighted degree')  \n",
    "    else:\n",
    "        plt.xlabel('degree')                                                                                                             \n",
    "    plt.xscale(xscale)                                                                                                                \n",
    "    plt.xlim(1, max(x))  \n",
    "\n",
    "    plt.ylabel('frequency')                                                                                                          \n",
    "    plt.yscale(yscale)                                                                                                                \n",
    "    plt.ylim(1, max(y))                                                                                                             \n",
    "                                                                                                                                                                                                    \n",
    "    plt.scatter(x, y, marker='.')                                                                                                    \n",
    "    plt.show()"
   ]
  },
  {
   "cell_type": "code",
   "execution_count": null,
   "id": "6e836e74",
   "metadata": {},
   "outputs": [],
   "source": [
    "plot_deg_frequency(G, True)"
   ]
  },
  {
   "cell_type": "code",
   "execution_count": 6,
   "id": "25f2af76",
   "metadata": {},
   "outputs": [
    {
     "name": "stdout",
     "output_type": "stream",
     "text": [
      "132657\n"
     ]
    }
   ],
   "source": [
    "toRemove=[]\n",
    "for a,b,weight in G.edges.data('weight'):\n",
    "    if weight<=100:\n",
    "        toRemove.append((a,b))\n",
    "print(len(toRemove))"
   ]
  },
  {
   "cell_type": "code",
   "execution_count": 7,
   "id": "8609bf07",
   "metadata": {},
   "outputs": [
    {
     "data": {
      "image/png": "[encoded data removed]",
      "text/plain": [
       "<Figure size 432x288 with 1 Axes>"
      ]
     },
     "metadata": {
      "needs_background": "light"
     },
     "output_type": "display_data"
    }
   ],
   "source": [
    "G.remove_edges_from(toRemove)\n",
    "raspodela_tezina(G)"
   ]
  },
  {
   "cell_type": "code",
   "execution_count": 8,
   "id": "c9b19556",
   "metadata": {},
   "outputs": [
    {
     "name": "stdout",
     "output_type": "stream",
     "text": [
      "4174\n",
      "3172\n"
     ]
    }
   ],
   "source": [
    "print(G.number_of_nodes())\n",
    "print(G.number_of_edges())"
   ]
  },
  {
   "cell_type": "code",
   "execution_count": null,
   "id": "5f82cc57",
   "metadata": {},
   "outputs": [],
   "source": [
    "plot_deg_frequency(G, True)"
   ]
  },
  {
   "cell_type": "code",
   "execution_count": 10,
   "id": "bd551403",
   "metadata": {},
   "outputs": [],
   "source": [
    "output_SNetF = \"models/undirected_count_aggregationSNetF.gml\"\n",
    "nx.write_gml(G, output_SNetF)"
   ]
  },
  {
   "cell_type": "code",
   "execution_count": 11,
   "id": "c3440630",
   "metadata": {},
   "outputs": [
    {
     "name": "stdout",
     "output_type": "stream",
     "text": [
      "Name: \n",
      "Type: Graph\n",
      "Number of nodes: 4174\n",
      "Number of edges: 3172\n",
      "Average degree:   1.5199\n"
     ]
    }
   ],
   "source": [
    "print(nx.info(G))"
   ]
  },
  {
   "cell_type": "markdown",
   "id": "883f596a",
   "metadata": {},
   "source": [
    "## SNetT mreža ##"
   ]
  },
  {
   "cell_type": "code",
   "execution_count": 16,
   "id": "886a1e01",
   "metadata": {},
   "outputs": [
    {
     "name": "stdout",
     "output_type": "stream",
     "text": [
      "['philosophy', 'business', 'obama', 'nsfw', 'ideas', 'netsec', 'pics', 'funny', 'joel', 'worldnews', 'videos', 'gadgets', 'photography', 'atheism', 'entertainment', 'AskReddit', 'software', 'guns', 'Health', 'linux', 'geek', 'cogsci', 'WTF', 'offbeat', 'gaming', 'science', 'math', 'scifi', 'environment', 'Economics', 'technology', 'history', 'news', 'comics', 'programming', 'bestof', 'politics', 'canada', 'reddit.com']\n"
     ]
    }
   ],
   "source": [
    "chosen_subs={'reddit.com', 'pics', 'worldnews', 'programming','business', 'politics', 'obama', 'science',\n",
    "             'technology', 'WTF', 'AskReddit', 'netsec', 'philosophy', 'videos', 'offbeat','funny', 'entertainment', \n",
    "             'linux', 'geek', 'gaming', 'comics', 'gadgets', 'nsfw', 'news', 'environment', 'atheism','canada', \n",
    "             'math', 'Economics','scifi', 'bestof', 'cogsci', 'joel', 'Health', 'guns', 'photography', 'software', \n",
    "             'history', 'ideas'}\n",
    "print(list(chosen_subs))"
   ]
  },
  {
   "cell_type": "code",
   "execution_count": 17,
   "id": "4042d0dc",
   "metadata": {},
   "outputs": [],
   "source": [
    "GT=G.subgraph(chosen_subs)"
   ]
  },
  {
   "cell_type": "code",
   "execution_count": null,
   "id": "1314da46",
   "metadata": {},
   "outputs": [],
   "source": [
    "GT.edges()"
   ]
  },
  {
   "cell_type": "code",
   "execution_count": 19,
   "id": "c0406584",
   "metadata": {},
   "outputs": [
    {
     "name": "stdout",
     "output_type": "stream",
     "text": [
      "{'weight': 189}\n"
     ]
    }
   ],
   "source": [
    "print(GT.edges['photography','scifi'])"
   ]
  },
  {
   "cell_type": "code",
   "execution_count": 20,
   "id": "322b48be",
   "metadata": {},
   "outputs": [
    {
     "name": "stdout",
     "output_type": "stream",
     "text": [
      "           author  subreddit_x subreddit_y\n",
      "0      finisterra  photography       scifi\n",
      "1         stacy75  photography       scifi\n",
      "2       kickstand  photography       scifi\n",
      "3     wetelectric  photography       scifi\n",
      "4         BeetleB  photography       scifi\n",
      "..            ...          ...         ...\n",
      "184      noname99  photography       scifi\n",
      "185      MichDdot  photography       scifi\n",
      "186  aaallleeexxx  photography       scifi\n",
      "187         iwalk  photography       scifi\n",
      "188        niki08  photography       scifi\n",
      "\n",
      "[189 rows x 3 columns]\n"
     ]
    }
   ],
   "source": [
    "#provera\n",
    "kom1=komObj[komObj['subreddit']=='photography']\n",
    "kom2=komObj[komObj['subreddit']=='scifi']\n",
    "komIn=pd.merge(kom1, kom2, on=['author'], how='inner')\n",
    "print(komIn) #ok je resenje"
   ]
  },
  {
   "cell_type": "code",
   "execution_count": 21,
   "id": "2c388c7d",
   "metadata": {},
   "outputs": [
    {
     "name": "stdout",
     "output_type": "stream",
     "text": [
      "{'weight': 3866}\n"
     ]
    }
   ],
   "source": [
    "print(GT.edges['geek','reddit.com'])"
   ]
  },
  {
   "cell_type": "code",
   "execution_count": 22,
   "id": "60d58754",
   "metadata": {},
   "outputs": [
    {
     "data": {
      "image/png": "[encoded data removed]",
      "text/plain": [
       "<Figure size 432x288 with 1 Axes>"
      ]
     },
     "metadata": {},
     "output_type": "display_data"
    }
   ],
   "source": [
    "nx.draw(GT, with_labels=True)"
   ]
  },
  {
   "cell_type": "code",
   "execution_count": null,
   "id": "d67be619",
   "metadata": {},
   "outputs": [],
   "source": [
    "plt.figure(figsize=(20,15))\n",
    "pos = nx.circular_layout(GT)\n",
    "weight_edges=nx.get_edge_attributes(GT, 'weight')\n",
    "nx.draw_networkx(GT, pos)\n",
    "nx.draw_networkx_edge_labels(GT, pos, edge_labels=weight_edges)"
   ]
  },
  {
   "cell_type": "code",
   "execution_count": 24,
   "id": "c38988f9",
   "metadata": {},
   "outputs": [
    {
     "name": "stdout",
     "output_type": "stream",
     "text": [
      "Name: \n",
      "Type: Graph\n",
      "Number of nodes: 39\n",
      "Number of edges: 741\n",
      "Average degree:  38.0000\n"
     ]
    }
   ],
   "source": [
    "print(nx.info(GT))"
   ]
  },
  {
   "cell_type": "code",
   "execution_count": 25,
   "id": "74a6a7cf",
   "metadata": {},
   "outputs": [],
   "source": [
    "output_SNetT = \"models/undirected_count_aggregationSNet_T.gml\"\n",
    "\n",
    "nx.write_gml(GT, output_SNetT)"
   ]
  },
  {
   "cell_type": "markdown",
   "id": "b509f389",
   "metadata": {},
   "source": [
    "## UserNet mreža ##"
   ]
  },
  {
   "cell_type": "code",
   "execution_count": 329,
   "id": "17b275c0",
   "metadata": {},
   "outputs": [],
   "source": [
    "objaveRedit=data_submissions\n",
    "komentariRedit=data_comments"
   ]
  },
  {
   "cell_type": "code",
   "execution_count": 330,
   "id": "2b1a92d6",
   "metadata": {},
   "outputs": [
    {
     "name": "stdout",
     "output_type": "stream",
     "text": [
      "218731\n"
     ]
    }
   ],
   "source": [
    "#pravimo jedinstvene autore objava i komentara platforme 'Reddit' da budu čvorovi\n",
    "users1=set(objaveRedit['author'].unique())\n",
    "users2=set(komentariRedit['author'].unique())\n",
    "data_users=users1.union(users2)\n",
    "print(len(data_users))"
   ]
  },
  {
   "cell_type": "code",
   "execution_count": 331,
   "id": "48b73b55",
   "metadata": {},
   "outputs": [],
   "source": [
    "#graf i cvorovi\n",
    "GUser=nx.DiGraph()\n",
    "GUser.add_nodes_from(data_users)"
   ]
  },
  {
   "cell_type": "code",
   "execution_count": null,
   "id": "b48f10bb",
   "metadata": {},
   "outputs": [],
   "source": [
    "print('Čvorovi:')\n",
    "list(GUser.nodes())"
   ]
  },
  {
   "cell_type": "code",
   "execution_count": 338,
   "id": "59826b02",
   "metadata": {},
   "outputs": [],
   "source": [
    "objaveRed=objaveRedit[['id','author']]\n",
    "komentariRed=komentariRedit[['id','parent_id','author']]\n",
    "komT1=komentariRed[komentariRed['parent_id'].str.startswith('t1_')] #oni koji pocinju sa t1_, to su komentari, a oni koji pocinju sa t3_, to su objave\n",
    "objT3=komentariRed[komentariRed['parent_id'].str.startswith('t3_')] #sve je ok sa brojem komentara\n",
    "#grupa=komT1.groupby('parent_id')\n",
    "#korisnici=grupa.apply(lambda x: x['author'].unique())\n",
    "#korisnici"
   ]
  },
  {
   "cell_type": "code",
   "execution_count": null,
   "id": "43ebd87c",
   "metadata": {},
   "outputs": [],
   "source": [
    "#print(objaveRed)\n",
    "#print(objaveRed[objaveRed['id']=='7k8yt'])\n",
    "#print(komentariRed)\n",
    "#print(komT1)"
   ]
  },
  {
   "cell_type": "code",
   "execution_count": 340,
   "id": "7c9b8507",
   "metadata": {},
   "outputs": [
    {
     "name": "stdout",
     "output_type": "stream",
     "text": [
      "              id parent_id           author author_owner\n",
      "0        c02s9t4  t3_648os  LiberalDemocrat       rmuser\n",
      "1        c02s9u6  t3_648os        DiscoWolf       rmuser\n",
      "2        c02s9uh  t3_648p5         Flemlord     Flemlord\n",
      "3        c02s9us  t3_648p5  LiberalDemocrat     Flemlord\n",
      "4        c02sa1z  t3_648p5        aletoledo     Flemlord\n",
      "...          ...       ...              ...          ...\n",
      "1476374  c06vwps  t3_7k8nj          pmn8441    homeworld\n",
      "1476375  c06vwr2  t3_7k96e         aurora3d     aurora3d\n",
      "1476376  c06vwrx  t3_79dot            yentz   forbishare\n",
      "1476377  c06vwsf  t3_7k8na         clipmann  whisperthis\n",
      "1476378  c06vwt7  t3_7k8z1          ENRICOs  neelakantha\n",
      "\n",
      "[1476379 rows x 4 columns]\n"
     ]
    }
   ],
   "source": [
    "#izvlacenje autora objave 'author_owner' (ako parent_id sadrzi t3_) na koju odredjeni korisnik komentarise\n",
    "objT3.reset_index(drop=True, inplace=True)\n",
    "#print(objT3)\n",
    "idParObj=objT3['parent_id'].str.slice(3,)\n",
    "#print(idParObj)\n",
    "dataObjaveId=pd.DataFrame()\n",
    "dataObjaveId['id']=idParObj\n",
    "#print(dataObjaveId)\n",
    "obj1=dataObjaveId.merge(objaveRed, how='left', on='id')\n",
    "#print(obj1)\n",
    "obj1.rename(columns = {'author':'author_owner'}, inplace = True)\n",
    "obj1Aut=obj1['author_owner']\n",
    "#print(obj1Aut)\n",
    "objT3=objT3.join(obj1Aut)\n",
    "print(objT3)"
   ]
  },
  {
   "cell_type": "code",
   "execution_count": null,
   "id": "767f407a",
   "metadata": {},
   "outputs": [],
   "source": [
    "print(objT3[40:100])"
   ]
  },
  {
   "cell_type": "code",
   "execution_count": null,
   "id": "c7f0559d",
   "metadata": {},
   "outputs": [],
   "source": [
    "print(objaveRedit[objaveRedit['id']=='648os']) #provera da li se poklapa sa vlasnikom objave na koju ukazuje komentar"
   ]
  },
  {
   "cell_type": "code",
   "execution_count": 341,
   "id": "1f5db12c",
   "metadata": {
    "scrolled": true
   },
   "outputs": [
    {
     "name": "stdout",
     "output_type": "stream",
     "text": [
      "              id   parent_id          author     author_owner\n",
      "0        c02s9zh  t1_c02s9uh           dhpye         Flemlord\n",
      "1        c02sc8z  t1_c02s9uh         boredzo         Flemlord\n",
      "2        c02sa0a  t1_c02s9us  lemonjuicefake  LiberalDemocrat\n",
      "3        c02sa8p  t1_c02s9us   LazarusDubois  LiberalDemocrat\n",
      "4        c02sboz  t1_c02s9us      slamare247  LiberalDemocrat\n",
      "...          ...         ...             ...              ...\n",
      "1733062  c06vv9k  t1_c06vv4f        whichdan      noobprodigy\n",
      "1733063  c06vwbf  t1_c06vviv     noobprodigy       spectorjay\n",
      "1733064  c06vvys  t1_c06vvp9         Fabien3           stesch\n",
      "1733065  c06vw4o  t1_c06vvp9          snissn           stesch\n",
      "1733066  c06vw8z  t1_c06vvys          snissn          Fabien3\n",
      "\n",
      "[1733067 rows x 4 columns]\n"
     ]
    }
   ],
   "source": [
    "#izvlacenje autora komentara 'author_owner' (ako parent_id sadrzi t1_) na koji odredjeni korisnik komentarise\n",
    "komT1.reset_index(drop=True, inplace=True)\n",
    "#print(objT3)\n",
    "idParKom=komT1['parent_id'].str.slice(3,)\n",
    "#print(idParObj)\n",
    "dataKomId=pd.DataFrame()\n",
    "dataKomId['id']=idParKom\n",
    "#print(dataObjaveId)\n",
    "kom1=dataKomId.merge(komentariRed, how='left', on='id')\n",
    "#print(obj1)\n",
    "kom1.rename(columns = {'author':'author_owner'}, inplace = True)\n",
    "kom1Aut=kom1['author_owner']\n",
    "#print(obj1Aut)\n",
    "komT1=komT1.join(kom1Aut)\n",
    "print(komT1)"
   ]
  },
  {
   "cell_type": "code",
   "execution_count": null,
   "id": "8a30343e",
   "metadata": {},
   "outputs": [],
   "source": [
    "komT1=komT1.dropna()  #moramo jos cistiti\n",
    "print(komT1[40:100])"
   ]
  },
  {
   "cell_type": "code",
   "execution_count": 353,
   "id": "c3b76710",
   "metadata": {},
   "outputs": [
    {
     "name": "stdout",
     "output_type": "stream",
     "text": [
      "        id           author   link_id parent_id  created_utc subreddit  \\\n",
      "6  c02s9us  LiberalDemocrat  t3_648p5  t3_648p5   1199146266  politics   \n",
      "\n",
      "  subreddit_id  score distinguished  gilded  controversiality  \n",
      "6     t5_2cneq    -10           NaN       0                 0  \n"
     ]
    }
   ],
   "source": [
    "print(komentariRedit[komentariRedit['id']=='c02s9us']) #provera da li se poklapa sa vlasnikom komentara na koji ukazuje komentar"
   ]
  },
  {
   "cell_type": "code",
   "execution_count": null,
   "id": "a6fc60d6",
   "metadata": {},
   "outputs": [],
   "source": [
    "print(komT1[40:100]) #verzija gde imamo null vrednosti"
   ]
  },
  {
   "cell_type": "code",
   "execution_count": 107,
   "id": "12cc8586",
   "metadata": {},
   "outputs": [],
   "source": [
    "#dataframovi gde smo sacuvali autore objava i komentara na koji su drugi odgovorili:\n",
    "#objT3 i komT1"
   ]
  },
  {
   "cell_type": "code",
   "execution_count": 344,
   "id": "20a24ffe",
   "metadata": {},
   "outputs": [],
   "source": [
    "for _, _, _, kor1, kor2 in komT1.itertuples():\n",
    "    if pd.isna(kor2): continue\n",
    "    if (kor1, kor2) in GUser.edges:\n",
    "        GUser.edges[kor1, kor2]['weight'] += 1\n",
    "    else:\n",
    "        GUser.add_edge(kor1, kor2, tip='komentar na komentar', weight=1)\n",
    "for _, _, _, kor1, kor2 in objT3.itertuples():\n",
    "    if pd.isna(kor2): continue\n",
    "    if (kor1, kor2) in GUser.edges:\n",
    "        GUser.edges[kor1, kor2]['weight'] += 1\n",
    "    else:\n",
    "        GUser.add_edge(kor1, kor2, tip='komentar na objavu', weight=1)"
   ]
  },
  {
   "cell_type": "code",
   "execution_count": 345,
   "id": "672b9aea",
   "metadata": {},
   "outputs": [
    {
     "name": "stdout",
     "output_type": "stream",
     "text": [
      "{'tip': 'komentar na komentar', 'weight': 8}\n"
     ]
    }
   ],
   "source": [
    "print(GUser.edges['SpiceMustFlow', 'jadecristal'])"
   ]
  },
  {
   "cell_type": "code",
   "execution_count": 346,
   "id": "8b6bf14e",
   "metadata": {},
   "outputs": [
    {
     "name": "stdout",
     "output_type": "stream",
     "text": [
      "{'tip': 'komentar na komentar', 'weight': 6}\n"
     ]
    }
   ],
   "source": [
    "print(GUser.edges['jadecristal','SpiceMustFlow'])"
   ]
  },
  {
   "cell_type": "code",
   "execution_count": 347,
   "id": "f84786d5",
   "metadata": {},
   "outputs": [
    {
     "name": "stdout",
     "output_type": "stream",
     "text": [
      "          id   parent_id         author author_owner\n",
      "242  c02sbe8  t1_c02sbbx  SpiceMustFlow  jadecristal\n",
      "243  c02sbto  t1_c02sbbx  SpiceMustFlow  jadecristal\n",
      "245  c02sbg2  t1_c02sbfp  SpiceMustFlow  jadecristal\n",
      "247  c02sblv  t1_c02sbhr  SpiceMustFlow  jadecristal\n",
      "249  c02sbp3  t1_c02sbn4  SpiceMustFlow  jadecristal\n",
      "251  c02sbwo  t1_c02sbuh  SpiceMustFlow  jadecristal\n",
      "252  c02sbyt  t1_c02sbuh  SpiceMustFlow  jadecristal\n",
      "254  c02sbze  t1_c02sbz3  SpiceMustFlow  jadecristal\n"
     ]
    }
   ],
   "source": [
    "komOut=komT1[(komT1['author']=='SpiceMustFlow') & (komT1['author_owner']=='jadecristal')]\n",
    "print(komOut) #ok je resenje"
   ]
  },
  {
   "cell_type": "code",
   "execution_count": 348,
   "id": "dc88edce",
   "metadata": {},
   "outputs": [
    {
     "name": "stdout",
     "output_type": "stream",
     "text": [
      "          id   parent_id       author   author_owner\n",
      "244  c02sbfp  t1_c02sbe8  jadecristal  SpiceMustFlow\n",
      "246  c02sbhr  t1_c02sbg2  jadecristal  SpiceMustFlow\n",
      "248  c02sbn4  t1_c02sblv  jadecristal  SpiceMustFlow\n",
      "250  c02sbuh  t1_c02sbto  jadecristal  SpiceMustFlow\n",
      "253  c02sbz3  t1_c02sbyt  jadecristal  SpiceMustFlow\n",
      "255  c02sc0d  t1_c02sbze  jadecristal  SpiceMustFlow\n"
     ]
    }
   ],
   "source": [
    "komOut=komT1[(komT1['author']=='jadecristal') & (komT1['author_owner']=='SpiceMustFlow')]\n",
    "print(komOut) #ok je resenje"
   ]
  },
  {
   "cell_type": "code",
   "execution_count": 349,
   "id": "979c0925",
   "metadata": {},
   "outputs": [
    {
     "name": "stdout",
     "output_type": "stream",
     "text": [
      "{'tip': 'komentar na objavu', 'weight': 1}\n"
     ]
    }
   ],
   "source": [
    "print(GUser.edges['Thwart','andrewmg'])"
   ]
  },
  {
   "cell_type": "code",
   "execution_count": 350,
   "id": "82974662",
   "metadata": {},
   "outputs": [
    {
     "name": "stdout",
     "output_type": "stream",
     "text": [
      "              id parent_id  author author_owner\n",
      "1476366  c06vwlw  t3_7k8kt  Thwart     andrewmg\n"
     ]
    }
   ],
   "source": [
    "objOut=objT3[(objT3['author']=='Thwart') & (objT3['author_owner']=='andrewmg')]\n",
    "print(objOut) #ok je resenje"
   ]
  },
  {
   "cell_type": "code",
   "execution_count": 351,
   "id": "d3d0a278",
   "metadata": {},
   "outputs": [
    {
     "name": "stdout",
     "output_type": "stream",
     "text": [
      "Name: \n",
      "Type: DiGraph\n",
      "Number of nodes: 218731\n",
      "Number of edges: 2377528\n",
      "Average in degree:  10.8696\n",
      "Average out degree:  10.8696\n"
     ]
    }
   ],
   "source": [
    "print(nx.info(GUser))"
   ]
  },
  {
   "cell_type": "code",
   "execution_count": 354,
   "id": "04dba29c",
   "metadata": {},
   "outputs": [],
   "source": [
    "output_UserNet = \"models/directed_count_aggregationUserNet.gml\"\n",
    "nx.write_gml(GUser, output_UserNet)"
   ]
  },
  {
   "cell_type": "code",
   "execution_count": null,
   "id": "418ba6a9",
   "metadata": {},
   "outputs": [],
   "source": []
  }
 ],
 "metadata": {
  "kernelspec": {
   "display_name": "Python 3 (ipykernel)",
   "language": "python",
   "name": "python3"
  },
  "language_info": {
   "codemirror_mode": {
    "name": "ipython",
    "version": 3
   },
   "file_extension": ".py",
   "mimetype": "text/x-python",
   "name": "python",
   "nbconvert_exporter": "python",
   "pygments_lexer": "ipython3",
   "version": "3.10.5"
  }
 },
 "nbformat": 4,
 "nbformat_minor": 5
}
