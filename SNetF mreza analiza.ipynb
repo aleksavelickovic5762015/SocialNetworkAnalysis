{
 "cells": [
  {
   "cell_type": "markdown",
   "id": "653d69de",
   "metadata": {},
   "source": [
    "## SNetF mreža-analiza ##"
   ]
  },
  {
   "cell_type": "code",
   "execution_count": 1,
   "id": "d5aca82a",
   "metadata": {},
   "outputs": [],
   "source": [
    "import networkx as nx\n",
    "import pandas as pd\n",
    "import scipy.stats as stats\n",
    "import numpy as np\n",
    "import pickle"
   ]
  },
  {
   "cell_type": "code",
   "execution_count": 2,
   "id": "2a7d1305",
   "metadata": {},
   "outputs": [],
   "source": [
    "from collections import Counter\n",
    "from operator import itemgetter\n",
    "import matplotlib.pyplot as plt"
   ]
  },
  {
   "cell_type": "code",
   "execution_count": 3,
   "id": "4e10cdad",
   "metadata": {},
   "outputs": [],
   "source": [
    "input_path = \"models/undirected_count_aggregationSNetF.gml\" \n",
    "\n",
    "GSNet = nx.Graph(nx.read_gml(input_path)) "
   ]
  },
  {
   "cell_type": "code",
   "execution_count": null,
   "id": "fc3cce22",
   "metadata": {},
   "outputs": [],
   "source": [
    "GSNet.nodes()"
   ]
  },
  {
   "cell_type": "code",
   "execution_count": 8,
   "id": "78459669",
   "metadata": {},
   "outputs": [
    {
     "name": "stdout",
     "output_type": "stream",
     "text": [
      "4174\n"
     ]
    }
   ],
   "source": [
    "print(len(GSNet))"
   ]
  },
  {
   "cell_type": "code",
   "execution_count": null,
   "id": "73242b63",
   "metadata": {},
   "outputs": [],
   "source": [
    "print(GSNet.edges['geek','reddit.com'])"
   ]
  },
  {
   "cell_type": "code",
   "execution_count": null,
   "id": "11564d54",
   "metadata": {},
   "outputs": [],
   "source": [
    "print(len(GSNet.edges()))"
   ]
  },
  {
   "cell_type": "markdown",
   "id": "fee93c4e",
   "metadata": {},
   "source": [
    "## Gustina mreže ##"
   ]
  },
  {
   "cell_type": "code",
   "execution_count": 12,
   "id": "a9ee9e3e",
   "metadata": {},
   "outputs": [
    {
     "name": "stdout",
     "output_type": "stream",
     "text": [
      "0.00036421878801720187\n"
     ]
    }
   ],
   "source": [
    "print(nx.density(GSNet))"
   ]
  },
  {
   "cell_type": "markdown",
   "id": "959c8b26",
   "metadata": {},
   "source": [
    "## Povezane komponente grafa SNet ##"
   ]
  },
  {
   "cell_type": "code",
   "execution_count": 13,
   "id": "369fed55",
   "metadata": {},
   "outputs": [
    {
     "name": "stdout",
     "output_type": "stream",
     "text": [
      "False\n"
     ]
    }
   ],
   "source": [
    "print(nx.is_connected(GSNet))"
   ]
  },
  {
   "cell_type": "code",
   "execution_count": 14,
   "id": "0a9f1ce1",
   "metadata": {},
   "outputs": [
    {
     "name": "stdout",
     "output_type": "stream",
     "text": [
      "Broj povezanih komponenti:4022\n",
      "Lista povezanih komponenti:\n",
      "[153, 1, 1, 1, 1, 1, 1, 1, 1, 1, 1, 1, 1, 1, 1, 1, 1, 1, 1, 1, 1, 1, 1, 1, 1, 1, 1, 1, 1, 1, 1, 1, 1, 1, 1, 1, 1, 1, 1, 1, 1, 1, 1, 1, 1, 1, 1, 1, 1, 1, 1, 1, 1, 1, 1, 1, 1, 1, 1, 1, 1, 1, 1, 1, 1, 1, 1, 1, 1, 1, 1, 1, 1, 1, 1, 1, 1, 1, 1, 1, 1, 1, 1, 1, 1, 1, 1, 1, 1, 1, 1, 1, 1, 1, 1, 1, 1, 1, 1, 1, 1, 1, 1, 1, 1, 1, 1, 1, 1, 1, 1, 1, 1, 1, 1, 1, 1, 1, 1, 1, 1, 1, 1, 1, 1, 1, 1, 1, 1, 1, 1, 1, 1, 1, 1, 1, 1, 1, 1, 1, 1, 1, 1, 1, 1, 1, 1, 1, 1, 1, 1, 1, 1, 1, 1, 1, 1, 1, 1, 1, 1, 1, 1, 1, 1, 1, 1, 1, 1, 1, 1, 1, 1, 1, 1, 1, 1, 1, 1, 1, 1, 1, 1, 1, 1, 1, 1, 1, 1, 1, 1, 1, 1, 1, 1, 1, 1, 1, 1, 1, 1, 1, 1, 1, 1, 1, 1, 1, 1, 1, 1, 1, 1, 1, 1, 1, 1, 1, 1, 1, 1, 1, 1, 1, 1, 1, 1, 1, 1, 1, 1, 1, 1, 1, 1, 1, 1, 1, 1, 1, 1, 1, 1, 1, 1, 1, 1, 1, 1, 1, 1, 1, 1, 1, 1, 1, 1, 1, 1, 1, 1, 1, 1, 1, 1, 1, 1, 1, 1, 1, 1, 1, 1, 1, 1, 1, 1, 1, 1, 1, 1, 1, 1, 1, 1, 1, 1, 1, 1, 1, 1, 1, 1, 1, 1, 1, 1, 1, 1, 1, 1, 1, 1, 1, 1, 1, 1, 1, 1, 1, 1, 1, 1, 1, 1, 1, 1, 1, 1, 1, 1, 1, 1, 1, 1, 1, 1, 1, 1, 1, 1, 1, 1, 1, 1, 1, 1, 1, 1, 1, 1, 1, 1, 1, 1, 1, 1, 1, 1, 1, 1, 1, 1, 1, 1, 1, 1, 1, 1, 1, 1, 1, 1, 1, 1, 1, 1, 1, 1, 1, 1, 1, 1, 1, 1, 1, 1, 1, 1, 1, 1, 1, 1, 1, 1, 1, 1, 1, 1, 1, 1, 1, 1, 1, 1, 1, 1, 1, 1, 1, 1, 1, 1, 1, 1, 1, 1, 1, 1, 1, 1, 1, 1, 1, 1, 1, 1, 1, 1, 1, 1, 1, 1, 1, 1, 1, 1, 1, 1, 1, 1, 1, 1, 1, 1, 1, 1, 1, 1, 1, 1, 1, 1, 1, 1, 1, 1, 1, 1, 1, 1, 1, 1, 1, 1, 1, 1, 1, 1, 1, 1, 1, 1, 1, 1, 1, 1, 1, 1, 1, 1, 1, 1, 1, 1, 1, 1, 1, 1, 1, 1, 1, 1, 1, 1, 1, 1, 1, 1, 1, 1, 1, 1, 1, 1, 1, 1, 1, 1, 1, 1, 1, 1, 1, 1, 1, 1, 1, 1, 1, 1, 1, 1, 1, 1, 1, 1, 1, 1, 1, 1, 1, 1, 1, 1, 1, 1, 1, 1, 1, 1, 1, 1, 1, 1, 1, 1, 1, 1, 1, 1, 1, 1, 1, 1, 1, 1, 1, 1, 1, 1, 1, 1, 1, 1, 1, 1, 1, 1, 1, 1, 1, 1, 1, 1, 1, 1, 1, 1, 1, 1, 1, 1, 1, 1, 1, 1, 1, 1, 1, 1, 1, 1, 1, 1, 1, 1, 1, 1, 1, 1, 1, 1, 1, 1, 1, 1, 1, 1, 1, 1, 1, 1, 1, 1, 1, 1, 1, 1, 1, 1, 1, 1, 1, 1, 1, 1, 1, 1, 1, 1, 1, 1, 1, 1, 1, 1, 1, 1, 1, 1, 1, 1, 1, 1, 1, 1, 1, 1, 1, 1, 1, 1, 1, 1, 1, 1, 1, 1, 1, 1, 1, 1, 1, 1, 1, 1, 1, 1, 1, 1, 1, 1, 1, 1, 1, 1, 1, 1, 1, 1, 1, 1, 1, 1, 1, 1, 1, 1, 1, 1, 1, 1, 1, 1, 1, 1, 1, 1, 1, 1, 1, 1, 1, 1, 1, 1, 1, 1, 1, 1, 1, 1, 1, 1, 1, 1, 1, 1, 1, 1, 1, 1, 1, 1, 1, 1, 1, 1, 1, 1, 1, 1, 1, 1, 1, 1, 1, 1, 1, 1, 1, 1, 1, 1, 1, 1, 1, 1, 1, 1, 1, 1, 1, 1, 1, 1, 1, 1, 1, 1, 1, 1, 1, 1, 1, 1, 1, 1, 1, 1, 1, 1, 1, 1, 1, 1, 1, 1, 1, 1, 1, 1, 1, 1, 1, 1, 1, 1, 1, 1, 1, 1, 1, 1, 1, 1, 1, 1, 1, 1, 1, 1, 1, 1, 1, 1, 1, 1, 1, 1, 1, 1, 1, 1, 1, 1, 1, 1, 1, 1, 1, 1, 1, 1, 1, 1, 1, 1, 1, 1, 1, 1, 1, 1, 1, 1, 1, 1, 1, 1, 1, 1, 1, 1, 1, 1, 1, 1, 1, 1, 1, 1, 1, 1, 1, 1, 1, 1, 1, 1, 1, 1, 1, 1, 1, 1, 1, 1, 1, 1, 1, 1, 1, 1, 1, 1, 1, 1, 1, 1, 1, 1, 1, 1, 1, 1, 1, 1, 1, 1, 1, 1, 1, 1, 1, 1, 1, 1, 1, 1, 1, 1, 1, 1, 1, 1, 1, 1, 1, 1, 1, 1, 1, 1, 1, 1, 1, 1, 1, 1, 1, 1, 1, 1, 1, 1, 1, 1, 1, 1, 1, 1, 1, 1, 1, 1, 1, 1, 1, 1, 1, 1, 1, 1, 1, 1, 1, 1, 1, 1, 1, 1, 1, 1, 1, 1, 1, 1, 1, 1, 1, 1, 1, 1, 1, 1, 1, 1, 1, 1, 1, 1, 1, 1, 1, 1, 1, 1, 1, 1, 1, 1, 1, 1, 1, 1, 1, 1, 1, 1, 1, 1, 1, 1, 1, 1, 1, 1, 1, 1, 1, 1, 1, 1, 1, 1, 1, 1, 1, 1, 1, 1, 1, 1, 1, 1, 1, 1, 1, 1, 1, 1, 1, 1, 1, 1, 1, 1, 1, 1, 1, 1, 1, 1, 1, 1, 1, 1, 1, 1, 1, 1, 1, 1, 1, 1, 1, 1, 1, 1, 1, 1, 1, 1, 1, 1, 1, 1, 1, 1, 1, 1, 1, 1, 1, 1, 1, 1, 1, 1, 1, 1, 1, 1, 1, 1, 1, 1, 1, 1, 1, 1, 1, 1, 1, 1, 1, 1, 1, 1, 1, 1, 1, 1, 1, 1, 1, 1, 1, 1, 1, 1, 1, 1, 1, 1, 1, 1, 1, 1, 1, 1, 1, 1, 1, 1, 1, 1, 1, 1, 1, 1, 1, 1, 1, 1, 1, 1, 1, 1, 1, 1, 1, 1, 1, 1, 1, 1, 1, 1, 1, 1, 1, 1, 1, 1, 1, 1, 1, 1, 1, 1, 1, 1, 1, 1, 1, 1, 1, 1, 1, 1, 1, 1, 1, 1, 1, 1, 1, 1, 1, 1, 1, 1, 1, 1, 1, 1, 1, 1, 1, 1, 1, 1, 1, 1, 1, 1, 1, 1, 1, 1, 1, 1, 1, 1, 1, 1, 1, 1, 1, 1, 1, 1, 1, 1, 1, 1, 1, 1, 1, 1, 1, 1, 1, 1, 1, 1, 1, 1, 1, 1, 1, 1, 1, 1, 1, 1, 1, 1, 1, 1, 1, 1, 1, 1, 1, 1, 1, 1, 1, 1, 1, 1, 1, 1, 1, 1, 1, 1, 1, 1, 1, 1, 1, 1, 1, 1, 1, 1, 1, 1, 1, 1, 1, 1, 1, 1, 1, 1, 1, 1, 1, 1, 1, 1, 1, 1, 1, 1, 1, 1, 1, 1, 1, 1, 1, 1, 1, 1, 1, 1, 1, 1, 1, 1, 1, 1, 1, 1, 1, 1, 1, 1, 1, 1, 1, 1, 1, 1, 1, 1, 1, 1, 1, 1, 1, 1, 1, 1, 1, 1, 1, 1, 1, 1, 1, 1, 1, 1, 1, 1, 1, 1, 1, 1, 1, 1, 1, 1, 1, 1, 1, 1, 1, 1, 1, 1, 1, 1, 1, 1, 1, 1, 1, 1, 1, 1, 1, 1, 1, 1, 1, 1, 1, 1, 1, 1, 1, 1, 1, 1, 1, 1, 1, 1, 1, 1, 1, 1, 1, 1, 1, 1, 1, 1, 1, 1, 1, 1, 1, 1, 1, 1, 1, 1, 1, 1, 1, 1, 1, 1, 1, 1, 1, 1, 1, 1, 1, 1, 1, 1, 1, 1, 1, 1, 1, 1, 1, 1, 1, 1, 1, 1, 1, 1, 1, 1, 1, 1, 1, 1, 1, 1, 1, 1, 1, 1, 1, 1, 1, 1, 1, 1, 1, 1, 1, 1, 1, 1, 1, 1, 1, 1, 1, 1, 1, 1, 1, 1, 1, 1, 1, 1, 1, 1, 1, 1, 1, 1, 1, 1, 1, 1, 1, 1, 1, 1, 1, 1, 1, 1, 1, 1, 1, 1, 1, 1, 1, 1, 1, 1, 1, 1, 1, 1, 1, 1, 1, 1, 1, 1, 1, 1, 1, 1, 1, 1, 1, 1, 1, 1, 1, 1, 1, 1, 1, 1, 1, 1, 1, 1, 1, 1, 1, 1, 1, 1, 1, 1, 1, 1, 1, 1, 1, 1, 1, 1, 1, 1, 1, 1, 1, 1, 1, 1, 1, 1, 1, 1, 1, 1, 1, 1, 1, 1, 1, 1, 1, 1, 1, 1, 1, 1, 1, 1, 1, 1, 1, 1, 1, 1, 1, 1, 1, 1, 1, 1, 1, 1, 1, 1, 1, 1, 1, 1, 1, 1, 1, 1, 1, 1, 1, 1, 1, 1, 1, 1, 1, 1, 1, 1, 1, 1, 1, 1, 1, 1, 1, 1, 1, 1, 1, 1, 1, 1, 1, 1, 1, 1, 1, 1, 1, 1, 1, 1, 1, 1, 1, 1, 1, 1, 1, 1, 1, 1, 1, 1, 1, 1, 1, 1, 1, 1, 1, 1, 1, 1, 1, 1, 1, 1, 1, 1, 1, 1, 1, 1, 1, 1, 1, 1, 1, 1, 1, 1, 1, 1, 1, 1, 1, 1, 1, 1, 1, 1, 1, 1, 1, 1, 1, 1, 1, 1, 1, 1, 1, 1, 1, 1, 1, 1, 1, 1, 1, 1, 1, 1, 1, 1, 1, 1, 1, 1, 1, 1, 1, 1, 1, 1, 1, 1, 1, 1, 1, 1, 1, 1, 1, 1, 1, 1, 1, 1, 1, 1, 1, 1, 1, 1, 1, 1, 1, 1, 1, 1, 1, 1, 1, 1, 1, 1, 1, 1, 1, 1, 1, 1, 1, 1, 1, 1, 1, 1, 1, 1, 1, 1, 1, 1, 1, 1, 1, 1, 1, 1, 1, 1, 1, 1, 1, 1, 1, 1, 1, 1, 1, 1, 1, 1, 1, 1, 1, 1, 1, 1, 1, 1, 1, 1, 1, 1, 1, 1, 1, 1, 1, 1, 1, 1, 1, 1, 1, 1, 1, 1, 1, 1, 1, 1, 1, 1, 1, 1, 1, 1, 1, 1, 1, 1, 1, 1, 1, 1, 1, 1, 1, 1, 1, 1, 1, 1, 1, 1, 1, 1, 1, 1, 1, 1, 1, 1, 1, 1, 1, 1, 1, 1, 1, 1, 1, 1, 1, 1, 1, 1, 1, 1, 1, 1, 1, 1, 1, 1, 1, 1, 1, 1, 1, 1, 1, 1, 1, 1, 1, 1, 1, 1, 1, 1, 1, 1, 1, 1, 1, 1, 1, 1, 1, 1, 1, 1, 1, 1, 1, 1, 1, 1, 1, 1, 1, 1, 1, 1, 1, 1, 1, 1, 1, 1, 1, 1, 1, 1, 1, 1, 1, 1, 1, 1, 1, 1, 1, 1, 1, 1, 1, 1, 1, 1, 1, 1, 1, 1, 1, 1, 1, 1, 1, 1, 1, 1, 1, 1, 1, 1, 1, 1, 1, 1, 1, 1, 1, 1, 1, 1, 1, 1, 1, 1, 1, 1, 1, 1, 1, 1, 1, 1, 1, 1, 1, 1, 1, 1, 1, 1, 1, 1, 1, 1, 1, 1, 1, 1, 1, 1, 1, 1, 1, 1, 1, 1, 1, 1, 1, 1, 1, 1, 1, 1, 1, 1, 1, 1, 1, 1, 1, 1, 1, 1, 1, 1, 1, 1, 1, 1, 1, 1, 1, 1, 1, 1, 1, 1, 1, 1, 1, 1, 1, 1, 1, 1, 1, 1, 1, 1, 1, 1, 1, 1, 1, 1, 1, 1, 1, 1, 1, 1, 1, 1, 1, 1, 1, 1, 1, 1, 1, 1, 1, 1, 1, 1, 1, 1, 1, 1, 1, 1, 1, 1, 1, 1, 1, 1, 1, 1, 1, 1, 1, 1, 1, 1, 1, 1, 1, 1, 1, 1, 1, 1, 1, 1, 1, 1, 1, 1, 1, 1, 1, 1, 1, 1, 1, 1, 1, 1, 1, 1, 1, 1, 1, 1, 1, 1, 1, 1, 1, 1, 1, 1, 1, 1, 1, 1, 1, 1, 1, 1, 1, 1, 1, 1, 1, 1, 1, 1, 1, 1, 1, 1, 1, 1, 1, 1, 1, 1, 1, 1, 1, 1, 1, 1, 1, 1, 1, 1, 1, 1, 1, 1, 1, 1, 1, 1, 1, 1, 1, 1, 1, 1, 1, 1, 1, 1, 1, 1, 1, 1, 1, 1, 1, 1, 1, 1, 1, 1, 1, 1, 1, 1, 1, 1, 1, 1, 1, 1, 1, 1, 1, 1, 1, 1, 1, 1, 1, 1, 1, 1, 1, 1, 1, 1, 1, 1, 1, 1, 1, 1, 1, 1, 1, 1, 1, 1, 1, 1, 1, 1, 1, 1, 1, 1, 1, 1, 1, 1, 1, 1, 1, 1, 1, 1, 1, 1, 1, 1, 1, 1, 1, 1, 1, 1, 1, 1, 1, 1, 1, 1, 1, 1, 1, 1, 1, 1, 1, 1, 1, 1, 1, 1, 1, 1, 1, 1, 1, 1, 1, 1, 1, 1, 1, 1, 1, 1, 1, 1, 1, 1, 1, 1, 1, 1, 1, 1, 1, 1, 1, 1, 1, 1, 1, 1, 1, 1, 1, 1, 1, 1, 1, 1, 1, 1, 1, 1, 1, 1, 1, 1, 1, 1, 1, 1, 1, 1, 1, 1, 1, 1, 1, 1, 1, 1, 1, 1, 1, 1, 1, 1, 1, 1, 1, 1, 1, 1, 1, 1, 1, 1, 1, 1, 1, 1, 1, 1, 1, 1, 1, 1, 1, 1, 1, 1, 1, 1, 1, 1, 1, 1, 1, 1, 1, 1, 1, 1, 1, 1, 1, 1, 1, 1, 1, 1, 1, 1, 1, 1, 1, 1, 1, 1, 1, 1, 1, 1, 1, 1, 1, 1, 1, 1, 1, 1, 1, 1, 1, 1, 1, 1, 1, 1, 1, 1, 1, 1, 1, 1, 1, 1, 1, 1, 1, 1, 1, 1, 1, 1, 1, 1, 1, 1, 1, 1, 1, 1, 1, 1, 1, 1, 1, 1, 1, 1, 1, 1, 1, 1, 1, 1, 1, 1, 1, 1, 1, 1, 1, 1, 1, 1, 1, 1, 1, 1, 1, 1, 1, 1, 1, 1, 1, 1, 1, 1, 1, 1, 1, 1, 1, 1, 1, 1, 1, 1, 1, 1, 1, 1, 1, 1, 1, 1, 1, 1, 1, 1, 1, 1, 1, 1, 1, 1, 1, 1, 1, 1, 1, 1, 1, 1, 1, 1, 1, 1, 1, 1, 1, 1, 1, 1, 1, 1, 1, 1, 1, 1, 1, 1, 1, 1, 1, 1, 1, 1, 1, 1, 1, 1, 1, 1, 1, 1, 1, 1, 1, 1, 1, 1, 1, 1, 1, 1, 1, 1, 1, 1, 1, 1, 1, 1, 1, 1, 1, 1, 1, 1, 1, 1, 1, 1, 1, 1, 1, 1, 1, 1, 1, 1, 1, 1, 1, 1, 1, 1, 1, 1, 1, 1, 1, 1, 1, 1, 1, 1, 1, 1, 1, 1, 1, 1, 1, 1, 1, 1, 1, 1, 1, 1, 1, 1, 1, 1, 1, 1, 1, 1, 1, 1, 1, 1, 1, 1, 1, 1, 1, 1, 1, 1, 1, 1, 1, 1, 1, 1, 1, 1, 1, 1, 1, 1, 1, 1, 1, 1, 1, 1, 1, 1, 1, 1, 1, 1, 1, 1, 1, 1, 1, 1, 1, 1, 1, 1, 1, 1, 1, 1, 1, 1, 1, 1, 1, 1, 1, 1, 1, 1, 1, 1, 1, 1, 1, 1, 1, 1, 1, 1, 1, 1, 1, 1, 1, 1, 1, 1, 1, 1, 1, 1, 1, 1, 1, 1, 1, 1, 1, 1, 1, 1, 1, 1, 1, 1, 1, 1, 1, 1, 1, 1, 1, 1, 1, 1, 1, 1, 1, 1, 1, 1, 1, 1, 1, 1, 1, 1, 1, 1, 1, 1, 1, 1, 1, 1, 1, 1, 1, 1, 1, 1, 1, 1, 1, 1, 1, 1, 1, 1, 1, 1, 1, 1, 1, 1, 1, 1, 1, 1, 1, 1, 1, 1, 1, 1, 1, 1, 1, 1, 1, 1, 1, 1, 1, 1, 1, 1, 1, 1, 1, 1, 1, 1, 1, 1, 1, 1, 1, 1, 1, 1, 1, 1, 1, 1, 1, 1, 1, 1, 1, 1, 1, 1, 1, 1, 1, 1, 1, 1, 1, 1, 1, 1, 1, 1, 1, 1, 1, 1, 1, 1, 1, 1, 1, 1, 1, 1, 1, 1, 1, 1, 1, 1, 1, 1, 1, 1, 1, 1, 1, 1, 1, 1, 1, 1, 1, 1, 1, 1, 1, 1, 1, 1, 1, 1, 1, 1, 1, 1, 1, 1, 1, 1, 1, 1, 1, 1, 1, 1, 1, 1, 1, 1, 1, 1, 1, 1, 1, 1, 1, 1, 1, 1, 1, 1, 1, 1, 1, 1, 1, 1, 1, 1, 1, 1, 1, 1, 1, 1, 1, 1, 1, 1, 1, 1, 1, 1, 1, 1, 1, 1, 1, 1, 1, 1, 1, 1, 1, 1, 1, 1, 1, 1, 1, 1, 1, 1, 1, 1, 1, 1, 1, 1, 1, 1, 1, 1, 1, 1, 1, 1, 1, 1, 1, 1, 1, 1, 1, 1, 1, 1, 1, 1, 1, 1, 1, 1, 1, 1, 1, 1, 1, 1, 1, 1, 1, 1, 1, 1, 1, 1, 1, 1, 1, 1, 1, 1, 1, 1, 1, 1, 1, 1, 1, 1, 1, 1, 1, 1, 1, 1, 1, 1, 1, 1, 1, 1, 1, 1, 1, 1, 1, 1, 1, 1, 1, 1, 1, 1, 1, 1, 1, 1, 1, 1, 1, 1, 1, 1, 1, 1, 1, 1, 1, 1, 1, 1, 1, 1, 1, 1, 1, 1, 1, 1, 1, 1, 1, 1, 1, 1, 1, 1, 1, 1, 1, 1, 1, 1, 1, 1, 1, 1, 1, 1, 1, 1, 1, 1, 1, 1, 1, 1, 1, 1, 1, 1, 1, 1, 1, 1, 1, 1, 1, 1, 1, 1, 1, 1, 1, 1, 1, 1, 1, 1, 1, 1, 1, 1, 1, 1, 1, 1, 1, 1, 1, 1, 1, 1, 1, 1, 1, 1, 1, 1, 1, 1, 1, 1, 1, 1, 1, 1, 1, 1, 1, 1, 1, 1, 1, 1, 1, 1, 1, 1, 1, 1, 1, 1, 1, 1, 1, 1, 1, 1, 1, 1, 1, 1, 1, 1, 1, 1, 1, 1, 1, 1, 1, 1, 1, 1, 1, 1, 1, 1, 1, 1, 1, 1, 1, 1, 1, 1, 1, 1, 1, 1, 1, 1, 1, 1, 1, 1, 1, 1, 1, 1, 1, 1, 1, 1, 1, 1, 1, 1, 1, 1, 1, 1, 1, 1, 1, 1, 1, 1, 1, 1, 1, 1, 1, 1, 1, 1, 1, 1, 1, 1, 1, 1, 1, 1, 1, 1, 1, 1, 1, 1, 1, 1, 1, 1, 1, 1, 1, 1, 1, 1, 1, 1, 1, 1, 1, 1, 1, 1, 1, 1, 1, 1, 1, 1, 1, 1, 1, 1, 1, 1, 1, 1, 1, 1, 1, 1, 1, 1, 1, 1, 1, 1, 1, 1, 1, 1, 1, 1, 1, 1, 1, 1, 1, 1, 1, 1, 1, 1, 1, 1, 1, 1, 1, 1, 1, 1, 1, 1, 1, 1, 1, 1, 1, 1, 1, 1, 1, 1, 1, 1, 1, 1, 1, 1, 1, 1, 1, 1, 1, 1, 1, 1, 1, 1, 1, 1, 1, 1, 1, 1, 1, 1, 1, 1, 1, 1, 1, 1, 1, 1, 1, 1, 1, 1, 1, 1, 1, 1, 1, 1, 1, 1, 1, 1, 1, 1, 1, 1, 1, 1, 1, 1, 1, 1, 1, 1, 1, 1, 1, 1, 1, 1, 1, 1, 1, 1, 1, 1, 1, 1, 1, 1, 1, 1, 1, 1, 1, 1, 1, 1, 1, 1, 1, 1, 1, 1, 1, 1, 1, 1, 1, 1, 1, 1, 1, 1, 1, 1, 1, 1, 1, 1, 1, 1, 1, 1, 1, 1, 1, 1, 1, 1, 1, 1, 1, 1, 1, 1, 1, 1, 1, 1, 1, 1, 1, 1, 1, 1, 1, 1, 1, 1, 1, 1, 1, 1, 1, 1, 1, 1, 1, 1, 1, 1, 1, 1, 1, 1, 1, 1, 1, 1, 1, 1, 1, 1, 1, 1, 1, 1, 1, 1, 1, 1, 1, 1, 1, 1, 1, 1, 1, 1, 1, 1, 1, 1, 1, 1, 1, 1, 1, 1, 1, 1, 1, 1, 1, 1, 1, 1, 1, 1, 1, 1, 1, 1, 1, 1, 1, 1, 1, 1, 1, 1, 1, 1, 1, 1, 1, 1, 1, 1, 1, 1, 1, 1, 1, 1, 1, 1, 1, 1, 1, 1, 1, 1, 1, 1, 1, 1, 1, 1, 1, 1, 1, 1, 1, 1, 1, 1, 1, 1, 1, 1, 1, 1, 1, 1, 1, 1, 1, 1, 1, 1, 1, 1, 1, 1, 1, 1, 1, 1, 1, 1, 1, 1, 1, 1, 1, 1, 1, 1, 1, 1, 1, 1, 1, 1, 1, 1, 1, 1, 1, 1, 1, 1, 1, 1, 1, 1, 1, 1, 1, 1, 1, 1, 1, 1, 1, 1, 1, 1, 1, 1, 1, 1, 1, 1, 1, 1, 1, 1, 1, 1, 1, 1, 1, 1, 1, 1, 1, 1, 1, 1, 1, 1, 1, 1, 1, 1, 1, 1, 1, 1, 1, 1, 1, 1, 1, 1, 1, 1, 1, 1, 1, 1, 1, 1, 1, 1, 1, 1, 1, 1, 1, 1, 1, 1, 1, 1, 1, 1, 1, 1, 1, 1, 1, 1, 1, 1, 1, 1, 1, 1, 1, 1, 1, 1, 1, 1, 1, 1, 1, 1, 1, 1, 1, 1, 1, 1, 1, 1, 1, 1, 1, 1, 1, 1, 1, 1, 1, 1, 1, 1, 1, 1, 1, 1, 1, 1, 1, 1, 1, 1, 1, 1, 1, 1, 1, 1, 1, 1, 1, 1, 1, 1, 1, 1, 1, 1, 1, 1, 1, 1, 1, 1, 1, 1, 1, 1, 1, 1, 1, 1, 1, 1, 1, 1, 1, 1, 1, 1, 1, 1, 1, 1, 1, 1, 1, 1, 1, 1, 1, 1, 1, 1, 1, 1, 1, 1, 1, 1, 1, 1, 1, 1, 1, 1, 1, 1, 1, 1, 1, 1, 1, 1, 1, 1, 1, 1, 1, 1, 1, 1, 1, 1, 1, 1, 1, 1, 1, 1, 1, 1, 1, 1, 1, 1, 1, 1, 1, 1, 1, 1, 1, 1, 1, 1, 1, 1, 1, 1, 1, 1, 1, 1, 1, 1, 1, 1, 1, 1, 1, 1, 1, 1, 1, 1, 1, 1, 1, 1, 1, 1, 1, 1, 1, 1, 1, 1, 1, 1, 1, 1, 1, 1, 1, 1, 1, 1, 1, 1, 1, 1, 1, 1, 1, 1, 1, 1, 1, 1, 1, 1, 1, 1, 1, 1, 1, 1, 1, 1, 1, 1, 1, 1, 1, 1, 1, 1, 1, 1, 1, 1, 1, 1, 1, 1, 1, 1, 1, 1, 1, 1, 1, 1, 1, 1, 1, 1, 1, 1, 1, 1, 1, 1, 1, 1, 1, 1, 1, 1, 1, 1, 1, 1, 1, 1, 1, 1, 1, 1, 1, 1, 1, 1, 1, 1, 1, 1, 1, 1, 1, 1, 1, 1, 1, 1, 1, 1, 1, 1, 1, 1, 1, 1, 1, 1, 1, 1, 1, 1, 1, 1, 1, 1, 1, 1, 1, 1, 1, 1, 1, 1, 1, 1, 1, 1, 1, 1, 1, 1, 1, 1, 1, 1, 1, 1, 1, 1, 1, 1, 1, 1, 1, 1, 1, 1, 1, 1, 1, 1, 1, 1, 1, 1, 1, 1, 1, 1, 1, 1, 1, 1, 1, 1, 1, 1, 1, 1, 1, 1, 1, 1, 1, 1, 1, 1, 1]\n"
     ]
    }
   ],
   "source": [
    "component_size_list=[len(c) for c in sorted(nx.connected_components(GSNet), key=len, reverse=True)]\n",
    "print(f'Broj povezanih komponenti:'+str(len(component_size_list)))\n",
    "print(f'Lista povezanih komponenti:')\n",
    "print(component_size_list)"
   ]
  },
  {
   "cell_type": "markdown",
   "id": "ec3eade8",
   "metadata": {},
   "source": [
    "## Dominantna komponenta ##"
   ]
  },
  {
   "cell_type": "code",
   "execution_count": 15,
   "id": "3d72d515",
   "metadata": {},
   "outputs": [
    {
     "name": "stdout",
     "output_type": "stream",
     "text": [
      "Dominantna komponenta ima 153 cvorova i 3172 grana\n"
     ]
    }
   ],
   "source": [
    "dominant_cc=max(nx.connected_components(GSNet), key=len)\n",
    "Gdom=GSNet.subgraph(dominant_cc).copy()\n",
    "print(f\"Dominantna komponenta ima {len(Gdom.nodes())} cvorova i {len(Gdom.edges())} grana\")\n",
    "dom_path=\"models/dominantna_komponentaF.gml\"\n",
    "nx.write_gml(Gdom, dom_path)"
   ]
  },
  {
   "cell_type": "markdown",
   "id": "b0e1b04a",
   "metadata": {},
   "source": [
    "## Dijametar mreže ##"
   ]
  },
  {
   "cell_type": "code",
   "execution_count": 16,
   "id": "29cbf2bb",
   "metadata": {},
   "outputs": [
    {
     "name": "stdout",
     "output_type": "stream",
     "text": [
      "3\n"
     ]
    }
   ],
   "source": [
    "print(nx.diameter(Gdom))"
   ]
  },
  {
   "cell_type": "markdown",
   "id": "9e213c05",
   "metadata": {},
   "source": [
    "## Prosečna distanca "
   ]
  },
  {
   "cell_type": "code",
   "execution_count": 17,
   "id": "e4e64070",
   "metadata": {},
   "outputs": [
    {
     "name": "stdout",
     "output_type": "stream",
     "text": [
      "1.7330581355349157\n"
     ]
    }
   ],
   "source": [
    "print(nx.average_shortest_path_length(Gdom))"
   ]
  },
  {
   "cell_type": "markdown",
   "id": "1cfef958",
   "metadata": {},
   "source": [
    "## Koeficijent klasterisanja ##"
   ]
  },
  {
   "cell_type": "code",
   "execution_count": 4,
   "id": "354bbacd",
   "metadata": {},
   "outputs": [],
   "source": [
    "subredit, clustering_coef=zip(*nx.clustering(GSNet, weight='weight').items())\n",
    "nenula=[(sub, cc) for sub, cc in zip(subredit, clustering_coef) if cc>0]\n",
    "\n",
    "dataFrameClu=pd.DataFrame(nenula, columns=['subreddit','clustering coeficient'])\n",
    "dataFrameClu.sort_values('clustering coeficient', inplace=True)"
   ]
  },
  {
   "cell_type": "code",
   "execution_count": 5,
   "id": "eae2c1ef",
   "metadata": {},
   "outputs": [
    {
     "name": "stdout",
     "output_type": "stream",
     "text": [
      "Prosečan stepen klasterisanja:0.029448255848653317\n",
      "Lokalni stepeni klasterisanja:\n",
      "    subreddit  clustering coeficient\n",
      "1         Art               0.013954\n",
      "95   religion               0.014215\n",
      "130     books               0.014286\n",
      "21      video               0.014763\n",
      "14       food               0.014765\n",
      "..        ...                    ...\n",
      "51     Israel               0.023613\n",
      "84     travel               0.023920\n",
      "135      joel               0.024767\n",
      "34       ruby               0.026779\n",
      "33     gossip               0.028614\n",
      "\n",
      "[138 rows x 2 columns]\n"
     ]
    }
   ],
   "source": [
    "prosecni_stepen_klasterisanja=nx.average_clustering(GSNet)\n",
    "print(f'Prosečan stepen klasterisanja:{prosecni_stepen_klasterisanja}')\n",
    "print('Lokalni stepeni klasterisanja:')\n",
    "print(dataFrameClu)"
   ]
  },
  {
   "cell_type": "code",
   "execution_count": 6,
   "id": "a7db0cc0",
   "metadata": {},
   "outputs": [
    {
     "data": {
      "text/plain": [
       "<seaborn.axisgrid.FacetGrid at 0x1ff12633490>"
      ]
     },
     "execution_count": 6,
     "metadata": {},
     "output_type": "execute_result"
    },
    {
     "data": {
      "image/png": "[encoded data removed]",
      "text/plain": [
       "<Figure size 360x360 with 1 Axes>"
      ]
     },
     "metadata": {},
     "output_type": "display_data"
    }
   ],
   "source": [
    "import seaborn as sns\n",
    "sns.set(rc={'figure.figsize':(7,7)})\n",
    "ax=sns.displot(dataFrameClu['clustering coeficient'],\n",
    "              bins=100,\n",
    "              kde=True,\n",
    "              color='skyblue')\n",
    "ax.set(xlabel='Clustering', ylabel='Frequency')"
   ]
  },
  {
   "cell_type": "code",
   "execution_count": 20,
   "id": "90bfd292",
   "metadata": {},
   "outputs": [
    {
     "name": "stdout",
     "output_type": "stream",
     "text": [
      "Maksimalni stepen klasterisanja:\n",
      "   subreddit  clustering coeficient\n",
      "33    gossip               0.028614\n"
     ]
    }
   ],
   "source": [
    "print(f'Maksimalni stepen klasterisanja:')\n",
    "print(dataFrameClu.sort_values('clustering coeficient', ascending=False).head(1))"
   ]
  },
  {
   "cell_type": "code",
   "execution_count": 21,
   "id": "d13e5a39",
   "metadata": {},
   "outputs": [
    {
     "name": "stdout",
     "output_type": "stream",
     "text": [
      "Globalni koeficijent klasterisanja:\n",
      "0.6363647934831032\n"
     ]
    }
   ],
   "source": [
    "print(f'Globalni koeficijent klasterisanja:')\n",
    "gcc=nx.transitivity(GSNet)\n",
    "print(gcc)"
   ]
  },
  {
   "cell_type": "markdown",
   "id": "80c374b8",
   "metadata": {},
   "source": [
    "### Upoređivanje sa ER mrežom ###"
   ]
  },
  {
   "cell_type": "code",
   "execution_count": 27,
   "id": "29afa71c",
   "metadata": {},
   "outputs": [],
   "source": [
    "n=Gdom.number_of_nodes()\n",
    "m=Gdom.number_of_edges()"
   ]
  },
  {
   "cell_type": "code",
   "execution_count": 28,
   "id": "c6031b5c",
   "metadata": {},
   "outputs": [
    {
     "name": "stdout",
     "output_type": "stream",
     "text": [
      "0.27278981768145855\n",
      "Broj grana originalne mreže minus broj grana u ER mreži iznosi 27, što je odstupanje od 0.8511979823455234%\n"
     ]
    }
   ],
   "source": [
    "p=(2*float(m))/(n*(n-1))  #p=2*m/(n*(n-1)), p je verovatnoca formiranja grane takva da je ocekivani broj grana m\n",
    "print(p)\n",
    "er=nx.erdos_renyi_graph(n,p)\n",
    "delta_m=m-er.number_of_edges()\n",
    "print(f\"Broj grana originalne mreže minus broj grana u ER mreži iznosi {delta_m}, što je odstupanje od {abs(float(delta_m)) * 100 / m}%\")"
   ]
  },
  {
   "cell_type": "code",
   "execution_count": 29,
   "id": "776c7cff",
   "metadata": {},
   "outputs": [
    {
     "name": "stdout",
     "output_type": "stream",
     "text": [
      "Prosečan stepen klasterisanja ER mreže:0.2710717050018568\n",
      "Lokalni stepeni klasterisanja ER mreže:\n",
      "     subreddit  clustering coeficient\n",
      "54          54               0.231061\n",
      "138        138               0.232804\n",
      "152        152               0.238475\n",
      "141        141               0.242424\n",
      "45          45               0.242857\n",
      "..         ...                    ...\n",
      "15          15               0.297683\n",
      "27          27               0.298387\n",
      "78          78               0.303571\n",
      "104        104               0.308974\n",
      "93          93               0.320635\n",
      "\n",
      "[153 rows x 2 columns]\n",
      "Maksimalni stepen klasterisanja ER mreže:\n",
      "    subreddit  clustering coeficient\n",
      "93         93               0.320635\n",
      "Globalni koeficijent klasterisanja ER mreže:\n",
      "0.2716987294132284\n"
     ]
    }
   ],
   "source": [
    "subredit1, clustering_coef1=zip(*nx.clustering(er, weight='weight').items())\n",
    "nenula=[(sub, cc) for sub, cc in zip(subredit1, clustering_coef1) if cc>0]\n",
    "\n",
    "dataFrameClu1=pd.DataFrame(nenula, columns=['subreddit','clustering coeficient'])\n",
    "dataFrameClu1.sort_values('clustering coeficient', inplace=True)\n",
    "prosecni_stepen_klasterisanja1=nx.average_clustering(er)\n",
    "print(f'Prosečan stepen klasterisanja ER mreže:{prosecni_stepen_klasterisanja1}')\n",
    "print('Lokalni stepeni klasterisanja ER mreže:')\n",
    "print(dataFrameClu1)\n",
    "print(f'Maksimalni stepen klasterisanja ER mreže:')\n",
    "print(dataFrameClu1.sort_values('clustering coeficient', ascending=False).head(1))\n",
    "print(f'Globalni koeficijent klasterisanja ER mreže:')\n",
    "er_gcc=nx.transitivity(er)\n",
    "print(er_gcc)"
   ]
  },
  {
   "cell_type": "code",
   "execution_count": 30,
   "id": "995e2ff0",
   "metadata": {},
   "outputs": [
    {
     "name": "stdout",
     "output_type": "stream",
     "text": [
      "        ACC    ACC-ER       LCC    LCC-ER       GCC    GCC-ER\n",
      "0  0.029448  0.271072  0.028614  0.320635  0.636365  0.271699\n"
     ]
    }
   ],
   "source": [
    "tabela=pd.DataFrame([(prosecni_stepen_klasterisanja, prosecni_stepen_klasterisanja1,\n",
    "                     max(clustering_coef),\n",
    "                     max(clustering_coef1), gcc, er_gcc)],\n",
    "                    columns=['ACC','ACC-ER','LCC','LCC-ER','GCC','GCC-ER'])\n",
    "print(tabela)"
   ]
  },
  {
   "cell_type": "code",
   "execution_count": 31,
   "id": "73e440ed",
   "metadata": {},
   "outputs": [
    {
     "name": "stdout",
     "output_type": "stream",
     "text": [
      "2\n"
     ]
    }
   ],
   "source": [
    "print(nx.diameter(er)) "
   ]
  },
  {
   "cell_type": "code",
   "execution_count": 32,
   "id": "a40c2730",
   "metadata": {},
   "outputs": [
    {
     "name": "stdout",
     "output_type": "stream",
     "text": [
      "1.7295321637426901\n"
     ]
    }
   ],
   "source": [
    "print(nx.average_shortest_path_length(er))"
   ]
  },
  {
   "cell_type": "markdown",
   "id": "75357ee4",
   "metadata": {},
   "source": [
    "## Fenomen malog sveta"
   ]
  },
  {
   "cell_type": "code",
   "execution_count": 33,
   "id": "4e37731a",
   "metadata": {},
   "outputs": [],
   "source": [
    "import numpy as np"
   ]
  },
  {
   "cell_type": "markdown",
   "id": "13e703ad",
   "metadata": {},
   "source": [
    "Za fenomen malog sveta realne mreže, potrebno je da budu zadovoljeni uslovi:\n",
    "1. mala prosečna distanca dva čvora u mreži u odnosu na veličinu mreže: lnetwork~ln(n)/ln(d)\n",
    "2. visoki globalni koeficijent klasterisanja u odnosu na globalni koeficijent klasterisanja kod ER mreže: Cn>>Cer"
   ]
  },
  {
   "cell_type": "code",
   "execution_count": 34,
   "id": "f9c543ad",
   "metadata": {},
   "outputs": [
    {
     "name": "stdout",
     "output_type": "stream",
     "text": [
      "8.336630087637147\n",
      "-0.2745125048824074\n",
      "-30.368853656441985\n"
     ]
    }
   ],
   "source": [
    "lnN=np.log(len(GSNet.nodes()))\n",
    "print(lnN)\n",
    "d=len(GSNet.edges())/len(GSNet.nodes())\n",
    "lnd=np.log(d)\n",
    "print(lnd)\n",
    "print(lnN/lnd) "
   ]
  },
  {
   "cell_type": "markdown",
   "id": "034657e0",
   "metadata": {},
   "source": [
    "Nije ostvaren fenomen malog sveta."
   ]
  },
  {
   "cell_type": "markdown",
   "id": "ec68c0c7",
   "metadata": {},
   "source": [
    "## Asortativnost"
   ]
  },
  {
   "cell_type": "code",
   "execution_count": 35,
   "id": "1bc968c1",
   "metadata": {},
   "outputs": [
    {
     "name": "stdout",
     "output_type": "stream",
     "text": [
      "Koeficijent asortativnosti na osnovu netežinskog stepena čvora: -0.5885601896834041\n"
     ]
    }
   ],
   "source": [
    "r1=nx.degree_assortativity_coefficient(GSNet)\n",
    "print(f\"Koeficijent asortativnosti na osnovu netežinskog stepena čvora: {r1}\") #radi"
   ]
  },
  {
   "cell_type": "markdown",
   "id": "1b9692b8",
   "metadata": {},
   "source": [
    "Mreža je disasortativna, čvorovi nemaju tendenciju da se vezuju sa čvorovima sličnog stepena."
   ]
  },
  {
   "cell_type": "code",
   "execution_count": null,
   "id": "db031945",
   "metadata": {},
   "outputs": [],
   "source": [
    "r2=nx.degree_assortativity_coefficient(GSNet, weight='weight')\n",
    "print(f\"Koeficijent asortativnosti na osnovu težinskog stepena čvora: {r2}\") #zasto prijavljuje gresku"
   ]
  },
  {
   "cell_type": "markdown",
   "id": "034992e3",
   "metadata": {},
   "source": [
    "Izvršavanjem ovog koda treba da se prikaže 0.02546861035 (kod kolege)"
   ]
  },
  {
   "cell_type": "markdown",
   "id": "093c19ea",
   "metadata": {},
   "source": [
    "Mreža je neutralno asortativna, ne zna se da li čvorovi imaju tendenciju da se vezuju sa čvorovima sličnog stepena."
   ]
  },
  {
   "cell_type": "markdown",
   "id": "071dc251",
   "metadata": {},
   "source": [
    "## Fenomen kluba bogatih"
   ]
  },
  {
   "cell_type": "code",
   "execution_count": null,
   "id": "3ae657fb",
   "metadata": {},
   "outputs": [],
   "source": [
    "rich_club_coef=nx.rich_club_coefficient(GSNet)"
   ]
  },
  {
   "cell_type": "markdown",
   "id": "bbd51635",
   "metadata": {},
   "source": [
    "Čvorovi nemaju tendenciju da se vezuju međusobno, pogotovo da ne mogu da se vezuju sa čvorovima većeg stepena, jer smo zaključili da je mreža disasortitvna."
   ]
  },
  {
   "cell_type": "markdown",
   "id": "26576092",
   "metadata": {},
   "source": [
    "## Power-law distribucija "
   ]
  },
  {
   "cell_type": "code",
   "execution_count": 38,
   "id": "22eb42a5",
   "metadata": {},
   "outputs": [],
   "source": [
    "def plot_deg_frequency(G, weighted = False, xscale = \"log\", yscale = \"log\"):\n",
    "\n",
    "    if weighted:\n",
    "        degrees = G.degree(weight=\"weight\")\n",
    "    else:\n",
    "        degrees = G.degree()\n",
    "        \n",
    "    _, deg_list = zip(*degrees) #raspakovanje\n",
    "    deg_counts = Counter(deg_list)        \n",
    "    print(deg_counts)\n",
    "    x, y = zip(*deg_counts.items())     #x-stepen, y-broj cvorova koji imaju odredjeni stepen                                                 \n",
    "\n",
    "    plt.figure(1)   \n",
    "\n",
    "    # prep axes   \n",
    "    if weighted:\n",
    "        plt.xlabel('weighted degree')  \n",
    "    else:\n",
    "        plt.xlabel('degree')                                                                                                             \n",
    "    plt.xscale(xscale)                                                                                                                \n",
    "    plt.xlim(1, max(x))  \n",
    "\n",
    "    plt.ylabel('frequency')                                                                                                          \n",
    "    plt.yscale(yscale)                                                                                                                \n",
    "    plt.ylim(1, max(y))                                                                                                             \n",
    "                                                                                                                                                                                                    \n",
    "    plt.scatter(x, y, marker='.')                                                                                                    \n",
    "    plt.show()"
   ]
  },
  {
   "cell_type": "code",
   "execution_count": 39,
   "id": "c5c0e787",
   "metadata": {},
   "outputs": [
    {
     "name": "stdout",
     "output_type": "stream",
     "text": [
      "Counter({0: 4021, 135: 2, 102: 2, 110: 2, 209: 2, 2015: 1, 15094: 1, 4623: 1, 1112: 1, 1593: 1, 36488: 1, 19827: 1, 8082: 1, 25844: 1, 894: 1, 9914: 1, 45869: 1, 4762: 1, 1029: 1, 19727: 1, 8191: 1, 218194: 1, 19486: 1, 87618: 1, 4058: 1, 167: 1, 517: 1, 13924: 1, 5327: 1, 10856: 1, 75611: 1, 3969: 1, 60034: 1, 84378: 1, 3304: 1, 1262: 1, 101: 1, 2147: 1, 5629: 1, 5282: 1, 1485: 1, 2665: 1, 129658: 1, 1531: 1, 26695: 1, 17751: 1, 6002: 1, 912: 1, 2568: 1, 82762: 1, 22858: 1, 5365: 1, 5641: 1, 331100: 1, 13209: 1, 22493: 1, 779: 1, 2274: 1, 342: 1, 1021: 1, 40051: 1, 245: 1, 22355: 1, 558: 1, 9960: 1, 212792: 1, 2105: 1, 26031: 1, 3487: 1, 33900: 1, 35480: 1, 224929: 1, 1247: 1, 1093: 1, 3410: 1, 7158: 1, 1728: 1, 7319: 1, 2919: 1, 1106: 1, 7205: 1, 2720: 1, 4132: 1, 93430: 1, 180517: 1, 216705: 1, 812: 1, 746: 1, 30476: 1, 23150: 1, 23525: 1, 1633: 1, 1185: 1, 3150: 1, 94152: 1, 28133: 1, 248260: 1, 2760: 1, 216: 1, 4366: 1, 103: 1, 538: 1, 1449: 1, 14057: 1, 18663: 1, 81362: 1, 40691: 1, 94385: 1, 184240: 1, 233953: 1, 3059: 1, 6484: 1, 555: 1, 25970: 1, 34548: 1, 8380: 1, 7051: 1, 14251: 1, 238069: 1, 4148: 1, 15707: 1, 24420: 1, 6780: 1, 264332: 1, 1360: 1, 16303: 1, 62168: 1, 5249: 1, 126: 1, 30003: 1, 115: 1, 436: 1, 3202: 1, 132: 1, 1490: 1, 138750: 1, 106: 1, 12600: 1, 682: 1, 1561: 1, 17215: 1, 14416: 1, 114: 1, 31133: 1, 81757: 1, 1598: 1, 6717: 1, 1230: 1, 129: 1, 46490: 1})\n"
     ]
    },
    {
     "data": {
      "image/png": "[encoded data removed]",
      "text/plain": [
       "<Figure size 432x288 with 1 Axes>"
      ]
     },
     "metadata": {
      "needs_background": "light"
     },
     "output_type": "display_data"
    }
   ],
   "source": [
    "plot_deg_frequency(GSNet, True)"
   ]
  },
  {
   "cell_type": "markdown",
   "id": "290b9a98",
   "metadata": {},
   "source": [
    "Navedena distribucija čvorova po težinskom stepenu ne prati power-law raspodelu."
   ]
  },
  {
   "cell_type": "markdown",
   "id": "53684433",
   "metadata": {},
   "source": [
    "## Habovi i autoriteti"
   ]
  },
  {
   "cell_type": "code",
   "execution_count": 7,
   "id": "2ff3a6f4",
   "metadata": {},
   "outputs": [],
   "source": [
    "#hubs_authorities=nx.hits(G) #SNet mreza je neusmerena, pa ne mogu se odrediti habovi i autoriteti"
   ]
  },
  {
   "cell_type": "markdown",
   "id": "c793532c",
   "metadata": {},
   "source": [
    "## Analiza mera centralnosti ##"
   ]
  },
  {
   "cell_type": "markdown",
   "id": "cae715b4",
   "metadata": {},
   "source": [
    "1) Centralnosti po stepenu, bliskosti, relacionoj centralnosti 2) Centralnosti po sopstvenom vektoru"
   ]
  },
  {
   "cell_type": "code",
   "execution_count": 40,
   "id": "25519c2c",
   "metadata": {},
   "outputs": [],
   "source": [
    "DC_dict=nx.degree_centrality(GSNet)"
   ]
  },
  {
   "cell_type": "code",
   "execution_count": 41,
   "id": "baee9018",
   "metadata": {},
   "outputs": [],
   "source": [
    "CC_dict=nx.closeness_centrality(GSNet)"
   ]
  },
  {
   "cell_type": "code",
   "execution_count": 42,
   "id": "62369c0a",
   "metadata": {},
   "outputs": [],
   "source": [
    "BC_dict=nx.betweenness_centrality(GSNet)"
   ]
  },
  {
   "cell_type": "code",
   "execution_count": 43,
   "id": "5b467a1f",
   "metadata": {},
   "outputs": [],
   "source": [
    "EVC_dict = nx.eigenvector_centrality(GSNet)"
   ]
  },
  {
   "cell_type": "code",
   "execution_count": null,
   "id": "c4cdf95e",
   "metadata": {},
   "outputs": [],
   "source": [
    "df1=pd.DataFrame.from_dict(DC_dict, orient='index', columns=['DC'])\n",
    "df2=pd.DataFrame.from_dict(CC_dict, orient='index', columns=['CC'])\n",
    "df3=pd.DataFrame.from_dict(BC_dict, orient='index', columns=['BC'])\n",
    "df4=pd.DataFrame.from_dict(EVC_dict, orient='index', columns=['EVC'])\n",
    "df=pd.concat([df1, df2, df3, df4], axis=1)\n",
    "print(df)"
   ]
  },
  {
   "cell_type": "code",
   "execution_count": 45,
   "id": "411683eb",
   "metadata": {},
   "outputs": [],
   "source": [
    "with open(\"data1/snetF-centralities\", 'wb') as file:\n",
    "    pickle.dump(df, file)"
   ]
  },
  {
   "cell_type": "markdown",
   "id": "fff6c19d",
   "metadata": {},
   "source": [
    "### Centralnost po stepenu ###"
   ]
  },
  {
   "cell_type": "code",
   "execution_count": 46,
   "id": "5ad519b9",
   "metadata": {},
   "outputs": [
    {
     "name": "stdout",
     "output_type": "stream",
     "text": [
      "                     DC\n",
      "reddit.com     0.035945\n",
      "funny          0.031153\n",
      "science        0.031153\n",
      "politics       0.031153\n",
      "pics           0.030913\n",
      "technology     0.030673\n",
      "worldnews      0.030434\n",
      "WTF            0.029236\n",
      "entertainment  0.028277\n",
      "programming    0.028277\n"
     ]
    }
   ],
   "source": [
    "df_dc = pd.DataFrame({'DC':df['DC']})\n",
    "df_dc.sort_values(by='DC', ascending=False, inplace = True)\n",
    "print(df_dc.head(10))"
   ]
  },
  {
   "cell_type": "markdown",
   "id": "f73f84de",
   "metadata": {},
   "source": [
    "### Centralnost po bliskosti ###"
   ]
  },
  {
   "cell_type": "code",
   "execution_count": 47,
   "id": "45ea71e9",
   "metadata": {},
   "outputs": [
    {
     "name": "stdout",
     "output_type": "stream",
     "text": [
      "                     CC\n",
      "reddit.com     0.035952\n",
      "funny          0.031819\n",
      "science        0.031819\n",
      "politics       0.031819\n",
      "pics           0.031637\n",
      "technology     0.031458\n",
      "worldnews      0.031280\n",
      "WTF            0.030421\n",
      "entertainment  0.029766\n",
      "programming    0.029766\n"
     ]
    }
   ],
   "source": [
    "df_cc = pd.DataFrame({'CC':df['CC']})\n",
    "df_cc.sort_values(by='CC', ascending=False, inplace = True)\n",
    "print(df_cc.head(10))"
   ]
  },
  {
   "cell_type": "markdown",
   "id": "117672f3",
   "metadata": {},
   "source": [
    "### Relaciona centralnost ###"
   ]
  },
  {
   "cell_type": "code",
   "execution_count": 48,
   "id": "a4b3f121",
   "metadata": {},
   "outputs": [
    {
     "name": "stdout",
     "output_type": "stream",
     "text": [
      "                     BC\n",
      "reddit.com     0.000320\n",
      "programming    0.000078\n",
      "science        0.000064\n",
      "funny          0.000062\n",
      "politics       0.000060\n",
      "pics           0.000054\n",
      "technology     0.000052\n",
      "worldnews      0.000051\n",
      "WTF            0.000040\n",
      "entertainment  0.000031\n"
     ]
    }
   ],
   "source": [
    "df_bc = pd.DataFrame({'BC':df['BC']})\n",
    "df_bc.sort_values(by='BC', ascending=False, inplace = True)\n",
    "print(df_bc.head(10))"
   ]
  },
  {
   "cell_type": "markdown",
   "id": "67079694",
   "metadata": {},
   "source": [
    "### Centralnost po sopstvenom vektoru ###"
   ]
  },
  {
   "cell_type": "code",
   "execution_count": 49,
   "id": "21603cd1",
   "metadata": {},
   "outputs": [
    {
     "name": "stdout",
     "output_type": "stream",
     "text": [
      "                    EVC\n",
      "reddit.com     0.144243\n",
      "politics       0.143114\n",
      "funny          0.143085\n",
      "pics           0.143083\n",
      "science        0.143053\n",
      "technology     0.142900\n",
      "worldnews      0.142689\n",
      "WTF            0.141505\n",
      "entertainment  0.140742\n",
      "programming    0.139148\n"
     ]
    }
   ],
   "source": [
    "df_ec = pd.DataFrame({'EVC':df['EVC']})\n",
    "df_ec.sort_values(by='EVC', ascending=False, inplace = True)\n",
    "print(df_ec.head(10))"
   ]
  },
  {
   "cell_type": "code",
   "execution_count": 50,
   "id": "faedc7d1",
   "metadata": {},
   "outputs": [],
   "source": [
    "with open(\"data1/snetF-centralities\", 'rb') as file:\n",
    "    df = pickle.load(file)"
   ]
  },
  {
   "cell_type": "markdown",
   "id": "df82a3f2",
   "metadata": {},
   "source": [
    "### Kacova centralnost ###"
   ]
  },
  {
   "cell_type": "code",
   "execution_count": 51,
   "id": "dc8435b0",
   "metadata": {},
   "outputs": [],
   "source": [
    "import pickle\n",
    "with open(\"data1/katz_b=1000-SNetF\", 'rb') as file:\n",
    "    df_katz = pickle.load(file)"
   ]
  },
  {
   "cell_type": "code",
   "execution_count": 52,
   "id": "ef0b8e9b",
   "metadata": {},
   "outputs": [
    {
     "name": "stdout",
     "output_type": "stream",
     "text": [
      "                    EVC  EVC_rank\n",
      "reddit.com     0.324493       1.0\n",
      "politics       0.267666       2.0\n",
      "pics           0.248381       3.0\n",
      "funny          0.238874       4.0\n",
      "science        0.233412       5.0\n",
      "technology     0.226348       6.0\n",
      "worldnews      0.220698       7.0\n",
      "WTF            0.216698       8.0\n",
      "entertainment  0.216095       9.0\n",
      "programming    0.189027      10.0\n"
     ]
    }
   ],
   "source": [
    "print(df_katz.sort_values(by='EVC', ascending=False).head(10))"
   ]
  },
  {
   "cell_type": "markdown",
   "id": "34ca8a4d",
   "metadata": {},
   "source": [
    "## Korelacija metrika centralnosti ##"
   ]
  },
  {
   "cell_type": "code",
   "execution_count": 53,
   "id": "c6610d6a",
   "metadata": {},
   "outputs": [
    {
     "name": "stdout",
     "output_type": "stream",
     "text": [
      "                      DC   CC   BC           EVC     KatzC\n",
      "askXKCD              0.0  0.0  0.0  2.815773e-18  0.007756\n",
      "AmericanEconomy      0.0  0.0  0.0  2.815773e-18  0.007756\n",
      "electronics          0.0  0.0  0.0  2.815773e-18  0.007756\n",
      "Boxing               0.0  0.0  0.0  2.815773e-18  0.007756\n",
      "nyc                  0.0  0.0  0.0  2.815773e-18  0.007756\n",
      "...                  ...  ...  ...           ...       ...\n",
      "emerfv               0.0  0.0  0.0  2.815773e-18  0.007756\n",
      "freebies             0.0  0.0  0.0  2.815773e-18  0.007756\n",
      "Zinemaya             0.0  0.0  0.0  2.815773e-18  0.007756\n",
      "flash                0.0  0.0  0.0  2.815773e-18  0.007756\n",
      "vitaminsforhairloss  0.0  0.0  0.0  2.815773e-18  0.007756\n",
      "\n",
      "[4174 rows x 5 columns]\n"
     ]
    }
   ],
   "source": [
    "df_correlation=pd.merge(df, df_katz, left_index=True, right_index=True)\n",
    "df_correlation.rename(columns = {'EVC_x':'EVC', 'EVC_y':'KatzC'}, inplace = True)\n",
    "df_correlation=df_correlation.drop(['EVC_rank'], axis=1)\n",
    "print(df_correlation)"
   ]
  },
  {
   "cell_type": "code",
   "execution_count": 54,
   "id": "1b2d524c",
   "metadata": {},
   "outputs": [
    {
     "name": "stdout",
     "output_type": "stream",
     "text": [
      "             DC        CC        BC       EVC     KatzC\n",
      "DC          1.0   0.99988  0.629533  0.999887  0.999106\n",
      "CC      0.99988       1.0  0.629518  0.999792  0.999059\n",
      "BC     0.629533  0.629518       1.0  0.629372   0.62904\n",
      "EVC    0.999887  0.999792  0.629372       1.0  0.999031\n",
      "KatzC  0.999106  0.999059   0.62904  0.999031       1.0\n",
      "        DC   CC   BC  EVC KatzC\n",
      "DC     0.0  0.0  0.0  0.0   0.0\n",
      "CC     0.0  0.0  0.0  0.0   0.0\n",
      "BC     0.0  0.0  0.0  0.0   0.0\n",
      "EVC    0.0  0.0  0.0  0.0   0.0\n",
      "KatzC  0.0  0.0  0.0  0.0   0.0\n"
     ]
    }
   ],
   "source": [
    "labele=['DC','CC','BC', 'EVC', 'KatzC']\n",
    "matrica_korelacije=pd.DataFrame(columns=['DC','CC','BC','EVC','KatzC'], index=['DC','CC','BC','EVC','KatzC'])\n",
    "p_val_matrica=pd.DataFrame(columns=['DC','CC','BC','EVC','KatzC'], index=['DC','CC','BC','EVC','KatzC'])\n",
    "\n",
    "for i in labele:\n",
    "    for j in labele:\n",
    "        matrica_korelacije[i][j], p_val_matrica[i][j]=stats.kendalltau(df_correlation[i], df_correlation[j])\n",
    "        \n",
    "print(matrica_korelacije)\n",
    "print(p_val_matrica) "
   ]
  },
  {
   "cell_type": "markdown",
   "id": "d446d0b2",
   "metadata": {},
   "source": [
    "## Kompozitna mera centralnosti ##"
   ]
  },
  {
   "cell_type": "code",
   "execution_count": 55,
   "id": "7da2b3d9",
   "metadata": {},
   "outputs": [
    {
     "name": "stdout",
     "output_type": "stream",
     "text": [
      "                     DC        CC        BC       EVC     KatzC  DC_rank  \\\n",
      "reddit.com     0.035945  0.035952  0.000320  0.144243  0.324493      1.0   \n",
      "politics       0.031153  0.031819  0.000060  0.143114  0.267666      3.0   \n",
      "funny          0.031153  0.031819  0.000062  0.143085  0.238874      3.0   \n",
      "science        0.031153  0.031819  0.000064  0.143053  0.233412      3.0   \n",
      "pics           0.030913  0.031637  0.000054  0.143083  0.248381      5.0   \n",
      "technology     0.030673  0.031458  0.000052  0.142900  0.226348      6.0   \n",
      "programming    0.028277  0.029766  0.000078  0.139148  0.189027      9.5   \n",
      "worldnews      0.030434  0.031280  0.000051  0.142689  0.220698      7.0   \n",
      "WTF            0.029236  0.030421  0.000040  0.141505  0.216698      8.0   \n",
      "entertainment  0.028277  0.029766  0.000031  0.140742  0.216095      9.5   \n",
      "\n",
      "               CC_rank  BC_rank  EVC_rank  KatzC_rank  composite_rank  \n",
      "reddit.com         1.0      1.0       1.0         1.0             1.0  \n",
      "politics           3.0      5.0       2.0         2.0           180.0  \n",
      "funny              3.0      4.0       3.0         4.0           432.0  \n",
      "science            3.0      3.0       5.0         5.0           675.0  \n",
      "pics               5.0      6.0       4.0         3.0          1800.0  \n",
      "technology         6.0      7.0       6.0         6.0          9072.0  \n",
      "programming        9.5      2.0      10.0        10.0         18050.0  \n",
      "worldnews          7.0      8.0       7.0         7.0         19208.0  \n",
      "WTF                8.0      9.0       8.0         8.0         36864.0  \n",
      "entertainment      9.5     10.0       9.0         9.0         73102.5  \n"
     ]
    }
   ],
   "source": [
    "df_ = df_correlation\n",
    "for metric in labele:\n",
    "    df_[f\"{metric}_rank\"] = df_correlation[f\"{metric}\"].rank(ascending=False) \n",
    "    \n",
    "df_['composite_rank'] = df_['DC_rank'] * df_['CC_rank'] * df_['BC_rank'] * df_['EVC_rank']* df_['KatzC_rank'] #composite_rank=dc_rank*cc_rank*bc_rank*evc_rank*katz_rank\n",
    "\n",
    "df_=df_.sort_values(['composite_rank'], ascending = True)\n",
    "print(df_.head(10))"
   ]
  },
  {
   "cell_type": "markdown",
   "id": "c091a42e",
   "metadata": {},
   "source": [
    "## Detekcija komuna ##"
   ]
  },
  {
   "cell_type": "markdown",
   "id": "707ca177",
   "metadata": {},
   "source": [
    "### Hijerarhijsko klasterisanje"
   ]
  },
  {
   "cell_type": "code",
   "execution_count": 7,
   "id": "9e8b6ba0",
   "metadata": {},
   "outputs": [],
   "source": [
    "import itertools\n",
    "from itertools import chain, combinations\n",
    "import matplotlib.pyplot as plt\n",
    "from scipy.cluster.hierarchy import dendrogram"
   ]
  },
  {
   "cell_type": "code",
   "execution_count": null,
   "id": "be0ff6cf",
   "metadata": {},
   "outputs": [],
   "source": [
    "comp=nx.community.girvan_newman(GSNet)\n",
    "k=15\n",
    "hierarchical_decomposition={}\n",
    "i=2\n",
    "for communities in itertools.islice(comp, k):\n",
    "    hierarchical_decomposition[i]=tuple(sorted(c) for c in communities)\n",
    "    i=i+1  #dugo traje"
   ]
  },
  {
   "cell_type": "code",
   "execution_count": null,
   "id": "6c5af2e9",
   "metadata": {},
   "outputs": [],
   "source": [
    "def print_decomposition(hierarchy, num_clusters):\n",
    "    decomposition_tupple = hierarchy[num_clusters]\n",
    "    print(f\"Dekompozicija na {num_clusters} komuna\")\n",
    "    for com_ind in range(num_clusters):\n",
    "        print(f\"Komuna {com_ind+1} ima {len(decomposition_tupple[com_ind])} clanova\")\n",
    "        print(decomposition_tupple[com_ind])\n",
    "        print(\"-----------------------------------------------------------------------\")"
   ]
  },
  {
   "cell_type": "code",
   "execution_count": null,
   "id": "089a75bc",
   "metadata": {},
   "outputs": [],
   "source": [
    "print_decomposition(hierarchical_decomposition, 3)"
   ]
  },
  {
   "cell_type": "code",
   "execution_count": 3,
   "id": "b57c1e41",
   "metadata": {},
   "outputs": [],
   "source": [
    "def plot_and_save_dendrogram(G):\n",
    "\n",
    "    plt.rcParams[\"figure.figsize\"] = (24,13)\n",
    "    # get Girvan-Newman communities list\n",
    "    communities = list(nx.community.girvan_newman(G))\n",
    "\n",
    "    # building initial dict of node_id to each possible subset:\n",
    "    node_id = 0\n",
    "    init_node2community_dict = {node_id: communities[0][0].union(communities[0][1])}\n",
    "    for comm in communities:\n",
    "        for subset in list(comm):\n",
    "            if subset not in init_node2community_dict.values():\n",
    "                node_id += 1\n",
    "                init_node2community_dict[node_id] = subset\n",
    "\n",
    "    # turning this dictionary to the desired format in @mdml's answer\n",
    "    node_id_to_children = {e: [] for e in init_node2community_dict.keys()}\n",
    "    for node_id1, node_id2 in combinations(init_node2community_dict.keys(), 2):\n",
    "        for node_id_parent, group in init_node2community_dict.items():\n",
    "            if len(init_node2community_dict[node_id1].intersection(init_node2community_dict[node_id2])) == 0 and group == init_node2community_dict[node_id1].union(init_node2community_dict[node_id2]):\n",
    "                node_id_to_children[node_id_parent].append(node_id1)\n",
    "                node_id_to_children[node_id_parent].append(node_id2)\n",
    "\n",
    "    # also recording node_labels dict for the correct label for dendrogram leaves\n",
    "    node_labels = dict()\n",
    "    for node_id, group in init_node2community_dict.items():\n",
    "        if len(group) == 1:\n",
    "            node_labels[node_id] = list(group)[0]\n",
    "        else:\n",
    "            node_labels[node_id] = ''\n",
    "\n",
    "    # also needing a subset to rank dict to later know within all k-length merges which came first\n",
    "    subset_rank_dict = dict()\n",
    "    rank = 0\n",
    "    for e in communities[::-1]:\n",
    "        for p in list(e):\n",
    "            if tuple(p) not in subset_rank_dict:\n",
    "                subset_rank_dict[tuple(sorted(p))] = rank\n",
    "                rank += 1\n",
    "    subset_rank_dict[tuple(sorted(chain.from_iterable(communities[-1])))] = rank\n",
    "\n",
    "    # my function to get a merge height so that it is unique (probably not that efficient)\n",
    "    def get_merge_height(sub):\n",
    "        sub_tuple = tuple(sorted([node_labels[i] for i in sub]))\n",
    "        n = len(sub_tuple)\n",
    "        other_same_len_merges = {k: v for k, v in subset_rank_dict.items() if len(k) == n}\n",
    "        min_rank, max_rank = min(other_same_len_merges.values()), max(other_same_len_merges.values())\n",
    "        range = (max_rank-min_rank) if max_rank > min_rank else 1\n",
    "        return float(len(sub)) + 0.8 * (subset_rank_dict[sub_tuple] - min_rank) / range\n",
    "\n",
    "    # finally using @mdml's magic, slightly modified:\n",
    "    G           = nx.DiGraph(node_id_to_children)\n",
    "    nodes       = G.nodes()\n",
    "    leaves      = set( n for n in nodes if G.out_degree(n) == 0 )\n",
    "    inner_nodes = [ n for n in nodes if G.out_degree(n) > 0 ]\n",
    "\n",
    "    # Compute the size of each subtree\n",
    "    subtree = dict( (n, [n]) for n in leaves )\n",
    "    for u in inner_nodes:\n",
    "        children = set()\n",
    "        node_list = list(node_id_to_children[u])\n",
    "        while len(node_list) > 0:\n",
    "            v = node_list.pop(0)\n",
    "            children.add( v )\n",
    "            node_list += node_id_to_children[v]\n",
    "        subtree[u] = sorted(children & leaves)\n",
    "\n",
    "    inner_nodes.sort(key=lambda n: len(subtree[n])) # <-- order inner nodes ascending by subtree size, root is last\n",
    "\n",
    "    # Construct the linkage matrix\n",
    "    leaves = sorted(leaves)\n",
    "    index  = dict( (tuple([n]), i) for i, n in enumerate(leaves) )\n",
    "    Z = []\n",
    "    k = len(leaves)\n",
    "    for i, n in enumerate(inner_nodes):\n",
    "        children = node_id_to_children[n]\n",
    "        x = children[0]\n",
    "        for y in children[1:]:\n",
    "            z = tuple(sorted(subtree[x] + subtree[y]))\n",
    "            i, j = index[tuple(sorted(subtree[x]))], index[tuple(sorted(subtree[y]))]\n",
    "            Z.append([i, j, get_merge_height(subtree[n]), len(z)]) # <-- float is required by the dendrogram function\n",
    "            index[z] = k\n",
    "            subtree[z] = list(z)\n",
    "            x = z\n",
    "            k += 1\n",
    "\n",
    "    # dendrogram\n",
    "    plt.figure()\n",
    "    dendrogram(Z, labels=[node_labels[node_id] for node_id in leaves])\n",
    "    plt.savefig('dendrogram.png')"
   ]
  },
  {
   "cell_type": "code",
   "execution_count": null,
   "id": "18cf0c15",
   "metadata": {},
   "outputs": [],
   "source": [
    "plot_and_save_dendrogram(Gdom)"
   ]
  },
  {
   "cell_type": "markdown",
   "id": "8d135e28",
   "metadata": {},
   "source": [
    "## Spektralno klasterisanje"
   ]
  },
  {
   "cell_type": "code",
   "execution_count": 96,
   "id": "1a8ccb51",
   "metadata": {},
   "outputs": [],
   "source": [
    "import networkx as nx\n",
    "import pandas as pd\n",
    "import numpy as np\n",
    "from scipy import linalg\n",
    "import matplotlib.pyplot as plt\n",
    "from docx import Document\n",
    "import math #?\n",
    "import sympy\n",
    "from sklearn.cluster import SpectralClustering"
   ]
  },
  {
   "cell_type": "code",
   "execution_count": 97,
   "id": "fd3f47c4",
   "metadata": {},
   "outputs": [],
   "source": [
    "def plot_scatterplot(x_data, y_data, x_label, y_label, title):\n",
    "    fig, ax = plt.subplots()\n",
    "    ax.scatter(x_data, y_data) \n",
    "    ax.set_ylabel(y_label, fontsize=15)\n",
    "    ax.set_xlabel(x_label, fontsize=15)\n",
    "    ax.set_title(title)\n",
    "    plt.savefig(f\"etf/{title}F.svg\")\n",
    "    plt.show() \n",
    "\n",
    "def plot_scatterplot2(x_data, y_data, x_label, y_label, title, file_name):\n",
    "    fig, ax = plt.subplots()\n",
    "    ax.scatter(x_data, y_data) \n",
    "    ax.set_ylabel(y_label, fontsize=15)\n",
    "    ax.set_xlabel(x_label, fontsize=15)\n",
    "    ax.set_title(title)\n",
    "    plt.savefig(f\"etf/{file_name}F.svg\")\n",
    "    plt.show() "
   ]
  },
  {
   "cell_type": "code",
   "execution_count": 98,
   "id": "333a0346",
   "metadata": {},
   "outputs": [],
   "source": [
    "def find_ccs2(eigenvectors_holder, n):\n",
    "    components = []\n",
    "    already_solved = []\n",
    "    for current in range(0, n):\n",
    "        if current not in already_solved:\n",
    "            component = [current]\n",
    "            for running in range (current+1, n):\n",
    "                if running not in already_solved:\n",
    "                    b = True\n",
    "                    for tracer in range(0, len(eigenvectors_holder)):\n",
    "                        eigenvector = eigenvectors_holder[tracer]\n",
    "                        if not in_range(eigenvector[current], eigenvector[running], math.pow(10,-12)):\n",
    "                            b = False\n",
    "                    if b:\n",
    "                        component.append(running)\n",
    "                        already_solved.append(running)\n",
    "            already_solved.append(current)\n",
    "            components.append(component)\n",
    "    return components"
   ]
  },
  {
   "cell_type": "code",
   "execution_count": 99,
   "id": "62d0e10c",
   "metadata": {},
   "outputs": [],
   "source": [
    "def get_components3(L, component_number):\n",
    "    \n",
    "    evals, evecs = linalg.eig(L) # each column of evecs is an eigenvector\n",
    "\n",
    "    # take only real component of each eigenvalue, because eigenvalues of L are guaranteed to be real \n",
    "    evals = evals.real\n",
    "\n",
    "    # take only real component of each eigenvector, because eigenvectors of L are guaranteed to be real \n",
    "    evecs_temp = []\n",
    "    for e in evecs:\n",
    "        v = e.real\n",
    "        evecs_temp.append(v)    \n",
    "    evecs = evecs_temp\n",
    "    \n",
    "    evecs_horizontal_container = np.array(evecs).T #each row is an eigenvector\n",
    "\n",
    "    zipped = list(zip(evals, evecs_horizontal_container)) # pair eigenvalues and eigenvectors into eigenpairs\n",
    "    zipped.sort(key=lambda tup: tup[0]) # sort eigenpairs by eigenvalue\n",
    "    evals, evecs = zip(*zipped) # evecs is now horizontal, but ordered by paired eigenvalue size\n",
    "    eigenspace0_basis = evecs[:component_number] # take only the first component_number eigenvectors \n",
    "    #eigenspace0_basis = filter_matrix(eigenspace0_basis, math.pow(10, -15)) # filter values close to 0\n",
    "\n",
    "    return find_ccs2(eigenspace0_basis, len(eigenspace0_basis[0]))"
   ]
  },
  {
   "cell_type": "code",
   "execution_count": null,
   "id": "b395cd78",
   "metadata": {},
   "outputs": [],
   "source": [
    "\n",
    "# read the multigraph\n",
    "#G = GSNet\n",
    "# create weighted graph G2 from multigraph G\n",
    "G2 = nx.Graph()\n",
    "for u,v,data in GSNet.edges(data=True):\n",
    "    w = data['weight'] if 'weight' in data else 1.0\n",
    "    if G2.has_edge(u,v):\n",
    "        G2[u][v]['weight'] += w\n",
    "    else:\n",
    "        G2.add_edge(u, v, weight=w)\n",
    "\n",
    "zaposleni_multigraf = set(G2.nodes)\n",
    "\n",
    "print(\"Izolovani cvorovi:\")\n",
    "for z in GSNet.nodes:\n",
    "    if z not in zaposleni_multigraf:\n",
    "        G2.add_node(z)\n",
    "        print(z)\n",
    "\n",
    "\n",
    "#print(G2.edges(data=True))\n",
    "\n",
    "#nx.write_pajek(G2, \"etf/agregirano_etf.net\")\n",
    "# [(1, 2, {'weight': 26}), (2, 3, {'weight': 42})]"
   ]
  },
  {
   "cell_type": "code",
   "execution_count": 101,
   "id": "8419ac61",
   "metadata": {},
   "outputs": [
    {
     "name": "stderr",
     "output_type": "stream",
     "text": [
      "C:\\Users\\Sandra\\anaconda3\\lib\\site-packages\\pandas\\core\\dtypes\\cast.py:1097: ComplexWarning: Casting complex values to real discards the imaginary part\n",
      "  return arr.astype(dtype, copy=True)\n"
     ]
    },
    {
     "name": "stdout",
     "output_type": "stream",
     "text": [
      "     k  lambda_k\n",
      "0    1       0.0\n",
      "1    2       0.0\n",
      "2    3       0.0\n",
      "3    4       0.0\n",
      "4    5       0.0\n",
      "5    6       0.0\n",
      "6    7       0.0\n",
      "7    8       0.0\n",
      "8    9       0.0\n",
      "9   10       0.0\n",
      "10  11       0.0\n",
      "11  12       0.0\n",
      "12  13       0.0\n",
      "13  14       0.0\n",
      "14  15       0.0\n",
      "15  16       0.0\n",
      "16  17       0.0\n",
      "17  18       0.0\n",
      "18  19       0.0\n",
      "19  20       0.0\n",
      "20  21       0.0\n",
      "21  22       0.0\n",
      "22  23       0.0\n",
      "23  24       0.0\n",
      "24  25       0.0\n",
      "25  26       0.0\n",
      "26  27       0.0\n",
      "27  28       0.0\n",
      "28  29       0.0\n",
      "29  30       0.0\n"
     ]
    },
    {
     "name": "stderr",
     "output_type": "stream",
     "text": [
      "C:\\Users\\Sandra\\anaconda3\\lib\\site-packages\\numpy\\core\\_asarray.py:171: ComplexWarning: Casting complex values to real discards the imaginary part\n",
      "  return array(a, dtype, copy=False, order=order, subok=True)\n"
     ]
    },
    {
     "data": {
      "image/png": "[encoded data removed]",
      "text/plain": [
       "<Figure size 576x576 with 1 Axes>"
      ]
     },
     "metadata": {
      "needs_background": "light"
     },
     "output_type": "display_data"
    }
   ],
   "source": [
    "\n",
    "L = nx.laplacian_matrix(G2).toarray()\n",
    "\n",
    "eigenvalues = linalg.eigvals(L) # TODO: change to .eigenvalsh because we know the matrix is symmetric\n",
    "eigenvalues.sort()\n",
    "enumerator = np.array(range(1, len(eigenvalues)+1))\n",
    "df_eig = pd.DataFrame(list(zip(enumerator, eigenvalues)))\n",
    "\n",
    "# write eigenvalue table\n",
    "df_eig30 = df_eig[:30]\n",
    "df_eig30.columns = ['k', 'lambda_k']\n",
    "df_eig30 = df_eig30.astype({'k': 'int32', 'lambda_k':'float'})\n",
    "print(df_eig30)\n",
    "\n",
    "#doc = Document()\n",
    "doc = Document('etf/tabela_eig2.docx')\n",
    "t = doc.add_table(df_eig30.shape[0]+1, df_eig30.shape[1])\n",
    "t.cell(0,0).text = r'$k$'\n",
    "t.cell(0,1).text = r'$\\lambda_k$'\n",
    "for i in range(df_eig30.shape[0]):\n",
    "    for j in range(df_eig30.shape[-1]):\n",
    "        t.cell(i+1,j).text = str(df_eig30.values[i,j])\n",
    "doc.save('etf/tabela_eig2.docx')\n",
    "\n",
    "\n",
    "\n",
    "\n",
    "plot_scatterplot(enumerator, eigenvalues, r'$k$', r'$\\lambda_k$', 'Ceo spektar graf laplasijana')"
   ]
  },
  {
   "cell_type": "code",
   "execution_count": 104,
   "id": "c1fb5b2a",
   "metadata": {},
   "outputs": [
    {
     "data": {
      "image/png": "[encoded data removed]",
      "text/plain": [
       "<Figure size 576x576 with 1 Axes>"
      ]
     },
     "metadata": {
      "needs_background": "light"
     },
     "output_type": "display_data"
    }
   ],
   "source": [
    "# prvih 30 sopstvenih vrednosti\n",
    "\n",
    "df_eig_100 = df_eig[:1000]\n",
    "\n",
    "plot_scatterplot(df_eig_100.iloc[:,0], df_eig_100.iloc[:,1], r'$k$', r'$\\lambda_k$', 'Prvih 1000 sopstvenih vrednosti graf laplasijana')\n"
   ]
  },
  {
   "cell_type": "code",
   "execution_count": null,
   "id": "96522643",
   "metadata": {},
   "outputs": [],
   "source": [
    "# eigengap\n",
    "\n",
    "\n",
    "df_gap = df_eig.iloc[:,1].diff()\n",
    "df_gap = df_gap.astype(np.float64)\n",
    "\n",
    "df_gap = df_gap[1:]\n",
    "enumerator_column = np.array(range(1, len(df_gap)+1))\n",
    "\n",
    "df_gap = pd.DataFrame(list(zip(enumerator_column, df_gap)))\n",
    "  \n",
    "plot_scatterplot(df_gap.iloc[:,0], df_gap.iloc[:,1], r'$k$', r'$\\lambda_{k+1}-\\lambda_k$','Eigengap')\n",
    "\n",
    "plot_scatterplot(df_gap.iloc[:30,0], df_gap.iloc[:30,1], r'$k$', r'$\\lambda_{k+1}-\\lambda_k$','Eigengap prvih 30 sopstvenih vrednosti graf laplasijana')"
   ]
  },
  {
   "cell_type": "code",
   "execution_count": 105,
   "id": "779badf4",
   "metadata": {},
   "outputs": [],
   "source": [
    "def get_components2(L, component_number):\n",
    "    \n",
    "    evals, evecs = linalg.eig(L) # each column of evecs is an eigenvector\n",
    "\n",
    "    # take only real component of each eigenvalue, because eigenvalues of L are guaranteed to be real \n",
    "    evals = evals.real\n",
    "\n",
    "    # take only real component of each eigenvector, because eigenvectors of L are guaranteed to be real \n",
    "    evecs_temp = []\n",
    "    for e in evecs:\n",
    "        v = e.real\n",
    "        evecs_temp.append(v)    \n",
    "    evecs = evecs_temp\n",
    "    \n",
    "    evecs_horizontal_container = np.array(evecs).T #each row is an eigenvector\n",
    "\n",
    "    zipped = list(zip(evals, evecs_horizontal_container)) # pair eigenvalues and eigenvectors into eigenpairs\n",
    "    zipped.sort(key=lambda tup: tup[0]) # sort eigenpairs by eigenvalue\n",
    "    evals, evecs = zip(*zipped) # evecs is now horizontal, but ordered by paired eigenvalue size\n",
    "    eigenspace0_basis = evecs[:component_number] # take only the first component_number eigenvectors \n",
    "    #eigenspace0_basis = filter_matrix(eigenspace0_basis, math.pow(10, -15)) # filter values close to 0\n",
    "\n",
    "    #print(\"EVM:\")\n",
    "    #EV_mat = np.array(list(eigenspace0_basis)).T\n",
    "    #print(pd.DataFrame(EV_mat))\n",
    "    \n",
    "    IV_rref, _ = sympy.Matrix(eigenspace0_basis).rref()\n",
    "    print(IV_rref)\n",
    "    \n",
    "    \n",
    "    # transformation into indicator vectors\n",
    "    #indicator_vector_container = []\n",
    "    #for eigenvector in eigenspace0_basis:\n",
    "        \n",
    "    #    max_component = max([abs(c) for c in eigenvector])\n",
    "    #    indicator_vector = [abs(c/max_component) for c in eigenvector] # normalization to 1's and 0's\n",
    "    #    indicator_vector_container.append(indicator_vector)\n",
    "    \n",
    "    #print(\"Indicator vector matrix:\")\n",
    "    IV_mat = np.array(IV_rref).T\n",
    "    #print(pd.DataFrame(IV_mat))\n",
    "        \n",
    "    components = []\n",
    "    IV_rref = np.array(IV_rref)\n",
    "    for iv in IV_rref:\n",
    "        component = []\n",
    "        for i, c in enumerate(iv):\n",
    "            if in_range(c, 1.0, math.pow(10, -12)):\n",
    "                component.append(i)\n",
    "        components.append(component)\n",
    "    \n",
    "    return components"
   ]
  },
  {
   "cell_type": "code",
   "execution_count": 106,
   "id": "901b6f38",
   "metadata": {},
   "outputs": [],
   "source": [
    "def in_range(value, target, tolerated_error):\n",
    "    return abs(value-target) < tolerated_error\n",
    "\n",
    "def filter_matrix(m, tolerated_error):\n",
    "    new_matrix = []\n",
    "    for row in m:\n",
    "        new_row = []\n",
    "        for value in row:\n",
    "            if in_range(0 , value, tolerated_error):\n",
    "                new_row.append(0.0)\n",
    "            else:\n",
    "                new_row.append(value)\n",
    "        new_matrix.append(new_row)\n",
    "    return new_matrix\n",
    "\n",
    "def get_components(L, component_number):\n",
    "    \n",
    "    evals, evecs = linalg.eig(L) # each column of evecs is an eigenvector\n",
    "\n",
    "    # take only real component of each eigenvalue, because eigenvalues of L are guaranteed to be real \n",
    "    evals = evals.real\n",
    "\n",
    "    # take only real component of each eigenvector, because eigenvectors of L are guaranteed to be real \n",
    "    evecs_temp = []\n",
    "    for e in evecs:\n",
    "        v = e.real\n",
    "        evecs_temp.append(v)    \n",
    "    evecs = evecs_temp\n",
    "    \n",
    "    evecs_horizontal_container = np.array(evecs).T #each row is an eigenvector\n",
    "\n",
    "    zipped = list(zip(evals, evecs_horizontal_container)) # pair eigenvalues and eigenvectors into eigenpairs\n",
    "    zipped.sort(key=lambda tup: tup[0]) # sort eigenpairs by eigenvalue\n",
    "    evals, evecs = zip(*zipped) # evecs is now horizontal, but ordered by paired eigenvalue size\n",
    "    eigenspace0_basis = evecs[:component_number] # take only the first component_number eigenvectors \n",
    "\n",
    "\n",
    "    print(\"EVM:\")\n",
    "    EV_mat = np.array(list(eigenspace0_basis)).T\n",
    "    print(pd.DataFrame(EV_mat))\n",
    "    \n",
    "    # transformation into indicator vectors\n",
    "    indicator_vector_container = []\n",
    "    for eigenvector in eigenspace0_basis:\n",
    "        \n",
    "        max_component = max([abs(c) for c in eigenvector])\n",
    "        indicator_vector = [abs(c/max_component) for c in eigenvector] # normalization to 1's and 0's\n",
    "        indicator_vector_container.append(indicator_vector)\n",
    "    \n",
    "    print(\"Indicator vector matrix:\")\n",
    "    IV_mat = np.array(indicator_vector_container).T\n",
    "    print(pd.DataFrame(IV_mat))\n",
    "        \n",
    "    components = []\n",
    "    for iv in indicator_vector_container:\n",
    "        component = []\n",
    "        for i, c in enumerate(iv):\n",
    "            if in_range(c, 1.0, math.pow(10, -12)):\n",
    "                component.append(i)\n",
    "        components.append(component)\n",
    "    \n",
    "    return components\n"
   ]
  },
  {
   "cell_type": "code",
   "execution_count": null,
   "id": "30b5e811",
   "metadata": {},
   "outputs": [],
   "source": [
    "#test\n",
    "W = [[0,0,0,0,0,0], [0,0,1,0,0,0,], [0,1,0,0,0,0,], [0,0,0,0,1,1],[0,0,0,1,0,1],[0,0,0,1,1,0]]\n",
    "D = np.diag([0,1,1,2,2,2])\n",
    "Test_L = D - np.array(W)\n",
    "get_components3(Test_L,3)"
   ]
  },
  {
   "cell_type": "code",
   "execution_count": 107,
   "id": "58e7b417",
   "metadata": {},
   "outputs": [
    {
     "name": "stdout",
     "output_type": "stream",
     "text": [
      "[4153, 1, 1, 1, 1, 1, 1, 1, 1, 1, 1, 1, 1, 1, 1, 1, 1, 1, 1, 1, 1, 1]\n",
      "4174\n"
     ]
    }
   ],
   "source": [
    "# partition G2 to components\n",
    "components = get_components3(L, 21)\n",
    "\n",
    "#print(components)\n",
    "component_sizes = [len(c) for c in components]\n",
    "print(component_sizes)\n",
    "print(sum(component_sizes))\n",
    "zipped = list(zip(component_sizes, components)) # pair component sizes and components\n",
    "zipped.sort(key=lambda tup: tup[0], reverse = True) # sort pairs by component size\n",
    "component_sizes, components = zip(*zipped) \n",
    "#print(component_sizes)\n",
    "#print(sum(component_sizes))\n",
    "\n",
    "dominant_component_indexes = components[0]\n",
    "\n",
    "dominant_component_labels = []\n",
    "for i, label in enumerate(list(G2.nodes())):\n",
    "    if i in dominant_component_indexes:\n",
    "        dominant_component_labels.append(label)\n",
    "\n",
    "#print(dominant_component_indexes)\n",
    "#print(dominant_component_labels)"
   ]
  },
  {
   "cell_type": "code",
   "execution_count": 108,
   "id": "c71bc77f",
   "metadata": {},
   "outputs": [
    {
     "name": "stderr",
     "output_type": "stream",
     "text": [
      "C:\\Users\\Sandra\\anaconda3\\lib\\site-packages\\sklearn\\manifold\\_spectral_embedding.py:245: UserWarning: Graph is not fully connected, spectral embedding may not work as expected.\n",
      "  warnings.warn(\"Graph is not fully connected, spectral embedding\"\n"
     ]
    },
    {
     "name": "stdout",
     "output_type": "stream",
     "text": [
      "Podela na 2: velicine komponenata su [2112 2041]\n",
      "Podela na 3: velicine komponenata su [2045   71 2037]\n",
      "Podela na 4: velicine komponenata su [2065 1999   20   69]\n",
      "Podela na 5: velicine komponenata su [1965   61   44 2052   31]\n",
      "Podela na 6: velicine komponenata su [2000   52   19   17   59 2006]\n",
      "Podela na 7: velicine komponenata su [2002   30   23   53   16 2011   18]\n",
      "Podela na 8: velicine komponenata su [1969   72   32 2042    0   13   16    9]\n",
      "Podela na 9: velicine komponenata su [  48   41   13 2007    4 2018    7    0   15]\n",
      "Podela na 10: velicine komponenata su [1980   38   16    9   35   17 2042    7    2    7]\n",
      "Podela na 11: velicine komponenata su [2004   38    8   14    5   17 2015    9    0    6   37]\n",
      "Podela na 12: velicine komponenata su [1992    9   40    7    6   11   36   13    5    5 2029    0]\n",
      "Podela na 13: velicine komponenata su [2014   10    5   15   56 2012   15    8    7    0    0    0   11]\n",
      "Podela na 14: velicine komponenata su [2036   40    5   12    6   22   15   11    5   15    0 1974    7    5]\n",
      "Podela na 15: velicine komponenata su [   4    0    6   16   21   15    9 2041    6   28    0    5 1966   28\n",
      "    8]\n",
      "Podela na 16: velicine komponenata su [1975   35    8    4    8    8    5    4 2036   15   17    4   26    8\n",
      "    0    0]\n",
      "Podela na 17: velicine komponenata su [2009   33    7    5    7    4    5    8   15    4   19    7   22 2003\n",
      "    3    2    0]\n",
      "Podela na 18: velicine komponenata su [2049    8   40    7   15    8    5   24    7    4    4 1963    6    2\n",
      "    0    3    4    4]\n",
      "Podela na 19: velicine komponenata su [2033    3    8   17   11    4   45    7    6    7 1974    5    3    6\n",
      "    1    0   13    7    3]\n",
      "Podela na 20: velicine komponenata su [1972   42   14    6   21    3    5    7    5    5    3    9    4    5\n",
      " 2037    0    0    6    4    5]\n",
      "Podela na 21: velicine komponenata su [2082    5    3    5    9    5    3   14    4   21    5   30    2   16\n",
      "    3    5 1925    4    0    7    5]\n",
      "Podela na 22: velicine komponenata su [1970   30    7    4    4    3   15    3    4    6   11    7    3    7\n",
      "    5 2041    5   13   10    1    4    0]\n",
      "Podela na 23: velicine komponenata su [1940    3   12    9    8    5    7    5    3   23    3 2065    4    6\n",
      "   13    3    5    8    3   14    0    0   14]\n",
      "Podela na 24: velicine komponenata su [1975    3    7    5    5    6   10    8   22    4    3   13    6   27\n",
      "    4    3    4    0 2035    5    3    2    0    3]\n",
      "Podela na 25: velicine komponenata su [1974   13    4    8    4    6   13   24    9   14    3    4    4    3\n",
      "    8    0    9    6    5    2    0    1    0    5 2034]\n",
      "Podela na 26: velicine komponenata su [1971   28    2   13    4   10    5    9    7    4    4   10    6    4\n",
      "    4    3    8   10    4    5    4 2034    1    0    3    0]\n",
      "Podela na 27: velicine komponenata su [2023    6   31   12    7   13    4    6    2 1983    6    6    7    3\n",
      "    5    3    4    2    4    4    0    2    2    4    6    6    2]\n",
      "Podela na 28: velicine komponenata su [1989    7    3    2   13    4    4    4   39    4    4 2017    4    4\n",
      "    5    5    4    6    0    3    5    2    2   12    4    0    1    6]\n",
      "Podela na 29: velicine komponenata su [2063   25    5    2    2    5    3    4    6   12    3    5    5    4\n",
      "    3    3    3   19    3   13    6 1941    0    4    1    6    6    0\n",
      "    1]\n"
     ]
    }
   ],
   "source": [
    "dominant_component = G2.subgraph(dominant_component_labels)\n",
    "for k in range(2, 30):\n",
    "    \n",
    "    clustering = SpectralClustering(n_clusters=k,\n",
    "    assign_labels=\"discretize\", affinity=\"precomputed\").fit(nx.adjacency_matrix(dominant_component))\n",
    "\n",
    "    colors = clustering.labels_\n",
    "    c_string = []\n",
    "    for c in colors:\n",
    "        c_string.append(str(c))\n",
    "\n",
    "    G = nx.Graph()\n",
    "    for c, label in zip(c_string, dominant_component.nodes()):\n",
    "        G.add_node(label, color=c)\n",
    "\n",
    "    for edge in dominant_component.edges(data=True):\n",
    "        #print(edge)\n",
    "        G.add_edge(edge[0], edge[1], weight=edge[2]['weight'])\n",
    "\n",
    "    # nx.write_pajek(G, \"etf/spectral3.net\")\n",
    "    #nx.write_gml(G, f\"etf/spectral/spectral{k}.gml\")\n",
    "    \n",
    "    csizes = np.zeros(k)\n",
    "    for c in colors:\n",
    "        csizes[int(c)] += 1\n",
    "    \n",
    "    print(f\"Podela na {k}: velicine komponenata su {csizes.astype(int)}\")"
   ]
  },
  {
   "cell_type": "markdown",
   "id": "dfe3a72b",
   "metadata": {},
   "source": [
    "## Louvain metod"
   ]
  },
  {
   "cell_type": "markdown",
   "id": "85cbe3b9",
   "metadata": {},
   "source": [
    "Ako je postavljena rezolucija 0.9"
   ]
  },
  {
   "cell_type": "code",
   "execution_count": 57,
   "id": "764ce148",
   "metadata": {},
   "outputs": [
    {
     "name": "stdout",
     "output_type": "stream",
     "text": [
      "        Id                Label  timeset  modularity_class\n",
      "0        0              askXKCD      NaN                 0\n",
      "1        1      AmericanEconomy      NaN                 1\n",
      "2        2          electronics      NaN                 2\n",
      "3        3               Boxing      NaN                 3\n",
      "4        4                  nyc      NaN                 4\n",
      "...    ...                  ...      ...               ...\n",
      "4169  4169               emerfv      NaN              4019\n",
      "4170  4170             freebies      NaN              4020\n",
      "4171  4171             Zinemaya      NaN              4021\n",
      "4172  4172                flash      NaN              4022\n",
      "4173  4173  vitaminsforhairloss      NaN              4023\n",
      "\n",
      "[4174 rows x 4 columns]\n"
     ]
    }
   ],
   "source": [
    "df_mod1 = pd.read_csv(\"data1/modularnost0.9-SNetF.csv\")\n",
    "print(df_mod1)"
   ]
  },
  {
   "cell_type": "code",
   "execution_count": 58,
   "id": "f8c6c720",
   "metadata": {},
   "outputs": [
    {
     "name": "stdout",
     "output_type": "stream",
     "text": [
      "                  broj_sabredit\n",
      "modularity_class               \n",
      "1278                         83\n",
      "2666                         51\n",
      "3287                         19\n",
      "0                             1\n",
      "2675                          1\n",
      "2676                          1\n",
      "2677                          1\n",
      "2678                          1\n",
      "2679                          1\n",
      "2680                          1\n"
     ]
    }
   ],
   "source": [
    "df_grupisi_mod=df_mod1.groupby('modularity_class')\n",
    "data_agregiraj=df_grupisi_mod['Label'].agg(broj_sabredit=np.size)\n",
    "print(data_agregiraj.sort_values(ascending=False, by='broj_sabredit')[0:10])"
   ]
  },
  {
   "cell_type": "code",
   "execution_count": 59,
   "id": "64d06f42",
   "metadata": {},
   "outputs": [
    {
     "name": "stdout",
     "output_type": "stream",
     "text": [
      "      Id                Label  timeset  modularity_class\n",
      "59    59             Military      NaN              1278\n",
      "192  192                  ads      NaN              1278\n",
      "207  207                  DIY      NaN              1278\n",
      "274  274             collapse      NaN              1278\n",
      "334  334               Python      NaN              1278\n",
      "341  341                   ru      NaN              1278\n",
      "408  408         productivity      NaN              1278\n",
      "425  425               iphone      NaN              1278\n",
      "454  454               google      NaN              1278\n",
      "600  600           newreddits      NaN              1278\n",
      "601  601            worldnews      NaN              1278\n",
      "630  630            bicycling      NaN              1278\n",
      "686  686                   de      NaN              1278\n",
      "713  713              haskell      NaN              1278\n",
      "830  830            australia      NaN              1278\n",
      "842  842            feminisms      NaN              1278\n",
      "894  894               nature      NaN              1278\n",
      "898  898                   fr      NaN              1278\n",
      "942  942           javascript      NaN              1278\n",
      "961  961  WeAreTheMusicMakers      NaN              1278\n"
     ]
    }
   ],
   "source": [
    "print(df_mod1[df_mod1['modularity_class']==1278].head(20))"
   ]
  },
  {
   "cell_type": "code",
   "execution_count": 60,
   "id": "fb1e23ee",
   "metadata": {},
   "outputs": [
    {
     "name": "stdout",
     "output_type": "stream",
     "text": [
      "        Id          Label  timeset  modularity_class\n",
      "98      98            Art      NaN              2666\n",
      "327    327         Health      NaN              2666\n",
      "333    333          space      NaN              2666\n",
      "397    397          Bacon      NaN              2666\n",
      "433    433     conspiracy      NaN              2666\n",
      "435    435         bestof      NaN              2666\n",
      "572    572           food      NaN              2666\n",
      "583    583          Drugs      NaN              2666\n",
      "616    616     web_design      NaN              2666\n",
      "739    739          video      NaN              2666\n",
      "801    801         Frugal      NaN              2666\n",
      "812    812           geek      NaN              2666\n",
      "840    840         videos      NaN              2666\n",
      "1101  1101    Libertarian      NaN              2666\n",
      "1114  1114        history      NaN              2666\n",
      "1209  1209    environment      NaN              2666\n",
      "1233  1233  worldpolitics      NaN              2666\n",
      "1383  1383            aww      NaN              2666\n",
      "1392  1392        lolcats      NaN              2666\n",
      "1495  1495          linux      NaN              2666\n"
     ]
    }
   ],
   "source": [
    "print(df_mod1[df_mod1['modularity_class']==2666].head(20))"
   ]
  },
  {
   "cell_type": "markdown",
   "id": "bbdee914",
   "metadata": {},
   "source": [
    "Ako je postavljena rezolucija 1.0"
   ]
  },
  {
   "cell_type": "code",
   "execution_count": 61,
   "id": "f9bfffd8",
   "metadata": {
    "scrolled": true
   },
   "outputs": [
    {
     "name": "stdout",
     "output_type": "stream",
     "text": [
      "        Id                Label  timeset  modularity_class\n",
      "0        0              askXKCD      NaN                 0\n",
      "1        1      AmericanEconomy      NaN                 1\n",
      "2        2          electronics      NaN                 2\n",
      "3        3               Boxing      NaN                 3\n",
      "4        4                  nyc      NaN                 4\n",
      "...    ...                  ...      ...               ...\n",
      "4169  4169               emerfv      NaN              4018\n",
      "4170  4170             freebies      NaN              4019\n",
      "4171  4171             Zinemaya      NaN              4020\n",
      "4172  4172                flash      NaN              4021\n",
      "4173  4173  vitaminsforhairloss      NaN              4022\n",
      "\n",
      "[4174 rows x 4 columns]\n"
     ]
    }
   ],
   "source": [
    "df_mod1_2 = pd.read_csv(\"data1/modularnost1-SNetF.csv\")\n",
    "print(df_mod1_2)"
   ]
  },
  {
   "cell_type": "code",
   "execution_count": 62,
   "id": "00083c47",
   "metadata": {
    "scrolled": true
   },
   "outputs": [
    {
     "name": "stdout",
     "output_type": "stream",
     "text": [
      "                  broj_sabredit\n",
      "modularity_class               \n",
      "3286                         87\n",
      "1278                         66\n",
      "0                             1\n",
      "2672                          1\n",
      "2674                          1\n",
      "2675                          1\n",
      "2676                          1\n",
      "2677                          1\n",
      "2678                          1\n",
      "2679                          1\n"
     ]
    }
   ],
   "source": [
    "df_grupisi_mod=df_mod1_2.groupby('modularity_class')\n",
    "data_agregiraj=df_grupisi_mod['Label'].agg(broj_sabredit=np.size)\n",
    "print(data_agregiraj.sort_values(ascending=False, by='broj_sabredit')[0:10])"
   ]
  },
  {
   "cell_type": "code",
   "execution_count": 63,
   "id": "2b714285",
   "metadata": {},
   "outputs": [
    {
     "name": "stdout",
     "output_type": "stream",
     "text": [
      "      Id         Label  timeset  modularity_class\n",
      "59    59      Military      NaN              3286\n",
      "192  192           ads      NaN              3286\n",
      "207  207           DIY      NaN              3286\n",
      "274  274      collapse      NaN              3286\n",
      "334  334        Python      NaN              3286\n",
      "341  341            ru      NaN              3286\n",
      "408  408  productivity      NaN              3286\n",
      "425  425        iphone      NaN              3286\n",
      "436  436        Design      NaN              3286\n",
      "454  454        google      NaN              3286\n",
      "600  600    newreddits      NaN              3286\n",
      "601  601     worldnews      NaN              3286\n",
      "630  630     bicycling      NaN              3286\n",
      "686  686            de      NaN              3286\n",
      "713  713       haskell      NaN              3286\n",
      "830  830     australia      NaN              3286\n",
      "842  842     feminisms      NaN              3286\n",
      "894  894        nature      NaN              3286\n",
      "898  898            fr      NaN              3286\n",
      "942  942    javascript      NaN              3286\n"
     ]
    }
   ],
   "source": [
    "print(df_mod1_2[df_mod1_2['modularity_class']==3286].head(20))"
   ]
  },
  {
   "cell_type": "code",
   "execution_count": 64,
   "id": "d682135b",
   "metadata": {},
   "outputs": [
    {
     "name": "stdout",
     "output_type": "stream",
     "text": [
      "        Id        Label  timeset  modularity_class\n",
      "98      98          Art      NaN              1278\n",
      "327    327       Health      NaN              1278\n",
      "333    333        space      NaN              1278\n",
      "397    397        Bacon      NaN              1278\n",
      "433    433   conspiracy      NaN              1278\n",
      "435    435       bestof      NaN              1278\n",
      "572    572         food      NaN              1278\n",
      "583    583        Drugs      NaN              1278\n",
      "616    616   web_design      NaN              1278\n",
      "620    620    Economics      NaN              1278\n",
      "739    739        video      NaN              1278\n",
      "778    778   MensRights      NaN              1278\n",
      "801    801       Frugal      NaN              1278\n",
      "812    812         geek      NaN              1278\n",
      "835    835        obama      NaN              1278\n",
      "840    840       videos      NaN              1278\n",
      "960    960   government      NaN              1278\n",
      "1101  1101  Libertarian      NaN              1278\n",
      "1114  1114      history      NaN              1278\n",
      "1120  1120    Anarchism      NaN              1278\n"
     ]
    }
   ],
   "source": [
    "print(df_mod1_2[df_mod1_2['modularity_class']==1278].head(20))"
   ]
  },
  {
   "cell_type": "markdown",
   "id": "413f6a44",
   "metadata": {},
   "source": [
    "Ako je rezolucija 2"
   ]
  },
  {
   "cell_type": "code",
   "execution_count": 65,
   "id": "88bc4eb6",
   "metadata": {},
   "outputs": [
    {
     "name": "stdout",
     "output_type": "stream",
     "text": [
      "                  broj_sabredit\n",
      "modularity_class               \n",
      "1278                        153\n",
      "0                             1\n",
      "2672                          1\n",
      "2674                          1\n",
      "2675                          1\n",
      "2676                          1\n",
      "2677                          1\n",
      "2678                          1\n",
      "2679                          1\n",
      "2680                          1\n"
     ]
    }
   ],
   "source": [
    "df_mod5 = pd.read_csv(\"data1/modularnost2-SNetF.csv\")\n",
    "df_grupisi_mod=df_mod5.groupby('modularity_class')\n",
    "data_agregiraj=df_grupisi_mod['Label'].agg(broj_sabredit=np.size)\n",
    "print(data_agregiraj.sort_values(ascending=False, by='broj_sabredit')[0:10])"
   ]
  },
  {
   "cell_type": "code",
   "execution_count": 66,
   "id": "ead3d806",
   "metadata": {},
   "outputs": [
    {
     "name": "stdout",
     "output_type": "stream",
     "text": [
      "      Id         Label  timeset  modularity_class\n",
      "59    59      Military      NaN              1278\n",
      "98    98           Art      NaN              1278\n",
      "192  192           ads      NaN              1278\n",
      "207  207           DIY      NaN              1278\n",
      "274  274      collapse      NaN              1278\n",
      "327  327        Health      NaN              1278\n",
      "333  333         space      NaN              1278\n",
      "334  334        Python      NaN              1278\n",
      "341  341            ru      NaN              1278\n",
      "397  397         Bacon      NaN              1278\n",
      "408  408  productivity      NaN              1278\n",
      "425  425        iphone      NaN              1278\n",
      "433  433    conspiracy      NaN              1278\n",
      "435  435        bestof      NaN              1278\n",
      "436  436        Design      NaN              1278\n",
      "454  454        google      NaN              1278\n",
      "572  572          food      NaN              1278\n",
      "583  583         Drugs      NaN              1278\n",
      "600  600    newreddits      NaN              1278\n",
      "601  601     worldnews      NaN              1278\n"
     ]
    }
   ],
   "source": [
    "print(df_mod5[df_mod5['modularity_class']==1278].head(20))"
   ]
  },
  {
   "cell_type": "code",
   "execution_count": 67,
   "id": "b13c96e3",
   "metadata": {},
   "outputs": [
    {
     "name": "stdout",
     "output_type": "stream",
     "text": [
      "   Id    Label  timeset  modularity_class\n",
      "0   0  askXKCD      NaN                 0\n"
     ]
    }
   ],
   "source": [
    "print(df_mod5[df_mod5['modularity_class']==0].head(20))"
   ]
  },
  {
   "cell_type": "markdown",
   "id": "39ca960f",
   "metadata": {},
   "source": [
    "## Mostovi"
   ]
  },
  {
   "cell_type": "code",
   "execution_count": 68,
   "id": "48f0b592",
   "metadata": {},
   "outputs": [
    {
     "name": "stdout",
     "output_type": "stream",
     "text": [
      "[('ru', 'reddit.com'), ('iphone', 'reddit.com'), ('newreddits', 'reddit.com'), ('de', 'reddit.com'), ('fr', 'reddit.com'), ('reddit.com', 'blogs'), ('reddit.com', 'it'), ('reddit.com', 'egalitarian'), ('reddit.com', 'zh'), ('reddit.com', 'ideas'), ('reddit.com', 'Astronomy'), ('reddit.com', 'education'), ('reddit.com', 'area51'), ('programming', 'lisp'), ('programming', 'cpp')]\n"
     ]
    }
   ],
   "source": [
    "mostovi=nx.bridges(GSNet)\n",
    "mostovi=list(mostovi)\n",
    "print(mostovi)"
   ]
  },
  {
   "cell_type": "code",
   "execution_count": null,
   "id": "ad512475",
   "metadata": {},
   "outputs": [],
   "source": [
    "import matplotlib.image as mpimg\n",
    "plt.rcParams[\"figure.figsize\"] = (8,8)\n",
    "img = mpimg.imread('mostoviSNetF.png')\n",
    "imgplot = plt.imshow(img)\n",
    "plt.show()\n",
    "img = mpimg.imread('mostoviSNetF1.png')\n",
    "imgplot = plt.imshow(img)\n",
    "plt.show()"
   ]
  },
  {
   "cell_type": "code",
   "execution_count": null,
   "id": "85623ed3",
   "metadata": {},
   "outputs": [],
   "source": []
  }
 ],
 "metadata": {
  "kernelspec": {
   "display_name": "Python 3 (ipykernel)",
   "language": "python",
   "name": "python3"
  },
  "language_info": {
   "codemirror_mode": {
    "name": "ipython",
    "version": 3
   },
   "file_extension": ".py",
   "mimetype": "text/x-python",
   "name": "python",
   "nbconvert_exporter": "python",
   "pygments_lexer": "ipython3",
   "version": "3.10.5"
  }
 },
 "nbformat": 4,
 "nbformat_minor": 5
}
