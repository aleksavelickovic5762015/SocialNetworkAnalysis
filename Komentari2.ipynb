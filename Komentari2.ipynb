{
 "cells": [
  {
   "cell_type": "code",
   "execution_count": 2,
   "id": "7d1c7ec8",
   "metadata": {},
   "outputs": [],
   "source": [
    "import pandas as pd"
   ]
  },
  {
   "cell_type": "code",
   "execution_count": null,
   "id": "82112c26",
   "metadata": {
    "scrolled": true
   },
   "outputs": [],
   "source": [
    "data=pd.read_csv(\"data/reddit2008/comments_2008_asm_v1.1/comments_2008/csv-0.csv\").append(pd.read_csv(\"data/reddit2008/comments_2008_asm_v1.1/comments_2008/csv-1.csv\")).append(pd.read_csv(\"data/reddit2008/comments_2008_asm_v1.1/comments_2008/csv-2.csv\")).append(pd.read_csv(\"data/reddit2008/comments_2008_asm_v1.1/comments_2008/csv-3.csv\")).append(pd.read_csv(\"data/reddit2008/comments_2008_asm_v1.1/comments_2008/csv-4.csv\")).append(pd.read_csv(\"data/reddit2008/comments_2008_asm_v1.1/comments_2008/csv-5.csv\")).append(pd.read_csv(\"data/reddit2008/comments_2008_asm_v1.1/comments_2008/csv-6.csv\")).append(pd.read_csv(\"data/reddit2008/comments_2008_asm_v1.1/comments_2008/csv-7.csv\")).append(pd.read_csv(\"data/reddit2008/comments_2008_asm_v1.1/comments_2008/csv-8.csv\")).append(pd.read_csv(\"data/reddit2008/comments_2008_asm_v1.1/comments_2008/csv-9.csv\")).append(pd.read_csv(\"data/reddit2008/comments_2008_asm_v1.1/comments_2008/csv-10.csv\")).append(pd.read_csv(\"data/reddit2008/comments_2008_asm_v1.1/comments_2008/csv-11.csv\"))\n",
    "\n",
    "data.reset_index(drop=True, inplace=True)\n",
    "\n",
    "data = data.iloc[:,1:] #Zanemari Unnamed kolonu\n",
    "print(data)"
   ]
  },
  {
   "cell_type": "code",
   "execution_count": 4,
   "id": "a109d3cb",
   "metadata": {},
   "outputs": [
    {
     "name": "stdout",
     "output_type": "stream",
     "text": [
      "0          False\n",
      "1           True\n",
      "2          False\n",
      "3           True\n",
      "4           True\n",
      "           ...  \n",
      "7242866     True\n",
      "7242867    False\n",
      "7242868     True\n",
      "7242869    False\n",
      "7242870    False\n",
      "Name: author, Length: 7242871, dtype: bool\n",
      "              id     author   link_id\n",
      "1        c02s9s7  [deleted]  t3_647ht\n",
      "3        c02s9s9  [deleted]  t3_648oo\n",
      "4        c02s9sa  [deleted]  t3_648et\n",
      "5        c02s9sb  [deleted]  t3_648iy\n",
      "15       c02s9sl  [deleted]  t3_648et\n",
      "...          ...        ...       ...\n",
      "7242857  c06vwu6  [deleted]  t3_7k76h\n",
      "7242860  c06vwu9  [deleted]  t3_7k6lh\n",
      "7242862  c06vwub  [deleted]  t3_7k8en\n",
      "7242866  c06vwuf  [deleted]  t3_7k8lt\n",
      "7242868  c06vwuh  [deleted]  t3_7k31f\n",
      "\n",
      "[2369181 rows x 3 columns]\n"
     ]
    }
   ],
   "source": [
    "ima_autora=data['author']=='[deleted]'\n",
    "print(ima_autora)\n",
    "data_noAuth=data[ima_autora]\n",
    "labele=['id','author','link_id']\n",
    "data_bezAutora=data_noAuth[labele]\n",
    "print(data_bezAutora)"
   ]
  },
  {
   "cell_type": "code",
   "execution_count": null,
   "id": "68ac8740",
   "metadata": {},
   "outputs": [],
   "source": [
    "print(data['created_utc'])"
   ]
  },
  {
   "cell_type": "code",
   "execution_count": null,
   "id": "7ad3e946",
   "metadata": {},
   "outputs": [],
   "source": [
    "print(data_bezAutora.index.shape[0])\n",
    "print(data_bezAutora['id'])"
   ]
  },
  {
   "cell_type": "code",
   "execution_count": null,
   "id": "4b6ee7b2",
   "metadata": {},
   "outputs": [],
   "source": [
    "data.drop(data[data['author']=='[deleted]'].index, inplace=True)\n",
    "print(data)"
   ]
  },
  {
   "cell_type": "code",
   "execution_count": 8,
   "id": "5678678c",
   "metadata": {},
   "outputs": [
    {
     "name": "stdout",
     "output_type": "stream",
     "text": [
      "True\n",
      "True\n"
     ]
    }
   ],
   "source": [
    "print(data['id'].isnull().values.any())   #Id kolona ima prazne kolone\n",
    "print(data['id'].is_unique)     #Id kolona ima sve jedinstvene vrednosti"
   ]
  },
  {
   "cell_type": "code",
   "execution_count": 9,
   "id": "fcee5170",
   "metadata": {},
   "outputs": [
    {
     "name": "stdout",
     "output_type": "stream",
     "text": [
      "          id     author   link_id parent_id  created_utc   subreddit  \\\n",
      "6422487  NaN  fuzzybunn  t3_7kef0    t1_k7p   1229661971  reddit.com   \n",
      "\n",
      "        subreddit_id  score distinguished  gilded  controversiality  \n",
      "6422487         t5_6      1           NaN       0                 0  \n"
     ]
    }
   ],
   "source": [
    "dataNull=data['id'].isnull()\n",
    "print(data[dataNull])"
   ]
  },
  {
   "cell_type": "code",
   "execution_count": null,
   "id": "1a9b38ed",
   "metadata": {},
   "outputs": [],
   "source": [
    "data.drop(data[dataNull].index, inplace=True)\n",
    "print(data)"
   ]
  },
  {
   "cell_type": "code",
   "execution_count": 11,
   "id": "b5e803f2",
   "metadata": {},
   "outputs": [
    {
     "data": {
      "text/plain": [
       "id                  False\n",
       "author              False\n",
       "link_id             False\n",
       "parent_id           False\n",
       "created_utc         False\n",
       "subreddit           False\n",
       "subreddit_id        False\n",
       "score               False\n",
       "distinguished        True\n",
       "gilded              False\n",
       "controversiality    False\n",
       "dtype: bool"
      ]
     },
     "execution_count": 11,
     "metadata": {},
     "output_type": "execute_result"
    }
   ],
   "source": [
    "data.isna().any()          #sve je u redu, osim za distinguished polje koje moze biti null"
   ]
  },
  {
   "cell_type": "code",
   "execution_count": 12,
   "id": "80793190",
   "metadata": {},
   "outputs": [
    {
     "name": "stdout",
     "output_type": "stream",
     "text": [
      "id                  object\n",
      "author              object\n",
      "link_id             object\n",
      "parent_id           object\n",
      "created_utc          int64\n",
      "subreddit           object\n",
      "subreddit_id        object\n",
      "score                int64\n",
      "distinguished       object\n",
      "gilded               int64\n",
      "controversiality     int64\n",
      "dtype: object\n"
     ]
    }
   ],
   "source": [
    "print(data.dtypes)   #distinguished polje sumnjivo"
   ]
  },
  {
   "cell_type": "code",
   "execution_count": 13,
   "id": "a0b5582f",
   "metadata": {},
   "outputs": [
    {
     "name": "stdout",
     "output_type": "stream",
     "text": [
      "True\n"
     ]
    }
   ],
   "source": [
    "print(data.index.is_unique) #u redu"
   ]
  },
  {
   "cell_type": "code",
   "execution_count": 14,
   "id": "9cdc72f4",
   "metadata": {},
   "outputs": [
    {
     "name": "stdout",
     "output_type": "stream",
     "text": [
      "False\n"
     ]
    }
   ],
   "source": [
    "print(data['id'].isnull().values.any())   #Id kolona nema prazne kolone, u redu"
   ]
  },
  {
   "cell_type": "code",
   "execution_count": 15,
   "id": "952e55cc",
   "metadata": {},
   "outputs": [
    {
     "name": "stdout",
     "output_type": "stream",
     "text": [
      "(4873689, 11)\n"
     ]
    }
   ],
   "source": [
    "print(data.shape)"
   ]
  },
  {
   "cell_type": "markdown",
   "id": "c6bd4ec1",
   "metadata": {},
   "source": [
    "## Čišćenje komentara izbrisanih objava"
   ]
  },
  {
   "cell_type": "code",
   "execution_count": 16,
   "id": "71ba1dae",
   "metadata": {},
   "outputs": [],
   "source": [
    "import pickle"
   ]
  },
  {
   "cell_type": "code",
   "execution_count": 17,
   "id": "5acd6a07",
   "metadata": {},
   "outputs": [],
   "source": [
    "data_comments = data"
   ]
  },
  {
   "cell_type": "code",
   "execution_count": 18,
   "id": "8be9a2d4",
   "metadata": {},
   "outputs": [],
   "source": [
    "with open(\"data/submissions_cleaned\", 'rb') as file:\n",
    "    data_submissions=pickle.load(file)"
   ]
  },
  {
   "cell_type": "code",
   "execution_count": null,
   "id": "77d0f3b8",
   "metadata": {},
   "outputs": [],
   "source": [
    "print(data_submissions)"
   ]
  },
  {
   "cell_type": "code",
   "execution_count": null,
   "id": "e73476b8",
   "metadata": {},
   "outputs": [],
   "source": [
    "print(data_comments)"
   ]
  },
  {
   "cell_type": "code",
   "execution_count": null,
   "id": "e513a509",
   "metadata": {},
   "outputs": [],
   "source": [
    "idObj=data_submissions[['id']]\n",
    "print(idObj)"
   ]
  },
  {
   "cell_type": "code",
   "execution_count": 22,
   "id": "511e3f83",
   "metadata": {},
   "outputs": [],
   "source": [
    "t3Id='t3_'+ idObj"
   ]
  },
  {
   "cell_type": "code",
   "execution_count": null,
   "id": "70d7e517",
   "metadata": {},
   "outputs": [],
   "source": [
    "print(t3Id)"
   ]
  },
  {
   "cell_type": "code",
   "execution_count": 24,
   "id": "5fdebd94",
   "metadata": {},
   "outputs": [],
   "source": [
    "t3Id.rename(columns = {'id':'link_id'}, inplace = True)"
   ]
  },
  {
   "cell_type": "code",
   "execution_count": null,
   "id": "3afaf805",
   "metadata": {},
   "outputs": [],
   "source": [
    "print(t3Id)"
   ]
  },
  {
   "cell_type": "code",
   "execution_count": 26,
   "id": "6a23427c",
   "metadata": {},
   "outputs": [],
   "source": [
    "data_comments1=data_comments.merge(t3Id, how='inner', on='link_id')"
   ]
  },
  {
   "cell_type": "code",
   "execution_count": null,
   "id": "58512092",
   "metadata": {},
   "outputs": [],
   "source": [
    "data_comments1=data_comments1.sort_index()\n",
    "print(data_comments1)    #uklonjeni komentari izbrisanih objava"
   ]
  },
  {
   "cell_type": "code",
   "execution_count": 28,
   "id": "098b4990",
   "metadata": {},
   "outputs": [
    {
     "name": "stdout",
     "output_type": "stream",
     "text": [
      "(3782277, 11)\n"
     ]
    }
   ],
   "source": [
    "print(data_comments1.shape)"
   ]
  },
  {
   "cell_type": "markdown",
   "id": "d4c83e20",
   "metadata": {},
   "source": [
    "## Čišćenje izbrisanih komentara"
   ]
  },
  {
   "cell_type": "code",
   "execution_count": null,
   "id": "107e0721",
   "metadata": {},
   "outputs": [],
   "source": [
    "#kolona id-eva kojoj je dodat prefix 't1_' da bi se uradio presek sa kolonom 'parent_id'\n",
    "idComm='t1_'+data_comments1[['id']]\n",
    "\n",
    "idComm.rename(columns = {'id':'parent_id'}, inplace = True)\n",
    "\n",
    "print(idComm)\n",
    "print(type(idComm))"
   ]
  },
  {
   "cell_type": "code",
   "execution_count": null,
   "id": "ba2e414b",
   "metadata": {},
   "outputs": [],
   "source": [
    "#presek\n",
    "#ocisceni komentari - nakon brisanja komentara ciji je parent_id komentar na obrisanu objavu\n",
    "data_commentsKomentari=data_comments1.merge(idComm, how='inner', on='parent_id')\n",
    "#komentari nad validnim objavama\n",
    "data_commentsObjave = data_comments1[data_comments1[\"parent_id\"].str.contains('t3_')==True]\n",
    "\n",
    "#unija\n",
    "data_commentsOut = pd.concat([data_commentsKomentari, data_commentsObjave])\n",
    "data_commentsOut=data_commentsOut.sort_values(by='created_utc', ascending=True)\n",
    "data_commentsOut.reset_index(drop=True, inplace=True)\n",
    "data_commentsOut=data_commentsOut.sort_index()\n",
    "print(data_commentsOut)"
   ]
  },
  {
   "cell_type": "code",
   "execution_count": 39,
   "id": "b5d41a1d",
   "metadata": {},
   "outputs": [
    {
     "name": "stdout",
     "output_type": "stream",
     "text": [
      "(3209446, 11)\n"
     ]
    }
   ],
   "source": [
    "print(data_commentsOut.shape)"
   ]
  },
  {
   "cell_type": "code",
   "execution_count": 41,
   "id": "457873af",
   "metadata": {},
   "outputs": [],
   "source": [
    "with open(\"data/comments_cleaned\", 'wb') as file:\n",
    "    pickle.dump(data_commentsOut, file)"
   ]
  },
  {
   "cell_type": "code",
   "execution_count": null,
   "id": "74ca2d93",
   "metadata": {},
   "outputs": [],
   "source": []
  }
 ],
 "metadata": {
  "kernelspec": {
   "display_name": "Python 3",
   "language": "python",
   "name": "python3"
  },
  "language_info": {
   "codemirror_mode": {
    "name": "ipython",
    "version": 3
   },
   "file_extension": ".py",
   "mimetype": "text/x-python",
   "name": "python",
   "nbconvert_exporter": "python",
   "pygments_lexer": "ipython3",
   "version": "3.8.8"
  }
 },
 "nbformat": 4,
 "nbformat_minor": 5
}
