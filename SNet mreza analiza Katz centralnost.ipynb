{
 "cells": [
  {
   "cell_type": "markdown",
   "id": "653d69de",
   "metadata": {},
   "source": [
    "## SNet mreža-analiza ##"
   ]
  },
  {
   "cell_type": "code",
   "execution_count": 1,
   "id": "d5aca82a",
   "metadata": {},
   "outputs": [],
   "source": [
    "import networkx as nx\n",
    "import pandas as pd\n",
    "import scipy.stats as stats"
   ]
  },
  {
   "cell_type": "code",
   "execution_count": 2,
   "id": "4e10cdad",
   "metadata": {},
   "outputs": [],
   "source": [
    "input_path = \"models/undirected_count_aggregationSNET.gml\" \n",
    "\n",
    "GSNet = nx.Graph(nx.read_gml(input_path)) "
   ]
  },
  {
   "cell_type": "code",
   "execution_count": null,
   "id": "fc3cce22",
   "metadata": {},
   "outputs": [],
   "source": [
    "GSNet.nodes()"
   ]
  },
  {
   "cell_type": "code",
   "execution_count": 6,
   "id": "78459669",
   "metadata": {},
   "outputs": [
    {
     "name": "stdout",
     "output_type": "stream",
     "text": [
      "4174\n"
     ]
    }
   ],
   "source": [
    "print(len(GSNet))"
   ]
  },
  {
   "cell_type": "code",
   "execution_count": null,
   "id": "73242b63",
   "metadata": {},
   "outputs": [],
   "source": [
    "print(GSNet.edges['geek','reddit.com'])"
   ]
  },
  {
   "cell_type": "markdown",
   "id": "c793532c",
   "metadata": {},
   "source": [
    "## Analiza mera centralnosti ##"
   ]
  },
  {
   "cell_type": "markdown",
   "id": "df82a3f2",
   "metadata": {},
   "source": [
    "### Kacova centralnost ###"
   ]
  },
  {
   "cell_type": "code",
   "execution_count": 13,
   "id": "f2d30609",
   "metadata": {},
   "outputs": [
    {
     "name": "stdout",
     "output_type": "stream",
     "text": [
      "(6.303695910507347e-06+0j)\n"
     ]
    }
   ],
   "source": [
    "lambda_max =  max(nx.adjacency_spectrum(GSNet))\n",
    "print(1/lambda_max)"
   ]
  },
  {
   "cell_type": "code",
   "execution_count": 36,
   "id": "ad60948f",
   "metadata": {},
   "outputs": [
    {
     "name": "stdout",
     "output_type": "stream",
     "text": [
      "                    EVC  EVC_rank\n",
      "reddit.com     0.329240       1.0\n",
      "politics       0.271534       2.0\n",
      "pics           0.251960       3.0\n",
      "funny          0.242294       4.0\n",
      "science        0.236760       5.0\n",
      "technology     0.229609       6.0\n",
      "worldnews      0.223850       7.0\n",
      "WTF            0.219803       8.0\n",
      "entertainment  0.219203       9.0\n",
      "programming    0.191728      10.0\n",
      "                EVC  EVC_rank\n",
      "reddit.com  0.32924       1.0\n"
     ]
    }
   ],
   "source": [
    "KatzC_dict = nx.katz_centrality(GSNet, alpha=0.000006, beta=1.0, max_iter=1000, tol=1e-06, nstart=None, normalized=True, weight='weight')\n",
    "df_katzc = pd.DataFrame.from_dict(KatzC_dict, orient='index', columns=['EVC'])\n",
    "df_katzc['EVC_rank']=df_katzc['EVC'].rank(ascending=False) \n",
    "print(df_katzc.sort_values(by='EVC', ascending=False).head(10))\n",
    "print(df_katzc[df_katzc.index=='reddit.com']) #za beta=1"
   ]
  },
  {
   "cell_type": "code",
   "execution_count": 38,
   "id": "f1c1bcca",
   "metadata": {},
   "outputs": [],
   "source": [
    "import pickle\n",
    "with open(\"data1/katz_b=1\", 'wb') as file:\n",
    "    pickle.dump(df_katzc, file)"
   ]
  },
  {
   "cell_type": "code",
   "execution_count": 42,
   "id": "05d6dcf6",
   "metadata": {},
   "outputs": [
    {
     "name": "stdout",
     "output_type": "stream",
     "text": [
      "                    EVC  EVC_rank\n",
      "reddit.com     0.329248       1.0\n",
      "politics       0.271540       2.0\n",
      "pics           0.251965       3.0\n",
      "funny          0.242300       4.0\n",
      "science        0.236765       5.0\n",
      "technology     0.229614       6.0\n",
      "worldnews      0.223855       7.0\n",
      "WTF            0.219807       8.0\n",
      "entertainment  0.219208       9.0\n",
      "programming    0.191732      10.0\n",
      "                 EVC  EVC_rank\n",
      "reddit.com  0.329248       1.0\n"
     ]
    }
   ],
   "source": [
    "KatzC_dict = nx.katz_centrality(GSNet, alpha=0.000006, beta=5.0, max_iter=1000, tol=1e-06, nstart=None, normalized=True, weight='weight')\n",
    "df_katzc = pd.DataFrame.from_dict(KatzC_dict, orient='index', columns=['EVC'])\n",
    "df_katzc['EVC_rank']=df_katzc['EVC'].rank(ascending=False) \n",
    "print(df_katzc.sort_values(by='EVC', ascending=False).head(10))\n",
    "print(df_katzc[df_katzc.index=='reddit.com']) #za beta=5\n",
    "with open(\"data1/katz_b=5\", 'wb') as file:\n",
    "    pickle.dump(df_katzc, file)"
   ]
  },
  {
   "cell_type": "code",
   "execution_count": 43,
   "id": "136fcf1b",
   "metadata": {},
   "outputs": [
    {
     "name": "stdout",
     "output_type": "stream",
     "text": [
      "                    EVC  EVC_rank\n",
      "reddit.com     0.329249       1.0\n",
      "politics       0.271541       2.0\n",
      "pics           0.251966       3.0\n",
      "funny          0.242300       4.0\n",
      "science        0.236766       5.0\n",
      "technology     0.229615       6.0\n",
      "worldnews      0.223856       7.0\n",
      "WTF            0.219808       8.0\n",
      "entertainment  0.219209       9.0\n",
      "programming    0.191732      10.0\n",
      "                 EVC  EVC_rank\n",
      "reddit.com  0.329249       1.0\n"
     ]
    }
   ],
   "source": [
    "KatzC_dict = nx.katz_centrality(GSNet, alpha=0.000006, beta=12.0, max_iter=1000, tol=1e-06, nstart=None, normalized=True, weight='weight')\n",
    "df_katzc = pd.DataFrame.from_dict(KatzC_dict, orient='index', columns=['EVC'])\n",
    "df_katzc['EVC_rank']=df_katzc['EVC'].rank(ascending=False) \n",
    "print(df_katzc.sort_values(by='EVC', ascending=False).head(10))\n",
    "print(df_katzc[df_katzc.index=='reddit.com']) #za beta=12\n",
    "with open(\"data1/katz_b=12\", 'wb') as file:\n",
    "    pickle.dump(df_katzc, file)"
   ]
  },
  {
   "cell_type": "code",
   "execution_count": 44,
   "id": "a360484c",
   "metadata": {},
   "outputs": [
    {
     "name": "stdout",
     "output_type": "stream",
     "text": [
      "                    EVC  EVC_rank\n",
      "reddit.com     0.329250       1.0\n",
      "politics       0.271542       2.0\n",
      "pics           0.251967       3.0\n",
      "funny          0.242301       4.0\n",
      "science        0.236767       5.0\n",
      "technology     0.229616       6.0\n",
      "worldnews      0.223856       7.0\n",
      "WTF            0.219809       8.0\n",
      "entertainment  0.219209       9.0\n",
      "programming    0.191733      10.0\n",
      "                EVC  EVC_rank\n",
      "reddit.com  0.32925       1.0\n"
     ]
    }
   ],
   "source": [
    "KatzC_dict = nx.katz_centrality(GSNet, alpha=0.000006, beta=1000.0, max_iter=1000, tol=1e-06, nstart=None, normalized=True, weight='weight')\n",
    "df_katzc = pd.DataFrame.from_dict(KatzC_dict, orient='index', columns=['EVC'])\n",
    "df_katzc['EVC_rank']=df_katzc['EVC'].rank(ascending=False) \n",
    "print(df_katzc.sort_values(by='EVC', ascending=False).head(10))\n",
    "print(df_katzc[df_katzc.index=='reddit.com']) #za beta=1000\n",
    "with open(\"data1/katz_b=1000\", 'wb') as file:\n",
    "    pickle.dump(df_katzc, file)"
   ]
  },
  {
   "cell_type": "code",
   "execution_count": null,
   "id": "f8c6c720",
   "metadata": {},
   "outputs": [],
   "source": []
  }
 ],
 "metadata": {
  "kernelspec": {
   "display_name": "Python 3",
   "language": "python",
   "name": "python3"
  },
  "language_info": {
   "codemirror_mode": {
    "name": "ipython",
    "version": 3
   },
   "file_extension": ".py",
   "mimetype": "text/x-python",
   "name": "python",
   "nbconvert_exporter": "python",
   "pygments_lexer": "ipython3",
   "version": "3.8.8"
  }
 },
 "nbformat": 4,
 "nbformat_minor": 5
}
