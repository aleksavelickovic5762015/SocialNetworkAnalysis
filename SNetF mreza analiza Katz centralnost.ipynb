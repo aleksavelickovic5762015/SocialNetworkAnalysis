{
 "cells": [
  {
   "cell_type": "markdown",
   "id": "653d69de",
   "metadata": {},
   "source": [
    "## SNetF mreža-analiza ##"
   ]
  },
  {
   "cell_type": "code",
   "execution_count": 1,
   "id": "d5aca82a",
   "metadata": {},
   "outputs": [],
   "source": [
    "import networkx as nx\n",
    "import pandas as pd\n",
    "import scipy.stats as stats"
   ]
  },
  {
   "cell_type": "code",
   "execution_count": 2,
   "id": "4e10cdad",
   "metadata": {},
   "outputs": [],
   "source": [
    "input_path = \"models/undirected_count_aggregationSNetF.gml\" \n",
    "\n",
    "GSNet = nx.Graph(nx.read_gml(input_path)) "
   ]
  },
  {
   "cell_type": "code",
   "execution_count": null,
   "id": "fc3cce22",
   "metadata": {},
   "outputs": [],
   "source": [
    "GSNet.nodes()"
   ]
  },
  {
   "cell_type": "code",
   "execution_count": 4,
   "id": "78459669",
   "metadata": {},
   "outputs": [
    {
     "name": "stdout",
     "output_type": "stream",
     "text": [
      "4174\n"
     ]
    }
   ],
   "source": [
    "print(len(GSNet))"
   ]
  },
  {
   "cell_type": "code",
   "execution_count": null,
   "id": "82dd1135",
   "metadata": {},
   "outputs": [],
   "source": [
    "print(len(GSNet.edges()))"
   ]
  },
  {
   "cell_type": "code",
   "execution_count": null,
   "id": "73242b63",
   "metadata": {},
   "outputs": [],
   "source": [
    "print(GSNet.edges['geek','reddit.com'])"
   ]
  },
  {
   "cell_type": "markdown",
   "id": "c793532c",
   "metadata": {},
   "source": [
    "## Analiza mera centralnosti ##"
   ]
  },
  {
   "cell_type": "markdown",
   "id": "df82a3f2",
   "metadata": {},
   "source": [
    "### Kacova centralnost ###"
   ]
  },
  {
   "cell_type": "code",
   "execution_count": 7,
   "id": "f2d30609",
   "metadata": {},
   "outputs": [
    {
     "name": "stdout",
     "output_type": "stream",
     "text": [
      "(6.307536139693623e-06+0j)\n"
     ]
    }
   ],
   "source": [
    "lambda_max =  max(nx.adjacency_spectrum(GSNet))\n",
    "print(1/lambda_max)"
   ]
  },
  {
   "cell_type": "code",
   "execution_count": 8,
   "id": "ad60948f",
   "metadata": {},
   "outputs": [
    {
     "name": "stdout",
     "output_type": "stream",
     "text": [
      "                    EVC  EVC_rank\n",
      "reddit.com     0.324482       1.0\n",
      "politics       0.267657       2.0\n",
      "pics           0.248372       3.0\n",
      "funny          0.238865       4.0\n",
      "science        0.233404       5.0\n",
      "technology     0.226341       6.0\n",
      "worldnews      0.220690       7.0\n",
      "WTF            0.216691       8.0\n",
      "entertainment  0.216088       9.0\n",
      "programming    0.189021      10.0\n",
      "                 EVC  EVC_rank\n",
      "reddit.com  0.324482       1.0\n"
     ]
    }
   ],
   "source": [
    "KatzC_dict = nx.katz_centrality(GSNet, alpha=0.000006, beta=1.0, max_iter=1000, tol=1e-06, nstart=None, normalized=True, weight='weight')\n",
    "df_katzc = pd.DataFrame.from_dict(KatzC_dict, orient='index', columns=['EVC'])\n",
    "df_katzc['EVC_rank']=df_katzc['EVC'].rank(ascending=False) \n",
    "print(df_katzc.sort_values(by='EVC', ascending=False).head(10))\n",
    "print(df_katzc[df_katzc.index=='reddit.com']) #za beta=1"
   ]
  },
  {
   "cell_type": "code",
   "execution_count": 9,
   "id": "f1c1bcca",
   "metadata": {},
   "outputs": [],
   "source": [
    "import pickle\n",
    "with open(\"data1/katz_b=1-SNetF\", 'wb') as file:\n",
    "    pickle.dump(df_katzc, file)"
   ]
  },
  {
   "cell_type": "code",
   "execution_count": 10,
   "id": "05d6dcf6",
   "metadata": {},
   "outputs": [
    {
     "name": "stdout",
     "output_type": "stream",
     "text": [
      "                    EVC  EVC_rank\n",
      "reddit.com     0.324491       1.0\n",
      "politics       0.267664       2.0\n",
      "pics           0.248379       3.0\n",
      "funny          0.238872       4.0\n",
      "science        0.233410       5.0\n",
      "technology     0.226347       6.0\n",
      "worldnews      0.220696       7.0\n",
      "WTF            0.216697       8.0\n",
      "entertainment  0.216094       9.0\n",
      "programming    0.189026      10.0\n",
      "                 EVC  EVC_rank\n",
      "reddit.com  0.324491       1.0\n"
     ]
    }
   ],
   "source": [
    "KatzC_dict = nx.katz_centrality(GSNet, alpha=0.000006, beta=5.0, max_iter=1000, tol=1e-06, nstart=None, normalized=True, weight='weight')\n",
    "df_katzc = pd.DataFrame.from_dict(KatzC_dict, orient='index', columns=['EVC'])\n",
    "df_katzc['EVC_rank']=df_katzc['EVC'].rank(ascending=False) \n",
    "print(df_katzc.sort_values(by='EVC', ascending=False).head(10))\n",
    "print(df_katzc[df_katzc.index=='reddit.com']) #za beta=5\n",
    "with open(\"data1/katz_b=5-SNetF\", 'wb') as file:\n",
    "    pickle.dump(df_katzc, file)"
   ]
  },
  {
   "cell_type": "code",
   "execution_count": 11,
   "id": "136fcf1b",
   "metadata": {},
   "outputs": [
    {
     "name": "stdout",
     "output_type": "stream",
     "text": [
      "                    EVC  EVC_rank\n",
      "reddit.com     0.324492       1.0\n",
      "politics       0.267665       2.0\n",
      "pics           0.248380       3.0\n",
      "funny          0.238873       4.0\n",
      "science        0.233411       5.0\n",
      "technology     0.226348       6.0\n",
      "worldnews      0.220697       7.0\n",
      "WTF            0.216698       8.0\n",
      "entertainment  0.216095       9.0\n",
      "programming    0.189027      10.0\n",
      "                 EVC  EVC_rank\n",
      "reddit.com  0.324492       1.0\n"
     ]
    }
   ],
   "source": [
    "KatzC_dict = nx.katz_centrality(GSNet, alpha=0.000006, beta=12.0, max_iter=1000, tol=1e-06, nstart=None, normalized=True, weight='weight')\n",
    "df_katzc = pd.DataFrame.from_dict(KatzC_dict, orient='index', columns=['EVC'])\n",
    "df_katzc['EVC_rank']=df_katzc['EVC'].rank(ascending=False) \n",
    "print(df_katzc.sort_values(by='EVC', ascending=False).head(10))\n",
    "print(df_katzc[df_katzc.index=='reddit.com']) #za beta=12\n",
    "with open(\"data1/katz_b=12-SNetF\", 'wb') as file:\n",
    "    pickle.dump(df_katzc, file)"
   ]
  },
  {
   "cell_type": "code",
   "execution_count": 12,
   "id": "a360484c",
   "metadata": {},
   "outputs": [
    {
     "name": "stdout",
     "output_type": "stream",
     "text": [
      "                    EVC  EVC_rank\n",
      "reddit.com     0.324493       1.0\n",
      "politics       0.267666       2.0\n",
      "pics           0.248381       3.0\n",
      "funny          0.238874       4.0\n",
      "science        0.233412       5.0\n",
      "technology     0.226348       6.0\n",
      "worldnews      0.220698       7.0\n",
      "WTF            0.216698       8.0\n",
      "entertainment  0.216095       9.0\n",
      "programming    0.189027      10.0\n",
      "                 EVC  EVC_rank\n",
      "reddit.com  0.324493       1.0\n"
     ]
    }
   ],
   "source": [
    "KatzC_dict = nx.katz_centrality(GSNet, alpha=0.000006, beta=1000.0, max_iter=1000, tol=1e-06, nstart=None, normalized=True, weight='weight')\n",
    "df_katzc = pd.DataFrame.from_dict(KatzC_dict, orient='index', columns=['EVC'])\n",
    "df_katzc['EVC_rank']=df_katzc['EVC'].rank(ascending=False) \n",
    "print(df_katzc.sort_values(by='EVC', ascending=False).head(10))\n",
    "print(df_katzc[df_katzc.index=='reddit.com']) #za beta=1000\n",
    "with open(\"data1/katz_b=1000-SNetF\", 'wb') as file:\n",
    "    pickle.dump(df_katzc, file)"
   ]
  },
  {
   "cell_type": "code",
   "execution_count": null,
   "id": "af8b5b8a",
   "metadata": {},
   "outputs": [],
   "source": []
  }
 ],
 "metadata": {
  "kernelspec": {
   "display_name": "Python 3 (ipykernel)",
   "language": "python",
   "name": "python3"
  },
  "language_info": {
   "codemirror_mode": {
    "name": "ipython",
    "version": 3
   },
   "file_extension": ".py",
   "mimetype": "text/x-python",
   "name": "python",
   "nbconvert_exporter": "python",
   "pygments_lexer": "ipython3",
   "version": "3.10.5"
  }
 },
 "nbformat": 4,
 "nbformat_minor": 5
}
