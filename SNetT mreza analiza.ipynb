{
 "cells": [
  {
   "cell_type": "markdown",
   "id": "653d69de",
   "metadata": {},
   "source": [
    "## SNetT mreža-analiza ##"
   ]
  },
  {
   "cell_type": "code",
   "execution_count": 1,
   "id": "2a7d1305",
   "metadata": {},
   "outputs": [],
   "source": [
    "from collections import Counter\n",
    "from operator import itemgetter\n",
    "import matplotlib.pyplot as plt"
   ]
  },
  {
   "cell_type": "code",
   "execution_count": 2,
   "id": "d5aca82a",
   "metadata": {},
   "outputs": [],
   "source": [
    "import networkx as nx\n",
    "import pandas as pd\n",
    "import scipy.stats as stats\n",
    "import numpy as np\n",
    "import pickle"
   ]
  },
  {
   "cell_type": "code",
   "execution_count": 3,
   "id": "4e10cdad",
   "metadata": {},
   "outputs": [],
   "source": [
    "input_path = \"models/undirected_count_aggregationSNet_T.gml\" \n",
    "\n",
    "GSNet = nx.Graph(nx.read_gml(input_path)) "
   ]
  },
  {
   "cell_type": "code",
   "execution_count": 3,
   "id": "fc3cce22",
   "metadata": {},
   "outputs": [
    {
     "data": {
      "text/plain": [
       "NodeView(('philosophy', 'business', 'obama', 'nsfw', 'ideas', 'netsec', 'pics', 'funny', 'joel', 'worldnews', 'photography', 'videos', 'gadgets', 'atheism', 'entertainment', 'AskReddit', 'software', 'guns', 'Health', 'linux', 'geek', 'cogsci', 'WTF', 'offbeat', 'gaming', 'science', 'math', 'scifi', 'environment', 'Economics', 'technology', 'history', 'news', 'comics', 'programming', 'bestof', 'politics', 'canada', 'reddit.com'))"
      ]
     },
     "execution_count": 3,
     "metadata": {},
     "output_type": "execute_result"
    }
   ],
   "source": [
    "GSNet.nodes()"
   ]
  },
  {
   "cell_type": "code",
   "execution_count": 4,
   "id": "78459669",
   "metadata": {},
   "outputs": [
    {
     "name": "stdout",
     "output_type": "stream",
     "text": [
      "39\n"
     ]
    }
   ],
   "source": [
    "print(len(GSNet))"
   ]
  },
  {
   "cell_type": "code",
   "execution_count": 6,
   "id": "3a8cee37",
   "metadata": {},
   "outputs": [
    {
     "name": "stdout",
     "output_type": "stream",
     "text": [
      "741\n"
     ]
    }
   ],
   "source": [
    "print(len(GSNet.edges()))"
   ]
  },
  {
   "cell_type": "markdown",
   "id": "fee93c4e",
   "metadata": {},
   "source": [
    "## Gustina mreže ##"
   ]
  },
  {
   "cell_type": "code",
   "execution_count": 5,
   "id": "a9ee9e3e",
   "metadata": {},
   "outputs": [
    {
     "name": "stdout",
     "output_type": "stream",
     "text": [
      "1.0\n"
     ]
    }
   ],
   "source": [
    "print(nx.density(GSNet))  #741/(39*38/2)     maxM=n*(n-1)/2"
   ]
  },
  {
   "cell_type": "markdown",
   "id": "b0e1b04a",
   "metadata": {},
   "source": [
    "## Dijametar mreže ##"
   ]
  },
  {
   "cell_type": "code",
   "execution_count": 8,
   "id": "29cbf2bb",
   "metadata": {},
   "outputs": [
    {
     "name": "stdout",
     "output_type": "stream",
     "text": [
      "1\n"
     ]
    }
   ],
   "source": [
    "print(nx.diameter(GSNet))"
   ]
  },
  {
   "cell_type": "markdown",
   "id": "9e213c05",
   "metadata": {},
   "source": [
    "## Prosečna distanca "
   ]
  },
  {
   "cell_type": "code",
   "execution_count": 9,
   "id": "e4e64070",
   "metadata": {},
   "outputs": [
    {
     "name": "stdout",
     "output_type": "stream",
     "text": [
      "1.0\n"
     ]
    }
   ],
   "source": [
    "print(nx.average_shortest_path_length(GSNet))"
   ]
  },
  {
   "cell_type": "markdown",
   "id": "959c8b26",
   "metadata": {},
   "source": [
    "## Povezane komponente grafa SNet ##"
   ]
  },
  {
   "cell_type": "code",
   "execution_count": 7,
   "id": "369fed55",
   "metadata": {},
   "outputs": [
    {
     "name": "stdout",
     "output_type": "stream",
     "text": [
      "True\n"
     ]
    }
   ],
   "source": [
    "print(nx.is_connected(GSNet))"
   ]
  },
  {
   "cell_type": "code",
   "execution_count": 10,
   "id": "0a9f1ce1",
   "metadata": {},
   "outputs": [
    {
     "name": "stdout",
     "output_type": "stream",
     "text": [
      "Broj povezanih komponenti:1\n",
      "Lista povezanih komponenti:\n",
      "[39]\n"
     ]
    }
   ],
   "source": [
    "component_size_list=[len(c) for c in sorted(nx.connected_components(GSNet), key=len, reverse=True)]\n",
    "print(f'Broj povezanih komponenti:'+str(len(component_size_list)))\n",
    "print(f'Lista povezanih komponenti:')\n",
    "print(component_size_list)"
   ]
  },
  {
   "cell_type": "markdown",
   "id": "ec3eade8",
   "metadata": {},
   "source": [
    "## Dominantna komponenta ##"
   ]
  },
  {
   "cell_type": "code",
   "execution_count": 13,
   "id": "3d72d515",
   "metadata": {},
   "outputs": [
    {
     "name": "stdout",
     "output_type": "stream",
     "text": [
      "Dominantna komponenta ima 39 cvorova i 741 grana\n"
     ]
    }
   ],
   "source": [
    "dominant_cc=max(nx.connected_components(GSNet), key=len)\n",
    "Gdom=GSNet.subgraph(dominant_cc).copy()\n",
    "print(f\"Dominantna komponenta ima {len(Gdom.nodes())} cvorova i {len(Gdom.edges())} grana\")\n",
    "dom_path=\"models/dominantna_komponentaT.gml\"\n",
    "nx.write_gml(Gdom, dom_path)"
   ]
  },
  {
   "cell_type": "markdown",
   "id": "1cfef958",
   "metadata": {},
   "source": [
    "## Koeficijent klasterisanja ##"
   ]
  },
  {
   "cell_type": "code",
   "execution_count": 4,
   "id": "354bbacd",
   "metadata": {},
   "outputs": [],
   "source": [
    "subredit, clustering_coef=zip(*nx.clustering(GSNet, weight='weight').items())\n",
    "nenula=[(sub, cc) for sub, cc in zip(subredit, clustering_coef) if cc>0]\n",
    "\n",
    "dataFrameClu=pd.DataFrame(nenula, columns=['subreddit','clustering coeficient'])\n",
    "dataFrameClu.sort_values('clustering coeficient', inplace=True)"
   ]
  },
  {
   "cell_type": "code",
   "execution_count": 5,
   "id": "eae2c1ef",
   "metadata": {},
   "outputs": [
    {
     "name": "stdout",
     "output_type": "stream",
     "text": [
      "Prosečan stepen klasterisanja:1.0\n",
      "Lokalni stepeni klasterisanja:\n",
      "        subreddit  clustering coeficient\n",
      "4           ideas               0.005999\n",
      "8            joel               0.006265\n",
      "17           guns               0.013363\n",
      "16       software               0.013873\n",
      "10    photography               0.019924\n",
      "37         canada               0.019926\n",
      "31        history               0.021185\n",
      "5          netsec               0.025915\n",
      "0      philosophy               0.026819\n",
      "26           math               0.026993\n",
      "21         cogsci               0.030314\n",
      "27          scifi               0.032450\n",
      "18         Health               0.032719\n",
      "19          linux               0.037478\n",
      "32           news               0.038430\n",
      "35         bestof               0.039135\n",
      "2           obama               0.047837\n",
      "20           geek               0.054825\n",
      "12        gadgets               0.057668\n",
      "28    environment               0.058090\n",
      "3            nsfw               0.058102\n",
      "11         videos               0.058534\n",
      "29      Economics               0.060780\n",
      "15      AskReddit               0.062280\n",
      "33         comics               0.063557\n",
      "13        atheism               0.064106\n",
      "24         gaming               0.078602\n",
      "23        offbeat               0.081109\n",
      "1        business               0.096225\n",
      "34    programming               0.097926\n",
      "14  entertainment               0.106454\n",
      "22            WTF               0.107786\n",
      "9       worldnews               0.108296\n",
      "30     technology               0.110528\n",
      "25        science               0.113432\n",
      "7           funny               0.114108\n",
      "6            pics               0.117331\n",
      "36       politics               0.121735\n",
      "38     reddit.com               0.139332\n"
     ]
    }
   ],
   "source": [
    "prosecni_stepen_klasterisanja=nx.average_clustering(GSNet)\n",
    "print(f'Prosečan stepen klasterisanja:{prosecni_stepen_klasterisanja}')\n",
    "print('Lokalni stepeni klasterisanja:')\n",
    "print(dataFrameClu)"
   ]
  },
  {
   "cell_type": "code",
   "execution_count": 6,
   "id": "75e546b0",
   "metadata": {},
   "outputs": [
    {
     "data": {
      "text/plain": [
       "<seaborn.axisgrid.FacetGrid at 0x20db2a5cb80>"
      ]
     },
     "execution_count": 6,
     "metadata": {},
     "output_type": "execute_result"
    },
    {
     "data": {
      "image/png": "[encoded data removed]",
      "text/plain": [
       "<Figure size 360x360 with 1 Axes>"
      ]
     },
     "metadata": {},
     "output_type": "display_data"
    }
   ],
   "source": [
    "import seaborn as sns\n",
    "sns.set(rc={'figure.figsize':(7,7)})\n",
    "ax=sns.displot(dataFrameClu['clustering coeficient'],\n",
    "              bins=100,\n",
    "              kde=True,\n",
    "              color='skyblue')\n",
    "ax.set(xlabel='Clustering', ylabel='Frequency')"
   ]
  },
  {
   "cell_type": "code",
   "execution_count": 16,
   "id": "90bfd292",
   "metadata": {},
   "outputs": [
    {
     "name": "stdout",
     "output_type": "stream",
     "text": [
      "Maksimalni stepen klasterisanja:\n",
      "     subreddit  clustering coeficient\n",
      "38  reddit.com               0.139332\n"
     ]
    }
   ],
   "source": [
    "print(f'Maksimalni stepen klasterisanja:')\n",
    "print(dataFrameClu.sort_values('clustering coeficient', ascending=False).head(1))"
   ]
  },
  {
   "cell_type": "code",
   "execution_count": 17,
   "id": "d13e5a39",
   "metadata": {},
   "outputs": [
    {
     "name": "stdout",
     "output_type": "stream",
     "text": [
      "Globalni koeficijent klasterisanja:\n",
      "1.0\n"
     ]
    }
   ],
   "source": [
    "print(f'Globalni koeficijent klasterisanja:')\n",
    "print(nx.transitivity(GSNet))"
   ]
  },
  {
   "cell_type": "markdown",
   "id": "80c374b8",
   "metadata": {},
   "source": [
    "### Upoređivanje sa ER mrežom ###"
   ]
  },
  {
   "cell_type": "code",
   "execution_count": 18,
   "id": "29afa71c",
   "metadata": {},
   "outputs": [],
   "source": [
    "n=GSNet.number_of_nodes()\n",
    "m=GSNet.number_of_edges()"
   ]
  },
  {
   "cell_type": "code",
   "execution_count": 19,
   "id": "c6031b5c",
   "metadata": {},
   "outputs": [
    {
     "name": "stdout",
     "output_type": "stream",
     "text": [
      "1.0\n",
      "Broj grana originalne mreže minus broj grana u ER mreži iznosi 0, što je odstupanje od 0.0%\n"
     ]
    }
   ],
   "source": [
    "p=(2*float(m))/(n*(n-1))  #p=2*m/(n*(n-1)), p je verovatnoca formiranja grane takva da je ocekivani broj grana m\n",
    "print(p)\n",
    "er=nx.erdos_renyi_graph(n,p)\n",
    "delta_m=m-er.number_of_edges()\n",
    "print(f\"Broj grana originalne mreže minus broj grana u ER mreži iznosi {delta_m}, što je odstupanje od {abs(float(delta_m)) * 100 / m}%\")"
   ]
  },
  {
   "cell_type": "code",
   "execution_count": 20,
   "id": "776c7cff",
   "metadata": {},
   "outputs": [
    {
     "name": "stdout",
     "output_type": "stream",
     "text": [
      "Prosečan stepen klasterisanja ER mreže:1.0\n",
      "Lokalni stepeni klasterisanja ER mreže:\n",
      "    subreddit  clustering coeficient\n",
      "0           0                    1.0\n",
      "21         21                    1.0\n",
      "22         22                    1.0\n",
      "23         23                    1.0\n",
      "24         24                    1.0\n",
      "25         25                    1.0\n",
      "26         26                    1.0\n",
      "27         27                    1.0\n",
      "20         20                    1.0\n",
      "28         28                    1.0\n",
      "30         30                    1.0\n",
      "31         31                    1.0\n",
      "32         32                    1.0\n",
      "33         33                    1.0\n",
      "34         34                    1.0\n",
      "35         35                    1.0\n",
      "36         36                    1.0\n",
      "29         29                    1.0\n",
      "37         37                    1.0\n",
      "19         19                    1.0\n",
      "17         17                    1.0\n",
      "1           1                    1.0\n",
      "2           2                    1.0\n",
      "3           3                    1.0\n",
      "4           4                    1.0\n",
      "5           5                    1.0\n",
      "6           6                    1.0\n",
      "7           7                    1.0\n",
      "18         18                    1.0\n",
      "8           8                    1.0\n",
      "10         10                    1.0\n",
      "11         11                    1.0\n",
      "12         12                    1.0\n",
      "13         13                    1.0\n",
      "14         14                    1.0\n",
      "15         15                    1.0\n",
      "16         16                    1.0\n",
      "9           9                    1.0\n",
      "38         38                    1.0\n",
      "Maksimalni stepen klasterisanja ER mreže:\n",
      "   subreddit  clustering coeficient\n",
      "0          0                    1.0\n",
      "Globalni koeficijent klasterisanja ER mreže:\n",
      "1.0\n"
     ]
    }
   ],
   "source": [
    "subredit1, clustering_coef1=zip(*nx.clustering(er, weight='weight').items())\n",
    "nenula=[(sub, cc) for sub, cc in zip(subredit1, clustering_coef1) if cc>0]\n",
    "\n",
    "dataFrameClu1=pd.DataFrame(nenula, columns=['subreddit','clustering coeficient'])\n",
    "dataFrameClu1.sort_values('clustering coeficient', inplace=True)\n",
    "prosecni_stepen_klasterisanja1=nx.average_clustering(er)\n",
    "print(f'Prosečan stepen klasterisanja ER mreže:{prosecni_stepen_klasterisanja1}')\n",
    "print('Lokalni stepeni klasterisanja ER mreže:')\n",
    "print(dataFrameClu1)\n",
    "print(f'Maksimalni stepen klasterisanja ER mreže:')\n",
    "print(dataFrameClu1.sort_values('clustering coeficient', ascending=False).head(1))\n",
    "print(f'Globalni koeficijent klasterisanja ER mreže:')\n",
    "print(nx.transitivity(er))"
   ]
  },
  {
   "cell_type": "code",
   "execution_count": 21,
   "id": "934d0367",
   "metadata": {},
   "outputs": [],
   "source": [
    "er_gcc=nx.transitivity(er)\n",
    "gcc=nx.transitivity(GSNet)"
   ]
  },
  {
   "cell_type": "code",
   "execution_count": 22,
   "id": "995e2ff0",
   "metadata": {},
   "outputs": [
    {
     "name": "stdout",
     "output_type": "stream",
     "text": [
      "   ACC  ACC-ER       LCC  LCC-ER  GCC  GCC-ER\n",
      "0  1.0     1.0  0.139332     1.0  1.0     1.0\n"
     ]
    }
   ],
   "source": [
    "tabela=pd.DataFrame([(prosecni_stepen_klasterisanja, prosecni_stepen_klasterisanja1,\n",
    "                     max(clustering_coef),\n",
    "                     max(clustering_coef1), gcc, er_gcc)],\n",
    "                    columns=['ACC','ACC-ER','LCC','LCC-ER','GCC','GCC-ER'])\n",
    "print(tabela)"
   ]
  },
  {
   "cell_type": "code",
   "execution_count": 23,
   "id": "73e440ed",
   "metadata": {},
   "outputs": [
    {
     "name": "stdout",
     "output_type": "stream",
     "text": [
      "1\n"
     ]
    }
   ],
   "source": [
    "print(nx.diameter(er))  #ovde je manji dijametar nego kod realne mreze, tu detektujemo da je mali svet"
   ]
  },
  {
   "cell_type": "code",
   "execution_count": 24,
   "id": "a40c2730",
   "metadata": {},
   "outputs": [
    {
     "name": "stdout",
     "output_type": "stream",
     "text": [
      "1.0\n"
     ]
    }
   ],
   "source": [
    "print(nx.average_shortest_path_length(er))"
   ]
  },
  {
   "cell_type": "markdown",
   "id": "75357ee4",
   "metadata": {},
   "source": [
    "## Fenomen malog sveta"
   ]
  },
  {
   "cell_type": "code",
   "execution_count": 25,
   "id": "4e37731a",
   "metadata": {},
   "outputs": [],
   "source": [
    "import numpy as np"
   ]
  },
  {
   "cell_type": "markdown",
   "id": "13e703ad",
   "metadata": {},
   "source": [
    "Za fenomen malog sveta realne mreže, potrebno je da budu zadovoljeni uslovi:\n",
    "1. mala prosečna distanca dva čvora u mreži u odnosu na veličinu mreže: lnetwork~ln(n)/ln(d)\n",
    "2. visoki globalni koeficijent klasterisanja u odnosu na globalni koeficijent klasterisanja kod ER mreže: Cn>>Cer"
   ]
  },
  {
   "cell_type": "code",
   "execution_count": 26,
   "id": "f9c543ad",
   "metadata": {},
   "outputs": [
    {
     "name": "stdout",
     "output_type": "stream",
     "text": [
      "3.6635616461296463\n",
      "2.9444389791664403\n",
      "1.2442307930479806\n"
     ]
    }
   ],
   "source": [
    "lnN=np.log(len(GSNet.nodes()))\n",
    "print(lnN)\n",
    "d=len(GSNet.edges())/len(GSNet.nodes())\n",
    "lnd=np.log(d)\n",
    "print(lnd)\n",
    "print(lnN/lnd) "
   ]
  },
  {
   "cell_type": "markdown",
   "id": "034657e0",
   "metadata": {},
   "source": [
    "Prosečna udaljenost bilo koja dva čvora u mreži SNetT je 1 (nije približna vrednosti 1.2442307930479806), a globalni stepen klasterizacije je 1, što je isto kao kod globalnog koeficijenta klasterizacije ER mreže (1), to nije ostvaren fenomen malog sveta."
   ]
  },
  {
   "cell_type": "markdown",
   "id": "ec68c0c7",
   "metadata": {},
   "source": [
    "## Asortativnost"
   ]
  },
  {
   "cell_type": "code",
   "execution_count": 27,
   "id": "1bc968c1",
   "metadata": {},
   "outputs": [
    {
     "name": "stdout",
     "output_type": "stream",
     "text": [
      "Koeficijent asortativnosti na osnovu netežinskog stepena čvora: nan\n"
     ]
    },
    {
     "name": "stderr",
     "output_type": "stream",
     "text": [
      "C:\\Users\\Sandra\\anaconda3\\lib\\site-packages\\networkx\\algorithms\\assortativity\\correlation.py:287: RuntimeWarning: invalid value encountered in double_scalars\n",
      "  return (xy * (M - ab)).sum() / numpy.sqrt(vara * varb)\n"
     ]
    }
   ],
   "source": [
    "r1=nx.degree_assortativity_coefficient(GSNet)\n",
    "print(f\"Koeficijent asortativnosti na osnovu netežinskog stepena čvora: {r1}\") #radi"
   ]
  },
  {
   "cell_type": "markdown",
   "id": "6adc43d5",
   "metadata": {},
   "source": [
    "Izvršavanjem ovog koda treba da se prikaže -0.13602861 (kod kolege)"
   ]
  },
  {
   "cell_type": "markdown",
   "id": "1b9692b8",
   "metadata": {},
   "source": [
    "Mreža je disasortativna, čvorovi nemaju tendenciju da se vezuju sa čvorovima sličnog stepena."
   ]
  },
  {
   "cell_type": "code",
   "execution_count": null,
   "id": "db031945",
   "metadata": {},
   "outputs": [],
   "source": [
    "r2=nx.degree_assortativity_coefficient(GSNet, weight='weight')\n",
    "print(f\"Koeficijent asortativnosti na osnovu težinskog stepena čvora: {r2}\") #zasto prijavljuje gresku"
   ]
  },
  {
   "cell_type": "markdown",
   "id": "f4a8a878",
   "metadata": {},
   "source": [
    "Izvršavanjem ovog koda treba da se prikaže 0.001904985 (kod kolege)"
   ]
  },
  {
   "cell_type": "markdown",
   "id": "093c19ea",
   "metadata": {},
   "source": [
    "Mreža je neutralno asortativna, ne zna se da li čvorovi imaju tendenciju da se vezuju sa čvorovima sličnog stepena."
   ]
  },
  {
   "cell_type": "markdown",
   "id": "071dc251",
   "metadata": {},
   "source": [
    "## Fenomen kluba bogatih"
   ]
  },
  {
   "cell_type": "code",
   "execution_count": null,
   "id": "3ae657fb",
   "metadata": {},
   "outputs": [],
   "source": [
    "rich_club_coef=nx.rich_club_coefficient(GSNet)"
   ]
  },
  {
   "cell_type": "markdown",
   "id": "bbd51635",
   "metadata": {},
   "source": [
    "Čvorovi nemaju tendenciju da se vezuju međusobno, pogotovo da ne mogu da se vezuju sa čvorovima većeg stepena, jer smo zaključili da je mreža disasortitvna."
   ]
  },
  {
   "cell_type": "markdown",
   "id": "26576092",
   "metadata": {},
   "source": [
    "## Power-law distribucija "
   ]
  },
  {
   "cell_type": "code",
   "execution_count": 30,
   "id": "22eb42a5",
   "metadata": {},
   "outputs": [],
   "source": [
    "def plot_deg_frequency(G, weighted = False, xscale = \"log\", yscale = \"log\"):\n",
    "\n",
    "    if weighted:\n",
    "        degrees = G.degree(weight=\"weight\")\n",
    "    else:\n",
    "        degrees = G.degree()\n",
    "        \n",
    "    _, deg_list = zip(*degrees) #raspakovanje\n",
    "    deg_counts = Counter(deg_list)        \n",
    "    print(deg_counts)\n",
    "    x, y = zip(*deg_counts.items())     #x-stepen, y-broj cvorova koji imaju odredjeni stepen                                                 \n",
    "\n",
    "    plt.figure(1)   \n",
    "\n",
    "    # prep axes   \n",
    "    if weighted:\n",
    "        plt.xlabel('weighted degree')  \n",
    "    else:\n",
    "        plt.xlabel('degree')                                                                                                             \n",
    "    plt.xscale(xscale)                                                                                                                \n",
    "    plt.xlim(1, max(x))  \n",
    "\n",
    "    plt.ylabel('frequency')                                                                                                          \n",
    "    plt.yscale(yscale)                                                                                                                \n",
    "    plt.ylim(1, max(y))                                                                                                             \n",
    "                                                                                                                                                                                                    \n",
    "    plt.scatter(x, y, marker='.')                                                                                                    \n",
    "    plt.show()"
   ]
  },
  {
   "cell_type": "code",
   "execution_count": 31,
   "id": "c5c0e787",
   "metadata": {},
   "outputs": [
    {
     "name": "stdout",
     "output_type": "stream",
     "text": [
      "Counter({19463: 1, 152511: 1, 49139: 1, 66590: 1, 2008: 1, 18683: 1, 208762: 1, 199788: 1, 2333: 1, 183265: 1, 12384: 1, 66276: 1, 64635: 1, 77331: 1, 178636: 1, 72079: 1, 7172: 1, 6774: 1, 26541: 1, 33126: 1, 59185: 1, 23421: 1, 181160: 1, 111332: 1, 107444: 1, 196232: 1, 19784: 1, 26082: 1, 65407: 1, 71074: 1, 188881: 1, 13599: 1, 34029: 1, 75765: 1, 155599: 1, 34926: 1, 223813: 1, 12539: 1, 281048: 1})\n"
     ]
    },
    {
     "name": "stderr",
     "output_type": "stream",
     "text": [
      "<ipython-input-30-4d8ae1fdee0e>:25: UserWarning: Attempting to set identical bottom == top == 1 results in singular transformations; automatically expanding.\n",
      "  plt.ylim(1, max(y))\n"
     ]
    },
    {
     "data": {
      "image/png": "[encoded data removed]",
      "text/plain": [
       "<Figure size 432x288 with 1 Axes>"
      ]
     },
     "metadata": {
      "needs_background": "light"
     },
     "output_type": "display_data"
    }
   ],
   "source": [
    "plot_deg_frequency(GSNet, True)"
   ]
  },
  {
   "cell_type": "markdown",
   "id": "290b9a98",
   "metadata": {},
   "source": [
    "Navedena distribucija čvorova po težinskom stepenu ne prati power-law raspodelu, jer svi čvorovi imaju veliki broj veza (vidimo da ima po jedan čvor kod većih stepena)."
   ]
  },
  {
   "cell_type": "markdown",
   "id": "53684433",
   "metadata": {},
   "source": [
    "## Habovi i autoriteti"
   ]
  },
  {
   "cell_type": "code",
   "execution_count": 7,
   "id": "2ff3a6f4",
   "metadata": {},
   "outputs": [],
   "source": [
    "#hubs_authorities=nx.hits(G) #SNet mreza je neusmerena, pa ne mogu se odrediti habovi i autoriteti"
   ]
  },
  {
   "cell_type": "markdown",
   "id": "c793532c",
   "metadata": {},
   "source": [
    "## Analiza mera centralnosti ##"
   ]
  },
  {
   "cell_type": "markdown",
   "id": "cae715b4",
   "metadata": {},
   "source": [
    "1) Centralnosti po stepenu, bliskosti, relacionoj centralnosti 2) Centralnosti po sopstvenom vektoru"
   ]
  },
  {
   "cell_type": "code",
   "execution_count": 32,
   "id": "25519c2c",
   "metadata": {},
   "outputs": [],
   "source": [
    "DC_dict=nx.degree_centrality(GSNet)"
   ]
  },
  {
   "cell_type": "code",
   "execution_count": 33,
   "id": "baee9018",
   "metadata": {},
   "outputs": [],
   "source": [
    "CC_dict=nx.closeness_centrality(GSNet)"
   ]
  },
  {
   "cell_type": "code",
   "execution_count": 34,
   "id": "62369c0a",
   "metadata": {},
   "outputs": [],
   "source": [
    "BC_dict=nx.betweenness_centrality(GSNet) "
   ]
  },
  {
   "cell_type": "code",
   "execution_count": 35,
   "id": "5b467a1f",
   "metadata": {},
   "outputs": [],
   "source": [
    "EVC_dict = nx.eigenvector_centrality(GSNet)"
   ]
  },
  {
   "cell_type": "code",
   "execution_count": 36,
   "id": "c4cdf95e",
   "metadata": {},
   "outputs": [
    {
     "name": "stdout",
     "output_type": "stream",
     "text": [
      "                DC   CC   BC       EVC\n",
      "philosophy     1.0  1.0  0.0  0.160128\n",
      "business       1.0  1.0  0.0  0.160128\n",
      "obama          1.0  1.0  0.0  0.160128\n",
      "nsfw           1.0  1.0  0.0  0.160128\n",
      "ideas          1.0  1.0  0.0  0.160128\n",
      "netsec         1.0  1.0  0.0  0.160128\n",
      "pics           1.0  1.0  0.0  0.160128\n",
      "funny          1.0  1.0  0.0  0.160128\n",
      "joel           1.0  1.0  0.0  0.160128\n",
      "worldnews      1.0  1.0  0.0  0.160128\n",
      "photography    1.0  1.0  0.0  0.160128\n",
      "videos         1.0  1.0  0.0  0.160128\n",
      "gadgets        1.0  1.0  0.0  0.160128\n",
      "atheism        1.0  1.0  0.0  0.160128\n",
      "entertainment  1.0  1.0  0.0  0.160128\n",
      "AskReddit      1.0  1.0  0.0  0.160128\n",
      "software       1.0  1.0  0.0  0.160128\n",
      "guns           1.0  1.0  0.0  0.160128\n",
      "Health         1.0  1.0  0.0  0.160128\n",
      "linux          1.0  1.0  0.0  0.160128\n",
      "geek           1.0  1.0  0.0  0.160128\n",
      "cogsci         1.0  1.0  0.0  0.160128\n",
      "WTF            1.0  1.0  0.0  0.160128\n",
      "offbeat        1.0  1.0  0.0  0.160128\n",
      "gaming         1.0  1.0  0.0  0.160128\n",
      "science        1.0  1.0  0.0  0.160128\n",
      "math           1.0  1.0  0.0  0.160128\n",
      "scifi          1.0  1.0  0.0  0.160128\n",
      "environment    1.0  1.0  0.0  0.160128\n",
      "Economics      1.0  1.0  0.0  0.160128\n",
      "technology     1.0  1.0  0.0  0.160128\n",
      "history        1.0  1.0  0.0  0.160128\n",
      "news           1.0  1.0  0.0  0.160128\n",
      "comics         1.0  1.0  0.0  0.160128\n",
      "programming    1.0  1.0  0.0  0.160128\n",
      "bestof         1.0  1.0  0.0  0.160128\n",
      "politics       1.0  1.0  0.0  0.160128\n",
      "canada         1.0  1.0  0.0  0.160128\n",
      "reddit.com     1.0  1.0  0.0  0.160128\n"
     ]
    }
   ],
   "source": [
    "df1=pd.DataFrame.from_dict(DC_dict, orient='index', columns=['DC'])\n",
    "df2=pd.DataFrame.from_dict(CC_dict, orient='index', columns=['CC'])\n",
    "df3=pd.DataFrame.from_dict(BC_dict, orient='index', columns=['BC'])\n",
    "df4=pd.DataFrame.from_dict(EVC_dict, orient='index', columns=['EVC'])\n",
    "df=pd.concat([df1, df2, df3, df4], axis=1)\n",
    "print(df)"
   ]
  },
  {
   "cell_type": "markdown",
   "id": "c82e2610",
   "metadata": {},
   "source": [
    "Svaki čvor u tom grafu je povezan svaki sa svakim, zato su iste vrednosti."
   ]
  },
  {
   "cell_type": "code",
   "execution_count": 39,
   "id": "411683eb",
   "metadata": {},
   "outputs": [],
   "source": [
    "with open(\"data1/snetT-centralities\", 'wb') as file:\n",
    "    pickle.dump(df, file)"
   ]
  },
  {
   "cell_type": "markdown",
   "id": "fff6c19d",
   "metadata": {},
   "source": [
    "### Centralnost po stepenu ###"
   ]
  },
  {
   "cell_type": "code",
   "execution_count": 40,
   "id": "5ad519b9",
   "metadata": {},
   "outputs": [
    {
     "name": "stdout",
     "output_type": "stream",
     "text": [
      "              DC\n",
      "philosophy   1.0\n",
      "Economics    1.0\n",
      "WTF          1.0\n",
      "offbeat      1.0\n",
      "gaming       1.0\n",
      "science      1.0\n",
      "math         1.0\n",
      "scifi        1.0\n",
      "environment  1.0\n",
      "technology   1.0\n"
     ]
    }
   ],
   "source": [
    "df_dc = pd.DataFrame({'DC':df['DC']})\n",
    "df_dc.sort_values(by='DC', ascending=False, inplace = True)\n",
    "print(df_dc.head(10))"
   ]
  },
  {
   "cell_type": "markdown",
   "id": "f73f84de",
   "metadata": {},
   "source": [
    "### Centralnost po bliskosti ###"
   ]
  },
  {
   "cell_type": "code",
   "execution_count": 41,
   "id": "45ea71e9",
   "metadata": {},
   "outputs": [
    {
     "name": "stdout",
     "output_type": "stream",
     "text": [
      "              CC\n",
      "philosophy   1.0\n",
      "Economics    1.0\n",
      "WTF          1.0\n",
      "offbeat      1.0\n",
      "gaming       1.0\n",
      "science      1.0\n",
      "math         1.0\n",
      "scifi        1.0\n",
      "environment  1.0\n",
      "technology   1.0\n"
     ]
    }
   ],
   "source": [
    "df_cc = pd.DataFrame({'CC':df['CC']})\n",
    "df_cc.sort_values(by='CC', ascending=False, inplace = True)\n",
    "print(df_cc.head(10))"
   ]
  },
  {
   "cell_type": "markdown",
   "id": "117672f3",
   "metadata": {},
   "source": [
    "### Relaciona centralnost ###"
   ]
  },
  {
   "cell_type": "code",
   "execution_count": 42,
   "id": "a4b3f121",
   "metadata": {},
   "outputs": [
    {
     "name": "stdout",
     "output_type": "stream",
     "text": [
      "              BC\n",
      "philosophy   0.0\n",
      "Economics    0.0\n",
      "WTF          0.0\n",
      "offbeat      0.0\n",
      "gaming       0.0\n",
      "science      0.0\n",
      "math         0.0\n",
      "scifi        0.0\n",
      "environment  0.0\n",
      "technology   0.0\n"
     ]
    }
   ],
   "source": [
    "df_bc = pd.DataFrame({'BC':df['BC']})\n",
    "df_bc.sort_values(by='BC', ascending=False, inplace = True)\n",
    "print(df_bc.head(10))"
   ]
  },
  {
   "cell_type": "markdown",
   "id": "67079694",
   "metadata": {},
   "source": [
    "### Centralnost po sopstvenom vektoru ###"
   ]
  },
  {
   "cell_type": "code",
   "execution_count": 43,
   "id": "21603cd1",
   "metadata": {},
   "outputs": [
    {
     "name": "stdout",
     "output_type": "stream",
     "text": [
      "                  EVC\n",
      "philosophy   0.160128\n",
      "Economics    0.160128\n",
      "WTF          0.160128\n",
      "offbeat      0.160128\n",
      "gaming       0.160128\n",
      "science      0.160128\n",
      "math         0.160128\n",
      "scifi        0.160128\n",
      "environment  0.160128\n",
      "technology   0.160128\n"
     ]
    }
   ],
   "source": [
    "df_ec = pd.DataFrame({'EVC':df['EVC']})\n",
    "df_ec.sort_values(by='EVC', ascending=False, inplace = True)\n",
    "print(df_ec.head(10))"
   ]
  },
  {
   "cell_type": "code",
   "execution_count": 90,
   "id": "04c82532",
   "metadata": {},
   "outputs": [],
   "source": [
    "with open(\"data1/snetT-centralities\", 'rb') as file:\n",
    "    df = pickle.load(file)"
   ]
  },
  {
   "cell_type": "markdown",
   "id": "df82a3f2",
   "metadata": {},
   "source": [
    "### Kacova centralnost ###"
   ]
  },
  {
   "cell_type": "code",
   "execution_count": 91,
   "id": "dc8435b0",
   "metadata": {},
   "outputs": [],
   "source": [
    "import pickle\n",
    "with open(\"data1/katz_b=1000-SNetT\", 'rb') as file:\n",
    "    df_katz = pickle.load(file)"
   ]
  },
  {
   "cell_type": "code",
   "execution_count": 92,
   "id": "ef0b8e9b",
   "metadata": {},
   "outputs": [
    {
     "name": "stdout",
     "output_type": "stream",
     "text": [
      "                    EVC  EVC_rank\n",
      "reddit.com     0.377168       1.0\n",
      "politics       0.311808       2.0\n",
      "pics           0.289432       3.0\n",
      "funny          0.278483       4.0\n",
      "science        0.272313       5.0\n",
      "technology     0.264291       6.0\n",
      "worldnews      0.257809       7.0\n",
      "WTF            0.252938       8.0\n",
      "entertainment  0.252294       9.0\n",
      "programming    0.221821      10.0\n"
     ]
    }
   ],
   "source": [
    "print(df_katz.sort_values(by='EVC', ascending=False).head(10))"
   ]
  },
  {
   "cell_type": "markdown",
   "id": "34ca8a4d",
   "metadata": {},
   "source": [
    "## Korelacija metrika centralnosti ##"
   ]
  },
  {
   "cell_type": "code",
   "execution_count": 94,
   "id": "3c082586",
   "metadata": {},
   "outputs": [
    {
     "name": "stdout",
     "output_type": "stream",
     "text": [
      "                DC   CC   BC       EVC     KatzC\n",
      "philosophy     1.0  1.0  0.0  0.160128  0.036080\n",
      "business       1.0  1.0  0.0  0.160128  0.219808\n",
      "obama          1.0  1.0  0.0  0.160128  0.075925\n",
      "nsfw           1.0  1.0  0.0  0.160128  0.098561\n",
      "ideas          1.0  1.0  0.0  0.160128  0.016485\n",
      "netsec         1.0  1.0  0.0  0.160128  0.036034\n",
      "pics           1.0  1.0  0.0  0.160128  0.289432\n",
      "funny          1.0  1.0  0.0  0.160128  0.278483\n",
      "joel           1.0  1.0  0.0  0.160128  0.017353\n",
      "worldnews      1.0  1.0  0.0  0.160128  0.257809\n",
      "photography    1.0  1.0  0.0  0.160128  0.028332\n",
      "videos         1.0  1.0  0.0  0.160128  0.095120\n",
      "gadgets        1.0  1.0  0.0  0.160128  0.093215\n",
      "atheism        1.0  1.0  0.0  0.160128  0.112024\n",
      "entertainment  1.0  1.0  0.0  0.160128  0.252294\n",
      "AskReddit      1.0  1.0  0.0  0.160128  0.100774\n",
      "software       1.0  1.0  0.0  0.160128  0.022173\n",
      "guns           1.0  1.0  0.0  0.160128  0.021974\n",
      "Health         1.0  1.0  0.0  0.160128  0.044690\n",
      "linux          1.0  1.0  0.0  0.160128  0.053935\n",
      "geek           1.0  1.0  0.0  0.160128  0.084514\n",
      "cogsci         1.0  1.0  0.0  0.160128  0.040487\n",
      "WTF            1.0  1.0  0.0  0.160128  0.252938\n",
      "offbeat        1.0  1.0  0.0  0.160128  0.153860\n",
      "gaming         1.0  1.0  0.0  0.160128  0.152096\n",
      "science        1.0  1.0  0.0  0.160128  0.272313\n",
      "math           1.0  1.0  0.0  0.160128  0.037058\n",
      "scifi          1.0  1.0  0.0  0.160128  0.043882\n",
      "environment    1.0  1.0  0.0  0.160128  0.094326\n",
      "Economics      1.0  1.0  0.0  0.160128  0.104155\n",
      "technology     1.0  1.0  0.0  0.160128  0.264291\n",
      "history        1.0  1.0  0.0  0.160128  0.029229\n",
      "news           1.0  1.0  0.0  0.160128  0.053304\n",
      "comics         1.0  1.0  0.0  0.160128  0.108089\n",
      "programming    1.0  1.0  0.0  0.160128  0.221821\n",
      "bestof         1.0  1.0  0.0  0.160128  0.054230\n",
      "politics       1.0  1.0  0.0  0.160128  0.311808\n",
      "canada         1.0  1.0  0.0  0.160128  0.029098\n",
      "reddit.com     1.0  1.0  0.0  0.160128  0.377168\n"
     ]
    }
   ],
   "source": [
    "df_correlation=pd.merge(df, df_katz, left_index=True, right_index=True)\n",
    "df_correlation.rename(columns = {'EVC_x':'EVC', 'EVC_y':'KatzC'}, inplace = True)\n",
    "df_correlation=df_correlation.drop(['EVC_rank'], axis=1)\n",
    "print(df_correlation)"
   ]
  },
  {
   "cell_type": "code",
   "execution_count": null,
   "id": "1b2d524c",
   "metadata": {},
   "outputs": [],
   "source": [
    "labele=['DC','CC','BC', 'EVC', 'KatzC']\n",
    "matrica_korelacije=pd.DataFrame(columns=['DC','CC','BC','EVC', 'KatzC'], index=['DC','CC','BC','EVC','KatzC'])\n",
    "p_val_matrica=pd.DataFrame(columns=['DC','CC','BC','EVC', 'KatzC'], index=['DC','CC','BC','EVC','KatzC'])\n",
    "\n",
    "for i in labele:\n",
    "    for j in labele:\n",
    "        matrica_korelacije[i][j], p_val_matrica[i][j]=stats.kendalltau(df_correlation[i], df_correlation[j])\n",
    "        \n",
    "print(matrica_korelacije)\n",
    "print(p_val_matrica) "
   ]
  },
  {
   "cell_type": "markdown",
   "id": "abe16e47",
   "metadata": {},
   "source": [
    "Jer se vrednosti svakog sabredita za svaku centralnost ne menja."
   ]
  },
  {
   "cell_type": "markdown",
   "id": "d446d0b2",
   "metadata": {},
   "source": [
    "## Kompozitna mera centralnosti ##"
   ]
  },
  {
   "cell_type": "code",
   "execution_count": 95,
   "id": "7da2b3d9",
   "metadata": {},
   "outputs": [
    {
     "name": "stdout",
     "output_type": "stream",
     "text": [
      "                DC   CC   BC       EVC     KatzC  DC_rank  CC_rank  BC_rank  \\\n",
      "reddit.com     1.0  1.0  0.0  0.160128  0.377168     20.0     20.0     20.0   \n",
      "politics       1.0  1.0  0.0  0.160128  0.311808     20.0     20.0     20.0   \n",
      "pics           1.0  1.0  0.0  0.160128  0.289432     20.0     20.0     20.0   \n",
      "funny          1.0  1.0  0.0  0.160128  0.278483     20.0     20.0     20.0   \n",
      "science        1.0  1.0  0.0  0.160128  0.272313     20.0     20.0     20.0   \n",
      "technology     1.0  1.0  0.0  0.160128  0.264291     20.0     20.0     20.0   \n",
      "worldnews      1.0  1.0  0.0  0.160128  0.257809     20.0     20.0     20.0   \n",
      "WTF            1.0  1.0  0.0  0.160128  0.252938     20.0     20.0     20.0   \n",
      "entertainment  1.0  1.0  0.0  0.160128  0.252294     20.0     20.0     20.0   \n",
      "programming    1.0  1.0  0.0  0.160128  0.221821     20.0     20.0     20.0   \n",
      "\n",
      "               EVC_rank  KatzC_rank  composite_rank  \n",
      "reddit.com         20.0         1.0        160000.0  \n",
      "politics           20.0         2.0        320000.0  \n",
      "pics               20.0         3.0        480000.0  \n",
      "funny              20.0         4.0        640000.0  \n",
      "science            20.0         5.0        800000.0  \n",
      "technology         20.0         6.0        960000.0  \n",
      "worldnews          20.0         7.0       1120000.0  \n",
      "WTF                20.0         8.0       1280000.0  \n",
      "entertainment      20.0         9.0       1440000.0  \n",
      "programming        20.0        10.0       1600000.0  \n"
     ]
    }
   ],
   "source": [
    "df_ = df_correlation\n",
    "for metric in labele:\n",
    "    df_[f\"{metric}_rank\"] = df_correlation[f\"{metric}\"].rank(ascending=False) \n",
    "    \n",
    "df_['composite_rank'] = df_['DC_rank'] * df_['CC_rank'] * df_['BC_rank'] * df_['EVC_rank']* df_['KatzC_rank'] #composite_rank=dc_rank*cc_rank*bc_rank*evc_rank*katz_rank\n",
    "\n",
    "df_=df_.sort_values(['composite_rank'], ascending = True)\n",
    "print(df_.head(10))"
   ]
  },
  {
   "cell_type": "markdown",
   "id": "c091a42e",
   "metadata": {},
   "source": [
    "## Detekcija komuna ##"
   ]
  },
  {
   "cell_type": "markdown",
   "id": "707ca177",
   "metadata": {},
   "source": [
    "### Hijerarhijsko klasterisanje"
   ]
  },
  {
   "cell_type": "code",
   "execution_count": 50,
   "id": "9e8b6ba0",
   "metadata": {},
   "outputs": [],
   "source": [
    "import itertools\n",
    "from itertools import chain, combinations\n",
    "import matplotlib.pyplot as plt\n",
    "from scipy.cluster.hierarchy import dendrogram"
   ]
  },
  {
   "cell_type": "code",
   "execution_count": 51,
   "id": "be0ff6cf",
   "metadata": {},
   "outputs": [],
   "source": [
    "comp=nx.community.girvan_newman(GSNet)\n",
    "k=15\n",
    "hierarchical_decomposition={}\n",
    "i=2\n",
    "for communities in itertools.islice(comp, k):\n",
    "    hierarchical_decomposition[i]=tuple(sorted(c) for c in communities)\n",
    "    i=i+1"
   ]
  },
  {
   "cell_type": "code",
   "execution_count": 52,
   "id": "6c5af2e9",
   "metadata": {},
   "outputs": [],
   "source": [
    "def print_decomposition(hierarchy, num_clusters):\n",
    "    decomposition_tupple = hierarchy[num_clusters]\n",
    "    print(f\"Dekompozicija na {num_clusters} komuna\")\n",
    "    for com_ind in range(num_clusters):\n",
    "        print(f\"Komuna {com_ind+1} ima {len(decomposition_tupple[com_ind])} clanova\")\n",
    "        print(decomposition_tupple[com_ind])\n",
    "        print(\"-----------------------------------------------------------------------\")"
   ]
  },
  {
   "cell_type": "code",
   "execution_count": 53,
   "id": "089a75bc",
   "metadata": {},
   "outputs": [
    {
     "name": "stdout",
     "output_type": "stream",
     "text": [
      "Dekompozicija na 3 komuna\n",
      "Komuna 1 ima 1 clanova\n",
      "['philosophy']\n",
      "-----------------------------------------------------------------------\n",
      "Komuna 2 ima 1 clanova\n",
      "['business']\n",
      "-----------------------------------------------------------------------\n",
      "Komuna 3 ima 37 clanova\n",
      "['AskReddit', 'Economics', 'Health', 'WTF', 'atheism', 'bestof', 'canada', 'cogsci', 'comics', 'entertainment', 'environment', 'funny', 'gadgets', 'gaming', 'geek', 'guns', 'history', 'ideas', 'joel', 'linux', 'math', 'netsec', 'news', 'nsfw', 'obama', 'offbeat', 'photography', 'pics', 'politics', 'programming', 'reddit.com', 'science', 'scifi', 'software', 'technology', 'videos', 'worldnews']\n",
      "-----------------------------------------------------------------------\n"
     ]
    }
   ],
   "source": [
    "print_decomposition(hierarchical_decomposition, 3)"
   ]
  },
  {
   "cell_type": "code",
   "execution_count": 54,
   "id": "059fa839",
   "metadata": {},
   "outputs": [
    {
     "name": "stdout",
     "output_type": "stream",
     "text": [
      "Dekompozicija na 5 komuna\n",
      "Komuna 1 ima 1 clanova\n",
      "['philosophy']\n",
      "-----------------------------------------------------------------------\n",
      "Komuna 2 ima 1 clanova\n",
      "['business']\n",
      "-----------------------------------------------------------------------\n",
      "Komuna 3 ima 1 clanova\n",
      "['obama']\n",
      "-----------------------------------------------------------------------\n",
      "Komuna 4 ima 1 clanova\n",
      "['nsfw']\n",
      "-----------------------------------------------------------------------\n",
      "Komuna 5 ima 35 clanova\n",
      "['AskReddit', 'Economics', 'Health', 'WTF', 'atheism', 'bestof', 'canada', 'cogsci', 'comics', 'entertainment', 'environment', 'funny', 'gadgets', 'gaming', 'geek', 'guns', 'history', 'ideas', 'joel', 'linux', 'math', 'netsec', 'news', 'offbeat', 'photography', 'pics', 'politics', 'programming', 'reddit.com', 'science', 'scifi', 'software', 'technology', 'videos', 'worldnews']\n",
      "-----------------------------------------------------------------------\n"
     ]
    }
   ],
   "source": [
    "print_decomposition(hierarchical_decomposition, 5)"
   ]
  },
  {
   "cell_type": "code",
   "execution_count": 55,
   "id": "b57c1e41",
   "metadata": {},
   "outputs": [],
   "source": [
    "def plot_and_save_dendrogram(G):\n",
    "\n",
    "    plt.rcParams[\"figure.figsize\"] = (24,13)\n",
    "    # get Girvan-Newman communities list\n",
    "    communities = list(nx.community.girvan_newman(G))\n",
    "\n",
    "    # building initial dict of node_id to each possible subset:\n",
    "    node_id = 0\n",
    "    init_node2community_dict = {node_id: communities[0][0].union(communities[0][1])}\n",
    "    for comm in communities:\n",
    "        for subset in list(comm):\n",
    "            if subset not in init_node2community_dict.values():\n",
    "                node_id += 1\n",
    "                init_node2community_dict[node_id] = subset\n",
    "\n",
    "    # turning this dictionary to the desired format in @mdml's answer\n",
    "    node_id_to_children = {e: [] for e in init_node2community_dict.keys()}\n",
    "    for node_id1, node_id2 in combinations(init_node2community_dict.keys(), 2):\n",
    "        for node_id_parent, group in init_node2community_dict.items():\n",
    "            if len(init_node2community_dict[node_id1].intersection(init_node2community_dict[node_id2])) == 0 and group == init_node2community_dict[node_id1].union(init_node2community_dict[node_id2]):\n",
    "                node_id_to_children[node_id_parent].append(node_id1)\n",
    "                node_id_to_children[node_id_parent].append(node_id2)\n",
    "\n",
    "    # also recording node_labels dict for the correct label for dendrogram leaves\n",
    "    node_labels = dict()\n",
    "    for node_id, group in init_node2community_dict.items():\n",
    "        if len(group) == 1:\n",
    "            node_labels[node_id] = list(group)[0]\n",
    "        else:\n",
    "            node_labels[node_id] = ''\n",
    "\n",
    "    # also needing a subset to rank dict to later know within all k-length merges which came first\n",
    "    subset_rank_dict = dict()\n",
    "    rank = 0\n",
    "    for e in communities[::-1]:\n",
    "        for p in list(e):\n",
    "            if tuple(p) not in subset_rank_dict:\n",
    "                subset_rank_dict[tuple(sorted(p))] = rank\n",
    "                rank += 1\n",
    "    subset_rank_dict[tuple(sorted(chain.from_iterable(communities[-1])))] = rank\n",
    "\n",
    "    # my function to get a merge height so that it is unique (probably not that efficient)\n",
    "    def get_merge_height(sub):\n",
    "        sub_tuple = tuple(sorted([node_labels[i] for i in sub]))\n",
    "        n = len(sub_tuple)\n",
    "        other_same_len_merges = {k: v for k, v in subset_rank_dict.items() if len(k) == n}\n",
    "        min_rank, max_rank = min(other_same_len_merges.values()), max(other_same_len_merges.values())\n",
    "        range = (max_rank-min_rank) if max_rank > min_rank else 1\n",
    "        return float(len(sub)) + 0.8 * (subset_rank_dict[sub_tuple] - min_rank) / range\n",
    "\n",
    "    # finally using @mdml's magic, slightly modified:\n",
    "    G           = nx.DiGraph(node_id_to_children)\n",
    "    nodes       = G.nodes()\n",
    "    leaves      = set( n for n in nodes if G.out_degree(n) == 0 )\n",
    "    inner_nodes = [ n for n in nodes if G.out_degree(n) > 0 ]\n",
    "\n",
    "    # Compute the size of each subtree\n",
    "    subtree = dict( (n, [n]) for n in leaves )\n",
    "    for u in inner_nodes:\n",
    "        children = set()\n",
    "        node_list = list(node_id_to_children[u])\n",
    "        while len(node_list) > 0:\n",
    "            v = node_list.pop(0)\n",
    "            children.add( v )\n",
    "            node_list += node_id_to_children[v]\n",
    "        subtree[u] = sorted(children & leaves)\n",
    "\n",
    "    inner_nodes.sort(key=lambda n: len(subtree[n])) # <-- order inner nodes ascending by subtree size, root is last\n",
    "\n",
    "    # Construct the linkage matrix\n",
    "    leaves = sorted(leaves)\n",
    "    index  = dict( (tuple([n]), i) for i, n in enumerate(leaves) )\n",
    "    Z = []\n",
    "    k = len(leaves)\n",
    "    for i, n in enumerate(inner_nodes):\n",
    "        children = node_id_to_children[n]\n",
    "        x = children[0]\n",
    "        for y in children[1:]:\n",
    "            z = tuple(sorted(subtree[x] + subtree[y]))\n",
    "            i, j = index[tuple(sorted(subtree[x]))], index[tuple(sorted(subtree[y]))]\n",
    "            Z.append([i, j, get_merge_height(subtree[n]), len(z)]) # <-- float is required by the dendrogram function\n",
    "            index[z] = k\n",
    "            subtree[z] = list(z)\n",
    "            x = z\n",
    "            k += 1\n",
    "\n",
    "    # dendrogram\n",
    "    plt.figure()\n",
    "    dendrogram(Z, labels=[node_labels[node_id] for node_id in leaves])\n",
    "    plt.savefig('dendrogramSNetT.png')"
   ]
  },
  {
   "cell_type": "code",
   "execution_count": 56,
   "id": "9a584716",
   "metadata": {},
   "outputs": [
    {
     "data": {
      "image/png": "[encoded data removed]",
      "text/plain": [
       "<Figure size 1728x936 with 1 Axes>"
      ]
     },
     "metadata": {
      "needs_background": "light"
     },
     "output_type": "display_data"
    }
   ],
   "source": [
    "plot_and_save_dendrogram(GSNet)"
   ]
  },
  {
   "cell_type": "markdown",
   "id": "8d135e28",
   "metadata": {},
   "source": [
    "## Spektralno klasterisanje"
   ]
  },
  {
   "cell_type": "code",
   "execution_count": 17,
   "id": "1a8ccb51",
   "metadata": {},
   "outputs": [],
   "source": [
    "import networkx as nx\n",
    "import pandas as pd\n",
    "import numpy as np\n",
    "from scipy import linalg\n",
    "import matplotlib.pyplot as plt\n",
    "#from docx import Document\n",
    "import math #?\n",
    "import sympy\n",
    "from sklearn.cluster import SpectralClustering"
   ]
  },
  {
   "cell_type": "code",
   "execution_count": 11,
   "id": "fd3f47c4",
   "metadata": {},
   "outputs": [],
   "source": [
    "def plot_scatterplot(x_data, y_data, x_label, y_label, title):\n",
    "    fig, ax = plt.subplots()\n",
    "    ax.scatter(x_data, y_data) \n",
    "    ax.set_ylabel(y_label, fontsize=15)\n",
    "    ax.set_xlabel(x_label, fontsize=15)\n",
    "    ax.set_title(title)\n",
    "    plt.savefig(f\"etf/{title}.svg\")\n",
    "    plt.show() \n",
    "\n",
    "def plot_scatterplot2(x_data, y_data, x_label, y_label, title, file_name):\n",
    "    fig, ax = plt.subplots()\n",
    "    ax.scatter(x_data, y_data) \n",
    "    ax.set_ylabel(y_label, fontsize=15)\n",
    "    ax.set_xlabel(x_label, fontsize=15)\n",
    "    ax.set_title(title)\n",
    "    plt.savefig(f\"etf/{file_name}.svg\")\n",
    "    plt.show() "
   ]
  },
  {
   "cell_type": "code",
   "execution_count": 12,
   "id": "333a0346",
   "metadata": {},
   "outputs": [],
   "source": [
    "def find_ccs2(eigenvectors_holder, n):\n",
    "    components = []\n",
    "    already_solved = []\n",
    "    for current in range(0, n):\n",
    "        if current not in already_solved:\n",
    "            component = [current]\n",
    "            for running in range (current+1, n):\n",
    "                if running not in already_solved:\n",
    "                    b = True\n",
    "                    for tracer in range(0, len(eigenvectors_holder)):\n",
    "                        eigenvector = eigenvectors_holder[tracer]\n",
    "                        if not in_range(eigenvector[current], eigenvector[running], math.pow(10,-12)):\n",
    "                            b = False\n",
    "                    if b:\n",
    "                        component.append(running)\n",
    "                        already_solved.append(running)\n",
    "            already_solved.append(current)\n",
    "            components.append(component)\n",
    "    return components"
   ]
  },
  {
   "cell_type": "code",
   "execution_count": 13,
   "id": "62d0e10c",
   "metadata": {},
   "outputs": [],
   "source": [
    "def get_components3(L, component_number):\n",
    "    \n",
    "    evals, evecs = linalg.eig(L) # each column of evecs is an eigenvector\n",
    "\n",
    "    # take only real component of each eigenvalue, because eigenvalues of L are guaranteed to be real \n",
    "    evals = evals.real\n",
    "\n",
    "    # take only real component of each eigenvector, because eigenvectors of L are guaranteed to be real \n",
    "    evecs_temp = []\n",
    "    for e in evecs:\n",
    "        v = e.real\n",
    "        evecs_temp.append(v)    \n",
    "    evecs = evecs_temp\n",
    "    \n",
    "    evecs_horizontal_container = np.array(evecs).T #each row is an eigenvector\n",
    "\n",
    "    zipped = list(zip(evals, evecs_horizontal_container)) # pair eigenvalues and eigenvectors into eigenpairs\n",
    "    zipped.sort(key=lambda tup: tup[0]) # sort eigenpairs by eigenvalue\n",
    "    evals, evecs = zip(*zipped) # evecs is now horizontal, but ordered by paired eigenvalue size\n",
    "    eigenspace0_basis = evecs[:component_number] # take only the first component_number eigenvectors \n",
    "    #eigenspace0_basis = filter_matrix(eigenspace0_basis, math.pow(10, -15)) # filter values close to 0\n",
    "\n",
    "    return find_ccs2(eigenspace0_basis, len(eigenspace0_basis[0]))"
   ]
  },
  {
   "cell_type": "code",
   "execution_count": null,
   "id": "b395cd78",
   "metadata": {},
   "outputs": [],
   "source": [
    "\n",
    "# read the multigraph\n",
    "#G = GSNet\n",
    "# create weighted graph G2 from multigraph G\n",
    "G2 = nx.Graph()\n",
    "for u,v,data in GSNet.edges(data=True):\n",
    "    w = data['weight'] if 'weight' in data else 1.0\n",
    "    if G2.has_edge(u,v):\n",
    "        G2[u][v]['weight'] += w\n",
    "    else:\n",
    "        G2.add_edge(u, v, weight=w)\n",
    "\n",
    "zaposleni_multigraf = set(G2.nodes)\n",
    "\n",
    "print(\"Izolovani cvorovi:\")\n",
    "for z in GSNet.nodes:\n",
    "    if z not in zaposleni_multigraf:\n",
    "        G2.add_node(z)\n",
    "        print(z)\n",
    "\n",
    "\n",
    "#print(G2.edges(data=True))\n",
    "\n",
    "#nx.write_pajek(G2, \"etf/agregirano_etf.net\")\n",
    "# [(1, 2, {'weight': 26}), (2, 3, {'weight': 42})]"
   ]
  },
  {
   "cell_type": "code",
   "execution_count": null,
   "id": "8419ac61",
   "metadata": {},
   "outputs": [],
   "source": [
    "\n",
    "L = nx.laplacian_matrix(G2).toarray()\n",
    "\n",
    "eigenvalues = linalg.eigvals(L) # TODO: change to .eigenvalsh because we know the matrix is symmetric\n",
    "eigenvalues.sort()\n",
    "enumerator = np.array(range(1, len(eigenvalues)+1))\n",
    "df_eig = pd.DataFrame(list(zip(enumerator, eigenvalues)))\n",
    "\n",
    "# write eigenvalue table\n",
    "df_eig30 = df_eig[:30]\n",
    "df_eig30.columns = ['k', 'lambda_k']\n",
    "df_eig30 = df_eig30.astype({'k': 'int32', 'lambda_k':'float'})\n",
    "print(df_eig30)\n",
    "\n",
    "#doc = Document()\n",
    "#doc = docx.Document('tabela_eig.docx')\n",
    "t = doc.add_table(df_eig30.shape[0]+1, df_eig30.shape[1])\n",
    "t.cell(0,0).text = r'$k$'\n",
    "t.cell(0,1).text = r'$\\lambda_k$'\n",
    "for i in range(df_eig30.shape[0]):\n",
    "    for j in range(df_eig30.shape[-1]):\n",
    "        t.cell(i+1,j).text = str(df_eig30.values[i,j])\n",
    "#doc.save('etf/tabela_eig.docx')\n",
    "\n",
    "\n",
    "\n",
    "\n",
    "plot_scatterplot(enumerator, eigenvalues, r'$k$', r'$\\lambda_k$', 'Ceo spektar graf laplasijana')"
   ]
  },
  {
   "cell_type": "code",
   "execution_count": null,
   "id": "c1fb5b2a",
   "metadata": {},
   "outputs": [],
   "source": [
    "# prvih 30 sopstvenih vrednosti\n",
    "\n",
    "df_eig_30 = df_eig[:30]\n",
    "\n",
    "plot_scatterplot(df_eig_30.iloc[:,0], df_eig_30.iloc[:,1], r'$k$', r'$\\lambda_k$', 'Prvih 30 sopstvenih vrednosti graf laplasijana')\n"
   ]
  },
  {
   "cell_type": "code",
   "execution_count": null,
   "id": "96522643",
   "metadata": {},
   "outputs": [],
   "source": [
    "# eigengap\n",
    "\n",
    "\n",
    "df_gap = df_eig.iloc[:,1].diff()\n",
    "df_gap = df_gap.astype(np.float64)\n",
    "\n",
    "df_gap = df_gap[1:]\n",
    "enumerator_column = np.array(range(1, len(df_gap)+1))\n",
    "\n",
    "df_gap = pd.DataFrame(list(zip(enumerator_column, df_gap)))\n",
    "  \n",
    "plot_scatterplot(df_gap.iloc[:,0], df_gap.iloc[:,1], r'$k$', r'$\\lambda_{k+1}-\\lambda_k$','Eigengap')\n",
    "\n",
    "plot_scatterplot(df_gap.iloc[:30,0], df_gap.iloc[:30,1], r'$k$', r'$\\lambda_{k+1}-\\lambda_k$','Eigengap prvih 30 sopstvenih vrednosti graf laplasijana')"
   ]
  },
  {
   "cell_type": "code",
   "execution_count": null,
   "id": "779badf4",
   "metadata": {},
   "outputs": [],
   "source": [
    "def get_components2(L, component_number):\n",
    "    \n",
    "    evals, evecs = linalg.eig(L) # each column of evecs is an eigenvector\n",
    "\n",
    "    # take only real component of each eigenvalue, because eigenvalues of L are guaranteed to be real \n",
    "    evals = evals.real\n",
    "\n",
    "    # take only real component of each eigenvector, because eigenvectors of L are guaranteed to be real \n",
    "    evecs_temp = []\n",
    "    for e in evecs:\n",
    "        v = e.real\n",
    "        evecs_temp.append(v)    \n",
    "    evecs = evecs_temp\n",
    "    \n",
    "    evecs_horizontal_container = np.array(evecs).T #each row is an eigenvector\n",
    "\n",
    "    zipped = list(zip(evals, evecs_horizontal_container)) # pair eigenvalues and eigenvectors into eigenpairs\n",
    "    zipped.sort(key=lambda tup: tup[0]) # sort eigenpairs by eigenvalue\n",
    "    evals, evecs = zip(*zipped) # evecs is now horizontal, but ordered by paired eigenvalue size\n",
    "    eigenspace0_basis = evecs[:component_number] # take only the first component_number eigenvectors \n",
    "    #eigenspace0_basis = filter_matrix(eigenspace0_basis, math.pow(10, -15)) # filter values close to 0\n",
    "\n",
    "    #print(\"EVM:\")\n",
    "    #EV_mat = np.array(list(eigenspace0_basis)).T\n",
    "    #print(pd.DataFrame(EV_mat))\n",
    "    \n",
    "    IV_rref, _ = sympy.Matrix(eigenspace0_basis).rref()\n",
    "    print(IV_rref)\n",
    "    \n",
    "    \n",
    "    # transformation into indicator vectors\n",
    "    #indicator_vector_container = []\n",
    "    #for eigenvector in eigenspace0_basis:\n",
    "        \n",
    "    #    max_component = max([abs(c) for c in eigenvector])\n",
    "    #    indicator_vector = [abs(c/max_component) for c in eigenvector] # normalization to 1's and 0's\n",
    "    #    indicator_vector_container.append(indicator_vector)\n",
    "    \n",
    "    #print(\"Indicator vector matrix:\")\n",
    "    IV_mat = np.array(IV_rref).T\n",
    "    #print(pd.DataFrame(IV_mat))\n",
    "        \n",
    "    components = []\n",
    "    IV_rref = np.array(IV_rref)\n",
    "    for iv in IV_rref:\n",
    "        component = []\n",
    "        for i, c in enumerate(iv):\n",
    "            if in_range(c, 1.0, math.pow(10, -12)):\n",
    "                component.append(i)\n",
    "        components.append(component)\n",
    "    \n",
    "    return components"
   ]
  },
  {
   "cell_type": "code",
   "execution_count": 20,
   "id": "901b6f38",
   "metadata": {},
   "outputs": [],
   "source": [
    "def in_range(value, target, tolerated_error):\n",
    "    return abs(value-target) < tolerated_error\n",
    "\n",
    "def filter_matrix(m, tolerated_error):\n",
    "    new_matrix = []\n",
    "    for row in m:\n",
    "        new_row = []\n",
    "        for value in row:\n",
    "            if in_range(0 , value, tolerated_error):\n",
    "                new_row.append(0.0)\n",
    "            else:\n",
    "                new_row.append(value)\n",
    "        new_matrix.append(new_row)\n",
    "    return new_matrix\n",
    "\n",
    "def get_components(L, component_number):\n",
    "    \n",
    "    evals, evecs = linalg.eig(L) # each column of evecs is an eigenvector\n",
    "\n",
    "    # take only real component of each eigenvalue, because eigenvalues of L are guaranteed to be real \n",
    "    evals = evals.real\n",
    "\n",
    "    # take only real component of each eigenvector, because eigenvectors of L are guaranteed to be real \n",
    "    evecs_temp = []\n",
    "    for e in evecs:\n",
    "        v = e.real\n",
    "        evecs_temp.append(v)    \n",
    "    evecs = evecs_temp\n",
    "    \n",
    "    evecs_horizontal_container = np.array(evecs).T #each row is an eigenvector\n",
    "\n",
    "    zipped = list(zip(evals, evecs_horizontal_container)) # pair eigenvalues and eigenvectors into eigenpairs\n",
    "    zipped.sort(key=lambda tup: tup[0]) # sort eigenpairs by eigenvalue\n",
    "    evals, evecs = zip(*zipped) # evecs is now horizontal, but ordered by paired eigenvalue size\n",
    "    eigenspace0_basis = evecs[:component_number] # take only the first component_number eigenvectors \n",
    "\n",
    "\n",
    "    print(\"EVM:\")\n",
    "    EV_mat = np.array(list(eigenspace0_basis)).T\n",
    "    print(pd.DataFrame(EV_mat))\n",
    "    \n",
    "    # transformation into indicator vectors\n",
    "    indicator_vector_container = []\n",
    "    for eigenvector in eigenspace0_basis:\n",
    "        \n",
    "        max_component = max([abs(c) for c in eigenvector])\n",
    "        indicator_vector = [abs(c/max_component) for c in eigenvector] # normalization to 1's and 0's\n",
    "        indicator_vector_container.append(indicator_vector)\n",
    "    \n",
    "    print(\"Indicator vector matrix:\")\n",
    "    IV_mat = np.array(indicator_vector_container).T\n",
    "    print(pd.DataFrame(IV_mat))\n",
    "        \n",
    "    components = []\n",
    "    for iv in indicator_vector_container:\n",
    "        component = []\n",
    "        for i, c in enumerate(iv):\n",
    "            if in_range(c, 1.0, math.pow(10, -12)):\n",
    "                component.append(i)\n",
    "        components.append(component)\n",
    "    \n",
    "    return components\n"
   ]
  },
  {
   "cell_type": "code",
   "execution_count": null,
   "id": "30b5e811",
   "metadata": {},
   "outputs": [],
   "source": [
    "#test\n",
    "W = [[0,0,0,0,0,0], [0,0,1,0,0,0,], [0,1,0,0,0,0,], [0,0,0,0,1,1],[0,0,0,1,0,1],[0,0,0,1,1,0]]\n",
    "D = np.diag([0,1,1,2,2,2])\n",
    "Test_L = D - np.array(W)\n",
    "get_components3(Test_L,3)"
   ]
  },
  {
   "cell_type": "code",
   "execution_count": null,
   "id": "58e7b417",
   "metadata": {},
   "outputs": [],
   "source": [
    "# partition G2 to components\n",
    "components = get_components3(L, 21)\n",
    "\n",
    "#print(components)\n",
    "component_sizes = [len(c) for c in components]\n",
    "print(component_sizes)\n",
    "print(sum(component_sizes))\n",
    "zipped = list(zip(component_sizes, components)) # pair component sizes and components\n",
    "zipped.sort(key=lambda tup: tup[0], reverse = True) # sort pairs by component size\n",
    "component_sizes, components = zip(*zipped) \n",
    "#print(component_sizes)\n",
    "#print(sum(component_sizes))\n",
    "\n",
    "dominant_component_indexes = components[0]\n",
    "\n",
    "dominant_component_labels = []\n",
    "for i, label in enumerate(list(G2.nodes())):\n",
    "    if i in dominant_component_indexes:\n",
    "        dominant_component_labels.append(label)\n",
    "\n",
    "#print(dominant_component_indexes)\n",
    "#print(dominant_component_labels)"
   ]
  },
  {
   "cell_type": "code",
   "execution_count": null,
   "id": "c71bc77f",
   "metadata": {},
   "outputs": [],
   "source": [
    "dominant_component = G2.subgraph(dominant_component_labels)\n",
    "for k in range(2, 30):\n",
    "    \n",
    "    clustering = SpectralClustering(n_clusters=k,\n",
    "    assign_labels=\"discretize\", affinity=\"precomputed\").fit(nx.adjacency_matrix(dominant_component))\n",
    "\n",
    "    colors = clustering.labels_\n",
    "    c_string = []\n",
    "    for c in colors:\n",
    "        c_string.append(str(c))\n",
    "\n",
    "    G = nx.Graph()\n",
    "    for c, label in zip(c_string, dominant_component.nodes()):\n",
    "        G.add_node(label, color=c)\n",
    "\n",
    "    for edge in dominant_component.edges(data=True):\n",
    "        #print(edge)\n",
    "        G.add_edge(edge[0], edge[1], weight=edge[2]['weight'])\n",
    "\n",
    "    # nx.write_pajek(G, \"etf/spectral3.net\")\n",
    "    nx.write_gml(G, f\"etf/spectral/spectral{k}.gml\")\n",
    "    \n",
    "    csizes = np.zeros(k)\n",
    "    for c in colors:\n",
    "        csizes[int(c)] += 1\n",
    "    \n",
    "    print(f\"Podela na {k}: velicine komponenata su {csizes.astype(int)}\")"
   ]
  },
  {
   "cell_type": "markdown",
   "id": "6f52a3c2",
   "metadata": {},
   "source": [
    "## Louvain metod"
   ]
  },
  {
   "cell_type": "markdown",
   "id": "02d33e05",
   "metadata": {},
   "source": [
    "Svi čvorovi SNetT grane su unutar jedne komune. Bilo kakvim povećavanjem rezolucije, modularnost ostaje ista, a broj komuna je 1, a veličina je 39 čvorova."
   ]
  },
  {
   "cell_type": "markdown",
   "id": "78a35926",
   "metadata": {},
   "source": [
    "## Mostovi"
   ]
  },
  {
   "cell_type": "code",
   "execution_count": 57,
   "id": "e669d72d",
   "metadata": {},
   "outputs": [
    {
     "name": "stdout",
     "output_type": "stream",
     "text": [
      "[]\n"
     ]
    }
   ],
   "source": [
    "mostovi=nx.bridges(GSNet)\n",
    "mostovi=list(mostovi)\n",
    "print(mostovi)"
   ]
  },
  {
   "cell_type": "markdown",
   "id": "2e83e4a8",
   "metadata": {},
   "source": [
    "Nema mostova."
   ]
  },
  {
   "cell_type": "code",
   "execution_count": null,
   "id": "4c9f410e",
   "metadata": {},
   "outputs": [],
   "source": []
  }
 ],
 "metadata": {
  "kernelspec": {
   "display_name": "Python 3",
   "language": "python",
   "name": "python3"
  },
  "language_info": {
   "codemirror_mode": {
    "name": "ipython",
    "version": 3
   },
   "file_extension": ".py",
   "mimetype": "text/x-python",
   "name": "python",
   "nbconvert_exporter": "python",
   "pygments_lexer": "ipython3",
   "version": "3.8.8"
  }
 },
 "nbformat": 4,
 "nbformat_minor": 5
}
