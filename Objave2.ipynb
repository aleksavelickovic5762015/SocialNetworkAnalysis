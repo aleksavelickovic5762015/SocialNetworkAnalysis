{
 "cells": [
  {
   "cell_type": "code",
   "execution_count": 2,
   "id": "7fe6cd2c",
   "metadata": {},
   "outputs": [],
   "source": [
    "import pandas as pd "
   ]
  },
  {
   "cell_type": "code",
   "execution_count": null,
   "id": "e4d2e11d",
   "metadata": {},
   "outputs": [],
   "source": [
    "data=pd.read_csv(\"data/reddit2008/submissions_2008_asm/csv-0.csv\").append(pd.read_csv(\"data/reddit2008/submissions_2008_asm/csv-1.csv\")).append(pd.read_csv(\"data/reddit2008/submissions_2008_asm/csv-2.csv\")).append(pd.read_csv(\"data/reddit2008/submissions_2008_asm/csv-3.csv\")).append(pd.read_csv(\"data/reddit2008/submissions_2008_asm/csv-4.csv\")).append(pd.read_csv(\"data/reddit2008/submissions_2008_asm/csv-5.csv\")).append(pd.read_csv(\"data/reddit2008/submissions_2008_asm/csv-6.csv\")).append(pd.read_csv(\"data/reddit2008/submissions_2008_asm/csv-7.csv\")).append(pd.read_csv(\"data/reddit2008/submissions_2008_asm/csv-8.csv\")).append(pd.read_csv(\"data/reddit2008/submissions_2008_asm/csv-9.csv\")).append(pd.read_csv(\"data/reddit2008/submissions_2008_asm/csv-10.csv\")).append(pd.read_csv(\"data/reddit2008/submissions_2008_asm/csv-11.csv\"))\n",
    "\n",
    "data.reset_index(drop=True, inplace=True)\n",
    "\n",
    "data = data.iloc[:,1:] #Zanemari Unnamed kolonu\n",
    "print(data)"
   ]
  },
  {
   "cell_type": "code",
   "execution_count": 4,
   "id": "c71ee4ac",
   "metadata": {},
   "outputs": [
    {
     "name": "stdout",
     "output_type": "stream",
     "text": [
      "0          False\n",
      "1          False\n",
      "2           True\n",
      "3          False\n",
      "4          False\n",
      "           ...  \n",
      "2519848    False\n",
      "2519849     True\n",
      "2519850     True\n",
      "2519851     True\n",
      "2519852    False\n",
      "Name: author, Length: 2519853, dtype: bool\n",
      "            id                                                url  \\\n",
      "2        648oq  http://dlweinreb.wordpress.com/2007/12/31/obje...   \n",
      "13       648p1                      http://tencartrain.com/?p=427   \n",
      "18       648p6          http://cutlassimages.com/content/view/60/   \n",
      "19       648p7  http://www.opednews.com/maxwrite/diarypage.php...   \n",
      "24       648pc         http://www.youtube.com/watch?v=xJY4xoRWO9U   \n",
      "...        ...                                                ...   \n",
      "2519842  7mq3l                  http://www.lecrazyhorseparis.com/   \n",
      "2519846  7mq3p  http://seattlepi.nwsource.com/opinion/394001_h...   \n",
      "2519849  7mq3s            http://xs434.xs.to/xs434/08013/a312.jpg   \n",
      "2519850  7mq3t  http://unemployedguide.blogspot.com/2008/12/la...   \n",
      "2519851  7mq3u  http://www.youtube.com/watch?v=AnGpJ3_MnYQ&amp...   \n",
      "\n",
      "                                                 permalink  \n",
      "2        /r/programming/comments/648oq/the_engineering_...  \n",
      "13       /r/reddit.com/comments/648p1/i_tore_open_the_g...  \n",
      "18       /r/reddit.com/comments/648p6/hall_of_fame_mari...  \n",
      "19       /r/reddit.com/comments/648p7/whyronpaulwilltak...  \n",
      "24       /r/reddit.com/comments/648pc/a_leprechaun_is_l...  \n",
      "...                                                    ...  \n",
      "2519842  /r/reddit.com/comments/7mq3l/were_watching_cra...  \n",
      "2519846  /r/politics/comments/7mq3p/delusional_bush_fee...  \n",
      "2519849                   /r/ass/comments/7mq3s/francesca/  \n",
      "2519850     /r/nsfw/comments/7mq3t/laura_ingrahams_embryo/  \n",
      "2519851  /r/gaming/comments/7mq3u/splinter_cell_double_...  \n",
      "\n",
      "[475043 rows x 3 columns]\n"
     ]
    }
   ],
   "source": [
    "ima_autora=data['author']=='[deleted]'    #postoje obrisani nalozi korisnika, njih ukloniti\n",
    "print(ima_autora)\n",
    "data_noAuth=data[ima_autora]\n",
    "labele=['id','url','permalink']\n",
    "data_bezAutora=data_noAuth[labele]\n",
    "print(data_bezAutora)"
   ]
  },
  {
   "cell_type": "code",
   "execution_count": 5,
   "id": "fbfc7574",
   "metadata": {},
   "outputs": [
    {
     "name": "stdout",
     "output_type": "stream",
     "text": [
      "False\n"
     ]
    }
   ],
   "source": [
    "print(data['id'].isnull().values.any())   #Id kolona nema prazne kolone"
   ]
  },
  {
   "cell_type": "code",
   "execution_count": 6,
   "id": "f516e467",
   "metadata": {},
   "outputs": [
    {
     "name": "stdout",
     "output_type": "stream",
     "text": [
      "True\n"
     ]
    }
   ],
   "source": [
    "print(data['id'].is_unique)     #Id kolona ima sve jedinstvene vrednosti"
   ]
  },
  {
   "cell_type": "code",
   "execution_count": 7,
   "id": "582d5f94",
   "metadata": {},
   "outputs": [
    {
     "data": {
      "text/plain": [
       "id               False\n",
       "url              False\n",
       "permalink        False\n",
       "author           False\n",
       "created_utc      False\n",
       "subreddit        False\n",
       "subreddit_id     False\n",
       "num_comments     False\n",
       "score            False\n",
       "over_18          False\n",
       "distinguished     True\n",
       "domain            True\n",
       "stickied         False\n",
       "locked           False\n",
       "hide_score       False\n",
       "dtype: bool"
      ]
     },
     "execution_count": 7,
     "metadata": {},
     "output_type": "execute_result"
    }
   ],
   "source": [
    "data.isna().any()          #samo polje domain je ostavljeno da bude null, osim za distinguished polje koje moze biti null"
   ]
  },
  {
   "cell_type": "code",
   "execution_count": 8,
   "id": "d5b6c7cc",
   "metadata": {},
   "outputs": [
    {
     "name": "stdout",
     "output_type": "stream",
     "text": [
      "id               object\n",
      "url              object\n",
      "permalink        object\n",
      "author           object\n",
      "created_utc       int64\n",
      "subreddit        object\n",
      "subreddit_id     object\n",
      "num_comments      int64\n",
      "score             int64\n",
      "over_18            bool\n",
      "distinguished    object\n",
      "domain           object\n",
      "stickied           bool\n",
      "locked             bool\n",
      "hide_score         bool\n",
      "dtype: object\n"
     ]
    }
   ],
   "source": [
    "print(data.dtypes)   #distinguished polje sumnjivo koje je float64 tipa (NaN-nedostajuca vrednost)"
   ]
  },
  {
   "cell_type": "code",
   "execution_count": null,
   "id": "6d9c602b",
   "metadata": {},
   "outputs": [],
   "source": [
    "ima_domena=data['domain'].isnull()\n",
    "print(ima_domena)\n",
    "print(data[ima_domena])    #ima praznih domena, samo za jednog, valjda treba da se obrise\n",
    "#data_noDom2=data2[ima_domena]\n",
    "#labele=['id','url','permalink', 'domain']\n",
    "#data_bezAutora2=data_noDom2[labele]\n",
    "#print(data_bezAutora2)"
   ]
  },
  {
   "cell_type": "code",
   "execution_count": null,
   "id": "f2ac62cb",
   "metadata": {},
   "outputs": [],
   "source": [
    "data.drop(data[data['author']=='[deleted]'].index, inplace=True)  #brisanje izbrisanih naloga\n",
    "print(data)"
   ]
  },
  {
   "cell_type": "code",
   "execution_count": 11,
   "id": "8aea6134",
   "metadata": {},
   "outputs": [
    {
     "data": {
      "text/html": [
       "<div>\n",
       "<style scoped>\n",
       "    .dataframe tbody tr th:only-of-type {\n",
       "        vertical-align: middle;\n",
       "    }\n",
       "\n",
       "    .dataframe tbody tr th {\n",
       "        vertical-align: top;\n",
       "    }\n",
       "\n",
       "    .dataframe thead th {\n",
       "        text-align: right;\n",
       "    }\n",
       "</style>\n",
       "<table border=\"1\" class=\"dataframe\">\n",
       "  <thead>\n",
       "    <tr style=\"text-align: right;\">\n",
       "      <th></th>\n",
       "      <th>id</th>\n",
       "      <th>url</th>\n",
       "      <th>permalink</th>\n",
       "      <th>author</th>\n",
       "      <th>created_utc</th>\n",
       "      <th>subreddit</th>\n",
       "      <th>subreddit_id</th>\n",
       "      <th>num_comments</th>\n",
       "      <th>score</th>\n",
       "      <th>over_18</th>\n",
       "      <th>distinguished</th>\n",
       "      <th>domain</th>\n",
       "      <th>stickied</th>\n",
       "      <th>locked</th>\n",
       "      <th>hide_score</th>\n",
       "    </tr>\n",
       "  </thead>\n",
       "  <tbody>\n",
       "    <tr>\n",
       "      <th>72</th>\n",
       "      <td>648qo</td>\n",
       "      <td>http://bank--of-america.blogspot.com/2007/12/a...</td>\n",
       "      <td>/r/reddit.com/comments/648qo/auto_loans_from_b...</td>\n",
       "      <td>joriah2</td>\n",
       "      <td>1199147590</td>\n",
       "      <td>reddit.com</td>\n",
       "      <td>t5_6</td>\n",
       "      <td>1</td>\n",
       "      <td>0</td>\n",
       "      <td>False</td>\n",
       "      <td>NaN</td>\n",
       "      <td>bank--of-america.blogspot.com</td>\n",
       "      <td>False</td>\n",
       "      <td>False</td>\n",
       "      <td>False</td>\n",
       "    </tr>\n",
       "    <tr>\n",
       "      <th>765</th>\n",
       "      <td>6499x</td>\n",
       "      <td>http://mominneed.com/help-with-financial-issue...</td>\n",
       "      <td>/r/reddit.com/comments/6499x/credit_repair_cre...</td>\n",
       "      <td>rtanioka</td>\n",
       "      <td>1199178585</td>\n",
       "      <td>reddit.com</td>\n",
       "      <td>t5_6</td>\n",
       "      <td>1</td>\n",
       "      <td>1</td>\n",
       "      <td>False</td>\n",
       "      <td>NaN</td>\n",
       "      <td>mominneed.com</td>\n",
       "      <td>False</td>\n",
       "      <td>False</td>\n",
       "      <td>False</td>\n",
       "    </tr>\n",
       "    <tr>\n",
       "      <th>1043</th>\n",
       "      <td>649hn</td>\n",
       "      <td>http://[http://Irelandyoutube.Blogspot.com/]</td>\n",
       "      <td>/r/reddit.com/comments/649hn/irelanyoutube/</td>\n",
       "      <td>BrianClarkeNUJ</td>\n",
       "      <td>1199192550</td>\n",
       "      <td>reddit.com</td>\n",
       "      <td>t5_6</td>\n",
       "      <td>0</td>\n",
       "      <td>0</td>\n",
       "      <td>False</td>\n",
       "      <td>NaN</td>\n",
       "      <td>[http</td>\n",
       "      <td>False</td>\n",
       "      <td>False</td>\n",
       "      <td>False</td>\n",
       "    </tr>\n",
       "    <tr>\n",
       "      <th>2679</th>\n",
       "      <td>64ar4</td>\n",
       "      <td>http://video--s.com/funny/</td>\n",
       "      <td>/r/reddit.com/comments/64ar4/funny_video_compi...</td>\n",
       "      <td>gavrem</td>\n",
       "      <td>1199237140</td>\n",
       "      <td>reddit.com</td>\n",
       "      <td>t5_6</td>\n",
       "      <td>1</td>\n",
       "      <td>1</td>\n",
       "      <td>False</td>\n",
       "      <td>NaN</td>\n",
       "      <td>video--s.com</td>\n",
       "      <td>False</td>\n",
       "      <td>False</td>\n",
       "      <td>False</td>\n",
       "    </tr>\n",
       "    <tr>\n",
       "      <th>2715</th>\n",
       "      <td>64as4</td>\n",
       "      <td>http://video--s.com/</td>\n",
       "      <td>/r/reddit.com/comments/64as4/make_money_online...</td>\n",
       "      <td>gavrem</td>\n",
       "      <td>1199238379</td>\n",
       "      <td>reddit.com</td>\n",
       "      <td>t5_6</td>\n",
       "      <td>1</td>\n",
       "      <td>1</td>\n",
       "      <td>False</td>\n",
       "      <td>NaN</td>\n",
       "      <td>video--s.com</td>\n",
       "      <td>False</td>\n",
       "      <td>False</td>\n",
       "      <td>False</td>\n",
       "    </tr>\n",
       "    <tr>\n",
       "      <th>...</th>\n",
       "      <td>...</td>\n",
       "      <td>...</td>\n",
       "      <td>...</td>\n",
       "      <td>...</td>\n",
       "      <td>...</td>\n",
       "      <td>...</td>\n",
       "      <td>...</td>\n",
       "      <td>...</td>\n",
       "      <td>...</td>\n",
       "      <td>...</td>\n",
       "      <td>...</td>\n",
       "      <td>...</td>\n",
       "      <td>...</td>\n",
       "      <td>...</td>\n",
       "      <td>...</td>\n",
       "    </tr>\n",
       "    <tr>\n",
       "      <th>2514394</th>\n",
       "      <td>7mlt0</td>\n",
       "      <td>http://io9.com/5120311/to-boldly-go-there-a-hi...</td>\n",
       "      <td>/r/scifi/comments/7mlt0/nsfw_to_boldly_go_ther...</td>\n",
       "      <td>cvk</td>\n",
       "      <td>1230715004</td>\n",
       "      <td>scifi</td>\n",
       "      <td>t5_2qh2z</td>\n",
       "      <td>0</td>\n",
       "      <td>0</td>\n",
       "      <td>True</td>\n",
       "      <td>NaN</td>\n",
       "      <td>io9.com</td>\n",
       "      <td>False</td>\n",
       "      <td>False</td>\n",
       "      <td>False</td>\n",
       "    </tr>\n",
       "    <tr>\n",
       "      <th>2514786</th>\n",
       "      <td>7mm42</td>\n",
       "      <td>http://ggrob</td>\n",
       "      <td>/r/nl/comments/7mm42/real_resourcing_vacatures/</td>\n",
       "      <td>GGROB</td>\n",
       "      <td>1230719636</td>\n",
       "      <td>nl</td>\n",
       "      <td>t5_247d</td>\n",
       "      <td>0</td>\n",
       "      <td>1</td>\n",
       "      <td>False</td>\n",
       "      <td>NaN</td>\n",
       "      <td>ggrob</td>\n",
       "      <td>False</td>\n",
       "      <td>False</td>\n",
       "      <td>False</td>\n",
       "    </tr>\n",
       "    <tr>\n",
       "      <th>2515225</th>\n",
       "      <td>7mmgv</td>\n",
       "      <td>http://M</td>\n",
       "      <td>/r/programming/comments/7mmgv/message/</td>\n",
       "      <td>WasimAli2008</td>\n",
       "      <td>1230724740</td>\n",
       "      <td>programming</td>\n",
       "      <td>t5_2fwo</td>\n",
       "      <td>1</td>\n",
       "      <td>0</td>\n",
       "      <td>False</td>\n",
       "      <td>NaN</td>\n",
       "      <td>m</td>\n",
       "      <td>False</td>\n",
       "      <td>False</td>\n",
       "      <td>False</td>\n",
       "    </tr>\n",
       "    <tr>\n",
       "      <th>2515250</th>\n",
       "      <td>7mmhm</td>\n",
       "      <td>http://io9.com/5120311/to-boldly-go-there-a-hi...</td>\n",
       "      <td>/r/funny/comments/7mmhm/to_boldly_go_there_a_h...</td>\n",
       "      <td>cvk</td>\n",
       "      <td>1230725102</td>\n",
       "      <td>funny</td>\n",
       "      <td>t5_2qh33</td>\n",
       "      <td>0</td>\n",
       "      <td>0</td>\n",
       "      <td>True</td>\n",
       "      <td>NaN</td>\n",
       "      <td>io9.com</td>\n",
       "      <td>False</td>\n",
       "      <td>False</td>\n",
       "      <td>False</td>\n",
       "    </tr>\n",
       "    <tr>\n",
       "      <th>2518548</th>\n",
       "      <td>7mp32</td>\n",
       "      <td>http://Akeemolawale</td>\n",
       "      <td>/r/science/comments/7mp32/enter_a_title_or_cli...</td>\n",
       "      <td>Akeemolawale</td>\n",
       "      <td>1230754346</td>\n",
       "      <td>science</td>\n",
       "      <td>t5_mouw</td>\n",
       "      <td>0</td>\n",
       "      <td>1</td>\n",
       "      <td>False</td>\n",
       "      <td>NaN</td>\n",
       "      <td>akeemolawale</td>\n",
       "      <td>False</td>\n",
       "      <td>False</td>\n",
       "      <td>False</td>\n",
       "    </tr>\n",
       "  </tbody>\n",
       "</table>\n",
       "<p>2737 rows × 15 columns</p>\n",
       "</div>"
      ],
      "text/plain": [
       "            id                                                url  \\\n",
       "72       648qo  http://bank--of-america.blogspot.com/2007/12/a...   \n",
       "765      6499x  http://mominneed.com/help-with-financial-issue...   \n",
       "1043     649hn       http://[http://Irelandyoutube.Blogspot.com/]   \n",
       "2679     64ar4                         http://video--s.com/funny/   \n",
       "2715     64as4                               http://video--s.com/   \n",
       "...        ...                                                ...   \n",
       "2514394  7mlt0  http://io9.com/5120311/to-boldly-go-there-a-hi...   \n",
       "2514786  7mm42                                       http://ggrob   \n",
       "2515225  7mmgv                                           http://M   \n",
       "2515250  7mmhm  http://io9.com/5120311/to-boldly-go-there-a-hi...   \n",
       "2518548  7mp32                                http://Akeemolawale   \n",
       "\n",
       "                                                 permalink          author  \\\n",
       "72       /r/reddit.com/comments/648qo/auto_loans_from_b...         joriah2   \n",
       "765      /r/reddit.com/comments/6499x/credit_repair_cre...        rtanioka   \n",
       "1043           /r/reddit.com/comments/649hn/irelanyoutube/  BrianClarkeNUJ   \n",
       "2679     /r/reddit.com/comments/64ar4/funny_video_compi...          gavrem   \n",
       "2715     /r/reddit.com/comments/64as4/make_money_online...          gavrem   \n",
       "...                                                    ...             ...   \n",
       "2514394  /r/scifi/comments/7mlt0/nsfw_to_boldly_go_ther...             cvk   \n",
       "2514786    /r/nl/comments/7mm42/real_resourcing_vacatures/           GGROB   \n",
       "2515225             /r/programming/comments/7mmgv/message/    WasimAli2008   \n",
       "2515250  /r/funny/comments/7mmhm/to_boldly_go_there_a_h...             cvk   \n",
       "2518548  /r/science/comments/7mp32/enter_a_title_or_cli...    Akeemolawale   \n",
       "\n",
       "         created_utc    subreddit subreddit_id  num_comments  score  over_18  \\\n",
       "72        1199147590   reddit.com         t5_6             1      0    False   \n",
       "765       1199178585   reddit.com         t5_6             1      1    False   \n",
       "1043      1199192550   reddit.com         t5_6             0      0    False   \n",
       "2679      1199237140   reddit.com         t5_6             1      1    False   \n",
       "2715      1199238379   reddit.com         t5_6             1      1    False   \n",
       "...              ...          ...          ...           ...    ...      ...   \n",
       "2514394   1230715004        scifi     t5_2qh2z             0      0     True   \n",
       "2514786   1230719636           nl      t5_247d             0      1    False   \n",
       "2515225   1230724740  programming      t5_2fwo             1      0    False   \n",
       "2515250   1230725102        funny     t5_2qh33             0      0     True   \n",
       "2518548   1230754346      science      t5_mouw             0      1    False   \n",
       "\n",
       "        distinguished                         domain  stickied  locked  \\\n",
       "72                NaN  bank--of-america.blogspot.com     False   False   \n",
       "765               NaN                  mominneed.com     False   False   \n",
       "1043              NaN                          [http     False   False   \n",
       "2679              NaN                   video--s.com     False   False   \n",
       "2715              NaN                   video--s.com     False   False   \n",
       "...               ...                            ...       ...     ...   \n",
       "2514394           NaN                        io9.com     False   False   \n",
       "2514786           NaN                          ggrob     False   False   \n",
       "2515225           NaN                              m     False   False   \n",
       "2515250           NaN                        io9.com     False   False   \n",
       "2518548           NaN                   akeemolawale     False   False   \n",
       "\n",
       "         hide_score  \n",
       "72            False  \n",
       "765           False  \n",
       "1043          False  \n",
       "2679          False  \n",
       "2715          False  \n",
       "...             ...  \n",
       "2514394       False  \n",
       "2514786       False  \n",
       "2515225       False  \n",
       "2515250       False  \n",
       "2518548       False  \n",
       "\n",
       "[2737 rows x 15 columns]"
      ]
     },
     "execution_count": 11,
     "metadata": {},
     "output_type": "execute_result"
    }
   ],
   "source": [
    "import validators                  #ne valjaju linkovi, brisati ih\n",
    "mask = data['url'].apply(validators.url) != True\n",
    "data[mask]"
   ]
  },
  {
   "cell_type": "code",
   "execution_count": null,
   "id": "f07b0329",
   "metadata": {},
   "outputs": [],
   "source": [
    "data.drop(data[mask].index, inplace=True)  #brisanje neispravnih linkova\n",
    "print(data)"
   ]
  },
  {
   "cell_type": "code",
   "execution_count": 13,
   "id": "7dfcdef4",
   "metadata": {},
   "outputs": [
    {
     "data": {
      "text/plain": [
       "id               False\n",
       "url              False\n",
       "permalink        False\n",
       "author           False\n",
       "created_utc      False\n",
       "subreddit        False\n",
       "subreddit_id     False\n",
       "num_comments     False\n",
       "score            False\n",
       "over_18          False\n",
       "distinguished     True\n",
       "domain           False\n",
       "stickied         False\n",
       "locked           False\n",
       "hide_score       False\n",
       "dtype: bool"
      ]
     },
     "execution_count": 13,
     "metadata": {},
     "output_type": "execute_result"
    }
   ],
   "source": [
    "data.isna().any() "
   ]
  },
  {
   "cell_type": "code",
   "execution_count": 14,
   "id": "bf41e244",
   "metadata": {},
   "outputs": [
    {
     "name": "stdout",
     "output_type": "stream",
     "text": [
      "True\n"
     ]
    }
   ],
   "source": [
    "print(data.index.is_unique) #u redu"
   ]
  },
  {
   "cell_type": "code",
   "execution_count": 15,
   "id": "fa437bec",
   "metadata": {},
   "outputs": [
    {
     "name": "stdout",
     "output_type": "stream",
     "text": [
      "True\n"
     ]
    }
   ],
   "source": [
    "print(data['id'].is_unique)     #Id kolona ima sve jedinstvene vrednosti"
   ]
  },
  {
   "cell_type": "code",
   "execution_count": 16,
   "id": "a17b6248",
   "metadata": {},
   "outputs": [
    {
     "name": "stdout",
     "output_type": "stream",
     "text": [
      "(2042073, 15)\n"
     ]
    }
   ],
   "source": [
    "print(data.shape)"
   ]
  },
  {
   "cell_type": "code",
   "execution_count": 18,
   "id": "45264155",
   "metadata": {},
   "outputs": [],
   "source": [
    "data.reset_index(drop=True, inplace=True)"
   ]
  },
  {
   "cell_type": "code",
   "execution_count": 19,
   "id": "0f59bd14",
   "metadata": {},
   "outputs": [],
   "source": [
    "import pickle\n",
    "with open(\"data/submissions_cleaned\", 'wb') as file:\n",
    "    pickle.dump(data, file)"
   ]
  },
  {
   "cell_type": "code",
   "execution_count": null,
   "id": "c31f343e",
   "metadata": {},
   "outputs": [],
   "source": []
  }
 ],
 "metadata": {
  "kernelspec": {
   "display_name": "Python 3",
   "language": "python",
   "name": "python3"
  },
  "language_info": {
   "codemirror_mode": {
    "name": "ipython",
    "version": 3
   },
   "file_extension": ".py",
   "mimetype": "text/x-python",
   "name": "python",
   "nbconvert_exporter": "python",
   "pygments_lexer": "ipython3",
   "version": "3.8.8"
  }
 },
 "nbformat": 4,
 "nbformat_minor": 5
}
