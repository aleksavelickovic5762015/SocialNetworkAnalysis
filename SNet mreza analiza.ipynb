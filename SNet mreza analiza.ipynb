{
 "cells": [
  {
   "cell_type": "markdown",
   "id": "653d69de",
   "metadata": {},
   "source": [
    "## SNet mreža-analiza ##"
   ]
  },
  {
   "cell_type": "code",
   "execution_count": 1,
   "id": "2a7d1305",
   "metadata": {},
   "outputs": [],
   "source": [
    "from collections import Counter\n",
    "from operator import itemgetter\n",
    "import matplotlib.pyplot as plt"
   ]
  },
  {
   "cell_type": "code",
   "execution_count": 2,
   "id": "d5aca82a",
   "metadata": {},
   "outputs": [],
   "source": [
    "import networkx as nx\n",
    "import pandas as pd\n",
    "import scipy.stats as stats\n",
    "import numpy as np\n",
    "import pickle"
   ]
  },
  {
   "cell_type": "code",
   "execution_count": 3,
   "id": "4e10cdad",
   "metadata": {},
   "outputs": [],
   "source": [
    "input_path = \"models/undirected_count_aggregationSNET.gml\" \n",
    "\n",
    "GSNet = nx.Graph(nx.read_gml(input_path)) "
   ]
  },
  {
   "cell_type": "code",
   "execution_count": null,
   "id": "fc3cce22",
   "metadata": {},
   "outputs": [],
   "source": [
    "GSNet.nodes()"
   ]
  },
  {
   "cell_type": "code",
   "execution_count": 6,
   "id": "78459669",
   "metadata": {},
   "outputs": [
    {
     "name": "stdout",
     "output_type": "stream",
     "text": [
      "4174\n"
     ]
    }
   ],
   "source": [
    "print(len(GSNet))"
   ]
  },
  {
   "cell_type": "code",
   "execution_count": null,
   "id": "73242b63",
   "metadata": {},
   "outputs": [],
   "source": [
    "print(GSNet.edges['geek','reddit.com'])"
   ]
  },
  {
   "cell_type": "markdown",
   "id": "fee93c4e",
   "metadata": {},
   "source": [
    "## Gustina mreže ##"
   ]
  },
  {
   "cell_type": "code",
   "execution_count": 31,
   "id": "a9ee9e3e",
   "metadata": {},
   "outputs": [
    {
     "name": "stdout",
     "output_type": "stream",
     "text": [
      "0.01559630320226624\n"
     ]
    }
   ],
   "source": [
    "print(nx.density(GSNet))"
   ]
  },
  {
   "cell_type": "markdown",
   "id": "959c8b26",
   "metadata": {},
   "source": [
    "## Povezane komponente grafa SNet ##"
   ]
  },
  {
   "cell_type": "code",
   "execution_count": 40,
   "id": "369fed55",
   "metadata": {},
   "outputs": [
    {
     "name": "stdout",
     "output_type": "stream",
     "text": [
      "False\n"
     ]
    }
   ],
   "source": [
    "print(nx.is_connected(GSNet))"
   ]
  },
  {
   "cell_type": "code",
   "execution_count": 103,
   "id": "0a9f1ce1",
   "metadata": {},
   "outputs": [
    {
     "name": "stdout",
     "output_type": "stream",
     "text": [
      "Broj povezanih komponenti:790\n",
      "Lista povezanih komponenti:\n",
      "[3364, 3, 3, 3, 2, 2, 2, 2, 2, 2, 2, 2, 2, 2, 2, 2, 2, 2, 2, 1, 1, 1, 1, 1, 1, 1, 1, 1, 1, 1, 1, 1, 1, 1, 1, 1, 1, 1, 1, 1, 1, 1, 1, 1, 1, 1, 1, 1, 1, 1, 1, 1, 1, 1, 1, 1, 1, 1, 1, 1, 1, 1, 1, 1, 1, 1, 1, 1, 1, 1, 1, 1, 1, 1, 1, 1, 1, 1, 1, 1, 1, 1, 1, 1, 1, 1, 1, 1, 1, 1, 1, 1, 1, 1, 1, 1, 1, 1, 1, 1, 1, 1, 1, 1, 1, 1, 1, 1, 1, 1, 1, 1, 1, 1, 1, 1, 1, 1, 1, 1, 1, 1, 1, 1, 1, 1, 1, 1, 1, 1, 1, 1, 1, 1, 1, 1, 1, 1, 1, 1, 1, 1, 1, 1, 1, 1, 1, 1, 1, 1, 1, 1, 1, 1, 1, 1, 1, 1, 1, 1, 1, 1, 1, 1, 1, 1, 1, 1, 1, 1, 1, 1, 1, 1, 1, 1, 1, 1, 1, 1, 1, 1, 1, 1, 1, 1, 1, 1, 1, 1, 1, 1, 1, 1, 1, 1, 1, 1, 1, 1, 1, 1, 1, 1, 1, 1, 1, 1, 1, 1, 1, 1, 1, 1, 1, 1, 1, 1, 1, 1, 1, 1, 1, 1, 1, 1, 1, 1, 1, 1, 1, 1, 1, 1, 1, 1, 1, 1, 1, 1, 1, 1, 1, 1, 1, 1, 1, 1, 1, 1, 1, 1, 1, 1, 1, 1, 1, 1, 1, 1, 1, 1, 1, 1, 1, 1, 1, 1, 1, 1, 1, 1, 1, 1, 1, 1, 1, 1, 1, 1, 1, 1, 1, 1, 1, 1, 1, 1, 1, 1, 1, 1, 1, 1, 1, 1, 1, 1, 1, 1, 1, 1, 1, 1, 1, 1, 1, 1, 1, 1, 1, 1, 1, 1, 1, 1, 1, 1, 1, 1, 1, 1, 1, 1, 1, 1, 1, 1, 1, 1, 1, 1, 1, 1, 1, 1, 1, 1, 1, 1, 1, 1, 1, 1, 1, 1, 1, 1, 1, 1, 1, 1, 1, 1, 1, 1, 1, 1, 1, 1, 1, 1, 1, 1, 1, 1, 1, 1, 1, 1, 1, 1, 1, 1, 1, 1, 1, 1, 1, 1, 1, 1, 1, 1, 1, 1, 1, 1, 1, 1, 1, 1, 1, 1, 1, 1, 1, 1, 1, 1, 1, 1, 1, 1, 1, 1, 1, 1, 1, 1, 1, 1, 1, 1, 1, 1, 1, 1, 1, 1, 1, 1, 1, 1, 1, 1, 1, 1, 1, 1, 1, 1, 1, 1, 1, 1, 1, 1, 1, 1, 1, 1, 1, 1, 1, 1, 1, 1, 1, 1, 1, 1, 1, 1, 1, 1, 1, 1, 1, 1, 1, 1, 1, 1, 1, 1, 1, 1, 1, 1, 1, 1, 1, 1, 1, 1, 1, 1, 1, 1, 1, 1, 1, 1, 1, 1, 1, 1, 1, 1, 1, 1, 1, 1, 1, 1, 1, 1, 1, 1, 1, 1, 1, 1, 1, 1, 1, 1, 1, 1, 1, 1, 1, 1, 1, 1, 1, 1, 1, 1, 1, 1, 1, 1, 1, 1, 1, 1, 1, 1, 1, 1, 1, 1, 1, 1, 1, 1, 1, 1, 1, 1, 1, 1, 1, 1, 1, 1, 1, 1, 1, 1, 1, 1, 1, 1, 1, 1, 1, 1, 1, 1, 1, 1, 1, 1, 1, 1, 1, 1, 1, 1, 1, 1, 1, 1, 1, 1, 1, 1, 1, 1, 1, 1, 1, 1, 1, 1, 1, 1, 1, 1, 1, 1, 1, 1, 1, 1, 1, 1, 1, 1, 1, 1, 1, 1, 1, 1, 1, 1, 1, 1, 1, 1, 1, 1, 1, 1, 1, 1, 1, 1, 1, 1, 1, 1, 1, 1, 1, 1, 1, 1, 1, 1, 1, 1, 1, 1, 1, 1, 1, 1, 1, 1, 1, 1, 1, 1, 1, 1, 1, 1, 1, 1, 1, 1, 1, 1, 1, 1, 1, 1, 1, 1, 1, 1, 1, 1, 1, 1, 1, 1, 1, 1, 1, 1, 1, 1, 1, 1, 1, 1, 1, 1, 1, 1, 1, 1, 1, 1, 1, 1, 1, 1, 1, 1, 1, 1, 1, 1, 1, 1, 1, 1, 1, 1, 1, 1, 1, 1, 1, 1, 1, 1, 1, 1, 1, 1, 1, 1, 1, 1, 1, 1, 1, 1, 1, 1, 1, 1, 1, 1, 1, 1, 1, 1, 1, 1, 1, 1, 1, 1, 1, 1, 1, 1, 1, 1, 1, 1, 1, 1, 1, 1, 1, 1, 1, 1, 1, 1, 1, 1, 1, 1, 1, 1, 1, 1, 1, 1, 1, 1, 1, 1, 1, 1, 1, 1, 1, 1, 1, 1, 1, 1, 1, 1, 1, 1, 1, 1]\n"
     ]
    }
   ],
   "source": [
    "component_size_list=[len(c) for c in sorted(nx.connected_components(GSNet), key=len, reverse=True)]\n",
    "print(f'Broj povezanih komponenti:'+str(len(component_size_list)))\n",
    "print(f'Lista povezanih komponenti:')\n",
    "print(component_size_list)"
   ]
  },
  {
   "cell_type": "markdown",
   "id": "ec3eade8",
   "metadata": {},
   "source": [
    "## Dominantna komponenta ##"
   ]
  },
  {
   "cell_type": "code",
   "execution_count": 94,
   "id": "3d72d515",
   "metadata": {},
   "outputs": [
    {
     "name": "stdout",
     "output_type": "stream",
     "text": [
      "Dominantna komponenta ima 3364 cvorova i 135805 grana\n"
     ]
    }
   ],
   "source": [
    "dominant_cc=max(nx.connected_components(GSNet), key=len)\n",
    "Gdom=GSNet.subgraph(dominant_cc).copy()\n",
    "print(f\"Dominantna komponenta ima {len(Gdom.nodes())} cvorova i {len(Gdom.edges())} grana\")\n",
    "dom_path=\"models/dominantna_komponenta.gml\"\n",
    "nx.write_gml(Gdom, dom_path)"
   ]
  },
  {
   "cell_type": "markdown",
   "id": "b0e1b04a",
   "metadata": {},
   "source": [
    "## Dijametar mreže ##"
   ]
  },
  {
   "cell_type": "code",
   "execution_count": 39,
   "id": "29cbf2bb",
   "metadata": {},
   "outputs": [
    {
     "name": "stdout",
     "output_type": "stream",
     "text": [
      "5\n"
     ]
    }
   ],
   "source": [
    "print(nx.diameter(Gdom))"
   ]
  },
  {
   "cell_type": "markdown",
   "id": "9e213c05",
   "metadata": {},
   "source": [
    "## Prosečna distanca "
   ]
  },
  {
   "cell_type": "code",
   "execution_count": 68,
   "id": "e4e64070",
   "metadata": {},
   "outputs": [
    {
     "name": "stdout",
     "output_type": "stream",
     "text": [
      "2.1074294899060666\n"
     ]
    }
   ],
   "source": [
    "print(nx.average_shortest_path_length(Gdom))"
   ]
  },
  {
   "cell_type": "markdown",
   "id": "1cfef958",
   "metadata": {},
   "source": [
    "## Koeficijent klasterisanja ##"
   ]
  },
  {
   "cell_type": "code",
   "execution_count": 4,
   "id": "354bbacd",
   "metadata": {},
   "outputs": [],
   "source": [
    "subredit, clustering_coef=zip(*nx.clustering(GSNet, weight='weight').items())\n",
    "nenula=[(sub, cc) for sub, cc in zip(subredit, clustering_coef) if cc>0]\n",
    "\n",
    "dataFrameClu=pd.DataFrame(nenula, columns=['subreddit','clustering coeficient'])\n",
    "dataFrameClu.sort_values('clustering coeficient', inplace=True)"
   ]
  },
  {
   "cell_type": "code",
   "execution_count": 5,
   "id": "eae2c1ef",
   "metadata": {},
   "outputs": [
    {
     "name": "stdout",
     "output_type": "stream",
     "text": [
      "Prosečan stepen klasterisanja:0.619568930195543\n",
      "Lokalni stepeni klasterisanja:\n",
      "           subreddit  clustering coeficient\n",
      "2083         Turkiye               0.000012\n",
      "2562            Voto               0.000018\n",
      "2684  Ambientalmente               0.000035\n",
      "2604           Liang               0.000037\n",
      "184        breakgame               0.000037\n",
      "...              ...                    ...\n",
      "1716         ischool               0.001116\n",
      "1766            Fish               0.001140\n",
      "1469      Indyapulse               0.001153\n",
      "1664      ryanbulmer               0.001161\n",
      "502     Plugyoursite               0.001220\n",
      "\n",
      "[2849 rows x 2 columns]\n"
     ]
    }
   ],
   "source": [
    "prosecni_stepen_klasterisanja=nx.average_clustering(GSNet)\n",
    "print(f'Prosečan stepen klasterisanja:{prosecni_stepen_klasterisanja}')\n",
    "print('Lokalni stepeni klasterisanja:')\n",
    "print(dataFrameClu)"
   ]
  },
  {
   "cell_type": "code",
   "execution_count": 6,
   "id": "1a54522e",
   "metadata": {},
   "outputs": [
    {
     "data": {
      "text/plain": [
       "<seaborn.axisgrid.FacetGrid at 0x2a330343eb0>"
      ]
     },
     "execution_count": 6,
     "metadata": {},
     "output_type": "execute_result"
    },
    {
     "data": {
      "image/png": "[encoded data removed]",
      "text/plain": [
       "<Figure size 360x360 with 1 Axes>"
      ]
     },
     "metadata": {},
     "output_type": "display_data"
    }
   ],
   "source": [
    "import seaborn as sns\n",
    "sns.set(rc={'figure.figsize':(7,7)})\n",
    "ax=sns.displot(dataFrameClu['clustering coeficient'],\n",
    "              bins=100,\n",
    "              kde=True,\n",
    "              color='skyblue')\n",
    "ax.set(xlabel='Clustering', ylabel='Frequency')"
   ]
  },
  {
   "cell_type": "code",
   "execution_count": 48,
   "id": "90bfd292",
   "metadata": {},
   "outputs": [
    {
     "name": "stdout",
     "output_type": "stream",
     "text": [
      "Maksimalni stepen klasterisanja:\n",
      "        subreddit  clustering coeficient\n",
      "502  Plugyoursite                0.00122\n"
     ]
    }
   ],
   "source": [
    "print(f'Maksimalni stepen klasterisanja:')\n",
    "print(dataFrameClu.sort_values('clustering coeficient', ascending=False).head(1))"
   ]
  },
  {
   "cell_type": "code",
   "execution_count": 49,
   "id": "d13e5a39",
   "metadata": {},
   "outputs": [
    {
     "name": "stdout",
     "output_type": "stream",
     "text": [
      "Globalni koeficijent klasterisanja:\n",
      "0.26455544014478105\n"
     ]
    }
   ],
   "source": [
    "print(f'Globalni koeficijent klasterisanja:')\n",
    "print(nx.transitivity(GSNet))"
   ]
  },
  {
   "cell_type": "markdown",
   "id": "80c374b8",
   "metadata": {},
   "source": [
    "### Upoređivanje sa ER mrežom ###"
   ]
  },
  {
   "cell_type": "code",
   "execution_count": 50,
   "id": "29afa71c",
   "metadata": {},
   "outputs": [],
   "source": [
    "n=GSNet.number_of_nodes()\n",
    "m=GSNet.number_of_edges()"
   ]
  },
  {
   "cell_type": "code",
   "execution_count": 53,
   "id": "c6031b5c",
   "metadata": {},
   "outputs": [
    {
     "name": "stdout",
     "output_type": "stream",
     "text": [
      "0.01559630320226624\n",
      "Broj grana originalne mreže minus broj grana u ER mreži iznosi 717, što je odstupanje od 0.5278696007479993%\n"
     ]
    }
   ],
   "source": [
    "p=(2*float(m))/(n*(n-1))  #p=2*m/(n*(n-1)), p je verovatnoca formiranja grane takva da je ocekivani broj grana m\n",
    "print(p)\n",
    "er=nx.erdos_renyi_graph(n,p)\n",
    "delta_m=m-er.number_of_edges()\n",
    "print(f\"Broj grana originalne mreže minus broj grana u ER mreži iznosi {delta_m}, što je odstupanje od {abs(float(delta_m)) * 100 / m}%\")"
   ]
  },
  {
   "cell_type": "code",
   "execution_count": 55,
   "id": "776c7cff",
   "metadata": {},
   "outputs": [
    {
     "name": "stdout",
     "output_type": "stream",
     "text": [
      "Prosečan stepen klasterisanja ER mreže:0.015526821814303962\n",
      "Lokalni stepeni klasterisanja ER mreže:\n",
      "      subreddit  clustering coeficient\n",
      "554         554               0.006289\n",
      "1328       1328               0.006429\n",
      "278         278               0.006803\n",
      "3564       3564               0.007237\n",
      "2640       2640               0.007519\n",
      "...         ...                    ...\n",
      "3944       3944               0.025298\n",
      "116         116               0.025325\n",
      "2685       2685               0.026939\n",
      "2442       2442               0.027119\n",
      "3800       3800               0.027569\n",
      "\n",
      "[4174 rows x 2 columns]\n",
      "Maksimalni stepen klasterisanja ER mreže:\n",
      "      subreddit  clustering coeficient\n",
      "3800       3800               0.027569\n",
      "Globalni koeficijent klasterisanja ER mreže:\n",
      "0.015528730943907628\n"
     ]
    }
   ],
   "source": [
    "subredit1, clustering_coef1=zip(*nx.clustering(er, weight='weight').items())\n",
    "nenula=[(sub, cc) for sub, cc in zip(subredit1, clustering_coef1) if cc>0]\n",
    "\n",
    "dataFrameClu1=pd.DataFrame(nenula, columns=['subreddit','clustering coeficient'])\n",
    "dataFrameClu1.sort_values('clustering coeficient', inplace=True)\n",
    "prosecni_stepen_klasterisanja1=nx.average_clustering(er)\n",
    "print(f'Prosečan stepen klasterisanja ER mreže:{prosecni_stepen_klasterisanja1}')\n",
    "print('Lokalni stepeni klasterisanja ER mreže:')\n",
    "print(dataFrameClu1)\n",
    "print(f'Maksimalni stepen klasterisanja ER mreže:')\n",
    "print(dataFrameClu1.sort_values('clustering coeficient', ascending=False).head(1))\n",
    "print(f'Globalni koeficijent klasterisanja ER mreže:')\n",
    "print(nx.transitivity(er))"
   ]
  },
  {
   "cell_type": "code",
   "execution_count": 63,
   "id": "934d0367",
   "metadata": {},
   "outputs": [],
   "source": [
    "er_gcc=nx.transitivity(er)\n",
    "gcc=nx.transitivity(GSNet)"
   ]
  },
  {
   "cell_type": "code",
   "execution_count": 64,
   "id": "995e2ff0",
   "metadata": {},
   "outputs": [
    {
     "name": "stdout",
     "output_type": "stream",
     "text": [
      "        ACC    ACC-ER      LCC    LCC-ER       GCC    GCC-ER\n",
      "0  0.619569  0.015527  0.00122  0.027569  0.264555  0.015529\n"
     ]
    }
   ],
   "source": [
    "tabela=pd.DataFrame([(prosecni_stepen_klasterisanja, prosecni_stepen_klasterisanja1,\n",
    "                     max(clustering_coef),\n",
    "                     max(clustering_coef1), gcc, er_gcc)],\n",
    "                    columns=['ACC','ACC-ER','LCC','LCC-ER','GCC','GCC-ER'])\n",
    "print(tabela)"
   ]
  },
  {
   "cell_type": "code",
   "execution_count": 69,
   "id": "73e440ed",
   "metadata": {},
   "outputs": [
    {
     "name": "stdout",
     "output_type": "stream",
     "text": [
      "3\n"
     ]
    }
   ],
   "source": [
    "print(nx.diameter(er))  #ovde je manji dijametar nego kod realne mreze, tu detektujemo da je mali svet"
   ]
  },
  {
   "cell_type": "code",
   "execution_count": 70,
   "id": "a40c2730",
   "metadata": {},
   "outputs": [
    {
     "name": "stdout",
     "output_type": "stream",
     "text": [
      "2.345025652048656\n"
     ]
    }
   ],
   "source": [
    "print(nx.average_shortest_path_length(er))"
   ]
  },
  {
   "cell_type": "markdown",
   "id": "75357ee4",
   "metadata": {},
   "source": [
    "## Fenomen malog sveta"
   ]
  },
  {
   "cell_type": "code",
   "execution_count": 3,
   "id": "4e37731a",
   "metadata": {},
   "outputs": [],
   "source": [
    "import numpy as np"
   ]
  },
  {
   "cell_type": "markdown",
   "id": "13e703ad",
   "metadata": {},
   "source": [
    "Za fenomen malog sveta realne mreže, potrebno je da budu zadovoljeni uslovi:\n",
    "1. mala prosečna distanca dva čvora u mreži u odnosu na veličinu mreže: lnetwork~ln(n)/ln(d)\n",
    "2. visoki globalni koeficijent klasterisanja u odnosu na globalni koeficijent klasterisanja kod ER mreže: Cn>>Cer"
   ]
  },
  {
   "cell_type": "code",
   "execution_count": 4,
   "id": "f9c543ad",
   "metadata": {},
   "outputs": [
    {
     "name": "stdout",
     "output_type": "stream",
     "text": [
      "8.336630087637147\n",
      "3.4825219330084334\n",
      "2.393848552286191\n"
     ]
    }
   ],
   "source": [
    "lnN=np.log(len(GSNet.nodes()))\n",
    "print(lnN)\n",
    "d=len(GSNet.edges())/len(GSNet.nodes())\n",
    "lnd=np.log(d)\n",
    "print(lnd)\n",
    "print(lnN/lnd) "
   ]
  },
  {
   "cell_type": "markdown",
   "id": "034657e0",
   "metadata": {},
   "source": [
    "Prosečna udaljenost bilo koja dva čvora u mreži SNet je 2.1074294899060666~2.393848552286191, a globalni stepen klasterizacije je 0.26455544014478105, što je mnogo veće od globalnog koeficijenta klasterizacije ER mreže (0.015529), to je ostvaren fenomen malog sveta."
   ]
  },
  {
   "cell_type": "markdown",
   "id": "ec68c0c7",
   "metadata": {},
   "source": [
    "## Asortativnost"
   ]
  },
  {
   "cell_type": "code",
   "execution_count": 7,
   "id": "1bc968c1",
   "metadata": {},
   "outputs": [
    {
     "name": "stdout",
     "output_type": "stream",
     "text": [
      "Koeficijent asortativnosti na osnovu netežinskog stepena čvora: -0.42837443348403276\n"
     ]
    }
   ],
   "source": [
    "r1=nx.degree_assortativity_coefficient(GSNet)\n",
    "print(f\"Koeficijent asortativnosti na osnovu netežinskog stepena čvora: {r1}\") #radi"
   ]
  },
  {
   "cell_type": "markdown",
   "id": "1b9692b8",
   "metadata": {},
   "source": [
    "Mreža je disasortativna, čvorovi nemaju tendenciju da se vezuju sa čvorovima sličnog stepena."
   ]
  },
  {
   "cell_type": "code",
   "execution_count": null,
   "id": "db031945",
   "metadata": {},
   "outputs": [],
   "source": [
    "r2=nx.degree_assortativity_coefficient(GSNet, weight='weight')\n",
    "print(f\"Koeficijent asortativnosti na osnovu težinskog stepena čvora: {r2}\") #zasto prijavljuje gresku"
   ]
  },
  {
   "cell_type": "markdown",
   "id": "e65dace4",
   "metadata": {},
   "source": [
    "Izvršavanjem ovog koda treba da se prikaže -0.0390796889 (kod kolege)"
   ]
  },
  {
   "cell_type": "markdown",
   "id": "093c19ea",
   "metadata": {},
   "source": [
    "Mreža je disasortativna, čvorovi nemaju tendenciju da se vezuju sa čvorovima sličnog stepena."
   ]
  },
  {
   "cell_type": "markdown",
   "id": "071dc251",
   "metadata": {},
   "source": [
    "## Fenomen kluba bogatih"
   ]
  },
  {
   "cell_type": "code",
   "execution_count": null,
   "id": "3ae657fb",
   "metadata": {},
   "outputs": [],
   "source": [
    "rich_club_coef=nx.rich_club_coefficient(GSNet)"
   ]
  },
  {
   "cell_type": "markdown",
   "id": "bbd51635",
   "metadata": {},
   "source": [
    "Čvorovi nemaju tendenciju da se vezuju međusobno, pogotovo da ne mogu da se vezuju sa čvorovima većeg stepena, jer smo zaključili da je mreža disasortitvna."
   ]
  },
  {
   "cell_type": "markdown",
   "id": "26576092",
   "metadata": {},
   "source": [
    "## Power-law distribucija "
   ]
  },
  {
   "cell_type": "code",
   "execution_count": 78,
   "id": "22eb42a5",
   "metadata": {},
   "outputs": [],
   "source": [
    "def plot_deg_frequency(G, weighted = False, xscale = \"log\", yscale = \"log\"):\n",
    "\n",
    "    if weighted:\n",
    "        degrees = G.degree(weight=\"weight\")\n",
    "    else:\n",
    "        degrees = G.degree()\n",
    "        \n",
    "    _, deg_list = zip(*degrees) #raspakovanje\n",
    "    deg_counts = Counter(deg_list)        \n",
    "    print(deg_counts)\n",
    "    x, y = zip(*deg_counts.items())     #x-stepen, y-broj cvorova koji imaju odredjeni stepen                                                 \n",
    "\n",
    "    plt.figure(1)   \n",
    "\n",
    "    # prep axes   \n",
    "    if weighted:\n",
    "        plt.xlabel('weighted degree')  \n",
    "    else:\n",
    "        plt.xlabel('degree')                                                                                                             \n",
    "    plt.xscale(xscale)                                                                                                                \n",
    "    plt.xlim(1, max(x))  \n",
    "\n",
    "    plt.ylabel('frequency')                                                                                                          \n",
    "    plt.yscale(yscale)                                                                                                                \n",
    "    plt.ylim(1, max(y))                                                                                                             \n",
    "                                                                                                                                                                                                    \n",
    "    plt.scatter(x, y, marker='.')                                                                                                    \n",
    "    plt.show()"
   ]
  },
  {
   "cell_type": "code",
   "execution_count": 79,
   "id": "c5c0e787",
   "metadata": {},
   "outputs": [
    {
     "name": "stdout",
     "output_type": "stream",
     "text": [
      "Counter({0: 771, 1: 547, 2: 258, 3: 136, 5: 96, 4: 82, 6: 65, 7: 57, 11: 53, 16: 46, 21: 43, 10: 41, 8: 38, 23: 37, 20: 35, 14: 35, 9: 35, 24: 32, 13: 31, 33: 30, 43: 30, 17: 29, 19: 28, 22: 28, 12: 28, 28: 27, 18: 25, 26: 22, 29: 21, 27: 21, 40: 20, 34: 19, 42: 18, 47: 17, 31: 17, 76: 17, 15: 17, 38: 16, 36: 16, 25: 15, 110: 15, 50: 14, 59: 14, 30: 14, 39: 14, 35: 13, 55: 13, 32: 13, 78: 12, 58: 11, 45: 11, 49: 11, 63: 11, 41: 11, 69: 11, 77: 10, 61: 10, 56: 10, 37: 10, 72: 10, 54: 10, 51: 10, 52: 9, 48: 9, 91: 9, 87: 9, 83: 9, 108: 9, 88: 8, 53: 8, 79: 8, 74: 8, 60: 8, 151: 7, 57: 7, 68: 7, 114: 7, 96: 7, 67: 7, 146: 6, 104: 6, 105: 6, 64: 6, 71: 6, 115: 6, 94: 6, 70: 6, 107: 6, 150: 6, 66: 5, 191: 5, 106: 5, 73: 5, 62: 5, 93: 5, 163: 5, 103: 5, 177: 5, 160: 5, 132: 5, 97: 5, 44: 5, 80: 5, 271: 4, 98: 4, 167: 4, 112: 4, 101: 4, 207: 4, 86: 4, 305: 4, 161: 4, 266: 4, 99: 4, 135: 4, 158: 4, 154: 4, 102: 4, 116: 4, 113: 4, 118: 4, 119: 4, 196: 4, 95: 4, 92: 4, 65: 4, 130: 3, 187: 3, 165: 3, 551: 3, 226: 3, 124: 3, 190: 3, 82: 3, 287: 3, 111: 3, 140: 3, 149: 3, 184: 3, 89: 3, 168: 3, 90: 3, 172: 3, 202: 3, 217: 3, 218: 3, 164: 3, 169: 3, 215: 3, 173: 3, 269: 3, 145: 3, 152: 3, 284: 3, 435: 2, 204: 2, 225: 2, 138: 2, 224: 2, 153: 2, 211: 2, 428: 2, 157: 2, 141: 2, 123: 2, 352: 2, 134: 2, 626: 2, 109: 2, 251: 2, 261: 2, 275: 2, 310: 2, 155: 2, 144: 2, 945: 2, 148: 2, 477: 2, 766: 2, 264: 2, 208: 2, 122: 2, 85: 2, 162: 2, 277: 2, 401: 2, 1601: 2, 624: 2, 198: 2, 252: 2, 256: 2, 174: 2, 137: 2, 147: 2, 267: 2, 2564: 2, 209: 2, 685: 2, 349: 2, 393: 2, 200: 2, 206: 2, 128: 2, 279: 2, 214: 2, 84: 2, 353: 2, 421: 2, 1873: 2, 222: 2, 75: 2, 156: 2, 480: 2, 558: 2, 325: 2, 429: 2, 131: 2, 280: 2, 684: 2, 576: 2, 182: 2, 1371: 1, 557: 1, 1469: 1, 1009: 1, 509: 1, 6515: 1, 2820: 1, 20619: 1, 3246: 1, 142: 1, 1607: 1, 316: 1, 710: 1, 117: 1, 8735: 1, 566: 1, 529: 1, 4947: 1, 1751: 1, 899: 1, 276: 1, 2079: 1, 4943: 1, 129: 1, 143: 1, 638: 1, 186: 1, 43308: 1, 614: 1, 25662: 1, 12312: 1, 663: 1, 1419: 1, 921: 1, 782: 1, 870: 1, 81: 1, 402: 1, 31576: 1, 4948: 1, 3445: 1, 2573: 1, 14953: 1, 53373: 1, 9580: 1, 1068: 1, 4963: 1, 219: 1, 536: 1, 1273: 1, 412: 1, 510: 1, 1363: 1, 1117: 1, 185: 1, 25442: 1, 13233: 1, 1217: 1, 4355: 1, 229656: 1, 24996: 1, 2274: 1, 96234: 1, 469: 1, 7996: 1, 613: 1, 2746: 1, 499: 1, 350: 1, 1201: 1, 1026: 1, 555: 1, 639: 1, 2689: 1, 419: 1, 19117: 1, 315: 1, 223: 1, 1005: 1, 9750: 1, 755: 1, 2065: 1, 1756: 1, 16417: 1, 83817: 1, 1912: 1, 248: 1, 7558: 1, 409: 1, 67324: 1, 92770: 1, 7911: 1, 1088: 1, 399: 1, 494: 1, 442: 1, 5609: 1, 745: 1, 781: 1, 505: 1, 5414: 1, 10466: 1, 9014: 1, 726: 1, 476: 1, 905: 1, 3864: 1, 5676: 1, 381: 1, 138833: 1, 1027: 1, 4376: 1, 314: 1, 31646: 1, 23643: 1, 10970: 1, 250: 1, 386: 1, 1523: 1, 205: 1, 2371: 1, 3826: 1, 778: 1, 3076: 1, 139: 1, 194: 1, 1807: 1, 7498: 1, 448: 1, 1613: 1, 91332: 1, 586: 1, 2324: 1, 958: 1, 2485: 1, 28754: 1, 9267: 1, 10511: 1, 462: 1, 742: 1, 460: 1, 2169: 1, 345519: 1, 2811: 1, 1962: 1, 1920: 1, 2616: 1, 18101: 1, 1827: 1, 28064: 1, 3553: 1, 456: 1, 5531: 1, 384: 1, 3458: 1, 1970: 1, 3949: 1, 47108: 1, 1079: 1, 2605: 1, 27965: 1, 3166: 1, 696: 1, 334: 1, 260: 1, 562: 1, 1119: 1, 14796: 1, 1933: 1, 159: 1, 224607: 1, 5047: 1, 100: 1, 3885: 1, 313: 1, 31293: 1, 1325: 1, 7623: 1, 40782: 1, 1578: 1, 41928: 1, 1435: 1, 188: 1, 994: 1, 237032: 1, 4787: 1, 2121: 1, 4150: 1, 1798: 1, 1313: 1, 7962: 1, 170: 1, 1802: 1, 229: 1, 724: 1, 773: 1, 2641: 1, 379: 1, 3555: 1, 11985: 1, 5987: 1, 388: 1, 375: 1, 12187: 1, 178: 1, 7192: 1, 4839: 1, 11785: 1, 619: 1, 176: 1, 6960: 1, 2435: 1, 246: 1, 1489: 1, 2924: 1, 769: 1, 467: 1, 7541: 1, 473: 1, 2395: 1, 503: 1, 423: 1, 101945: 1, 1367: 1, 954: 1, 851: 1, 234: 1, 907: 1, 1070: 1, 2226: 1, 507: 1, 193: 1, 440: 1, 1740: 1, 2661: 1, 3241: 1, 727: 1, 302: 1, 392: 1, 1763: 1, 720: 1, 2093: 1, 191621: 1, 1308: 1, 228317: 1, 4001: 1, 46: 1, 3422: 1, 901: 1, 37004: 1, 298: 1, 338: 1, 876: 1, 28898: 1, 29427: 1, 5398: 1, 1344: 1, 4784: 1, 1167: 1, 244: 1, 533: 1, 729: 1, 273: 1, 292: 1, 717: 1, 255: 1, 539: 1, 508: 1, 221: 1, 2234: 1, 7720: 1, 678: 1, 243: 1, 357: 1, 1067: 1, 1173: 1, 687: 1, 103593: 1, 881: 1, 181: 1, 398: 1, 1833: 1, 408: 1, 34191: 1, 887: 1, 2666: 1, 502: 1, 260510: 1, 126: 1, 2187: 1, 1219: 1, 6538: 1, 348: 1, 465: 1, 358: 1, 311: 1, 341: 1, 3369: 1, 9098: 1, 180: 1, 3699: 1, 3652: 1, 4224: 1, 19522: 1, 396: 1, 2437: 1, 249: 1, 430: 1, 23755: 1, 127: 1, 89482: 1, 797: 1, 1231: 1, 434: 1, 400: 1, 664: 1, 46941: 1, 102859: 1, 445: 1, 195386: 1, 245781: 1, 237: 1, 7778: 1, 11472: 1, 227: 1, 579: 1, 213: 1, 1021: 1, 1014: 1, 2964: 1, 625: 1, 32023: 1, 627: 1, 1508: 1, 299: 1, 41074: 1, 13445: 1, 11662: 1, 18927: 1, 385: 1, 220: 1, 212: 1, 367: 1, 1913: 1, 249785: 1, 7939: 1, 289: 1, 549: 1, 1741: 1, 125: 1, 495: 1, 20715: 1, 637: 1, 30388: 1, 12005: 1, 2611: 1, 276849: 1, 4846: 1, 339: 1, 464: 1, 474: 1, 21460: 1, 70098: 1, 1342: 1, 492: 1, 391: 1, 2345: 1, 1271: 1, 1028: 1, 189: 1, 607: 1, 2309: 1, 10003: 1, 1420: 1, 377: 1, 2276: 1, 36310: 1, 1364: 1, 294: 1, 1579: 1, 309: 1, 263: 1, 835: 1, 791: 1, 2317: 1, 1800: 1, 1510: 1, 3815: 1, 2265: 1, 329: 1, 7862: 1, 819: 1, 2882: 1, 5092: 1, 1043: 1, 1199: 1, 148801: 1, 3662: 1, 1327: 1, 18288: 1, 4561: 1, 5532: 1, 738: 1, 22867: 1, 364: 1, 268: 1, 19755: 1, 210: 1, 382: 1, 228: 1, 3237: 1, 488: 1, 1211: 1, 380: 1, 447: 1, 433: 1, 1856: 1, 37548: 1, 89774: 1, 415: 1, 5289: 1, 923: 1, 136: 1, 538: 1, 1332: 1, 12080: 1, 3276: 1, 1940: 1, 121: 1, 3821: 1, 265: 1, 1074: 1, 4049: 1, 649: 1, 574: 1, 794: 1, 709: 1, 699: 1, 376: 1, 2310: 1, 53371: 1})\n"
     ]
    },
    {
     "data": {
      "image/png": "[encoded data removed]",
      "text/plain": [
       "<Figure size 432x288 with 1 Axes>"
      ]
     },
     "metadata": {
      "needs_background": "light"
     },
     "output_type": "display_data"
    }
   ],
   "source": [
    "plot_deg_frequency(GSNet, True)"
   ]
  },
  {
   "cell_type": "markdown",
   "id": "290b9a98",
   "metadata": {},
   "source": [
    "Navedena distribucija čvorova po težinskom stepenu prati power-law raspodelu, jer većina čvorova ima samo nekoliko veza (ima 258 čvorova čiji je stepen 2), a neki čvorovi imaju veliki broj veza (vidimo da ima po jedan čvor kod većih stepena)."
   ]
  },
  {
   "cell_type": "markdown",
   "id": "53684433",
   "metadata": {},
   "source": [
    "## Habovi i autoriteti"
   ]
  },
  {
   "cell_type": "code",
   "execution_count": 7,
   "id": "2ff3a6f4",
   "metadata": {},
   "outputs": [],
   "source": [
    "#hubs_authorities=nx.hits(G) #SNet mreza je neusmerena, pa ne mogu se odrediti habovi i autoriteti"
   ]
  },
  {
   "cell_type": "markdown",
   "id": "c793532c",
   "metadata": {},
   "source": [
    "## Analiza mera centralnosti ##"
   ]
  },
  {
   "cell_type": "markdown",
   "id": "cae715b4",
   "metadata": {},
   "source": [
    "1) Centralnosti po stepenu, bliskosti, relacionoj centralnosti 2) Centralnosti po sopstvenom vektoru"
   ]
  },
  {
   "cell_type": "code",
   "execution_count": 19,
   "id": "25519c2c",
   "metadata": {},
   "outputs": [],
   "source": [
    "DC_dict=nx.degree_centrality(GSNet)"
   ]
  },
  {
   "cell_type": "code",
   "execution_count": 20,
   "id": "baee9018",
   "metadata": {},
   "outputs": [],
   "source": [
    "CC_dict=nx.closeness_centrality(GSNet)"
   ]
  },
  {
   "cell_type": "code",
   "execution_count": 21,
   "id": "62369c0a",
   "metadata": {},
   "outputs": [],
   "source": [
    "BC_dict=nx.betweenness_centrality(GSNet) #predugo"
   ]
  },
  {
   "cell_type": "code",
   "execution_count": 22,
   "id": "5b467a1f",
   "metadata": {},
   "outputs": [],
   "source": [
    "EVC_dict = nx.eigenvector_centrality(GSNet)"
   ]
  },
  {
   "cell_type": "code",
   "execution_count": 23,
   "id": "c4cdf95e",
   "metadata": {},
   "outputs": [
    {
     "name": "stdout",
     "output_type": "stream",
     "text": [
      "                           DC        CC        BC           EVC\n",
      "askXKCD              0.058231  0.411201  0.000021  3.174183e-02\n",
      "AmericanEconomy      0.041457  0.405722  0.000015  2.293013e-02\n",
      "electronics          0.040978  0.406270  0.000013  2.394732e-02\n",
      "Boxing               0.000479  0.334472  0.000000  4.841689e-04\n",
      "nyc                  0.074527  0.414852  0.000045  3.681242e-02\n",
      "...                       ...       ...       ...           ...\n",
      "emerfv               0.000000  0.000000  0.000000  7.406188e-38\n",
      "freebies             0.009825  0.393471  0.000002  6.869581e-03\n",
      "Zinemaya             0.000000  0.000000  0.000000  7.406188e-38\n",
      "flash                0.031632  0.402708  0.000004  1.966611e-02\n",
      "vitaminsforhairloss  0.000240  0.300036  0.000000  2.101206e-04\n",
      "\n",
      "[4174 rows x 4 columns]\n"
     ]
    }
   ],
   "source": [
    "df1=pd.DataFrame.from_dict(DC_dict, orient='index', columns=['DC'])\n",
    "df2=pd.DataFrame.from_dict(CC_dict, orient='index', columns=['CC'])\n",
    "df3=pd.DataFrame.from_dict(BC_dict, orient='index', columns=['BC'])\n",
    "df4=pd.DataFrame.from_dict(EVC_dict, orient='index', columns=['EVC'])\n",
    "df=pd.concat([df1, df2, df3, df4], axis=1)\n",
    "print(df)"
   ]
  },
  {
   "cell_type": "code",
   "execution_count": 29,
   "id": "411683eb",
   "metadata": {},
   "outputs": [],
   "source": [
    "with open(\"data1/snet-centralities\", 'wb') as file:\n",
    "    pickle.dump(df, file)"
   ]
  },
  {
   "cell_type": "markdown",
   "id": "fff6c19d",
   "metadata": {},
   "source": [
    "### Centralnost po stepenu ###"
   ]
  },
  {
   "cell_type": "code",
   "execution_count": 24,
   "id": "5ad519b9",
   "metadata": {},
   "outputs": [
    {
     "name": "stdout",
     "output_type": "stream",
     "text": [
      "                     DC\n",
      "reddit.com     0.715313\n",
      "politics       0.491253\n",
      "technology     0.491014\n",
      "pics           0.482147\n",
      "funny          0.469686\n",
      "science        0.466092\n",
      "entertainment  0.457225\n",
      "worldnews      0.455787\n",
      "programming    0.451474\n",
      "WTF            0.450515\n"
     ]
    }
   ],
   "source": [
    "df_dc = pd.DataFrame({'DC':df['DC']})\n",
    "df_dc.sort_values(by='DC', ascending=False, inplace = True)\n",
    "print(df_dc.head(10))"
   ]
  },
  {
   "cell_type": "markdown",
   "id": "f73f84de",
   "metadata": {},
   "source": [
    "### Centralnost po bliskosti ###"
   ]
  },
  {
   "cell_type": "code",
   "execution_count": 25,
   "id": "45ea71e9",
   "metadata": {},
   "outputs": [
    {
     "name": "stdout",
     "output_type": "stream",
     "text": [
      "                     CC\n",
      "reddit.com     0.723885\n",
      "technology     0.577996\n",
      "politics       0.577504\n",
      "pics           0.572744\n",
      "funny          0.566282\n",
      "science        0.564513\n",
      "entertainment  0.560427\n",
      "worldnews      0.559848\n",
      "programming    0.556972\n",
      "WTF            0.556857\n"
     ]
    }
   ],
   "source": [
    "df_cc = pd.DataFrame({'CC':df['CC']})\n",
    "df_cc.sort_values(by='CC', ascending=False, inplace = True)\n",
    "print(df_cc.head(10))"
   ]
  },
  {
   "cell_type": "markdown",
   "id": "117672f3",
   "metadata": {},
   "source": [
    "### Relaciona centralnost ###"
   ]
  },
  {
   "cell_type": "code",
   "execution_count": 26,
   "id": "a4b3f121",
   "metadata": {},
   "outputs": [
    {
     "name": "stdout",
     "output_type": "stream",
     "text": [
      "                     BC\n",
      "reddit.com     0.248238\n",
      "technology     0.032099\n",
      "programming    0.029720\n",
      "politics       0.028440\n",
      "business       0.026804\n",
      "pics           0.025292\n",
      "entertainment  0.024747\n",
      "worldnews      0.021746\n",
      "funny          0.021245\n",
      "science        0.020711\n"
     ]
    }
   ],
   "source": [
    "df_bc = pd.DataFrame({'BC':df['BC']})\n",
    "df_bc.sort_values(by='BC', ascending=False, inplace = True)\n",
    "print(df_bc.head(10))"
   ]
  },
  {
   "cell_type": "markdown",
   "id": "67079694",
   "metadata": {},
   "source": [
    "### Centralnost po sopstvenom vektoru ###"
   ]
  },
  {
   "cell_type": "code",
   "execution_count": 27,
   "id": "21603cd1",
   "metadata": {},
   "outputs": [
    {
     "name": "stdout",
     "output_type": "stream",
     "text": [
      "                    EVC\n",
      "reddit.com     0.090803\n",
      "politics       0.088296\n",
      "pics           0.088055\n",
      "technology     0.088023\n",
      "funny          0.087865\n",
      "science        0.087807\n",
      "WTF            0.086766\n",
      "worldnews      0.086591\n",
      "entertainment  0.086574\n",
      "programming    0.085534\n"
     ]
    }
   ],
   "source": [
    "df_ec = pd.DataFrame({'EVC':df['EVC']})\n",
    "df_ec.sort_values(by='EVC', ascending=False, inplace = True)\n",
    "print(df_ec.head(10))"
   ]
  },
  {
   "cell_type": "code",
   "execution_count": 119,
   "id": "faedc7d1",
   "metadata": {},
   "outputs": [],
   "source": [
    "with open(\"data1/snet-centralities\", 'rb') as file:\n",
    "    df = pickle.load(file)"
   ]
  },
  {
   "cell_type": "markdown",
   "id": "df82a3f2",
   "metadata": {},
   "source": [
    "### Kacova centralnost ###"
   ]
  },
  {
   "cell_type": "code",
   "execution_count": 120,
   "id": "dc8435b0",
   "metadata": {},
   "outputs": [],
   "source": [
    "import pickle\n",
    "with open(\"data1/katz_b=1000\", 'rb') as file:\n",
    "    df_katz = pickle.load(file)"
   ]
  },
  {
   "cell_type": "code",
   "execution_count": 121,
   "id": "ef0b8e9b",
   "metadata": {},
   "outputs": [
    {
     "name": "stdout",
     "output_type": "stream",
     "text": [
      "                    EVC  EVC_rank\n",
      "reddit.com     0.329250       1.0\n",
      "politics       0.271542       2.0\n",
      "pics           0.251967       3.0\n",
      "funny          0.242301       4.0\n",
      "science        0.236767       5.0\n",
      "technology     0.229616       6.0\n",
      "worldnews      0.223856       7.0\n",
      "WTF            0.219809       8.0\n",
      "entertainment  0.219209       9.0\n",
      "programming    0.191733      10.0\n"
     ]
    }
   ],
   "source": [
    "print(df_katz.sort_values(by='EVC', ascending=False).head(10))"
   ]
  },
  {
   "cell_type": "markdown",
   "id": "34ca8a4d",
   "metadata": {},
   "source": [
    "## Korelacija metrika centralnosti ##"
   ]
  },
  {
   "cell_type": "code",
   "execution_count": 122,
   "id": "c6610d6a",
   "metadata": {},
   "outputs": [
    {
     "name": "stdout",
     "output_type": "stream",
     "text": [
      "                           DC        CC        BC           EVC     KatzC\n",
      "askXKCD              0.058231  0.411201  0.000021  3.174183e-02  0.008168\n",
      "AmericanEconomy      0.041457  0.405722  0.000015  2.293013e-02  0.007440\n",
      "electronics          0.040978  0.406270  0.000013  2.394732e-02  0.007720\n",
      "Boxing               0.000479  0.334472  0.000000  4.841689e-04  0.007340\n",
      "nyc                  0.074527  0.414852  0.000045  3.681242e-02  0.008109\n",
      "...                       ...       ...       ...           ...       ...\n",
      "emerfv               0.000000  0.000000  0.000000  7.406188e-38  0.007338\n",
      "freebies             0.009825  0.393471  0.000002  6.869581e-03  0.007363\n",
      "Zinemaya             0.000000  0.000000  0.000000  7.406188e-38  0.007338\n",
      "flash                0.031632  0.402708  0.000004  1.966611e-02  0.007490\n",
      "vitaminsforhairloss  0.000240  0.300036  0.000000  2.101206e-04  0.007338\n",
      "\n",
      "[4174 rows x 5 columns]\n"
     ]
    }
   ],
   "source": [
    "df_correlation=pd.merge(df, df_katz, left_index=True, right_index=True)\n",
    "df_correlation.rename(columns = {'EVC_x':'EVC', 'EVC_y':'KatzC'}, inplace = True)\n",
    "df_correlation=df_correlation.drop(['EVC_rank'], axis=1)\n",
    "print(df_correlation)"
   ]
  },
  {
   "cell_type": "code",
   "execution_count": 124,
   "id": "1b2d524c",
   "metadata": {},
   "outputs": [
    {
     "name": "stdout",
     "output_type": "stream",
     "text": [
      "             DC        CC        BC       EVC     KatzC\n",
      "DC          1.0  0.911388  0.610459  0.945049  0.893629\n",
      "CC     0.911388       1.0  0.589645  0.947764   0.93323\n",
      "BC     0.610459  0.589645       1.0  0.586258  0.613248\n",
      "EVC    0.945049  0.947764  0.586258       1.0  0.931821\n",
      "KatzC  0.893629   0.93323  0.613248  0.931821       1.0\n",
      "        DC   CC   BC  EVC KatzC\n",
      "DC     0.0  0.0  0.0  0.0   0.0\n",
      "CC     0.0  0.0  0.0  0.0   0.0\n",
      "BC     0.0  0.0  0.0  0.0   0.0\n",
      "EVC    0.0  0.0  0.0  0.0   0.0\n",
      "KatzC  0.0  0.0  0.0  0.0   0.0\n"
     ]
    }
   ],
   "source": [
    "labele=['DC','CC','BC', 'EVC', 'KatzC']\n",
    "matrica_korelacije=pd.DataFrame(columns=['DC','CC','BC','EVC','KatzC'], index=['DC','CC','BC','EVC','KatzC'])\n",
    "p_val_matrica=pd.DataFrame(columns=['DC','CC','BC','EVC','KatzC'], index=['DC','CC','BC','EVC','KatzC'])\n",
    "\n",
    "for i in labele:\n",
    "    for j in labele:\n",
    "        matrica_korelacije[i][j], p_val_matrica[i][j]=stats.kendalltau(df_correlation[i], df_correlation[j])\n",
    "        \n",
    "print(matrica_korelacije)\n",
    "print(p_val_matrica) "
   ]
  },
  {
   "cell_type": "markdown",
   "id": "d446d0b2",
   "metadata": {},
   "source": [
    "## Kompozitna mera centralnosti ##"
   ]
  },
  {
   "cell_type": "code",
   "execution_count": 125,
   "id": "7da2b3d9",
   "metadata": {},
   "outputs": [
    {
     "name": "stdout",
     "output_type": "stream",
     "text": [
      "                     DC        CC        BC       EVC     KatzC  DC_rank  \\\n",
      "reddit.com     0.715313  0.723885  0.248238  0.090803  0.329250      1.0   \n",
      "politics       0.491253  0.577504  0.028440  0.088296  0.271542      2.0   \n",
      "technology     0.491014  0.577996  0.032099  0.088023  0.229616      3.0   \n",
      "pics           0.482147  0.572744  0.025292  0.088055  0.251967      4.0   \n",
      "funny          0.469686  0.566282  0.021245  0.087865  0.242301      5.0   \n",
      "science        0.466092  0.564513  0.020711  0.087807  0.236767      6.0   \n",
      "programming    0.451474  0.556972  0.029720  0.085534  0.191733      9.0   \n",
      "entertainment  0.457225  0.560427  0.024747  0.086574  0.219209      7.0   \n",
      "worldnews      0.455787  0.559848  0.021746  0.086591  0.223856      8.0   \n",
      "WTF            0.450515  0.556857  0.017729  0.086766  0.219809     10.0   \n",
      "\n",
      "               CC_rank  BC_rank  EVC_rank  KatzC_rank  composite_rank  \n",
      "reddit.com         1.0      1.0       1.0         1.0             1.0  \n",
      "politics           3.0      4.0       2.0         2.0            96.0  \n",
      "technology         2.0      2.0       4.0         6.0           288.0  \n",
      "pics               4.0      6.0       3.0         3.0           864.0  \n",
      "funny              5.0      9.0       5.0         4.0          4500.0  \n",
      "science            6.0     10.0       6.0         5.0         10800.0  \n",
      "programming        9.0      3.0      10.0        10.0         24300.0  \n",
      "entertainment      7.0      7.0       9.0         9.0         27783.0  \n",
      "worldnews          8.0      8.0       8.0         7.0         28672.0  \n",
      "WTF               10.0     11.0       7.0         8.0         61600.0  \n"
     ]
    }
   ],
   "source": [
    "df_ = df_correlation\n",
    "for metric in labele:\n",
    "    df_[f\"{metric}_rank\"] = df_correlation[f\"{metric}\"].rank(ascending=False) \n",
    "    \n",
    "df_['composite_rank'] = df_['DC_rank'] * df_['CC_rank'] * df_['BC_rank'] * df_['EVC_rank']* df_['KatzC_rank'] #composite_rank=dc_rank*cc_rank*bc_rank*evc_rank*katz_rank\n",
    "\n",
    "df_=df_.sort_values(['composite_rank'], ascending = True)\n",
    "print(df_.head(10))"
   ]
  },
  {
   "cell_type": "markdown",
   "id": "c091a42e",
   "metadata": {},
   "source": [
    "## Detekcija komuna ##"
   ]
  },
  {
   "cell_type": "markdown",
   "id": "707ca177",
   "metadata": {},
   "source": [
    "### Hijerarhijsko klasterisanje"
   ]
  },
  {
   "cell_type": "code",
   "execution_count": 7,
   "id": "9e8b6ba0",
   "metadata": {},
   "outputs": [],
   "source": [
    "import itertools\n",
    "from itertools import chain, combinations\n",
    "import matplotlib.pyplot as plt\n",
    "from scipy.cluster.hierarchy import dendrogram"
   ]
  },
  {
   "cell_type": "code",
   "execution_count": null,
   "id": "be0ff6cf",
   "metadata": {},
   "outputs": [],
   "source": [
    "comp=nx.community.girvan_newman(GSNet)\n",
    "k=15\n",
    "hierarchical_decomposition={}\n",
    "i=2\n",
    "for communities in itertools.islice(comp, k):\n",
    "    hierarchical_decomposition[i]=tuple(sorted(c) for c in communities)\n",
    "    i=i+1  #dugo traje"
   ]
  },
  {
   "cell_type": "code",
   "execution_count": null,
   "id": "6c5af2e9",
   "metadata": {},
   "outputs": [],
   "source": [
    "def print_decomposition(hierarchy, num_clusters):\n",
    "    decomposition_tupple = hierarchy[num_clusters]\n",
    "    print(f\"Dekompozicija na {num_clusters} komuna\")\n",
    "    for com_ind in range(num_clusters):\n",
    "        print(f\"Komuna {com_ind+1} ima {len(decomposition_tupple[com_ind])} clanova\")\n",
    "        print(decomposition_tupple[com_ind])\n",
    "        print(\"-----------------------------------------------------------------------\")"
   ]
  },
  {
   "cell_type": "code",
   "execution_count": null,
   "id": "089a75bc",
   "metadata": {},
   "outputs": [],
   "source": [
    "print_decomposition(hierarchical_decomposition, 3)"
   ]
  },
  {
   "cell_type": "code",
   "execution_count": 3,
   "id": "b57c1e41",
   "metadata": {},
   "outputs": [],
   "source": [
    "def plot_and_save_dendrogram(G):\n",
    "\n",
    "    plt.rcParams[\"figure.figsize\"] = (24,13)\n",
    "    # get Girvan-Newman communities list\n",
    "    communities = list(nx.community.girvan_newman(G))\n",
    "\n",
    "    # building initial dict of node_id to each possible subset:\n",
    "    node_id = 0\n",
    "    init_node2community_dict = {node_id: communities[0][0].union(communities[0][1])}\n",
    "    for comm in communities:\n",
    "        for subset in list(comm):\n",
    "            if subset not in init_node2community_dict.values():\n",
    "                node_id += 1\n",
    "                init_node2community_dict[node_id] = subset\n",
    "\n",
    "    # turning this dictionary to the desired format in @mdml's answer\n",
    "    node_id_to_children = {e: [] for e in init_node2community_dict.keys()}\n",
    "    for node_id1, node_id2 in combinations(init_node2community_dict.keys(), 2):\n",
    "        for node_id_parent, group in init_node2community_dict.items():\n",
    "            if len(init_node2community_dict[node_id1].intersection(init_node2community_dict[node_id2])) == 0 and group == init_node2community_dict[node_id1].union(init_node2community_dict[node_id2]):\n",
    "                node_id_to_children[node_id_parent].append(node_id1)\n",
    "                node_id_to_children[node_id_parent].append(node_id2)\n",
    "\n",
    "    # also recording node_labels dict for the correct label for dendrogram leaves\n",
    "    node_labels = dict()\n",
    "    for node_id, group in init_node2community_dict.items():\n",
    "        if len(group) == 1:\n",
    "            node_labels[node_id] = list(group)[0]\n",
    "        else:\n",
    "            node_labels[node_id] = ''\n",
    "\n",
    "    # also needing a subset to rank dict to later know within all k-length merges which came first\n",
    "    subset_rank_dict = dict()\n",
    "    rank = 0\n",
    "    for e in communities[::-1]:\n",
    "        for p in list(e):\n",
    "            if tuple(p) not in subset_rank_dict:\n",
    "                subset_rank_dict[tuple(sorted(p))] = rank\n",
    "                rank += 1\n",
    "    subset_rank_dict[tuple(sorted(chain.from_iterable(communities[-1])))] = rank\n",
    "\n",
    "    # my function to get a merge height so that it is unique (probably not that efficient)\n",
    "    def get_merge_height(sub):\n",
    "        sub_tuple = tuple(sorted([node_labels[i] for i in sub]))\n",
    "        n = len(sub_tuple)\n",
    "        other_same_len_merges = {k: v for k, v in subset_rank_dict.items() if len(k) == n}\n",
    "        min_rank, max_rank = min(other_same_len_merges.values()), max(other_same_len_merges.values())\n",
    "        range = (max_rank-min_rank) if max_rank > min_rank else 1\n",
    "        return float(len(sub)) + 0.8 * (subset_rank_dict[sub_tuple] - min_rank) / range\n",
    "\n",
    "    # finally using @mdml's magic, slightly modified:\n",
    "    G           = nx.DiGraph(node_id_to_children)\n",
    "    nodes       = G.nodes()\n",
    "    leaves      = set( n for n in nodes if G.out_degree(n) == 0 )\n",
    "    inner_nodes = [ n for n in nodes if G.out_degree(n) > 0 ]\n",
    "\n",
    "    # Compute the size of each subtree\n",
    "    subtree = dict( (n, [n]) for n in leaves )\n",
    "    for u in inner_nodes:\n",
    "        children = set()\n",
    "        node_list = list(node_id_to_children[u])\n",
    "        while len(node_list) > 0:\n",
    "            v = node_list.pop(0)\n",
    "            children.add( v )\n",
    "            node_list += node_id_to_children[v]\n",
    "        subtree[u] = sorted(children & leaves)\n",
    "\n",
    "    inner_nodes.sort(key=lambda n: len(subtree[n])) # <-- order inner nodes ascending by subtree size, root is last\n",
    "\n",
    "    # Construct the linkage matrix\n",
    "    leaves = sorted(leaves)\n",
    "    index  = dict( (tuple([n]), i) for i, n in enumerate(leaves) )\n",
    "    Z = []\n",
    "    k = len(leaves)\n",
    "    for i, n in enumerate(inner_nodes):\n",
    "        children = node_id_to_children[n]\n",
    "        x = children[0]\n",
    "        for y in children[1:]:\n",
    "            z = tuple(sorted(subtree[x] + subtree[y]))\n",
    "            i, j = index[tuple(sorted(subtree[x]))], index[tuple(sorted(subtree[y]))]\n",
    "            Z.append([i, j, get_merge_height(subtree[n]), len(z)]) # <-- float is required by the dendrogram function\n",
    "            index[z] = k\n",
    "            subtree[z] = list(z)\n",
    "            x = z\n",
    "            k += 1\n",
    "\n",
    "    # dendrogram\n",
    "    plt.figure()\n",
    "    dendrogram(Z, labels=[node_labels[node_id] for node_id in leaves])\n",
    "    plt.savefig('dendrogram.png')"
   ]
  },
  {
   "cell_type": "code",
   "execution_count": null,
   "id": "18cf0c15",
   "metadata": {},
   "outputs": [],
   "source": [
    "plot_and_save_dendrogram(Gdom)"
   ]
  },
  {
   "cell_type": "markdown",
   "id": "8d135e28",
   "metadata": {},
   "source": [
    "## Spektralno klasterisanje"
   ]
  },
  {
   "cell_type": "code",
   "execution_count": 7,
   "id": "1a8ccb51",
   "metadata": {},
   "outputs": [],
   "source": [
    "import networkx as nx\n",
    "import pandas as pd\n",
    "import numpy as np\n",
    "from scipy import linalg\n",
    "import matplotlib.pyplot as plt\n",
    "from docx import Document\n",
    "import math #?\n",
    "import sympy\n",
    "from sklearn.cluster import SpectralClustering"
   ]
  },
  {
   "cell_type": "code",
   "execution_count": 8,
   "id": "fd3f47c4",
   "metadata": {},
   "outputs": [],
   "source": [
    "def plot_scatterplot(x_data, y_data, x_label, y_label, title):\n",
    "    fig, ax = plt.subplots()\n",
    "    ax.scatter(x_data, y_data) \n",
    "    ax.set_ylabel(y_label, fontsize=15)\n",
    "    ax.set_xlabel(x_label, fontsize=15)\n",
    "    ax.set_title(title)\n",
    "    plt.savefig(f\"etf/{title}.svg\")\n",
    "    plt.show() \n",
    "\n",
    "def plot_scatterplot2(x_data, y_data, x_label, y_label, title, file_name):\n",
    "    fig, ax = plt.subplots()\n",
    "    ax.scatter(x_data, y_data) \n",
    "    ax.set_ylabel(y_label, fontsize=15)\n",
    "    ax.set_xlabel(x_label, fontsize=15)\n",
    "    ax.set_title(title)\n",
    "    plt.savefig(f\"etf/{file_name}.svg\")\n",
    "    plt.show() "
   ]
  },
  {
   "cell_type": "code",
   "execution_count": 9,
   "id": "333a0346",
   "metadata": {},
   "outputs": [],
   "source": [
    "def find_ccs2(eigenvectors_holder, n):\n",
    "    components = []\n",
    "    already_solved = []\n",
    "    for current in range(0, n):\n",
    "        if current not in already_solved:\n",
    "            component = [current]\n",
    "            for running in range (current+1, n):\n",
    "                if running not in already_solved:\n",
    "                    b = True\n",
    "                    for tracer in range(0, len(eigenvectors_holder)):\n",
    "                        eigenvector = eigenvectors_holder[tracer]\n",
    "                        if not in_range(eigenvector[current], eigenvector[running], math.pow(10,-12)):\n",
    "                            b = False\n",
    "                    if b:\n",
    "                        component.append(running)\n",
    "                        already_solved.append(running)\n",
    "            already_solved.append(current)\n",
    "            components.append(component)\n",
    "    return components"
   ]
  },
  {
   "cell_type": "code",
   "execution_count": 10,
   "id": "62d0e10c",
   "metadata": {},
   "outputs": [],
   "source": [
    "def get_components3(L, component_number):\n",
    "    \n",
    "    evals, evecs = linalg.eig(L) # each column of evecs is an eigenvector\n",
    "\n",
    "    # take only real component of each eigenvalue, because eigenvalues of L are guaranteed to be real \n",
    "    evals = evals.real\n",
    "\n",
    "    # take only real component of each eigenvector, because eigenvectors of L are guaranteed to be real \n",
    "    evecs_temp = []\n",
    "    for e in evecs:\n",
    "        v = e.real\n",
    "        evecs_temp.append(v)    \n",
    "    evecs = evecs_temp\n",
    "    \n",
    "    evecs_horizontal_container = np.array(evecs).T #each row is an eigenvector\n",
    "\n",
    "    zipped = list(zip(evals, evecs_horizontal_container)) # pair eigenvalues and eigenvectors into eigenpairs\n",
    "    zipped.sort(key=lambda tup: tup[0]) # sort eigenpairs by eigenvalue\n",
    "    evals, evecs = zip(*zipped) # evecs is now horizontal, but ordered by paired eigenvalue size\n",
    "    eigenspace0_basis = evecs[:component_number] # take only the first component_number eigenvectors \n",
    "    #eigenspace0_basis = filter_matrix(eigenspace0_basis, math.pow(10, -15)) # filter values close to 0\n",
    "\n",
    "    return find_ccs2(eigenspace0_basis, len(eigenspace0_basis[0]))"
   ]
  },
  {
   "cell_type": "code",
   "execution_count": null,
   "id": "b395cd78",
   "metadata": {},
   "outputs": [],
   "source": [
    "\n",
    "# read the multigraph\n",
    "#G = GSNet\n",
    "# create weighted graph G2 from multigraph G\n",
    "G2 = nx.Graph()\n",
    "for u,v,data in GSNet.edges(data=True):\n",
    "    w = data['weight'] if 'weight' in data else 1.0\n",
    "    if G2.has_edge(u,v):\n",
    "        G2[u][v]['weight'] += w\n",
    "    else:\n",
    "        G2.add_edge(u, v, weight=w)\n",
    "\n",
    "zaposleni_multigraf = set(G2.nodes)\n",
    "\n",
    "print(\"Izolovani cvorovi:\")\n",
    "for z in GSNet.nodes:\n",
    "    if z not in zaposleni_multigraf:\n",
    "        G2.add_node(z)\n",
    "        print(z)\n",
    "\n",
    "\n",
    "#print(G2.edges(data=True))\n",
    "\n",
    "#nx.write_pajek(G2, \"etf/agregirano_etf.net\")\n",
    "# [(1, 2, {'weight': 26}), (2, 3, {'weight': 42})]"
   ]
  },
  {
   "cell_type": "code",
   "execution_count": 12,
   "id": "8419ac61",
   "metadata": {},
   "outputs": [
    {
     "name": "stderr",
     "output_type": "stream",
     "text": [
      "C:\\Users\\Sandra\\anaconda3\\lib\\site-packages\\pandas\\core\\dtypes\\cast.py:1097: ComplexWarning: Casting complex values to real discards the imaginary part\n",
      "  return arr.astype(dtype, copy=True)\n"
     ]
    },
    {
     "name": "stdout",
     "output_type": "stream",
     "text": [
      "     k      lambda_k\n",
      "0    1 -1.252071e-13\n",
      "1    2 -1.063022e-13\n",
      "2    3 -1.292931e-14\n",
      "3    4 -1.292931e-14\n",
      "4    5 -4.519331e-16\n",
      "5    6 -2.218050e-16\n",
      "6    7 -1.646996e-16\n",
      "7    8  0.000000e+00\n",
      "8    9  0.000000e+00\n",
      "9   10  0.000000e+00\n",
      "10  11  0.000000e+00\n",
      "11  12  0.000000e+00\n",
      "12  13  0.000000e+00\n",
      "13  14  0.000000e+00\n",
      "14  15  0.000000e+00\n",
      "15  16  0.000000e+00\n",
      "16  17  0.000000e+00\n",
      "17  18  0.000000e+00\n",
      "18  19  0.000000e+00\n",
      "19  20  0.000000e+00\n",
      "20  21  0.000000e+00\n",
      "21  22  0.000000e+00\n",
      "22  23  0.000000e+00\n",
      "23  24  0.000000e+00\n",
      "24  25  0.000000e+00\n",
      "25  26  0.000000e+00\n",
      "26  27  0.000000e+00\n",
      "27  28  0.000000e+00\n",
      "28  29  0.000000e+00\n",
      "29  30  0.000000e+00\n"
     ]
    },
    {
     "name": "stderr",
     "output_type": "stream",
     "text": [
      "C:\\Users\\Sandra\\anaconda3\\lib\\site-packages\\numpy\\core\\_asarray.py:171: ComplexWarning: Casting complex values to real discards the imaginary part\n",
      "  return array(a, dtype, copy=False, order=order, subok=True)\n"
     ]
    },
    {
     "data": {
      "image/png": "[encoded data removed]",
      "text/plain": [
       "<Figure size 504x504 with 1 Axes>"
      ]
     },
     "metadata": {},
     "output_type": "display_data"
    }
   ],
   "source": [
    "\n",
    "L = nx.laplacian_matrix(G2).toarray()\n",
    "\n",
    "eigenvalues = linalg.eigvals(L) # TODO: change to .eigenvalsh because we know the matrix is symmetric\n",
    "eigenvalues.sort()\n",
    "enumerator = np.array(range(1, len(eigenvalues)+1))\n",
    "df_eig = pd.DataFrame(list(zip(enumerator, eigenvalues)))\n",
    "\n",
    "# write eigenvalue table\n",
    "df_eig30 = df_eig[:30]\n",
    "df_eig30.columns = ['k', 'lambda_k']\n",
    "df_eig30 = df_eig30.astype({'k': 'int32', 'lambda_k':'float'})\n",
    "print(df_eig30)\n",
    "\n",
    "#doc = Document()\n",
    "doc = Document('etf/tabela_eig1.docx')\n",
    "t = doc.add_table(df_eig30.shape[0]+1, df_eig30.shape[1])\n",
    "t.cell(0,0).text = r'$k$'\n",
    "t.cell(0,1).text = r'$\\lambda_k$'\n",
    "for i in range(df_eig30.shape[0]):\n",
    "    for j in range(df_eig30.shape[-1]):\n",
    "        t.cell(i+1,j).text = str(df_eig30.values[i,j])\n",
    "doc.save('etf/tabela_eig1.docx')\n",
    "\n",
    "\n",
    "\n",
    "\n",
    "plot_scatterplot(enumerator, eigenvalues, r'$k$', r'$\\lambda_k$', 'Ceo spektar graf laplasijana')"
   ]
  },
  {
   "cell_type": "code",
   "execution_count": 23,
   "id": "c1fb5b2a",
   "metadata": {},
   "outputs": [
    {
     "data": {
      "image/png": "[encoded data removed]",
      "text/plain": [
       "<Figure size 576x576 with 1 Axes>"
      ]
     },
     "metadata": {
      "needs_background": "light"
     },
     "output_type": "display_data"
    }
   ],
   "source": [
    "# prvih 30 sopstvenih vrednosti\n",
    "\n",
    "df_eig_30 = df_eig[:30]\n",
    "\n",
    "plot_scatterplot(df_eig_30.iloc[:,0], df_eig_30.iloc[:,1], r'$k$', r'$\\lambda_k$', 'Prvih 30 sopstvenih vrednosti graf laplasijana')\n"
   ]
  },
  {
   "cell_type": "code",
   "execution_count": 15,
   "id": "2b2952cc",
   "metadata": {},
   "outputs": [
    {
     "data": {
      "image/png": "[encoded data removed]",
      "text/plain": [
       "<Figure size 504x504 with 1 Axes>"
      ]
     },
     "metadata": {},
     "output_type": "display_data"
    }
   ],
   "source": [
    "# prvih 30 sopstvenih vrednosti\n",
    "\n",
    "df_eig_34 = df_eig[3000:3025]\n",
    "\n",
    "plot_scatterplot(df_eig_34.iloc[:,0], df_eig_34.iloc[:,1], r'$k$', r'$\\lambda_k$', 'Sopstvene vrednosti 3000-3025 graf laplasijana')\n"
   ]
  },
  {
   "cell_type": "code",
   "execution_count": 31,
   "id": "96522643",
   "metadata": {},
   "outputs": [
    {
     "data": {
      "image/png": "[encoded data removed]",
      "text/plain": [
       "<Figure size 576x576 with 1 Axes>"
      ]
     },
     "metadata": {
      "needs_background": "light"
     },
     "output_type": "display_data"
    },
    {
     "data": {
      "image/png": "[encoded data removed]",
      "text/plain": [
       "<Figure size 576x576 with 1 Axes>"
      ]
     },
     "metadata": {
      "needs_background": "light"
     },
     "output_type": "display_data"
    }
   ],
   "source": [
    "# eigengap\n",
    "\n",
    "\n",
    "df_gap = df_eig.iloc[:,1].diff()\n",
    "df_gap = df_gap.astype(np.float64)\n",
    "\n",
    "df_gap = df_gap[1:]\n",
    "enumerator_column = np.array(range(1, len(df_gap)+1))\n",
    "\n",
    "df_gap = pd.DataFrame(list(zip(enumerator_column, df_gap)))\n",
    "  \n",
    "plot_scatterplot(df_gap.iloc[:,0], df_gap.iloc[:,1], r'$k$', r'$\\lambda_{k+1}-\\lambda_k$','Eigengap')\n",
    "\n",
    "plot_scatterplot(df_gap.iloc[:30,0], df_gap.iloc[:30,1], r'$k$', r'$\\lambda_{k+1}-\\lambda_k$','Eigengap prvih 30 sopstvenih vrednosti graf laplasijana')"
   ]
  },
  {
   "cell_type": "code",
   "execution_count": 16,
   "id": "779badf4",
   "metadata": {},
   "outputs": [],
   "source": [
    "def get_components2(L, component_number):\n",
    "    \n",
    "    evals, evecs = linalg.eig(L) # each column of evecs is an eigenvector\n",
    "\n",
    "    # take only real component of each eigenvalue, because eigenvalues of L are guaranteed to be real \n",
    "    evals = evals.real\n",
    "\n",
    "    # take only real component of each eigenvector, because eigenvectors of L are guaranteed to be real \n",
    "    evecs_temp = []\n",
    "    for e in evecs:\n",
    "        v = e.real\n",
    "        evecs_temp.append(v)    \n",
    "    evecs = evecs_temp\n",
    "    \n",
    "    evecs_horizontal_container = np.array(evecs).T #each row is an eigenvector\n",
    "\n",
    "    zipped = list(zip(evals, evecs_horizontal_container)) # pair eigenvalues and eigenvectors into eigenpairs\n",
    "    zipped.sort(key=lambda tup: tup[0]) # sort eigenpairs by eigenvalue\n",
    "    evals, evecs = zip(*zipped) # evecs is now horizontal, but ordered by paired eigenvalue size\n",
    "    eigenspace0_basis = evecs[:component_number] # take only the first component_number eigenvectors \n",
    "    #eigenspace0_basis = filter_matrix(eigenspace0_basis, math.pow(10, -15)) # filter values close to 0\n",
    "\n",
    "    #print(\"EVM:\")\n",
    "    #EV_mat = np.array(list(eigenspace0_basis)).T\n",
    "    #print(pd.DataFrame(EV_mat))\n",
    "    \n",
    "    IV_rref, _ = sympy.Matrix(eigenspace0_basis).rref()\n",
    "    print(IV_rref)\n",
    "    \n",
    "    \n",
    "    # transformation into indicator vectors\n",
    "    #indicator_vector_container = []\n",
    "    #for eigenvector in eigenspace0_basis:\n",
    "        \n",
    "    #    max_component = max([abs(c) for c in eigenvector])\n",
    "    #    indicator_vector = [abs(c/max_component) for c in eigenvector] # normalization to 1's and 0's\n",
    "    #    indicator_vector_container.append(indicator_vector)\n",
    "    \n",
    "    #print(\"Indicator vector matrix:\")\n",
    "    IV_mat = np.array(IV_rref).T\n",
    "    #print(pd.DataFrame(IV_mat))\n",
    "        \n",
    "    components = []\n",
    "    IV_rref = np.array(IV_rref)\n",
    "    for iv in IV_rref:\n",
    "        component = []\n",
    "        for i, c in enumerate(iv):\n",
    "            if in_range(c, 1.0, math.pow(10, -12)):\n",
    "                component.append(i)\n",
    "        components.append(component)\n",
    "    \n",
    "    return components"
   ]
  },
  {
   "cell_type": "code",
   "execution_count": 17,
   "id": "901b6f38",
   "metadata": {},
   "outputs": [],
   "source": [
    "def in_range(value, target, tolerated_error):\n",
    "    return abs(value-target) < tolerated_error\n",
    "\n",
    "def filter_matrix(m, tolerated_error):\n",
    "    new_matrix = []\n",
    "    for row in m:\n",
    "        new_row = []\n",
    "        for value in row:\n",
    "            if in_range(0 , value, tolerated_error):\n",
    "                new_row.append(0.0)\n",
    "            else:\n",
    "                new_row.append(value)\n",
    "        new_matrix.append(new_row)\n",
    "    return new_matrix\n",
    "\n",
    "def get_components(L, component_number):\n",
    "    \n",
    "    evals, evecs = linalg.eig(L) # each column of evecs is an eigenvector\n",
    "\n",
    "    # take only real component of each eigenvalue, because eigenvalues of L are guaranteed to be real \n",
    "    evals = evals.real\n",
    "\n",
    "    # take only real component of each eigenvector, because eigenvectors of L are guaranteed to be real \n",
    "    evecs_temp = []\n",
    "    for e in evecs:\n",
    "        v = e.real\n",
    "        evecs_temp.append(v)    \n",
    "    evecs = evecs_temp\n",
    "    \n",
    "    evecs_horizontal_container = np.array(evecs).T #each row is an eigenvector\n",
    "\n",
    "    zipped = list(zip(evals, evecs_horizontal_container)) # pair eigenvalues and eigenvectors into eigenpairs\n",
    "    zipped.sort(key=lambda tup: tup[0]) # sort eigenpairs by eigenvalue\n",
    "    evals, evecs = zip(*zipped) # evecs is now horizontal, but ordered by paired eigenvalue size\n",
    "    eigenspace0_basis = evecs[:component_number] # take only the first component_number eigenvectors \n",
    "\n",
    "\n",
    "    print(\"EVM:\")\n",
    "    EV_mat = np.array(list(eigenspace0_basis)).T\n",
    "    print(pd.DataFrame(EV_mat))\n",
    "    \n",
    "    # transformation into indicator vectors\n",
    "    indicator_vector_container = []\n",
    "    for eigenvector in eigenspace0_basis:\n",
    "        \n",
    "        max_component = max([abs(c) for c in eigenvector])\n",
    "        indicator_vector = [abs(c/max_component) for c in eigenvector] # normalization to 1's and 0's\n",
    "        indicator_vector_container.append(indicator_vector)\n",
    "    \n",
    "    print(\"Indicator vector matrix:\")\n",
    "    IV_mat = np.array(indicator_vector_container).T\n",
    "    print(pd.DataFrame(IV_mat))\n",
    "        \n",
    "    components = []\n",
    "    for iv in indicator_vector_container:\n",
    "        component = []\n",
    "        for i, c in enumerate(iv):\n",
    "            if in_range(c, 1.0, math.pow(10, -12)):\n",
    "                component.append(i)\n",
    "        components.append(component)\n",
    "    \n",
    "    return components\n"
   ]
  },
  {
   "cell_type": "code",
   "execution_count": null,
   "id": "30b5e811",
   "metadata": {},
   "outputs": [],
   "source": [
    "#test\n",
    "W = [[0,0,0,0,0,0], [0,0,1,0,0,0,], [0,1,0,0,0,0,], [0,0,0,0,1,1],[0,0,0,1,0,1],[0,0,0,1,1,0]]\n",
    "D = np.diag([0,1,1,2,2,2])\n",
    "Test_L = D - np.array(W)\n",
    "get_components3(Test_L,3)"
   ]
  },
  {
   "cell_type": "code",
   "execution_count": 18,
   "id": "58e7b417",
   "metadata": {},
   "outputs": [
    {
     "name": "stdout",
     "output_type": "stream",
     "text": [
      "[3364, 3, 2, 2, 3, 2, 2, 2, 2, 2, 2, 2, 2, 2, 2, 2, 2, 3, 2, 1, 1, 1, 1, 1, 1, 1, 1, 1, 1, 1, 1, 1, 758]\n",
      "4174\n"
     ]
    }
   ],
   "source": [
    "# partition G2 to components\n",
    "components = get_components3(L, 21)\n",
    "\n",
    "#print(components)\n",
    "component_sizes = [len(c) for c in components]\n",
    "print(component_sizes)\n",
    "print(sum(component_sizes))\n",
    "zipped = list(zip(component_sizes, components)) # pair component sizes and components\n",
    "zipped.sort(key=lambda tup: tup[0], reverse = True) # sort pairs by component size\n",
    "component_sizes, components = zip(*zipped) \n",
    "#print(component_sizes)\n",
    "#print(sum(component_sizes))\n",
    "\n",
    "dominant_component_indexes = components[0]\n",
    "\n",
    "dominant_component_labels = []\n",
    "for i, label in enumerate(list(G2.nodes())):\n",
    "    if i in dominant_component_indexes:\n",
    "        dominant_component_labels.append(label)\n",
    "\n",
    "#print(dominant_component_indexes)\n",
    "#print(dominant_component_labels)"
   ]
  },
  {
   "cell_type": "code",
   "execution_count": 20,
   "id": "c71bc77f",
   "metadata": {},
   "outputs": [
    {
     "name": "stdout",
     "output_type": "stream",
     "text": [
      "Podela na 2: velicine komponenata su [3361    3]\n",
      "Podela na 3: velicine komponenata su [3308    3   53]\n",
      "Podela na 4: velicine komponenata su [3303    3    5   53]\n",
      "Podela na 5: velicine komponenata su [3296    3    7    5   53]\n",
      "Podela na 6: velicine komponenata su [3291    3    5    7    5   53]\n",
      "Podela na 7: velicine komponenata su [3285    3    5    7    5    6   53]\n",
      "Podela na 8: velicine komponenata su [3281    4    3    5    7    5    6   53]\n",
      "Podela na 9: velicine komponenata su [3268    4    3    5    7    5    6   13   53]\n",
      "Podela na 10: velicine komponenata su [3268    4    3    3    5    7    5    6   53   10]\n",
      "Podela na 11: velicine komponenata su [3268    4    3    3    5    7    5    6    3   53    7]\n",
      "Podela na 12: velicine komponenata su [3253    4    3    3    5    7    5    6   15    7   53    3]\n",
      "Podela na 13: velicine komponenata su [3253    4    3    3    5    7    5    3    6    3   15    4   53]\n",
      "Podela na 14: velicine komponenata su [3235   14    4    3    3    5    4    7    5    6   15    7   53    3]\n",
      "Podela na 15: velicine komponenata su [3235   14    4    3    3    5    3    4    7    5    6   15    4   53\n",
      "    3]\n",
      "Podela na 16: velicine komponenata su [3226   14    4    5    4    3    3    5    4    7    5    6   15    4\n",
      "   53    6]\n",
      "Podela na 17: velicine komponenata su [3226   14    4    5    4    3    3    5    4    3    7    5    6   15\n",
      "    3    4   53]\n",
      "Podela na 18: velicine komponenata su [3216   14    4    5    4   10    3    3    5    4    7    5    6    3\n",
      "   15    3    4   53]\n",
      "Podela na 19: velicine komponenata su [3195   14    4    5    4   10    3    3    5    3    4    7    5    6\n",
      "   21   15    4   53    3]\n",
      "Podela na 20: velicine komponenata su [3181   14    4    5    4    3    3   10    5    3    4    7    5    6\n",
      "   21   15   14    4   53    3]\n",
      "Podela na 21: velicine komponenata su [3181   14    4    5    4    3   10    3    5    4    7    5    6   21\n",
      "    3   15   36   14    4    3   17]\n",
      "Podela na 22: velicine komponenata su [3171    2    4    5    4    3   10    3    5    4    3    7   14    5\n",
      "    6   21   36   15    3    4   17   22]\n",
      "Podela na 23: velicine komponenata su [3167    2    4    5    4   10    3    3    4    5    3    4   14    7\n",
      "    5    6   21   36   15    4    3   17   22]\n",
      "Podela na 24: velicine komponenata su [3158    2    9    4    5   10    4    3    3    4    5    4   14    7\n",
      "    5    6   21   36   15    3    4    3   17   22]\n",
      "Podela na 25: velicine komponenata su [3156    2    4    5    9    4    3    3    4   10    3    5    4   14\n",
      "    7    5    3    6   21   36    4    3   17   14   22]\n",
      "Podela na 26: velicine komponenata su [3156    2    2    4    9    5   10    4    3    3    4    5    4   14\n",
      "    7    5    6   21    3   36    3    4    3   17   12   22]\n",
      "Podela na 27: velicine komponenata su [3153    2    3    2    4    9    5    4   10    3    3    4    5    4\n",
      "    3   14    7    5    6   21    3   36    3    4   17   12   22]\n",
      "Podela na 28: velicine komponenata su [3153    2    3    2    2    4    9    5    4   10    3    3    4    5\n",
      "    3    4   14    7    5    6   21    3    4    3   17   12   22   34]\n",
      "Podela na 29: velicine komponenata su [3151    2    3    2    2    4    9    5    4   10    3    3    4    5\n",
      "    7    4    3    7   14    5    6    3   16    3    4   17   12   22\n",
      "   34]\n"
     ]
    }
   ],
   "source": [
    "dominant_component = G2.subgraph(dominant_component_labels)\n",
    "for k in range(2, 30):\n",
    "    \n",
    "    clustering = SpectralClustering(n_clusters=k,\n",
    "    assign_labels=\"discretize\", affinity=\"precomputed\").fit(nx.adjacency_matrix(dominant_component))\n",
    "\n",
    "    colors = clustering.labels_\n",
    "    c_string = []\n",
    "    for c in colors:\n",
    "        c_string.append(str(c))\n",
    "\n",
    "    G = nx.Graph()\n",
    "    for c, label in zip(c_string, dominant_component.nodes()):\n",
    "        G.add_node(label, color=c)\n",
    "\n",
    "    for edge in dominant_component.edges(data=True):\n",
    "        #print(edge)\n",
    "        G.add_edge(edge[0], edge[1], weight=edge[2]['weight'])\n",
    "\n",
    "    # nx.write_pajek(G, \"etf/spectral3.net\")\n",
    "    #nx.write_gml(G, f\"etf/spectral/spectral{k}.gml\")\n",
    "    \n",
    "    csizes = np.zeros(k)\n",
    "    for c in colors:\n",
    "        csizes[int(c)] += 1\n",
    "    \n",
    "    print(f\"Podela na {k}: velicine komponenata su {csizes.astype(int)}\")"
   ]
  },
  {
   "cell_type": "markdown",
   "id": "dfe3a72b",
   "metadata": {},
   "source": [
    "## Louvain metod"
   ]
  },
  {
   "cell_type": "markdown",
   "id": "85cbe3b9",
   "metadata": {},
   "source": [
    "Ako je postavljena rezolucija 1.0"
   ]
  },
  {
   "cell_type": "code",
   "execution_count": 3,
   "id": "764ce148",
   "metadata": {},
   "outputs": [
    {
     "name": "stdout",
     "output_type": "stream",
     "text": [
      "        Id                Label  timeset  modularity_class\n",
      "0        0              askXKCD      NaN               491\n",
      "1        1      AmericanEconomy      NaN               491\n",
      "2        2          electronics      NaN               491\n",
      "3        3               Boxing      NaN               666\n",
      "4        4                  nyc      NaN               491\n",
      "...    ...                  ...      ...               ...\n",
      "4169  4169               emerfv      NaN               843\n",
      "4170  4170             freebies      NaN               491\n",
      "4171  4171             Zinemaya      NaN               844\n",
      "4172  4172                flash      NaN               491\n",
      "4173  4173  vitaminsforhairloss      NaN               491\n",
      "\n",
      "[4174 rows x 4 columns]\n"
     ]
    }
   ],
   "source": [
    "df_mod1 = pd.read_csv(\"data1/modularnost1.csv\")\n",
    "print(df_mod1)"
   ]
  },
  {
   "cell_type": "code",
   "execution_count": 9,
   "id": "f8c6c720",
   "metadata": {},
   "outputs": [
    {
     "name": "stdout",
     "output_type": "stream",
     "text": [
      "                  broj_sabredit\n",
      "modularity_class               \n",
      "491                        1669\n",
      "666                        1361\n",
      "52                          106\n",
      "152                          26\n",
      "178                          14\n",
      "608                          14\n",
      "531                          10\n",
      "834                           9\n",
      "720                           7\n",
      "661                           7\n"
     ]
    }
   ],
   "source": [
    "df_grupisi_mod=df_mod1.groupby('modularity_class')\n",
    "data_agregiraj=df_grupisi_mod['Label'].agg(broj_sabredit=np.size)\n",
    "print(data_agregiraj.sort_values(ascending=False, by='broj_sabredit')[0:10])"
   ]
  },
  {
   "cell_type": "code",
   "execution_count": 12,
   "id": "64d06f42",
   "metadata": {},
   "outputs": [
    {
     "name": "stdout",
     "output_type": "stream",
     "text": [
      "    Id            Label  timeset  modularity_class\n",
      "0    0          askXKCD      NaN               491\n",
      "1    1  AmericanEconomy      NaN               491\n",
      "2    2      electronics      NaN               491\n",
      "4    4              nyc      NaN               491\n",
      "14  14              god      NaN               491\n",
      "17  17             eric      NaN               491\n",
      "18  18         shenzhen      NaN               491\n",
      "21  21            wrong      NaN               491\n",
      "22  22      PrideNation      NaN               491\n",
      "29  29  AlternativeHair      NaN               491\n",
      "33  33         AsiaTalk      NaN               491\n",
      "36  36            sport      NaN               491\n",
      "39  39             love      NaN               491\n",
      "40  40    consciousness      NaN               491\n",
      "44  44          Britain      NaN               491\n",
      "46  46     gratefuldead      NaN               491\n",
      "50  50          ireland      NaN               491\n",
      "54  54  radiofreereddit      NaN               491\n",
      "59  59         Military      NaN               491\n",
      "62  62      UpperCanada      NaN               491\n"
     ]
    }
   ],
   "source": [
    "print(df_mod1[df_mod1['modularity_class']==491].head(20))"
   ]
  },
  {
   "cell_type": "code",
   "execution_count": 13,
   "id": "fb1e23ee",
   "metadata": {},
   "outputs": [
    {
     "name": "stdout",
     "output_type": "stream",
     "text": [
      "    Id             Label  timeset  modularity_class\n",
      "3    3            Boxing      NaN               666\n",
      "7    7             panda      NaN               666\n",
      "8    8             Bamze      NaN               666\n",
      "10  10       getrealtest      NaN               666\n",
      "13  13              Debt      NaN               666\n",
      "15  15            suceel      NaN               666\n",
      "23  23      techinhiding      NaN               666\n",
      "25  25          Eienelle      NaN               666\n",
      "30  30     arbejdsglaede      NaN               666\n",
      "31  31          trustart      NaN               666\n",
      "41  41              y2cl      NaN               666\n",
      "42  42           usuiela      NaN               666\n",
      "43  43     Nurse_dot_com      NaN               666\n",
      "51  51       Vanhomeless      NaN               666\n",
      "52  52  DigitalDisasters      NaN               666\n",
      "55  55               ltr      NaN               666\n",
      "58  58          terrible      NaN               666\n",
      "61  61   mytestreddittwo      NaN               666\n",
      "64  64    Googlepagerank      NaN               666\n",
      "65  65          bdcburma      NaN               666\n"
     ]
    }
   ],
   "source": [
    "print(df_mod1[df_mod1['modularity_class']==666].head(20))"
   ]
  },
  {
   "cell_type": "markdown",
   "id": "bbdee914",
   "metadata": {},
   "source": [
    "Ako je postavljena rezolucija 1.2"
   ]
  },
  {
   "cell_type": "code",
   "execution_count": 17,
   "id": "f9bfffd8",
   "metadata": {
    "scrolled": true
   },
   "outputs": [
    {
     "name": "stdout",
     "output_type": "stream",
     "text": [
      "        Id                Label  timeset  modularity_class\n",
      "0        0              askXKCD      NaN               278\n",
      "1        1      AmericanEconomy      NaN               278\n",
      "2        2          electronics      NaN               278\n",
      "3        3               Boxing      NaN               243\n",
      "4        4                  nyc      NaN               278\n",
      "...    ...                  ...      ...               ...\n",
      "4169  4169               emerfv      NaN               829\n",
      "4170  4170             freebies      NaN               278\n",
      "4171  4171             Zinemaya      NaN               830\n",
      "4172  4172                flash      NaN               278\n",
      "4173  4173  vitaminsforhairloss      NaN               278\n",
      "\n",
      "[4174 rows x 4 columns]\n"
     ]
    }
   ],
   "source": [
    "df_mod1_2 = pd.read_csv(\"data1/modularnost1.2.csv\")\n",
    "print(df_mod1_2)"
   ]
  },
  {
   "cell_type": "code",
   "execution_count": 18,
   "id": "00083c47",
   "metadata": {
    "scrolled": true
   },
   "outputs": [
    {
     "name": "stdout",
     "output_type": "stream",
     "text": [
      "                  broj_sabredit\n",
      "modularity_class               \n",
      "278                        1579\n",
      "243                        1549\n",
      "513                          53\n",
      "137                          23\n",
      "487                          18\n",
      "530                          13\n",
      "532                          10\n",
      "534                           9\n",
      "820                           9\n",
      "659                           7\n"
     ]
    }
   ],
   "source": [
    "df_grupisi_mod=df_mod1_2.groupby('modularity_class')\n",
    "data_agregiraj=df_grupisi_mod['Label'].agg(broj_sabredit=np.size)\n",
    "print(data_agregiraj.sort_values(ascending=False, by='broj_sabredit')[0:10])"
   ]
  },
  {
   "cell_type": "code",
   "execution_count": 21,
   "id": "2b714285",
   "metadata": {},
   "outputs": [
    {
     "name": "stdout",
     "output_type": "stream",
     "text": [
      "    Id            Label  timeset  modularity_class\n",
      "0    0          askXKCD      NaN               278\n",
      "1    1  AmericanEconomy      NaN               278\n",
      "2    2      electronics      NaN               278\n",
      "4    4              nyc      NaN               278\n",
      "11  11             ajax      NaN               278\n",
      "14  14              god      NaN               278\n",
      "18  18         shenzhen      NaN               278\n",
      "22  22      PrideNation      NaN               278\n",
      "24  24        runetnews      NaN               278\n",
      "29  29  AlternativeHair      NaN               278\n",
      "33  33         AsiaTalk      NaN               278\n",
      "36  36            sport      NaN               278\n",
      "37  37    searchengines      NaN               278\n",
      "39  39             love      NaN               278\n",
      "40  40    consciousness      NaN               278\n",
      "44  44          Britain      NaN               278\n",
      "46  46     gratefuldead      NaN               278\n",
      "50  50          ireland      NaN               278\n",
      "54  54  radiofreereddit      NaN               278\n",
      "59  59         Military      NaN               278\n"
     ]
    }
   ],
   "source": [
    "print(df_mod1_2[df_mod1_2['modularity_class']==278].head(20))"
   ]
  },
  {
   "cell_type": "code",
   "execution_count": 20,
   "id": "d682135b",
   "metadata": {},
   "outputs": [
    {
     "name": "stdout",
     "output_type": "stream",
     "text": [
      "    Id             Label  timeset  modularity_class\n",
      "3    3            Boxing      NaN               243\n",
      "5    5           bertels      NaN               243\n",
      "7    7             panda      NaN               243\n",
      "8    8             Bamze      NaN               243\n",
      "10  10       getrealtest      NaN               243\n",
      "13  13              Debt      NaN               243\n",
      "15  15            suceel      NaN               243\n",
      "17  17              eric      NaN               243\n",
      "21  21             wrong      NaN               243\n",
      "23  23      techinhiding      NaN               243\n",
      "25  25          Eienelle      NaN               243\n",
      "30  30     arbejdsglaede      NaN               243\n",
      "31  31          trustart      NaN               243\n",
      "34  34      radiocontrol      NaN               243\n",
      "41  41              y2cl      NaN               243\n",
      "42  42           usuiela      NaN               243\n",
      "43  43     Nurse_dot_com      NaN               243\n",
      "51  51       Vanhomeless      NaN               243\n",
      "52  52  DigitalDisasters      NaN               243\n",
      "55  55               ltr      NaN               243\n"
     ]
    }
   ],
   "source": [
    "print(df_mod1_2[df_mod1_2['modularity_class']==243].head(20))"
   ]
  },
  {
   "cell_type": "markdown",
   "id": "413f6a44",
   "metadata": {},
   "source": [
    "Ako je rezolucija 5"
   ]
  },
  {
   "cell_type": "code",
   "execution_count": 26,
   "id": "88bc4eb6",
   "metadata": {},
   "outputs": [
    {
     "name": "stdout",
     "output_type": "stream",
     "text": [
      "                  broj_sabredit\n",
      "modularity_class               \n",
      "229                        3364\n",
      "288                           3\n",
      "672                           3\n",
      "108                           3\n",
      "464                           2\n",
      "217                           2\n",
      "365                           2\n",
      "321                           2\n",
      "754                           2\n",
      "325                           2\n"
     ]
    }
   ],
   "source": [
    "df_mod5 = pd.read_csv(\"data1/modularnost5.csv\")\n",
    "df_grupisi_mod=df_mod5.groupby('modularity_class')\n",
    "data_agregiraj=df_grupisi_mod['Label'].agg(broj_sabredit=np.size)\n",
    "print(data_agregiraj.sort_values(ascending=False, by='broj_sabredit')[0:10])"
   ]
  },
  {
   "cell_type": "code",
   "execution_count": 27,
   "id": "ead3d806",
   "metadata": {},
   "outputs": [
    {
     "name": "stdout",
     "output_type": "stream",
     "text": [
      "    Id            Label  timeset  modularity_class\n",
      "0    0          askXKCD      NaN               229\n",
      "1    1  AmericanEconomy      NaN               229\n",
      "2    2      electronics      NaN               229\n",
      "3    3           Boxing      NaN               229\n",
      "4    4              nyc      NaN               229\n",
      "5    5          bertels      NaN               229\n",
      "7    7            panda      NaN               229\n",
      "8    8            Bamze      NaN               229\n",
      "10  10      getrealtest      NaN               229\n",
      "11  11             ajax      NaN               229\n",
      "13  13             Debt      NaN               229\n",
      "14  14              god      NaN               229\n",
      "15  15           suceel      NaN               229\n",
      "17  17             eric      NaN               229\n",
      "18  18         shenzhen      NaN               229\n",
      "20  20          Descary      NaN               229\n",
      "21  21            wrong      NaN               229\n",
      "22  22      PrideNation      NaN               229\n",
      "23  23     techinhiding      NaN               229\n",
      "24  24        runetnews      NaN               229\n"
     ]
    }
   ],
   "source": [
    "print(df_mod5[df_mod5['modularity_class']==229].head(20))"
   ]
  },
  {
   "cell_type": "code",
   "execution_count": 28,
   "id": "b13c96e3",
   "metadata": {},
   "outputs": [
    {
     "name": "stdout",
     "output_type": "stream",
     "text": [
      "        Id            Label  timeset  modularity_class\n",
      "471    471     CarpetRepair      NaN               288\n",
      "1625  1625   CarpetCleaning      NaN               288\n",
      "3477  3477  AirDuctCleaning      NaN               288\n"
     ]
    }
   ],
   "source": [
    "print(df_mod5[df_mod5['modularity_class']==288].head(20))"
   ]
  },
  {
   "cell_type": "markdown",
   "id": "39ca960f",
   "metadata": {},
   "source": [
    "## Mostovi"
   ]
  },
  {
   "cell_type": "code",
   "execution_count": 75,
   "id": "48f0b592",
   "metadata": {},
   "outputs": [
    {
     "name": "stdout",
     "output_type": "stream",
     "text": [
      "[('Debt', 'reddit.com'), ('shenzhen', 'China'), ('PrideNation', 'lgbt'), ('love', 'relationships'), ('usuiela', 'reddit.com'), ('Nurse_dot_com', 'reddit.com'), ('Labour', 'DigitalDivide'), ('Vanhomeless', 'reddit.com'), ('bdcburma', 'reddit.com'), ('tr', 'Hepsi'), ('tr', 'abandoned'), ('littlestar', 'PlanetaCiencia'), ('techdorks', 'programming'), ('psyapsy', 'reddit.com'), ('testname', 'reddit.com'), ('InTraser', 'reddit.com'), ('sub', 'reddit.com'), ('Haknit', 'reddit.com'), ('crownedregal', 'reddit.com'), ('davebenzList', 'reddit.com'), ('CassandraTroy', 'reddit.com'), ('FAIRFederation', 'politics'), ('ZinioBest', 'bushlegacyproject'), ('Rickey', 'reddit.com'), ('matija', 'reddit.com'), ('terryly', 'Chinese'), ('GrabberOrange', 'reddit.com'), ('editgrid', 'programming'), ('getdomain', 'reddit.com'), ('ads', 'fundoo'), ('ads', 'mobwisdom'), ('consultingblog', 'reddit.com'), ('bigjimslade', 'cheats'), ('Jawad', 'reddit.com'), ('Alexanderc', 'business'), ('BDJobs', 'reddit.com'), ('Radixweb', 'reddit.com'), ('UndiesDrawer', 'reddit.com'), ('social_bookmarking', 'webbuzzz'), ('Musicoursoul', 'reddit.com'), ('bianca', 'reddit.com'), ('Polilingua', 'de'), ('Interior', 'reddit.com'), ('Cetatenie', 'dezvoltarepersonala'), ('Gossiptainment', 'reddit.com'), ('monika', 'reddit.com'), ('FiduciaryInvestment', 'business'), ('Debtfreehispanic', 'business'), ('try', 'Chinese'), ('TinT', 'technology'), ('LBD', 'reddit.com'), ('James1234', 'reddit.com'), ('chicagotribune', 'reddit.com'), ('gaidep', 'pics'), ('LoanModification', 'politics'), ('Health', 'vitaminsforhairloss'), ('ScottWhiskeyeBlog', 'reddit.com'), ('Houseofbikers', 'pics'), ('awwcute', 'gossip'), ('geoFeed', 'iCoCo'), ('HernandoRealty', 'Realty'), ('ARYA', 'reddit.com'), ('sportnographe', 'reddit.com'), ('orangeinks', 'reddit.com'), ('walmartvitamins', 'reddit.com'), ('Marius93', 'Ambientalmente'), ('HeyShae', 'reddit.com'), ('mp3buff', 'reddit.com'), ('wristtattoo', 'reddit.com'), ('PUAmethod', 'reddit.com'), ('LAlofts', 'reddit.com'), ('foradog', 'reddit.com'), ('GreenTree', 'reddit.com'), ('grecosonthefly', 'business'), ('Tonya', 'reddit.com'), ('Gopher', 'reddit.com'), ('DHgate', 'Chinese'), ('PawShow', 'reddit.com'), ('footballcupleague', 'reddit.com'), ('RBT', 'reddit.com'), ('imoka', 'reddit.com'), ('PetsLoveJessica', 'reddit.com'), ('Contractors', 'Stan'), ('GreenEnergyNews', 'science'), ('Big_Tits_old_Milfs', 'reddit.com'), ('NEWWIDE', 'business'), ('The_Fantasy_Art_Blog', 'reddit.com'), ('InnoGage', 'reddit.com'), ('myblogroom', 'reddit.com'), ('homeschool', 'ChoosyHomeschoolers'), ('jaichiru', 'politics'), ('troyflorida', 'business'), ('Swarming', 'programming'), ('OURANIMALFRIENDS', 'worldnews'), ('kriminals', 'kokonios'), ('worldnews', 'Jesika'), ('worldnews', 'Hindi'), ('worldnews', 'Archana'), ('worldnews', 'letterwritingguide'), ('worldnews', 'OneMFriends'), ('worldnews', 'syok3gp'), ('bestshoes', 'Chinese'), ('FlightSimulation', 'reddit.com'), ('Economics', 'dezvoltarepersonala'), ('Economics', 'JPK'), ('RedPrice', 'reddit.com'), ('Filmzu', 'politics'), ('ComProg', 'reddit.com'), ('nintin', 'pics'), ('andrewdemm', 'reddit.com'), ('myvideofight', 'reddit.com'), ('BusinessIntelligence', 'programming'), ('Senditcertified', 'reddit.com'), ('Detox', 'cogsci'), ('SCUK', 'de'), ('HappinessSF', 'Jennifer'), ('Younai', 'reddit.com'), ('off_topic', 'WTF'), ('inflatable', 'Chinese'), ('haxe', 'extjs'), ('BLESSIE', 'reddit.com'), ('vod', 'reddit.com'), ('tattoosofgirls2', 'Webbook'), ('GPSLLC', 'AskReddit'), ('MensRights', 'BestApparel'), ('Sukhpreet', 'reddit.com'), ('es', 'Altamente'), ('es', 'solucionesseo'), ('biassaid', 'reddit.com'), ('Xnews', 'reddit.com'), ('Travelchacha', 'reddit.com'), ('Christmasparty', 'reddit.com'), ('ko', 'maninee'), ('ko', 'Canuckgook'), ('DominioDesign', 'Drozzzz'), ('obama', 'captainreboot'), ('listmania', 'reddit.com'), ('MilitantStuggles', 'reddit.com'), ('metart', 'nsfw'), ('frostih', 'reddit.com'), ('cleavepoetry', 'reddit.com'), ('reproduction', 'reddit.com'), ('fr', 'paulantoinem'), ('MonsterVine', 'reddit.com'), ('word', 'politics'), ('spark', 'technology'), ('SamuiBeachVillage', 'reddit.com'), ('newcapitalclub', 'reddit.com'), ('dooblets', 'funny'), ('Viamedic', 'reddit.com'), ('ebruce', 'reddit.com'), ('chachadeals', 'reddit.com'), ('hapaxlegomena', 'reddit.com'), ('Jithin', 'reddit.com'), ('Redants', 'reddit.com'), ('billebert', 'business'), ('reeemix', 'reddit.com'), ('dgjohnston', 'business'), ('gossip', 'redditua'), ('gossip', 'davidhood189'), ('Teachforever', 'reddit.com'), ('Sports2Debate', 'reddit.com'), ('gaming', 'Opeth'), ('gaming', 'Vofferu'), ('brentpurves', 'reddit.com'), ('matrako', 'reddit.com'), ('jltff', 'programming'), ('sumobackup', 'reddit.com'), ('FelonReports', 'business'), ('CASTELATED', 'WTF'), ('Posters', 'reddit.com'), ('ariyes', 'reddit.com'), ('flatlanderjournal', 'theflatlanders'), ('civildraftinservice', 'business'), ('Ahken', 'reddit.com'), ('Morrisseysolo', 'morrissey'), ('BlackBlog', 'reddit.com'), ('plavix', 'reddit.com'), ('clikdicks', 'reddit.com'), ('nuxeo', 'programming'), ('environment', 'Zensurf'), ('campusvideos', 'reddit.com'), ('makhanhar', 'reddit.com'), ('Great', 'cute04'), ('holidays', 'reddit.com'), ('Fivelead', 'reddit.com'), ('Julie', 'reddit.com'), ('Haah', 'reddit.com'), ('Websites', 'reddit.com'), ('Gogogadgetwidget', 'reddit.com'), ('nsedreams', 'reddit.com'), ('ElementaryEducation', 'reddit.com'), ('avrham', 'reddit.com'), ('yahooanswers', 'WTF'), ('productreview', 'reddit.com'), ('capetownnews', 'reddit.com'), ('jeux_flash', 'reddit.com'), ('defc0n1', 'artition'), ('reddit.com', 'DNChamp'), ('reddit.com', 'BeyondWords'), ('reddit.com', 'AmandaNRoy'), ('reddit.com', 'iMarketing'), ('reddit.com', 'AvaBea'), ('reddit.com', 'Bakugan'), ('reddit.com', 'bathrooms'), ('reddit.com', 'BlazersReddit'), ('reddit.com', 'bonsaijon'), ('reddit.com', 'Candice'), ('reddit.com', 'DietHealth'), ('reddit.com', 'pcolinks'), ('reddit.com', 'FlyerWiki'), ('reddit.com', 'fredwissman'), ('reddit.com', 'GatorArcade'), ('reddit.com', 'workathome'), ('reddit.com', 'GeorgiaAquarium'), ('reddit.com', 'OnlineDating'), ('reddit.com', 'Kristabell'), ('reddit.com', 'loft20'), ('reddit.com', 'Hapi'), ('reddit.com', 'Madumbi76'), ('reddit.com', 'MegaJonasLova'), ('reddit.com', 'Mickreddit'), ('reddit.com', 'Rhonda'), ('reddit.com', 'NSCocoa'), ('reddit.com', 'ThisIsMyTestRun'), ('reddit.com', 'NewsGuru'), ('reddit.com', 'NuyoRiquena'), ('reddit.com', 'OnceAgain'), ('reddit.com', 'PaulShort'), ('reddit.com', 'Pauliespoint'), ('reddit.com', 'PoplarGirl1'), ('reddit.com', 'HotWater'), ('reddit.com', 'ScrappyMusic'), ('reddit.com', 'Sense'), ('reddit.com', 'e2mars'), ('reddit.com', 'StitchSimply'), ('reddit.com', 'Tandberg'), ('reddit.com', 'Lookieloo'), ('reddit.com', 'TodaysNewsBlog'), ('reddit.com', 'MyTotalKitchen'), ('reddit.com', 'TrafficSchool'), ('reddit.com', 'Lipstick'), ('reddit.com', 'VillasMoraira'), ('reddit.com', 'WalKnDude'), ('reddit.com', 'whowantslove'), ('reddit.com', 'YFRIndia'), ('reddit.com', 'efluential'), ('reddit.com', 'adekeda'), ('reddit.com', 'PhD'), ('reddit.com', '21212'), ('reddit.com', 'alexda'), ('reddit.com', 'aliyaleigh'), ('reddit.com', 'iloveeverything'), ('reddit.com', 'Anil'), ('reddit.com', 'anilobm'), ('reddit.com', 'apple89'), ('reddit.com', 'mental_helaht'), ('reddit.com', 'hurribugs'), ('reddit.com', 'Arzum'), ('reddit.com', 'AspiringMarketer'), ('reddit.com', 'AtlantisDivers'), ('reddit.com', 'AtulTanna'), ('reddit.com', 'azher'), ('reddit.com', 'azliensa'), ('reddit.com', 'backdropsource'), ('reddit.com', 'callingIT'), ('reddit.com', 'wesley'), ('reddit.com', 'HomeBrewNews'), ('reddit.com', 'spk'), ('reddit.com', 'bernsbarry'), ('reddit.com', 'xaluan'), ('reddit.com', 'BintanLagoonResort'), ('reddit.com', 'biphentinhealth'), ('reddit.com', 'Packaging'), ('reddit.com', 'blueoceandirect'), ('reddit.com', 'brendoreddit'), ('reddit.com', 'thestem'), ('reddit.com', 'Entrebloggers'), ('reddit.com', 'BurrellColour'), ('reddit.com', 'BustingDiva'), ('reddit.com', 'weddingfavors'), ('reddit.com', 'OnlineShopping'), ('reddit.com', 'Personalized'), ('reddit.com', 'sevenload'), ('reddit.com', 'CorporateCreative'), ('reddit.com', 'civilengineering'), ('reddit.com', 'CollegeCounseling'), ('reddit.com', 'cp_retailpos'), ('reddit.com', 'BloZip'), ('reddit.com', 'CriminalBR'), ('reddit.com', 'Mosaic_Interactive'), ('reddit.com', 'cros'), ('reddit.com', 'RedBalloonDays'), ('reddit.com', 'Webroads'), ('reddit.com', 'rosilawani'), ('reddit.com', 'Melton'), ('reddit.com', 'dcpanganiban'), ('reddit.com', 'rhs'), ('reddit.com', 'Dimas'), ('reddit.com', 'Dirtfloor'), ('reddit.com', 'MDVC'), ('reddit.com', 'USMLEMD'), ('reddit.com', 'TopPosition'), ('reddit.com', 'dpolly'), ('reddit.com', 'hypatia'), ('reddit.com', 'egistb'), ('reddit.com', 'houseless'), ('reddit.com', 'europeansolutions'), ('reddit.com', 'ewing2001'), ('reddit.com', 'Pink'), ('reddit.com', 'videointhetube'), ('reddit.com', 'YouPublish'), ('reddit.com', 'lolz'), ('reddit.com', 'VGC'), ('reddit.com', 'GameTech'), ('reddit.com', 'PreparedSociety'), ('reddit.com', 'Dressupgurl'), ('reddit.com', 'Powerplay'), ('reddit.com', 'grant_tda'), ('reddit.com', 'greatpinoy'), ('reddit.com', 'Grind_Vision'), ('reddit.com', 'grist'), ('reddit.com', 'reference'), ('reddit.com', 'guysharp'), ('reddit.com', 'Authenticfashion'), ('reddit.com', 'handletime'), ('reddit.com', 'harneu'), ('reddit.com', 'kratos'), ('reddit.com', 'Mortgage'), ('reddit.com', 'CODEcontent'), ('reddit.com', 'designerly'), ('reddit.com', 'Infosec2008'), ('reddit.com', 'hopes'), ('reddit.com', 'Jaden'), ('reddit.com', 'jasonallenmiller'), ('reddit.com', 'ALALabAuto'), ('reddit.com', 'YankeeFlipperFeeder'), ('reddit.com', 'The_Trainer'), ('reddit.com', 'jecobsw'), ('reddit.com', 'JessicaMooray'), ('reddit.com', 'NERInews'), ('reddit.com', 'xrosswheeler'), ('reddit.com', 'MoveFitness'), ('reddit.com', 'UsefulBlogs'), ('reddit.com', 'TechDaysTour'), ('reddit.com', 'OCPaddler'), ('reddit.com', 'kharis'), ('reddit.com', 'Victoria'), ('reddit.com', 'kingrobotic'), ('reddit.com', 'loynomsc'), ('reddit.com', 'knowledgespeak'), ('reddit.com', 'vedicastrology'), ('reddit.com', 'f4forex'), ('reddit.com', 'Sleeptreatment'), ('reddit.com', 'HealthcareErrors'), ('reddit.com', 'bliptv'), ('reddit.com', 'melbourne'), ('reddit.com', 'Tenurist'), ('reddit.com', 'GregK'), ('reddit.com', 'providentestate'), ('reddit.com', 'AquariumFish'), ('reddit.com', 'KeralaWebWorks'), ('reddit.com', 'kompassworld'), ('reddit.com', 'Manuj'), ('reddit.com', 'EstwingTools'), ('reddit.com', 'Mary'), ('reddit.com', 'Fixed'), ('reddit.com', 'IRONMIKEHAMILTON'), ('reddit.com', 'TwilightGurl'), ('reddit.com', 'MotherAboutInsane'), ('reddit.com', 'MovieGab'), ('reddit.com', 'sexyjapanx'), ('reddit.com', 'faridi'), ('reddit.com', 'nightbloom'), ('reddit.com', 'ObammunismWatch'), ('reddit.com', 'MilleniumForce'), ('reddit.com', 'SpoonBlog'), ('reddit.com', 'Embeddedavr'), ('reddit.com', 'osbgroup'), ('reddit.com', 'ouddy'), ('reddit.com', 'WendyM'), ('reddit.com', 'Paunchiness'), ('reddit.com', 'paygossiper'), ('reddit.com', 'peaceulloan'), ('reddit.com', 'dwhost'), ('reddit.com', 'pitchengine'), ('reddit.com', 'QuickBooker'), ('reddit.com', 'galeej'), ('reddit.com', 'game'), ('reddit.com', 'purity_products'), ('reddit.com', 'Qtour'), ('reddit.com', 'QueenSlimey'), ('reddit.com', 'radhoo'), ('reddit.com', 'technobay'), ('reddit.com', 'revenue'), ('reddit.com', 'DLP'), ('reddit.com', 'SafetyNews'), ('reddit.com', 'Patty'), ('reddit.com', 'sar'), ('reddit.com', 'Payday'), ('reddit.com', 'kikko'), ('reddit.com', 'Watches'), ('reddit.com', 'Passion'), ('reddit.com', 'Sakitha'), ('reddit.com', 'salakedan'), ('reddit.com', 'Mustang'), ('reddit.com', 'sharkarts'), ('reddit.com', 'signofthefox'), ('reddit.com', 'Simplyzigzag'), ('reddit.com', 'Allsmsmessages'), ('reddit.com', 'DreamHomes'), ('reddit.com', 'skytourbeau'), ('reddit.com', 'MoneyAnswerTree'), ('reddit.com', 'Soccymartin'), ('reddit.com', 'AppleApps'), ('reddit.com', 'SearchMyCampus'), ('reddit.com', 'DefendersOwn'), ('reddit.com', 'freesoftware'), ('reddit.com', 'tanjit'), ('reddit.com', 'GGGGive'), ('reddit.com', 'Tomcan'), ('reddit.com', 'storesaver'), ('reddit.com', 'Coach4u'), ('reddit.com', 'JamesButterfield'), ('reddit.com', 'tmichaelcart'), ('reddit.com', 'BookSmarts'), ('reddit.com', 'clink'), ('reddit.com', 'Memorials'), ('reddit.com', 'Hair'), ('reddit.com', 'webanalyticsblog'), ('reddit.com', 'Reefing'), ('reddit.com', 'webhosting'), ('reddit.com', 'Weblogicguru'), ('reddit.com', 'SixHourStartup'), ('reddit.com', 'rentcentralpa'), ('reddit.com', 'LittleToddler'), ('reddit.com', 'Winworld'), ('reddit.com', 'Dwight'), ('reddit.com', 'wc2010'), ('reddit.com', 'wrexham'), ('reddit.com', 'Xstaticarmchair'), ('reddit.com', 'Everton'), ('reddit.com', 'zinio'), ('bedla', 'czech'), ('bulgaria', 'shtruc'), ('freemusic', 'netaudio'), ('TheManifestStation', 'entertainment'), ('zeuux', 'Chinese'), ('recycled', 'programming'), ('positivethinker', 'dezvoltarepersonala'), ('Shailendra', 'programming'), ('malwarecity', 'technology'), ('Sobhaneh', 'Peiman'), ('ArtBook', 'WTF'), ('Tiquicia', 'ChileRemix'), ('GreenCult', 'women'), ('creditwrench', 'entertainment'), ('entertainment', 'sporevote'), ('entertainment', 'ChanningTatum'), ('entertainment', 'ghostbusters'), ('entertainment', 'GamingIndustryNews'), ('entertainment', 'LeonaLewis'), ('entertainment', 'altaVoz'), ('FinancialTrading', 'business'), ('computergraphics', 'puppies'), ('Sherewizki', 'mexico'), ('mndoci', 'science'), ('beer', 'Homebrewing101'), ('mainfo', 'technology'), ('technology', 'BrickImaging'), ('technology', 'Hardawrae'), ('technology', 'files1000'), ('technology', 'MontrealTechWatch'), ('technology', 'poppins_reddit'), ('Igor', 'Mackorisnik'), ('Infos', 'Lancement'), ('gwetzel', 'rbondi'), ('FatLoss', 'Phenocal'), ('BayuAditya', 'SatuKarimun'), ('viajeros', 'funny'), ('bizhonorsbooks', 'ActivistNow'), ('Chinese', 'solar'), ('Chinese', 'elain'), ('Chinese', 'femto'), ('Chinese', 'JaneDing'), ('Chinese', 'libattery'), ('Chinese', '3ren'), ('Chinese', 'OurChinese'), ('Chinese', 'cncrk'), ('GinsanaEnergy', 'comics'), ('my_own_test_reddit', 'experiment1'), ('blogofilia', 'Voto'), ('NewsPlus', 'business'), ('chilereddit', 'math'), ('pycon2008', 'programming'), ('AegonReligare', 'business'), ('PUBLICADDS', 'programming'), ('business', 'ashima28'), ('business', 'HairStraightener'), ('business', 'jac481'), ('business', 'realsurf'), ('business', 'Promotionals'), ('business', 'ten31'), ('business', 'vancec'), ('christianrap', 'nomorecrapmusic'), ('Heeroguy', 'apple'), ('valleyvoice', 'politics'), ('gridsix', 'funny'), ('Tryton', 'programming'), ('AskReddit', 'trolls'), ('exboyfriendback', 'science'), ('RealLifeSketch', 'science'), ('rdpriest', 'politics'), ('pics', 'Widgets'), ('pics', 'dixipix'), ('pics', 'Sexyf'), ('pics', 'shamaaz'), ('CMMI', 'programming'), ('oilexploration', 'science'), ('HouseMusic', 'politics'), ('sports', 'gamereviews'), ('atheism', 'themintchicks'), ('programming', 'LATIMES'), ('programming', 'dico'), ('programming', 'search9'), ('programming', 'Vipin'), ('Tamil_Blogs', 'Chennai'), ('siliconflorist', 'bendnews'), ('stephanerd', 'funny'), ('funny', 'gal'), ('Francie', 'FrancieFace'), ('parrots', 'politics'), ('nsfw2', 'nsfw'), ('lds', 'mormon'), ('Gracefullbabes', 'nsfw'), ('FTVgirls', 'nsfw'), ('ZioNews', 'it'), ('bestactorofiran', 'Peiman')]\n"
     ]
    }
   ],
   "source": [
    "mostovi=nx.bridges(GSNet)\n",
    "mostovi=list(mostovi)\n",
    "print(mostovi)"
   ]
  },
  {
   "cell_type": "markdown",
   "id": "84bcf366",
   "metadata": {},
   "source": [
    "## Poređenje SNet i SNetT"
   ]
  },
  {
   "cell_type": "code",
   "execution_count": null,
   "id": "5fe8741c",
   "metadata": {
    "scrolled": true
   },
   "outputs": [],
   "source": [
    "print(nx.periphery(Gdom))"
   ]
  },
  {
   "cell_type": "code",
   "execution_count": null,
   "id": "9f78625c",
   "metadata": {},
   "outputs": [],
   "source": [
    "core_Num=nx.core_number(Gdom)\n",
    "print(core_Num)"
   ]
  },
  {
   "cell_type": "code",
   "execution_count": null,
   "id": "b0109152",
   "metadata": {},
   "outputs": [],
   "source": [
    "snet_t={'reddit.com', 'pics', 'worldnews', 'programming',\n",
    "'business', 'politics', 'obama', 'science', 'technology', 'WTF', \n",
    "'AskReddit', 'netsec', 'philosophy', 'videos', 'offbeat',\n",
    "'funny', 'entertainment', 'linux', 'geek', 'gaming', 'comics', 'gadgets', 'nsfw', \n",
    "'news', 'environment', 'atheism','canada', 'math', 'Economics', 'scifi', \n",
    "'bestof', 'cogsci', 'joel', 'Health', 'guns', 'photography', 'software', 'history',\n",
    "'ideas'}\n",
    "for i in snet_t:\n",
    "    print(core_Num[i]) #nakon pokretanja ove komande, prikazuju se isti brojevi jezgra kom ti čvorovi pripadaju"
   ]
  },
  {
   "cell_type": "code",
   "execution_count": null,
   "id": "00a864f3",
   "metadata": {},
   "outputs": [],
   "source": [
    "import matplotlib.image as mpimg\n",
    "from matplotlib import pyplot as plt\n",
    "plt.rcParams[\"figure.figsize\"] = (8,8)\n",
    "img = mpimg.imread('SNetT u SNet.png')\n",
    "imgplot = plt.imshow(img)\n",
    "plt.show()\n",
    "img = mpimg.imread('SNetT u SNet1.png')\n",
    "imgplot = plt.imshow(img)\n",
    "plt.show()"
   ]
  },
  {
   "cell_type": "markdown",
   "id": "c55f981c",
   "metadata": {},
   "source": [
    "Pripadaju istom jezgru."
   ]
  },
  {
   "cell_type": "code",
   "execution_count": null,
   "id": "ad512475",
   "metadata": {},
   "outputs": [],
   "source": []
  }
 ],
 "metadata": {
  "kernelspec": {
   "display_name": "Python 3 (ipykernel)",
   "language": "python",
   "name": "python3"
  },
  "language_info": {
   "codemirror_mode": {
    "name": "ipython",
    "version": 3
   },
   "file_extension": ".py",
   "mimetype": "text/x-python",
   "name": "python",
   "nbconvert_exporter": "python",
   "pygments_lexer": "ipython3",
   "version": "3.10.5"
  }
 },
 "nbformat": 4,
 "nbformat_minor": 5
}
