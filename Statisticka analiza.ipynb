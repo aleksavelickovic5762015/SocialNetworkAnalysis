{
 "cells": [
  {
   "cell_type": "code",
   "execution_count": 1,
   "id": "d902ca3e",
   "metadata": {},
   "outputs": [],
   "source": [
    "import pickle\n",
    "\n",
    "with open(\"data/comments_cleaned\", 'rb') as file:\n",
    "    data_comments = pickle.load(file)"
   ]
  },
  {
   "cell_type": "code",
   "execution_count": 2,
   "id": "8c727652",
   "metadata": {},
   "outputs": [],
   "source": [
    "with open(\"data/submissions_cleaned\", 'rb') as file:\n",
    "    data_submissions=pickle.load(file)"
   ]
  },
  {
   "cell_type": "code",
   "execution_count": null,
   "id": "4d56a0d7",
   "metadata": {
    "scrolled": true
   },
   "outputs": [],
   "source": [
    "print(data_comments)"
   ]
  },
  {
   "cell_type": "code",
   "execution_count": null,
   "id": "73264ee9",
   "metadata": {
    "scrolled": true
   },
   "outputs": [],
   "source": [
    "print(data_submissions)"
   ]
  },
  {
   "cell_type": "code",
   "execution_count": 3,
   "id": "1ee92d21",
   "metadata": {},
   "outputs": [],
   "source": [
    "import numpy as np\n",
    "import pandas as pd"
   ]
  },
  {
   "cell_type": "markdown",
   "id": "4adc6746",
   "metadata": {},
   "source": [
    "## 1a) Broj različitih sabredita koji se pojavljuju u posmatranom periodu ##"
   ]
  },
  {
   "cell_type": "code",
   "execution_count": 4,
   "id": "117294db",
   "metadata": {},
   "outputs": [],
   "source": [
    "#datume izvuci za periode\n",
    "datum1=pd.to_datetime(data_submissions['created_utc'],unit='s')\n",
    "#print(f'Datumi za objave\\n')\n",
    "#print(datum1)\n",
    "mesec1=pd.to_datetime(datum1).dt.month\n",
    "#print(f'\\n')\n",
    "datum2=pd.to_datetime(data_comments['created_utc'], unit='s')\n",
    "#print(f'Datumi za komentare\\n')\n",
    "#print(datum2)\n",
    "mesec2=pd.to_datetime(datum2).dt.month\n",
    "\n",
    "januar=mesec1==1\n",
    "februar=mesec1==2\n",
    "mart=mesec1==3\n",
    "april=mesec1==4\n",
    "maj=mesec1==5\n",
    "jun=mesec1==6\n",
    "jul=mesec1==7\n",
    "avg=mesec1==8\n",
    "sept=mesec1==9\n",
    "okt=mesec1==10\n",
    "nov=mesec1==11\n",
    "dec=mesec1==12\n",
    "sabnetiJanSub=data_submissions.loc[mesec1[januar].index]\n",
    "sabnetiFebSub=data_submissions.loc[mesec1[februar].index]\n",
    "sabnetiMartSub=data_submissions.loc[mesec1[mart].index]\n",
    "sabnetiAprilSub=data_submissions.loc[mesec1[april].index]\n",
    "sabnetiMajSub=data_submissions.loc[mesec1[maj].index]\n",
    "sabnetiJunSub=data_submissions.loc[mesec1[jun].index]\n",
    "sabnetiJulSub=data_submissions.loc[mesec1[jul].index]\n",
    "sabnetiAvgSub=data_submissions.loc[mesec1[avg].index]\n",
    "sabnetiSepSub=data_submissions.loc[mesec1[sept].index]\n",
    "sabnetiOktSub=data_submissions.loc[mesec1[okt].index]\n",
    "sabnetiNovSub=data_submissions.loc[mesec1[nov].index]\n",
    "sabnetiDecSub=data_submissions.loc[mesec1[dec].index]\n",
    "\n",
    "januar=mesec2==1\n",
    "februar=mesec2==2\n",
    "mart=mesec2==3\n",
    "april=mesec2==4\n",
    "maj=mesec2==5\n",
    "jun=mesec2==6\n",
    "jul=mesec2==7\n",
    "avg=mesec2==8\n",
    "sept=mesec2==9\n",
    "okt=mesec2==10\n",
    "nov=mesec2==11\n",
    "dec=mesec2==12\n",
    "sabnetiJanCom=data_comments.loc[mesec2[januar].index]\n",
    "sabnetiFebCom=data_comments.loc[mesec2[februar].index]\n",
    "sabnetiMartCom=data_comments.loc[mesec2[mart].index]\n",
    "sabnetiAprilCom=data_comments.loc[mesec2[april].index]\n",
    "sabnetiMajCom=data_comments.loc[mesec2[maj].index]\n",
    "sabnetiJunCom=data_comments.loc[mesec2[jun].index]\n",
    "sabnetiJulCom=data_comments.loc[mesec2[jul].index]\n",
    "sabnetiAvgCom=data_comments.loc[mesec2[avg].index]\n",
    "sabnetiSepCom=data_comments.loc[mesec2[sept].index]\n",
    "sabnetiOktCom=data_comments.loc[mesec2[okt].index]\n",
    "sabnetiNovCom=data_comments.loc[mesec2[nov].index]\n",
    "sabnetiDecCom=data_comments.loc[mesec2[dec].index]"
   ]
  },
  {
   "cell_type": "code",
   "execution_count": 5,
   "id": "7a5928c2",
   "metadata": {},
   "outputs": [
    {
     "name": "stdout",
     "output_type": "stream",
     "text": [
      "Postoji 191 različitih sabredita u januaru\n",
      "Postoji 230 različitih sabredita u februaru\n",
      "Postoji 423 različitih sabredita u martu\n",
      "Postoji 444 različitih sabredita u aprilu\n",
      "Postoji 564 različitih sabredita u maju\n",
      "Postoji 869 različitih sabredita u junu\n",
      "Postoji 998 različitih sabredita u julu\n",
      "Postoji 1057 različitih sabredita u avgustu\n",
      "Postoji 1185 različitih sabredita u septembru\n",
      "Postoji 1226 različitih sabredita u oktobru\n",
      "Postoji 1476 različitih sabredita u novembru\n",
      "Postoji 1594 različitih sabredita u decembru\n"
     ]
    }
   ],
   "source": [
    "#odrediti uniju za broj sabredita u skupu objava i komentara\n",
    "set1=set(sabnetiJanSub['subreddit_id'].unique())\n",
    "set2=set(sabnetiJanCom['subreddit_id'].unique())\n",
    "list_subredit=set1 | set2 \n",
    "print(f\"Postoji { len(list_subredit) } različitih sabredita u januaru\") \n",
    "\n",
    "set1=set(sabnetiFebSub['subreddit_id'].unique())\n",
    "set2=set(sabnetiFebCom['subreddit_id'].unique())\n",
    "list_subredit=set1 | set2 \n",
    "print(f\"Postoji { len(list_subredit) } različitih sabredita u februaru\") \n",
    "\n",
    "set1=set(sabnetiMartSub['subreddit_id'].unique())\n",
    "set2=set(sabnetiMartCom['subreddit_id'].unique())\n",
    "list_subredit=set1 | set2 \n",
    "print(f\"Postoji { len(list_subredit) } različitih sabredita u martu\") \n",
    "\n",
    "set1=set(sabnetiAprilSub['subreddit_id'].unique())\n",
    "set2=set(sabnetiAprilCom['subreddit_id'].unique())\n",
    "list_subredit=set1 | set2 \n",
    "print(f\"Postoji { len(list_subredit) } različitih sabredita u aprilu\") \n",
    "\n",
    "\n",
    "set1=set(sabnetiMajSub['subreddit_id'].unique())\n",
    "set2=set(sabnetiMajCom['subreddit_id'].unique())\n",
    "list_subredit=set1 | set2 \n",
    "print(f\"Postoji { len(list_subredit) } različitih sabredita u maju\") \n",
    "\n",
    "set1=set(sabnetiJunSub['subreddit_id'].unique())\n",
    "set2=set(sabnetiJunCom['subreddit_id'].unique())\n",
    "list_subredit=set1 | set2 \n",
    "print(f\"Postoji { len(list_subredit) } različitih sabredita u junu\") \n",
    "\n",
    "set1=set(sabnetiJulSub['subreddit_id'].unique())\n",
    "set2=set(sabnetiJulCom['subreddit_id'].unique())\n",
    "list_subredit=set1 | set2 \n",
    "print(f\"Postoji { len(list_subredit) } različitih sabredita u julu\") \n",
    "\n",
    "set1=set(sabnetiAvgSub['subreddit_id'].unique())\n",
    "set2=set(sabnetiAvgCom['subreddit_id'].unique())\n",
    "list_subredit=set1 | set2 \n",
    "print(f\"Postoji { len(list_subredit) } različitih sabredita u avgustu\") \n",
    "\n",
    "set1=set(sabnetiSepSub['subreddit_id'].unique())\n",
    "set2=set(sabnetiSepCom['subreddit_id'].unique())\n",
    "list_subredit=set1 | set2 \n",
    "print(f\"Postoji { len(list_subredit) } različitih sabredita u septembru\") \n",
    "\n",
    "set1=set(sabnetiOktSub['subreddit_id'].unique())\n",
    "set2=set(sabnetiOktCom['subreddit_id'].unique())\n",
    "list_subredit=set1 | set2 \n",
    "print(f\"Postoji { len(list_subredit) } različitih sabredita u oktobru\") \n",
    "\n",
    "set1=set(sabnetiNovSub['subreddit_id'].unique())\n",
    "set2=set(sabnetiNovCom['subreddit_id'].unique())\n",
    "list_subredit=set1 | set2 \n",
    "print(f\"Postoji { len(list_subredit) } različitih sabredita u novembru\") \n",
    "\n",
    "set1=set(sabnetiDecSub['subreddit_id'].unique())\n",
    "set2=set(sabnetiDecCom['subreddit_id'].unique())\n",
    "list_subredit=set1 | set2 \n",
    "print(f\"Postoji { len(list_subredit) } različitih sabredita u decembru\") "
   ]
  },
  {
   "cell_type": "markdown",
   "id": "9842b2ca",
   "metadata": {},
   "source": [
    "## 1b) Najvažniji sabrediti po broju korisnika u posmatranom periodu"
   ]
  },
  {
   "cell_type": "code",
   "execution_count": 6,
   "id": "32d9b5c9",
   "metadata": {},
   "outputs": [
    {
     "name": "stdout",
     "output_type": "stream",
     "text": [
      "Najvažniji sabrediti u januaru:\n",
      "\n",
      "               broj_korisnika\n",
      "subreddit                    \n",
      "reddit.com              24074\n",
      "politics                 7998\n",
      "programming              4797\n",
      "science                  3567\n",
      "entertainment            2777\n",
      "business                 2029\n",
      "gaming                    996\n",
      "gadgets                   891\n",
      "sports                    681\n",
      "netsec                    204\n",
      "\n",
      "Najvažniji sabrediti u februaru:\n",
      "\n",
      "               broj_korisnika\n",
      "subreddit                    \n",
      "reddit.com              25820\n",
      "politics                 7632\n",
      "programming              4249\n",
      "science                  3430\n",
      "entertainment            3043\n",
      "pics                     2024\n",
      "business                 1921\n",
      "gaming                   1524\n",
      "technology               1144\n",
      "offbeat                   926\n",
      "\n",
      "Najvažniji sabrediti u martu:\n",
      "\n",
      "               broj_korisnika\n",
      "subreddit                    \n",
      "reddit.com              26149\n",
      "politics                 6921\n",
      "programming              4929\n",
      "pics                     4905\n",
      "science                  4420\n",
      "business                 3813\n",
      "entertainment            3427\n",
      "funny                    3217\n",
      "worldnews                2741\n",
      "gaming                   2624\n",
      "\n",
      "Najvažniji sabrediti u aprilu:\n",
      "\n",
      "               broj_korisnika\n",
      "subreddit                    \n",
      "reddit.com              24258\n",
      "politics                 6108\n",
      "programming              5302\n",
      "pics                     5164\n",
      "entertainment            5110\n",
      "science                  4946\n",
      "business                 4903\n",
      "funny                    4831\n",
      "worldnews                4174\n",
      "technology               2735\n",
      "\n",
      "Najvažniji sabrediti u maju:\n",
      "\n",
      "               broj_korisnika\n",
      "subreddit                    \n",
      "reddit.com              25349\n",
      "politics                 6938\n",
      "pics                     6537\n",
      "entertainment            6025\n",
      "science                  5555\n",
      "funny                    5486\n",
      "programming              5304\n",
      "technology               5003\n",
      "business                 4856\n",
      "worldnews                4644\n",
      "\n",
      "Najvažniji sabrediti u junu:\n",
      "\n",
      "               broj_korisnika\n",
      "subreddit                    \n",
      "reddit.com              25461\n",
      "politics                 7303\n",
      "entertainment            6224\n",
      "pics                     6201\n",
      "technology               6090\n",
      "science                  5425\n",
      "funny                    5374\n",
      "worldnews                5320\n",
      "programming              5320\n",
      "WTF                      4341\n",
      "\n",
      "Najvažniji sabrediti u julu:\n",
      "\n",
      "               broj_korisnika\n",
      "subreddit                    \n",
      "reddit.com              25546\n",
      "politics                 7305\n",
      "pics                     6245\n",
      "technology               5862\n",
      "entertainment            5814\n",
      "programming              5716\n",
      "worldnews                5680\n",
      "funny                    5680\n",
      "WTF                      5447\n",
      "science                  5153\n",
      "\n",
      "Najvažniji sabrediti u avgustu:\n",
      "\n",
      "               broj_korisnika\n",
      "subreddit                    \n",
      "reddit.com              25298\n",
      "politics                 7484\n",
      "pics                     6410\n",
      "WTF                      5633\n",
      "technology               5615\n",
      "entertainment            5589\n",
      "science                  5486\n",
      "funny                    5391\n",
      "programming              5376\n",
      "worldnews                5345\n",
      "\n",
      "Najvažniji sabrediti u septembru:\n",
      "\n",
      "             broj_korisnika\n",
      "subreddit                  \n",
      "reddit.com            28993\n",
      "politics              10354\n",
      "pics                   6506\n",
      "technology             6123\n",
      "WTF                    6006\n",
      "funny                  5982\n",
      "programming            5390\n",
      "science                5373\n",
      "worldnews              4987\n",
      "business               3904\n",
      "\n",
      "Najvažniji sabrediti u oktobru:\n",
      "\n",
      "             broj_korisnika\n",
      "subreddit                  \n",
      "reddit.com            29701\n",
      "politics              11591\n",
      "pics                   8129\n",
      "funny                  6802\n",
      "WTF                    6712\n",
      "technology             6359\n",
      "programming            5639\n",
      "science                5372\n",
      "business               5176\n",
      "worldnews              4600\n",
      "\n",
      "Najvažniji sabrediti u novembru:\n",
      "\n",
      "             broj_korisnika\n",
      "subreddit                  \n",
      "reddit.com            30918\n",
      "politics              10795\n",
      "pics                   8417\n",
      "WTF                    7440\n",
      "funny                  7111\n",
      "technology             6444\n",
      "worldnews              6361\n",
      "science                5607\n",
      "programming            5565\n",
      "business               5499\n",
      "\n",
      "Najvažniji sabrediti u decembru:\n",
      "\n",
      "             broj_korisnika\n",
      "subreddit                  \n",
      "reddit.com            34419\n",
      "pics                   8512\n",
      "WTF                    8216\n",
      "politics               8118\n",
      "funny                  7853\n",
      "technology             7091\n",
      "worldnews              6527\n",
      "programming            6385\n",
      "science                6281\n",
      "business               4393\n"
     ]
    }
   ],
   "source": [
    "df1=sabnetiJanSub[['subreddit', 'author']].drop_duplicates()\n",
    "df2=sabnetiJanCom[['subreddit', 'author']].drop_duplicates()\n",
    "union=pd.merge(df1, df2, how='outer', on=['subreddit', 'author']) #54170  #unija broj sabredita (kom i objave) sa autorima\n",
    "data_grupisi_sabredite=union[['subreddit', 'author']].groupby('subreddit')\n",
    "data_agregiraj=data_grupisi_sabredite['author'].agg(broj_korisnika=np.size)\n",
    "print(f\"Najvažniji sabrediti u januaru:\\n\") \n",
    "print(data_agregiraj.sort_values(ascending=False, by='broj_korisnika')[0:10])\n",
    "\n",
    "df1=sabnetiFebSub[['subreddit', 'author']].drop_duplicates()\n",
    "df2=sabnetiFebCom[['subreddit', 'author']].drop_duplicates()\n",
    "union=pd.merge(df1, df2, how='outer', on=['subreddit', 'author']) \n",
    "data_grupisi_sabredite=union[['subreddit', 'author']].groupby('subreddit')\n",
    "data_agregiraj=data_grupisi_sabredite['author'].agg(broj_korisnika=np.size)\n",
    "print(f\"\\nNajvažniji sabrediti u februaru:\\n\") \n",
    "print(data_agregiraj.sort_values(ascending=False, by='broj_korisnika')[0:10])\n",
    "\n",
    "df1=sabnetiMartSub[['subreddit', 'author']].drop_duplicates()\n",
    "df2=sabnetiMartCom[['subreddit', 'author']].drop_duplicates()\n",
    "union=pd.merge(df1, df2, how='outer', on=['subreddit', 'author']) \n",
    "data_grupisi_sabredite=union[['subreddit', 'author']].groupby('subreddit')\n",
    "data_agregiraj=data_grupisi_sabredite['author'].agg(broj_korisnika=np.size)\n",
    "print(f\"\\nNajvažniji sabrediti u martu:\\n\") \n",
    "print(data_agregiraj.sort_values(ascending=False, by='broj_korisnika')[0:10])\n",
    "\n",
    "df1=sabnetiAprilSub[['subreddit', 'author']].drop_duplicates()\n",
    "df2=sabnetiAprilCom[['subreddit', 'author']].drop_duplicates()\n",
    "union=pd.merge(df1, df2, how='outer', on=['subreddit', 'author']) \n",
    "data_grupisi_sabredite=union[['subreddit', 'author']].groupby('subreddit')\n",
    "data_agregiraj=data_grupisi_sabredite['author'].agg(broj_korisnika=np.size)\n",
    "print(f\"\\nNajvažniji sabrediti u aprilu:\\n\") \n",
    "print(data_agregiraj.sort_values(ascending=False, by='broj_korisnika')[0:10])\n",
    "\n",
    "df1=sabnetiMajSub[['subreddit', 'author']].drop_duplicates()\n",
    "df2=sabnetiMajCom[['subreddit', 'author']].drop_duplicates()\n",
    "union=pd.merge(df1, df2, how='outer', on=['subreddit', 'author']) \n",
    "data_grupisi_sabredite=union[['subreddit', 'author']].groupby('subreddit')\n",
    "data_agregiraj=data_grupisi_sabredite['author'].agg(broj_korisnika=np.size)\n",
    "print(f\"\\nNajvažniji sabrediti u maju:\\n\") \n",
    "print(data_agregiraj.sort_values(ascending=False, by='broj_korisnika')[0:10])\n",
    "\n",
    "df1=sabnetiJunSub[['subreddit', 'author']].drop_duplicates()\n",
    "df2=sabnetiJunCom[['subreddit', 'author']].drop_duplicates()\n",
    "union=pd.merge(df1, df2, how='outer', on=['subreddit', 'author']) \n",
    "data_grupisi_sabredite=union[['subreddit', 'author']].groupby('subreddit')\n",
    "data_agregiraj=data_grupisi_sabredite['author'].agg(broj_korisnika=np.size)\n",
    "print(f\"\\nNajvažniji sabrediti u junu:\\n\") \n",
    "print(data_agregiraj.sort_values(ascending=False, by='broj_korisnika')[0:10])\n",
    "\n",
    "df1=sabnetiJulSub[['subreddit', 'author']].drop_duplicates()\n",
    "df2=sabnetiJulCom[['subreddit', 'author']].drop_duplicates()\n",
    "union=pd.merge(df1, df2, how='outer', on=['subreddit', 'author']) \n",
    "data_grupisi_sabredite=union[['subreddit', 'author']].groupby('subreddit')\n",
    "data_agregiraj=data_grupisi_sabredite['author'].agg(broj_korisnika=np.size)\n",
    "print(f\"\\nNajvažniji sabrediti u julu:\\n\") \n",
    "print(data_agregiraj.sort_values(ascending=False, by='broj_korisnika')[0:10])\n",
    "\n",
    "df1=sabnetiAvgSub[['subreddit', 'author']].drop_duplicates()\n",
    "df2=sabnetiAvgCom[['subreddit', 'author']].drop_duplicates()\n",
    "union=pd.merge(df1, df2, how='outer', on=['subreddit', 'author']) \n",
    "data_grupisi_sabredite=union[['subreddit', 'author']].groupby('subreddit')\n",
    "data_agregiraj=data_grupisi_sabredite['author'].agg(broj_korisnika=np.size)\n",
    "print(f\"\\nNajvažniji sabrediti u avgustu:\\n\") \n",
    "print(data_agregiraj.sort_values(ascending=False, by='broj_korisnika')[0:10])\n",
    "\n",
    "df1=sabnetiSepSub[['subreddit', 'author']].drop_duplicates()\n",
    "df2=sabnetiSepCom[['subreddit', 'author']].drop_duplicates()\n",
    "union=pd.merge(df1, df2, how='outer', on=['subreddit', 'author']) \n",
    "data_grupisi_sabredite=union[['subreddit', 'author']].groupby('subreddit')\n",
    "data_agregiraj=data_grupisi_sabredite['author'].agg(broj_korisnika=np.size)\n",
    "print(f\"\\nNajvažniji sabrediti u septembru:\\n\") \n",
    "print(data_agregiraj.sort_values(ascending=False, by='broj_korisnika')[0:10])\n",
    "\n",
    "df1=sabnetiOktSub[['subreddit', 'author']].drop_duplicates()\n",
    "df2=sabnetiOktCom[['subreddit', 'author']].drop_duplicates()\n",
    "union=pd.merge(df1, df2, how='outer', on=['subreddit', 'author']) \n",
    "data_grupisi_sabredite=union[['subreddit', 'author']].groupby('subreddit')\n",
    "data_agregiraj=data_grupisi_sabredite['author'].agg(broj_korisnika=np.size)\n",
    "print(f\"\\nNajvažniji sabrediti u oktobru:\\n\") \n",
    "print(data_agregiraj.sort_values(ascending=False, by='broj_korisnika')[0:10])\n",
    "\n",
    "df1=sabnetiNovSub[['subreddit', 'author']].drop_duplicates()\n",
    "df2=sabnetiNovCom[['subreddit', 'author']].drop_duplicates()\n",
    "union=pd.merge(df1, df2, how='outer', on=['subreddit', 'author']) \n",
    "data_grupisi_sabredite=union[['subreddit', 'author']].groupby('subreddit')\n",
    "data_agregiraj=data_grupisi_sabredite['author'].agg(broj_korisnika=np.size)\n",
    "print(f\"\\nNajvažniji sabrediti u novembru:\\n\") \n",
    "print(data_agregiraj.sort_values(ascending=False, by='broj_korisnika')[0:10])\n",
    "\n",
    "df1=sabnetiDecSub[['subreddit', 'author']].drop_duplicates()\n",
    "df2=sabnetiDecCom[['subreddit', 'author']].drop_duplicates()\n",
    "union=pd.merge(df1, df2, how='outer', on=['subreddit', 'author']) \n",
    "data_grupisi_sabredite=union[['subreddit', 'author']].groupby('subreddit')\n",
    "data_agregiraj=data_grupisi_sabredite['author'].agg(broj_korisnika=np.size)\n",
    "print(f\"\\nNajvažniji sabrediti u decembru:\\n\") \n",
    "print(data_agregiraj.sort_values(ascending=False, by='broj_korisnika')[0:10])"
   ]
  },
  {
   "cell_type": "markdown",
   "id": "1b4cdc1a",
   "metadata": {},
   "source": [
    "## 1c) Najvažniji sabrediti po broju komentara u posmatranom periodu ##"
   ]
  },
  {
   "cell_type": "code",
   "execution_count": 7,
   "id": "3a53817a",
   "metadata": {},
   "outputs": [
    {
     "name": "stdout",
     "output_type": "stream",
     "text": [
      "Najvažniji sabrediti u januaru:\n",
      "\n",
      "               broj_komentara\n",
      "subreddit                    \n",
      "reddit.com             103240\n",
      "politics                70116\n",
      "programming             22557\n",
      "science                  9462\n",
      "entertainment            2248\n",
      "business                 1514\n",
      "gaming                   1178\n",
      "gadgets                   623\n",
      "sports                    375\n",
      "netsec                    152\n",
      "Najvažniji sabrediti u februaru:\n",
      "\n",
      "               broj_komentara\n",
      "subreddit                    \n",
      "reddit.com             112935\n",
      "politics                49985\n",
      "programming             18128\n",
      "science                  8572\n",
      "pics                     3503\n",
      "entertainment            3173\n",
      "gaming                   2176\n",
      "business                 1461\n",
      "offbeat                   633\n",
      "gadgets                   597\n",
      "Najvažniji sabrediti u martu:\n",
      "\n",
      "               broj_komentara\n",
      "subreddit                    \n",
      "reddit.com              86458\n",
      "politics                41620\n",
      "programming             20660\n",
      "pics                    13682\n",
      "science                 12031\n",
      "business                 7035\n",
      "worldnews                5957\n",
      "gaming                   4809\n",
      "funny                    4727\n",
      "entertainment            4095\n",
      "Najvažniji sabrediti u aprilu:\n",
      "\n",
      "               broj_komentara\n",
      "subreddit                    \n",
      "reddit.com              51648\n",
      "politics                31432\n",
      "programming             24512\n",
      "science                 15706\n",
      "pics                    14911\n",
      "worldnews               13760\n",
      "business                10318\n",
      "funny                   10164\n",
      "entertainment            9291\n",
      "gaming                   5124\n",
      "Najvažniji sabrediti u maju:\n",
      "\n",
      "               broj_komentara\n",
      "subreddit                    \n",
      "reddit.com              57326\n",
      "politics                35467\n",
      "programming             22276\n",
      "pics                    20683\n",
      "science                 17589\n",
      "worldnews               14576\n",
      "funny                   12234\n",
      "entertainment           12211\n",
      "business                10371\n",
      "technology               9711\n",
      "Najvažniji sabrediti u junu:\n",
      "\n",
      "               broj_komentara\n",
      "subreddit                    \n",
      "reddit.com              44934\n",
      "politics                33206\n",
      "programming             20572\n",
      "worldnews               17292\n",
      "pics                    17061\n",
      "science                 15536\n",
      "technology              13340\n",
      "entertainment           11713\n",
      "funny                   11310\n",
      "WTF                     10328\n",
      "Najvažniji sabrediti u julu:\n",
      "\n",
      "               broj_komentara\n",
      "subreddit                    \n",
      "reddit.com              41603\n",
      "politics                32679\n",
      "programming             21848\n",
      "worldnews               18540\n",
      "pics                    16648\n",
      "WTF                     14068\n",
      "science                 13104\n",
      "funny                   11404\n",
      "entertainment           11394\n",
      "technology              11019\n",
      "Najvažniji sabrediti u avgustu:\n",
      "\n",
      "               broj_komentara\n",
      "subreddit                    \n",
      "reddit.com              40260\n",
      "politics                32629\n",
      "programming             20418\n",
      "pics                    17068\n",
      "worldnews               16382\n",
      "WTF                     14943\n",
      "science                 14892\n",
      "funny                   10666\n",
      "technology              10551\n",
      "entertainment           10098\n",
      "Najvažniji sabrediti u septembru:\n",
      "\n",
      "             broj_komentara\n",
      "subreddit                  \n",
      "politics              54982\n",
      "reddit.com            48640\n",
      "programming           19163\n",
      "pics                  15785\n",
      "WTF                   14660\n",
      "science               13792\n",
      "worldnews             13062\n",
      "funny                 11380\n",
      "technology            10726\n",
      "business               9016\n",
      "Najvažniji sabrediti u oktobru:\n",
      "\n",
      "             broj_komentara\n",
      "subreddit                  \n",
      "politics              63117\n",
      "reddit.com            52599\n",
      "pics                  23383\n",
      "programming           21757\n",
      "WTF                   16510\n",
      "funny                 13064\n",
      "worldnews             12810\n",
      "science               12794\n",
      "technology            12455\n",
      "business              10955\n",
      "Najvažniji sabrediti u novembru:\n",
      "\n",
      "             broj_komentara\n",
      "subreddit                  \n",
      "politics              50556\n",
      "reddit.com            49755\n",
      "pics                  23553\n",
      "WTF                   19415\n",
      "programming           19114\n",
      "worldnews             18890\n",
      "funny                 13726\n",
      "science               12864\n",
      "technology            11692\n",
      "business              11556\n",
      "Najvažniji sabrediti u decembru:\n",
      "\n",
      "             broj_komentara\n",
      "subreddit                  \n",
      "reddit.com            48649\n",
      "politics              30587\n",
      "programming           24310\n",
      "pics                  20898\n",
      "WTF                   20834\n",
      "worldnews             18193\n",
      "AskReddit             17073\n",
      "funny                 15705\n",
      "science               14931\n",
      "technology            13031\n"
     ]
    }
   ],
   "source": [
    "#to pogledati najvažnije sabredite po broju komentara\n",
    "data_grupisi_sabredite=sabnetiJanCom[['subreddit', 'id']].groupby('subreddit')\n",
    "data_agregiraj=data_grupisi_sabredite['id'].agg(broj_komentara=np.size)\n",
    "print(f\"Najvažniji sabrediti u januaru:\\n\") \n",
    "print(data_agregiraj.sort_values(ascending=False, by='broj_komentara')[0:10]) \n",
    "\n",
    "data_grupisi_sabredite=sabnetiFebCom[['subreddit', 'id']].groupby('subreddit')\n",
    "data_agregiraj=data_grupisi_sabredite['id'].agg(broj_komentara=np.size)\n",
    "print(f\"Najvažniji sabrediti u februaru:\\n\") \n",
    "print(data_agregiraj.sort_values(ascending=False, by='broj_komentara')[0:10]) \n",
    "\n",
    "data_grupisi_sabredite=sabnetiMartCom[['subreddit', 'id']].groupby('subreddit')\n",
    "data_agregiraj=data_grupisi_sabredite['id'].agg(broj_komentara=np.size)\n",
    "print(f\"Najvažniji sabrediti u martu:\\n\") \n",
    "print(data_agregiraj.sort_values(ascending=False, by='broj_komentara')[0:10]) \n",
    "\n",
    "data_grupisi_sabredite=sabnetiAprilCom[['subreddit', 'id']].groupby('subreddit')\n",
    "data_agregiraj=data_grupisi_sabredite['id'].agg(broj_komentara=np.size)\n",
    "print(f\"Najvažniji sabrediti u aprilu:\\n\") \n",
    "print(data_agregiraj.sort_values(ascending=False, by='broj_komentara')[0:10]) \n",
    "\n",
    "data_grupisi_sabredite=sabnetiMajCom[['subreddit', 'id']].groupby('subreddit')\n",
    "data_agregiraj=data_grupisi_sabredite['id'].agg(broj_komentara=np.size)\n",
    "print(f\"Najvažniji sabrediti u maju:\\n\") \n",
    "print(data_agregiraj.sort_values(ascending=False, by='broj_komentara')[0:10]) \n",
    "\n",
    "data_grupisi_sabredite=sabnetiJunCom[['subreddit', 'id']].groupby('subreddit')\n",
    "data_agregiraj=data_grupisi_sabredite['id'].agg(broj_komentara=np.size)\n",
    "print(f\"Najvažniji sabrediti u junu:\\n\") \n",
    "print(data_agregiraj.sort_values(ascending=False, by='broj_komentara')[0:10])\n",
    "\n",
    "data_grupisi_sabredite=sabnetiJulCom[['subreddit', 'id']].groupby('subreddit')\n",
    "data_agregiraj=data_grupisi_sabredite['id'].agg(broj_komentara=np.size)\n",
    "print(f\"Najvažniji sabrediti u julu:\\n\") \n",
    "print(data_agregiraj.sort_values(ascending=False, by='broj_komentara')[0:10]) \n",
    "\n",
    "data_grupisi_sabredite=sabnetiAvgCom[['subreddit', 'id']].groupby('subreddit')\n",
    "data_agregiraj=data_grupisi_sabredite['id'].agg(broj_komentara=np.size)\n",
    "print(f\"Najvažniji sabrediti u avgustu:\\n\") \n",
    "print(data_agregiraj.sort_values(ascending=False, by='broj_komentara')[0:10]) \n",
    "\n",
    "data_grupisi_sabredite=sabnetiSepCom[['subreddit', 'id']].groupby('subreddit')\n",
    "data_agregiraj=data_grupisi_sabredite['id'].agg(broj_komentara=np.size)\n",
    "print(f\"Najvažniji sabrediti u septembru:\\n\") \n",
    "print(data_agregiraj.sort_values(ascending=False, by='broj_komentara')[0:10]) \n",
    "\n",
    "data_grupisi_sabredite=sabnetiOktCom[['subreddit', 'id']].groupby('subreddit')\n",
    "data_agregiraj=data_grupisi_sabredite['id'].agg(broj_komentara=np.size)\n",
    "print(f\"Najvažniji sabrediti u oktobru:\\n\") \n",
    "print(data_agregiraj.sort_values(ascending=False, by='broj_komentara')[0:10]) \n",
    "\n",
    "data_grupisi_sabredite=sabnetiNovCom[['subreddit', 'id']].groupby('subreddit')\n",
    "data_agregiraj=data_grupisi_sabredite['id'].agg(broj_komentara=np.size)\n",
    "print(f\"Najvažniji sabrediti u novembru:\\n\") \n",
    "print(data_agregiraj.sort_values(ascending=False, by='broj_komentara')[0:10])\n",
    "\n",
    "data_grupisi_sabredite=sabnetiDecCom[['subreddit', 'id']].groupby('subreddit')\n",
    "data_agregiraj=data_grupisi_sabredite['id'].agg(broj_komentara=np.size)\n",
    "print(f\"Najvažniji sabrediti u decembru:\\n\") \n",
    "print(data_agregiraj.sort_values(ascending=False, by='broj_komentara')[0:10]) "
   ]
  },
  {
   "cell_type": "markdown",
   "id": "02435826",
   "metadata": {},
   "source": [
    "## 2) Prosečan broj aktivnih korisnika ##"
   ]
  },
  {
   "cell_type": "code",
   "execution_count": 8,
   "id": "6d5cae8f",
   "metadata": {},
   "outputs": [
    {
     "name": "stdout",
     "output_type": "stream",
     "text": [
      "\n",
      "Prosečan broj aktivnih korisnika po sabreditu u januaru:\n",
      "\n",
      "subreddit\n",
      "reddit.com       126.041885\n",
      "politics          41.874346\n",
      "programming       25.115183\n",
      "science           18.675393\n",
      "entertainment     14.539267\n",
      "business          10.623037\n",
      "gaming             5.214660\n",
      "gadgets            4.664921\n",
      "sports             3.565445\n",
      "netsec             1.068063\n",
      "Name: author, dtype: float64\n"
     ]
    }
   ],
   "source": [
    "df1=sabnetiJanSub[['id','subreddit', 'author']]\n",
    "df2=sabnetiJanCom[['id','subreddit', 'author']]\n",
    "\n",
    "#data_grupisi_objave_po_kor=df1[['id','subreddit', 'author']].groupby(['author','subreddit'])\n",
    "#data_agregiraj1=data_grupisi_objave_po_kor['id'].agg(broj_objava=np.size)\n",
    "#print(data_agregiraj1[data_agregiraj1>0]) #aktivni korisnici na objavama\n",
    "#print(data_agregiraj1[data_agregiraj1==0]) #neaktivni korisnici na objavama\n",
    "\n",
    "#data_grupisi_komentare_po_kor=df2[['id','subreddit', 'author']].groupby(['author', 'subreddit'])\n",
    "#data_agregiraj2=data_grupisi_komentare_po_kor['id'].agg(broj_komentara=np.size)\n",
    "#print(data_agregiraj2[data_agregiraj2>0]) #aktivni korisnici na komentarima\n",
    "#print(data_agregiraj2[data_agregiraj2==0]) #neaktivni korisnici na komentarima\n",
    "#ovde vidimo da ima da su svi korisnici aktivni i na komentarima i objavama.\n",
    "\n",
    "union=pd.merge(df1, df2, how='outer', on=['id','subreddit', 'author']) \n",
    "#data_grupisi_obj_kom_po_kor=union[['id','subreddit', 'author']].groupby(['author', 'subreddit'])\n",
    "#data_agregiraj3=data_grupisi_obj_kom_po_kor['id'].agg(broj_objava_komentara=np.size)\n",
    "#print(data_agregiraj3[data_agregiraj3>0]) #aktivni korisnici na komentarima\n",
    "#print(data_agregiraj3[data_agregiraj3['broj_objava_komentara']==0])\n",
    "#ovde vidimo da ima da su svi korisnici aktivni i na komentarima i objavama.\n",
    "\n",
    "#print('\\nBroj sabredita:\\n')\n",
    "brojSab=len(union[['subreddit']].drop_duplicates())\n",
    "#print(brojSab)\n",
    "\n",
    "print('\\nProsečan broj aktivnih korisnika po sabreditu u januaru:\\n')\n",
    "\n",
    "union=union[['subreddit','author']].drop_duplicates()\n",
    "brojKom=union.groupby('subreddit')['author'].count()/brojSab\n",
    "print(brojKom.sort_values(ascending=False)[0:10])"
   ]
  },
  {
   "cell_type": "code",
   "execution_count": 9,
   "id": "8942c3cb",
   "metadata": {},
   "outputs": [
    {
     "name": "stdout",
     "output_type": "stream",
     "text": [
      "\n",
      "Prosečan broj aktivnih korisnika po sabreditu u februaru:\n",
      "\n",
      "subreddit\n",
      "reddit.com       112.260870\n",
      "politics          33.182609\n",
      "programming       18.473913\n",
      "science           14.913043\n",
      "entertainment     13.230435\n",
      "pics               8.800000\n",
      "business           8.352174\n",
      "gaming             6.626087\n",
      "technology         4.973913\n",
      "offbeat            4.026087\n",
      "Name: author, dtype: float64\n"
     ]
    }
   ],
   "source": [
    "df1=sabnetiFebSub[['id','subreddit', 'author']]\n",
    "df2=sabnetiFebCom[['id','subreddit', 'author']]\n",
    "\n",
    "union=pd.merge(df1, df2, how='outer', on=['id','subreddit', 'author']) \n",
    "#data_grupisi_obj_kom_po_kor=union[['id','subreddit', 'author']].groupby(['author', 'subreddit'])\n",
    "#data_agregiraj3=data_grupisi_obj_kom_po_kor['id'].agg(broj_objava_komentara=np.size)\n",
    "#print(data_agregiraj3[data_agregiraj3>0]) #aktivni korisnici na komentarima\n",
    "#print(data_agregiraj3[data_agregiraj3['broj_objava_komentara']==0])\n",
    "#ovde vidimo da ima da su svi korisnici aktivni i na komentarima i objavama.\n",
    "\n",
    "#print('\\nBroj sabredita:\\n')\n",
    "brojSab=len(union[['subreddit']].drop_duplicates())\n",
    "#print(brojSab)\n",
    "\n",
    "print('\\nProsečan broj aktivnih korisnika po sabreditu u februaru:\\n')\n",
    "union=union[['subreddit','author']].drop_duplicates()\n",
    "brojKom=union.groupby('subreddit')['author'].count()/brojSab\n",
    "print(brojKom.sort_values(ascending=False)[0:10])"
   ]
  },
  {
   "cell_type": "code",
   "execution_count": 10,
   "id": "083f2c16",
   "metadata": {},
   "outputs": [
    {
     "name": "stdout",
     "output_type": "stream",
     "text": [
      "\n",
      "Prosečan broj aktivnih korisnika po sabreditu u martu:\n",
      "\n",
      "subreddit\n",
      "reddit.com       61.817967\n",
      "politics         16.361702\n",
      "programming      11.652482\n",
      "pics             11.595745\n",
      "science          10.449173\n",
      "business          9.014184\n",
      "entertainment     8.101655\n",
      "funny             7.605201\n",
      "worldnews         6.479905\n",
      "gaming            6.203310\n",
      "Name: author, dtype: float64\n"
     ]
    }
   ],
   "source": [
    "df1=sabnetiMartSub[['id','subreddit', 'author']]\n",
    "df2=sabnetiMartCom[['id','subreddit', 'author']]\n",
    "\n",
    "union=pd.merge(df1, df2, how='outer', on=['id','subreddit', 'author']) \n",
    "#data_grupisi_obj_kom_po_kor=union[['id','subreddit', 'author']].groupby(['author', 'subreddit'])\n",
    "#data_agregiraj3=data_grupisi_obj_kom_po_kor['id'].agg(broj_objava_komentara=np.size)\n",
    "#print(data_agregiraj3[data_agregiraj3>0]) #aktivni korisnici na komentarima\n",
    "#print(data_agregiraj3[data_agregiraj3['broj_objava_komentara']==0])\n",
    "#ovde vidimo da ima da su svi korisnici aktivni i na komentarima i objavama.\n",
    "\n",
    "#print('\\nBroj sabredita:\\n')\n",
    "brojSab=len(union[['subreddit']].drop_duplicates())\n",
    "#print(brojSab)\n",
    "\n",
    "print('\\nProsečan broj aktivnih korisnika po sabreditu u martu:\\n')\n",
    "union=union[['subreddit','author']].drop_duplicates()\n",
    "brojKom=union.groupby('subreddit')['author'].count()/brojSab\n",
    "print(brojKom.sort_values(ascending=False)[0:10])"
   ]
  },
  {
   "cell_type": "code",
   "execution_count": 11,
   "id": "d2e279af",
   "metadata": {},
   "outputs": [
    {
     "name": "stdout",
     "output_type": "stream",
     "text": [
      "\n",
      "Prosečan broj aktivnih korisnika po sabreditu u aprilu:\n",
      "\n",
      "subreddit\n",
      "reddit.com       54.635135\n",
      "politics         13.756757\n",
      "programming      11.941441\n",
      "pics             11.630631\n",
      "entertainment    11.509009\n",
      "science          11.139640\n",
      "business         11.042793\n",
      "funny            10.880631\n",
      "worldnews         9.400901\n",
      "technology        6.159910\n",
      "Name: author, dtype: float64\n"
     ]
    }
   ],
   "source": [
    "df1=sabnetiAprilSub[['id','subreddit', 'author']]\n",
    "df2=sabnetiAprilCom[['id','subreddit', 'author']]\n",
    "\n",
    "union=pd.merge(df1, df2, how='outer', on=['id','subreddit', 'author']) \n",
    "#data_grupisi_obj_kom_po_kor=union[['id','subreddit', 'author']].groupby(['author', 'subreddit'])\n",
    "#data_agregiraj3=data_grupisi_obj_kom_po_kor['id'].agg(broj_objava_komentara=np.size)\n",
    "#print(data_agregiraj3[data_agregiraj3>0]) #aktivni korisnici na komentarima\n",
    "#print(data_agregiraj3[data_agregiraj3['broj_objava_komentara']==0])\n",
    "#ovde vidimo da ima da su svi korisnici aktivni i na komentarima i objavama.\n",
    "\n",
    "#print('\\nBroj sabredita:\\n')\n",
    "brojSab=len(union[['subreddit']].drop_duplicates())\n",
    "#print(brojSab)\n",
    "\n",
    "print('\\nProsečan broj aktivnih korisnika po sabreditu u aprilu:\\n')\n",
    "union=union[['subreddit','author']].drop_duplicates()\n",
    "brojKom=union.groupby('subreddit')['author'].count()/brojSab\n",
    "print(brojKom.sort_values(ascending=False)[0:10])"
   ]
  },
  {
   "cell_type": "code",
   "execution_count": 12,
   "id": "c6805a5a",
   "metadata": {},
   "outputs": [
    {
     "name": "stdout",
     "output_type": "stream",
     "text": [
      "\n",
      "Prosečan broj aktivnih korisnika po sabreditu u maju:\n",
      "\n",
      "subreddit\n",
      "reddit.com       44.945035\n",
      "politics         12.301418\n",
      "pics             11.590426\n",
      "entertainment    10.682624\n",
      "science           9.849291\n",
      "funny             9.726950\n",
      "programming       9.404255\n",
      "technology        8.870567\n",
      "business          8.609929\n",
      "worldnews         8.234043\n",
      "Name: author, dtype: float64\n"
     ]
    }
   ],
   "source": [
    "df1=sabnetiMajSub[['id','subreddit', 'author']]\n",
    "df2=sabnetiMajCom[['id','subreddit', 'author']]\n",
    "\n",
    "union=pd.merge(df1, df2, how='outer', on=['id','subreddit', 'author']) \n",
    "#data_grupisi_obj_kom_po_kor=union[['id','subreddit', 'author']].groupby(['author', 'subreddit'])\n",
    "#data_agregiraj3=data_grupisi_obj_kom_po_kor['id'].agg(broj_objava_komentara=np.size)\n",
    "#print(data_agregiraj3[data_agregiraj3>0]) #aktivni korisnici na komentarima\n",
    "#print(data_agregiraj3[data_agregiraj3['broj_objava_komentara']==0])\n",
    "#ovde vidimo da ima da su svi korisnici aktivni i na komentarima i objavama.\n",
    "\n",
    "#print('\\nBroj sabredita:\\n')\n",
    "brojSab=len(union[['subreddit']].drop_duplicates())\n",
    "#print(brojSab)\n",
    "\n",
    "print('\\nProsečan broj aktivnih korisnika po sabreditu u maju:\\n')\n",
    "union=union[['subreddit','author']].drop_duplicates()\n",
    "brojKom=union.groupby('subreddit')['author'].count()/brojSab\n",
    "print(brojKom.sort_values(ascending=False)[0:10])"
   ]
  },
  {
   "cell_type": "code",
   "execution_count": 13,
   "id": "199cc6a3",
   "metadata": {},
   "outputs": [
    {
     "name": "stdout",
     "output_type": "stream",
     "text": [
      "\n",
      "Prosečan broj aktivnih korisnika po sabreditu u junu:\n",
      "\n",
      "subreddit\n",
      "reddit.com       29.299194\n",
      "politics          8.403913\n",
      "entertainment     7.162255\n",
      "pics              7.135788\n",
      "technology        7.008055\n",
      "science           6.242808\n",
      "funny             6.184120\n",
      "worldnews         6.121979\n",
      "programming       6.121979\n",
      "WTF               4.995397\n",
      "Name: author, dtype: float64\n"
     ]
    }
   ],
   "source": [
    "df1=sabnetiJunSub[['id','subreddit', 'author']]\n",
    "df2=sabnetiJunCom[['id','subreddit', 'author']]\n",
    "\n",
    "union=pd.merge(df1, df2, how='outer', on=['id','subreddit', 'author']) \n",
    "#data_grupisi_obj_kom_po_kor=union[['id','subreddit', 'author']].groupby(['author', 'subreddit'])\n",
    "#data_agregiraj3=data_grupisi_obj_kom_po_kor['id'].agg(broj_objava_komentara=np.size)\n",
    "#print(data_agregiraj3[data_agregiraj3>0]) #aktivni korisnici na komentarima\n",
    "#print(data_agregiraj3[data_agregiraj3['broj_objava_komentara']==0])\n",
    "#ovde vidimo da ima da su svi korisnici aktivni i na komentarima i objavama.\n",
    "\n",
    "#print('\\nBroj sabredita:\\n')\n",
    "brojSab=len(union[['subreddit']].drop_duplicates())\n",
    "#print(brojSab)\n",
    "\n",
    "print('\\nProsečan broj aktivnih korisnika po sabreditu u junu:\\n')\n",
    "union=union[['subreddit','author']].drop_duplicates()\n",
    "brojKom=union.groupby('subreddit')['author'].count()/brojSab\n",
    "print(brojKom.sort_values(ascending=False)[0:10])"
   ]
  },
  {
   "cell_type": "code",
   "execution_count": 14,
   "id": "7e5ea95a",
   "metadata": {},
   "outputs": [
    {
     "name": "stdout",
     "output_type": "stream",
     "text": [
      "\n",
      "Prosečan broj aktivnih korisnika po sabreditu u julu:\n",
      "\n",
      "subreddit\n",
      "reddit.com       25.597194\n",
      "politics          7.319639\n",
      "pics              6.257515\n",
      "technology        5.873747\n",
      "entertainment     5.825651\n",
      "programming       5.727455\n",
      "worldnews         5.691383\n",
      "funny             5.691383\n",
      "WTF               5.457916\n",
      "science           5.163327\n",
      "Name: author, dtype: float64\n"
     ]
    }
   ],
   "source": [
    "df1=sabnetiJulSub[['id','subreddit', 'author']]\n",
    "df2=sabnetiJulCom[['id','subreddit', 'author']]\n",
    "\n",
    "union=pd.merge(df1, df2, how='outer', on=['id','subreddit', 'author']) \n",
    "#data_grupisi_obj_kom_po_kor=union[['id','subreddit', 'author']].groupby(['author', 'subreddit'])\n",
    "#data_agregiraj3=data_grupisi_obj_kom_po_kor['id'].agg(broj_objava_komentara=np.size)\n",
    "#print(data_agregiraj3[data_agregiraj3>0]) #aktivni korisnici na komentarima\n",
    "#print(data_agregiraj3[data_agregiraj3['broj_objava_komentara']>0])\n",
    "#ovde vidimo da ima da su svi korisnici aktivni i na komentarima i objavama.\n",
    "\n",
    "#print('\\nBroj sabredita:\\n')\n",
    "brojSab=len(union[['subreddit']].drop_duplicates())\n",
    "#print(brojSab)\n",
    "\n",
    "print('\\nProsečan broj aktivnih korisnika po sabreditu u julu:\\n')\n",
    "union=union[['subreddit','author']].drop_duplicates()\n",
    "brojKom=union.groupby('subreddit')['author'].count()/brojSab\n",
    "print(brojKom.sort_values(ascending=False)[0:10])"
   ]
  },
  {
   "cell_type": "code",
   "execution_count": 15,
   "id": "df4528fd",
   "metadata": {},
   "outputs": [
    {
     "name": "stdout",
     "output_type": "stream",
     "text": [
      "\n",
      "Prosečan broj aktivnih korisnika po sabreditu u avgustu:\n",
      "\n",
      "subreddit\n",
      "reddit.com       23.933775\n",
      "politics          7.080416\n",
      "pics              6.064333\n",
      "WTF               5.329234\n",
      "technology        5.312204\n",
      "entertainment     5.287606\n",
      "science           5.190161\n",
      "funny             5.100284\n",
      "programming       5.086093\n",
      "worldnews         5.056764\n",
      "Name: author, dtype: float64\n"
     ]
    }
   ],
   "source": [
    "df1=sabnetiAvgSub[['id','subreddit', 'author']]\n",
    "df2=sabnetiAvgCom[['id','subreddit', 'author']]\n",
    "\n",
    "union=pd.merge(df1, df2, how='outer', on=['id','subreddit', 'author']) \n",
    "#data_grupisi_obj_kom_po_kor=union[['id','subreddit', 'author']].groupby(['author', 'subreddit'])\n",
    "#data_agregiraj3=data_grupisi_obj_kom_po_kor['id'].agg(broj_objava_komentara=np.size)\n",
    "#print(data_agregiraj3[data_agregiraj3>0]) #aktivni korisnici na komentarima\n",
    "#print(data_agregiraj3[data_agregiraj3['broj_objava_komentara']==0])\n",
    "#ovde vidimo da ima da su svi korisnici aktivni i na komentarima i objavama.\n",
    "\n",
    "#print('\\nBroj sabredita:\\n')\n",
    "brojSab=len(union[['subreddit']].drop_duplicates())\n",
    "#print(brojSab)\n",
    "\n",
    "print('\\nProsečan broj aktivnih korisnika po sabreditu u avgustu:\\n')\n",
    "union=union[['subreddit','author']].drop_duplicates()\n",
    "brojKom=union.groupby('subreddit')['author'].count()/brojSab\n",
    "print(brojKom.sort_values(ascending=False)[0:10])"
   ]
  },
  {
   "cell_type": "code",
   "execution_count": 16,
   "id": "10b6e71e",
   "metadata": {},
   "outputs": [
    {
     "name": "stdout",
     "output_type": "stream",
     "text": [
      "\n",
      "Prosečan broj aktivnih korisnika po sabreditu u septembru:\n",
      "\n",
      "subreddit\n",
      "reddit.com     24.466667\n",
      "politics        8.737553\n",
      "pics            5.490295\n",
      "technology      5.167089\n",
      "WTF             5.068354\n",
      "funny           5.048101\n",
      "programming     4.548523\n",
      "science         4.534177\n",
      "worldnews       4.208439\n",
      "business        3.294515\n",
      "Name: author, dtype: float64\n"
     ]
    }
   ],
   "source": [
    "df1=sabnetiSepSub[['id','subreddit', 'author']]\n",
    "df2=sabnetiSepCom[['id','subreddit', 'author']]\n",
    "\n",
    "union=pd.merge(df1, df2, how='outer', on=['id','subreddit', 'author']) \n",
    "#data_grupisi_obj_kom_po_kor=union[['id','subreddit', 'author']].groupby(['author', 'subreddit'])\n",
    "#data_agregiraj3=data_grupisi_obj_kom_po_kor['id'].agg(broj_objava_komentara=np.size)\n",
    "#print(data_agregiraj3[data_agregiraj3>0]) #aktivni korisnici na komentarima\n",
    "#print(data_agregiraj3[data_agregiraj3['broj_objava_komentara']==0])\n",
    "#ovde vidimo da ima da su svi korisnici aktivni i na komentarima i objavama.\n",
    "\n",
    "#print('\\nBroj sabredita:\\n')\n",
    "brojSab=len(union[['subreddit']].drop_duplicates())\n",
    "#print(brojSab)\n",
    "\n",
    "print('\\nProsečan broj aktivnih korisnika po sabreditu u septembru:\\n')\n",
    "union=union[['subreddit','author']].drop_duplicates()\n",
    "brojKom=union.groupby('subreddit')['author'].count()/brojSab\n",
    "print(brojKom.sort_values(ascending=False)[0:10])"
   ]
  },
  {
   "cell_type": "code",
   "execution_count": 17,
   "id": "465779af",
   "metadata": {},
   "outputs": [
    {
     "name": "stdout",
     "output_type": "stream",
     "text": [
      "\n",
      "Prosečan broj aktivnih korisnika po sabreditu u oktobru:\n",
      "\n",
      "subreddit\n",
      "reddit.com     24.225938\n",
      "politics        9.454323\n",
      "pics            6.630506\n",
      "funny           5.548124\n",
      "WTF             5.474715\n",
      "technology      5.186786\n",
      "programming     4.599511\n",
      "science         4.381729\n",
      "business        4.221860\n",
      "worldnews       3.752039\n",
      "Name: author, dtype: float64\n"
     ]
    }
   ],
   "source": [
    "df1=sabnetiOktSub[['id','subreddit', 'author']]\n",
    "df2=sabnetiOktCom[['id','subreddit', 'author']]\n",
    "\n",
    "union=pd.merge(df1, df2, how='outer', on=['id','subreddit', 'author']) \n",
    "#data_grupisi_obj_kom_po_kor=union[['id','subreddit', 'author']].groupby(['author', 'subreddit'])\n",
    "#data_agregiraj3=data_grupisi_obj_kom_po_kor['id'].agg(broj_objava_komentara=np.size)\n",
    "#print(data_agregiraj3[data_agregiraj3>0]) #aktivni korisnici na komentarima\n",
    "#print(data_agregiraj3[data_agregiraj3['broj_objava_komentara']==0])\n",
    "#ovde vidimo da ima da su svi korisnici aktivni i na komentarima i objavama.\n",
    "\n",
    "#print('\\nBroj sabredita:\\n')\n",
    "brojSab=len(union[['subreddit']].drop_duplicates())\n",
    "#print(brojSab)\n",
    "\n",
    "print('\\nProsečan broj aktivnih korisnika po sabreditu u oktobru:\\n')\n",
    "union=union[['subreddit','author']].drop_duplicates()\n",
    "brojKom=union.groupby('subreddit')['author'].count()/brojSab\n",
    "print(brojKom.sort_values(ascending=False)[0:10])"
   ]
  },
  {
   "cell_type": "code",
   "execution_count": 18,
   "id": "ec6e508d",
   "metadata": {},
   "outputs": [
    {
     "name": "stdout",
     "output_type": "stream",
     "text": [
      "\n",
      "Prosečan broj aktivnih korisnika po sabreditu u novembru:\n",
      "\n",
      "subreddit\n",
      "reddit.com     20.947154\n",
      "politics        7.313686\n",
      "pics            5.702575\n",
      "WTF             5.040650\n",
      "funny           4.817751\n",
      "technology      4.365854\n",
      "worldnews       4.309621\n",
      "science         3.798780\n",
      "programming     3.770325\n",
      "business        3.725610\n",
      "Name: author, dtype: float64\n"
     ]
    }
   ],
   "source": [
    "df1=sabnetiNovSub[['id','subreddit', 'author']]\n",
    "df2=sabnetiNovCom[['id','subreddit', 'author']]\n",
    "\n",
    "union=pd.merge(df1, df2, how='outer', on=['id','subreddit', 'author']) \n",
    "#data_grupisi_obj_kom_po_kor=union[['id','subreddit', 'author']].groupby(['author', 'subreddit'])\n",
    "#data_agregiraj3=data_grupisi_obj_kom_po_kor['id'].agg(broj_objava_komentara=np.size)\n",
    "#print(data_agregiraj3[data_agregiraj3>0]) #aktivni korisnici na komentarima\n",
    "#print(data_agregiraj3[data_agregiraj3['broj_objava_komentara']==0])\n",
    "#ovde vidimo da ima da su svi korisnici aktivni i na komentarima i objavama.\n",
    "\n",
    "#print('\\nBroj sabredita:\\n')\n",
    "brojSab=len(union[['subreddit']].drop_duplicates())\n",
    "#print(brojSab)\n",
    "\n",
    "print('\\nProsečan broj aktivnih korisnika po sabreditu u novembru:\\n')\n",
    "union=union[['subreddit','author']].drop_duplicates()\n",
    "brojKom=union.groupby('subreddit')['author'].count()/brojSab\n",
    "print(brojKom.sort_values(ascending=False)[0:10])"
   ]
  },
  {
   "cell_type": "code",
   "execution_count": 19,
   "id": "9cfbaf58",
   "metadata": {},
   "outputs": [
    {
     "name": "stdout",
     "output_type": "stream",
     "text": [
      "\n",
      "Prosečan broj aktivnih korisnika po sabreditu u decembru:\n",
      "\n",
      "subreddit\n",
      "reddit.com     21.592848\n",
      "pics            5.340025\n",
      "WTF             5.154329\n",
      "politics        5.092848\n",
      "funny           4.926600\n",
      "technology      4.448557\n",
      "worldnews       4.094730\n",
      "programming     4.005646\n",
      "science         3.940402\n",
      "business        2.755960\n",
      "Name: author, dtype: float64\n"
     ]
    }
   ],
   "source": [
    "df1=sabnetiDecSub[['id','subreddit', 'author']]\n",
    "df2=sabnetiDecCom[['id','subreddit', 'author']]\n",
    "\n",
    "union=pd.merge(df1, df2, how='outer', on=['id','subreddit', 'author']) \n",
    "#data_grupisi_obj_kom_po_kor=union[['id','subreddit', 'author']].groupby(['author', 'subreddit'])\n",
    "#data_agregiraj3=data_grupisi_obj_kom_po_kor['id'].agg(broj_objava_komentara=np.size)\n",
    "#print(data_agregiraj3[data_agregiraj3>0]) #aktivni korisnici na komentarima\n",
    "#print(data_agregiraj3[data_agregiraj3['broj_objava_komentara']==0])\n",
    "#ovde vidimo da ima da su svi korisnici aktivni i na komentarima i objavama.\n",
    "\n",
    "#print('\\nBroj sabredita:\\n')\n",
    "brojSab=len(union[['subreddit']].drop_duplicates())\n",
    "#print(brojSab)\n",
    "\n",
    "print('\\nProsečan broj aktivnih korisnika po sabreditu u decembru:\\n')\n",
    "union=union[['subreddit','author']].drop_duplicates()\n",
    "brojKom=union.groupby('subreddit')['author'].count()/brojSab\n",
    "print(brojKom.sort_values(ascending=False)[0:10])"
   ]
  },
  {
   "cell_type": "markdown",
   "id": "214b1108",
   "metadata": {},
   "source": [
    "## 3a) Korisnici sa najvećim brojem objava ##"
   ]
  },
  {
   "cell_type": "code",
   "execution_count": 20,
   "id": "93827250",
   "metadata": {},
   "outputs": [
    {
     "name": "stdout",
     "output_type": "stream",
     "text": [
      "author\n",
      "gst                 18853\n",
      "qgyh2               12237\n",
      "rmuser               9822\n",
      "twolf1               8595\n",
      "IAmperfectlyCalm     8308\n",
      "qazamisan            6925\n",
      "charlatan            5997\n",
      "igeldard             5373\n",
      "noname99             5334\n",
      "democracy101         5332\n",
      "Name: id, dtype: int64\n"
     ]
    }
   ],
   "source": [
    "#broj objava korisnika\n",
    "data_grupisi_korisnike=data_submissions[['author', 'id']].groupby('author')\n",
    "data_agregirajSub=data_grupisi_korisnike['id'].agg(np.size)\n",
    "print(data_agregirajSub.sort_values(ascending=False)[0:10]) #gst je korisnik sa najvećim brojem objava\n",
    "#maxKorisnik=data_agregiraj[data_agregiraj==data_agregiraj.max()]\n",
    "#print(maxKorisnik)"
   ]
  },
  {
   "cell_type": "markdown",
   "id": "dc5d13f0",
   "metadata": {},
   "source": [
    "## 3b) Korisnici sa najvećim brojem komentara ##"
   ]
  },
  {
   "cell_type": "code",
   "execution_count": 21,
   "id": "eac5b084",
   "metadata": {},
   "outputs": [
    {
     "name": "stdout",
     "output_type": "stream",
     "text": [
      "author\n",
      "NoMoreNicksLeft    8462\n",
      "malcontent         7423\n",
      "matts2             6975\n",
      "7oby               5640\n",
      "mexicodoug         5499\n",
      "mutatron           4975\n",
      "randomb0y          4896\n",
      "aletoledo          4880\n",
      "otakucode          4744\n",
      "alllie             4733\n",
      "Name: id, dtype: int64\n"
     ]
    }
   ],
   "source": [
    "#broj komentara korisnika\n",
    "data_grupisi_korisnike=data_comments[['author', 'id']].groupby('author')\n",
    "data_agregirajCom=data_grupisi_korisnike['id'].agg(np.size)\n",
    "print(data_agregirajCom.sort_values(ascending=False)[0:10]) #NoMoreNicksLeft je korisnik sa najvećim brojem komentara\n",
    "#maxKorisnik=data_agregiraj[data_agregiraj==data_agregiraj.max()]\n",
    "#print(maxKorisnik)"
   ]
  },
  {
   "cell_type": "markdown",
   "id": "78e8838b",
   "metadata": {},
   "source": [
    "## 4) Lista korisnika na najvećem broju sabredita ##"
   ]
  },
  {
   "cell_type": "code",
   "execution_count": 22,
   "id": "762bf178",
   "metadata": {},
   "outputs": [
    {
     "name": "stdout",
     "output_type": "stream",
     "text": [
      "author\n",
      "Escafane          152\n",
      "MrKlaatu          147\n",
      "omfgninja         111\n",
      "scientologist2    106\n",
      "codepoet          103\n",
      "krugerlive        102\n",
      "tuoder            101\n",
      "turkourjurbs      101\n",
      "b34nz              97\n",
      "bobcat             97\n",
      "Name: subreddit, dtype: int64\n"
     ]
    }
   ],
   "source": [
    "df1=data_submissions[['subreddit', 'author']].drop_duplicates()\n",
    "df2=data_comments[['subreddit', 'author']].drop_duplicates()\n",
    "\n",
    "unionSabKor=pd.merge(df1, df2, how='outer', on=['subreddit', 'author'])\n",
    "unionSabKor=unionSabKor[['subreddit','author']].drop_duplicates()\n",
    "brojKom=unionSabKor.groupby('author')['subreddit'].count()\n",
    "print(brojKom.sort_values(ascending=False)[0:10]) #odredjujemo korisnike na najvise sabredita"
   ]
  },
  {
   "cell_type": "markdown",
   "id": "ed4a9254",
   "metadata": {},
   "source": [
    "### Sabrediti na kojima je korisnik 'Escafane' aktivan ### "
   ]
  },
  {
   "cell_type": "code",
   "execution_count": 23,
   "id": "b3fb5b23",
   "metadata": {},
   "outputs": [
    {
     "data": {
      "text/html": [
       "<div>\n",
       "<style scoped>\n",
       "    .dataframe tbody tr th:only-of-type {\n",
       "        vertical-align: middle;\n",
       "    }\n",
       "\n",
       "    .dataframe tbody tr th {\n",
       "        vertical-align: top;\n",
       "    }\n",
       "\n",
       "    .dataframe thead th {\n",
       "        text-align: right;\n",
       "    }\n",
       "</style>\n",
       "<table border=\"1\" class=\"dataframe\">\n",
       "  <thead>\n",
       "    <tr style=\"text-align: right;\">\n",
       "      <th></th>\n",
       "      <th>subreddit</th>\n",
       "      <th>author</th>\n",
       "    </tr>\n",
       "  </thead>\n",
       "  <tbody>\n",
       "    <tr>\n",
       "      <th>64264</th>\n",
       "      <td>business</td>\n",
       "      <td>Escafane</td>\n",
       "    </tr>\n",
       "    <tr>\n",
       "      <th>64585</th>\n",
       "      <td>Economics</td>\n",
       "      <td>Escafane</td>\n",
       "    </tr>\n",
       "    <tr>\n",
       "      <th>64641</th>\n",
       "      <td>investing</td>\n",
       "      <td>Escafane</td>\n",
       "    </tr>\n",
       "    <tr>\n",
       "      <th>64652</th>\n",
       "      <td>Frugal</td>\n",
       "      <td>Escafane</td>\n",
       "    </tr>\n",
       "    <tr>\n",
       "      <th>64685</th>\n",
       "      <td>cogsci</td>\n",
       "      <td>Escafane</td>\n",
       "    </tr>\n",
       "    <tr>\n",
       "      <th>64725</th>\n",
       "      <td>reddit.com</td>\n",
       "      <td>Escafane</td>\n",
       "    </tr>\n",
       "    <tr>\n",
       "      <th>64742</th>\n",
       "      <td>religion</td>\n",
       "      <td>Escafane</td>\n",
       "    </tr>\n",
       "    <tr>\n",
       "      <th>64748</th>\n",
       "      <td>magick</td>\n",
       "      <td>Escafane</td>\n",
       "    </tr>\n",
       "    <tr>\n",
       "      <th>64891</th>\n",
       "      <td>politics</td>\n",
       "      <td>Escafane</td>\n",
       "    </tr>\n",
       "    <tr>\n",
       "      <th>64976</th>\n",
       "      <td>war</td>\n",
       "      <td>Escafane</td>\n",
       "    </tr>\n",
       "  </tbody>\n",
       "</table>\n",
       "</div>"
      ],
      "text/plain": [
       "        subreddit    author\n",
       "64264    business  Escafane\n",
       "64585   Economics  Escafane\n",
       "64641   investing  Escafane\n",
       "64652      Frugal  Escafane\n",
       "64685      cogsci  Escafane\n",
       "64725  reddit.com  Escafane\n",
       "64742    religion  Escafane\n",
       "64748      magick  Escafane\n",
       "64891    politics  Escafane\n",
       "64976         war  Escafane"
      ]
     },
     "execution_count": 23,
     "metadata": {},
     "output_type": "execute_result"
    }
   ],
   "source": [
    "unionSabKor[unionSabKor['author']=='Escafane'][0:10]"
   ]
  },
  {
   "cell_type": "markdown",
   "id": "dffacba4",
   "metadata": {},
   "source": [
    "### Sabrediti na kojima je korisnik 'MrKlaatu' aktivan ### "
   ]
  },
  {
   "cell_type": "code",
   "execution_count": 24,
   "id": "b12004ab",
   "metadata": {},
   "outputs": [
    {
     "data": {
      "text/html": [
       "<div>\n",
       "<style scoped>\n",
       "    .dataframe tbody tr th:only-of-type {\n",
       "        vertical-align: middle;\n",
       "    }\n",
       "\n",
       "    .dataframe tbody tr th {\n",
       "        vertical-align: top;\n",
       "    }\n",
       "\n",
       "    .dataframe thead th {\n",
       "        text-align: right;\n",
       "    }\n",
       "</style>\n",
       "<table border=\"1\" class=\"dataframe\">\n",
       "  <thead>\n",
       "    <tr style=\"text-align: right;\">\n",
       "      <th></th>\n",
       "      <th>subreddit</th>\n",
       "      <th>author</th>\n",
       "    </tr>\n",
       "  </thead>\n",
       "  <tbody>\n",
       "    <tr>\n",
       "      <th>8601</th>\n",
       "      <td>reddit.com</td>\n",
       "      <td>MrKlaatu</td>\n",
       "    </tr>\n",
       "    <tr>\n",
       "      <th>29224</th>\n",
       "      <td>sports</td>\n",
       "      <td>MrKlaatu</td>\n",
       "    </tr>\n",
       "    <tr>\n",
       "      <th>34945</th>\n",
       "      <td>pics</td>\n",
       "      <td>MrKlaatu</td>\n",
       "    </tr>\n",
       "    <tr>\n",
       "      <th>49020</th>\n",
       "      <td>Jokes</td>\n",
       "      <td>MrKlaatu</td>\n",
       "    </tr>\n",
       "    <tr>\n",
       "      <th>49174</th>\n",
       "      <td>AskReddit</td>\n",
       "      <td>MrKlaatu</td>\n",
       "    </tr>\n",
       "    <tr>\n",
       "      <th>78889</th>\n",
       "      <td>nsfw</td>\n",
       "      <td>MrKlaatu</td>\n",
       "    </tr>\n",
       "    <tr>\n",
       "      <th>84372</th>\n",
       "      <td>programming</td>\n",
       "      <td>MrKlaatu</td>\n",
       "    </tr>\n",
       "    <tr>\n",
       "      <th>99305</th>\n",
       "      <td>funny</td>\n",
       "      <td>MrKlaatu</td>\n",
       "    </tr>\n",
       "    <tr>\n",
       "      <th>101478</th>\n",
       "      <td>politics</td>\n",
       "      <td>MrKlaatu</td>\n",
       "    </tr>\n",
       "    <tr>\n",
       "      <th>108872</th>\n",
       "      <td>entertainment</td>\n",
       "      <td>MrKlaatu</td>\n",
       "    </tr>\n",
       "  </tbody>\n",
       "</table>\n",
       "</div>"
      ],
      "text/plain": [
       "            subreddit    author\n",
       "8601       reddit.com  MrKlaatu\n",
       "29224          sports  MrKlaatu\n",
       "34945            pics  MrKlaatu\n",
       "49020           Jokes  MrKlaatu\n",
       "49174       AskReddit  MrKlaatu\n",
       "78889            nsfw  MrKlaatu\n",
       "84372     programming  MrKlaatu\n",
       "99305           funny  MrKlaatu\n",
       "101478       politics  MrKlaatu\n",
       "108872  entertainment  MrKlaatu"
      ]
     },
     "execution_count": 24,
     "metadata": {},
     "output_type": "execute_result"
    }
   ],
   "source": [
    "unionSabKor[unionSabKor['author']=='MrKlaatu'][0:10]"
   ]
  },
  {
   "cell_type": "markdown",
   "id": "119ce03f",
   "metadata": {},
   "source": [
    "### Sabrediti na kojima je korisnik 'omfgninja' aktivan ###"
   ]
  },
  {
   "cell_type": "code",
   "execution_count": 25,
   "id": "35425b34",
   "metadata": {},
   "outputs": [
    {
     "data": {
      "text/html": [
       "<div>\n",
       "<style scoped>\n",
       "    .dataframe tbody tr th:only-of-type {\n",
       "        vertical-align: middle;\n",
       "    }\n",
       "\n",
       "    .dataframe tbody tr th {\n",
       "        vertical-align: top;\n",
       "    }\n",
       "\n",
       "    .dataframe thead th {\n",
       "        text-align: right;\n",
       "    }\n",
       "</style>\n",
       "<table border=\"1\" class=\"dataframe\">\n",
       "  <thead>\n",
       "    <tr style=\"text-align: right;\">\n",
       "      <th></th>\n",
       "      <th>subreddit</th>\n",
       "      <th>author</th>\n",
       "    </tr>\n",
       "  </thead>\n",
       "  <tbody>\n",
       "    <tr>\n",
       "      <th>18826</th>\n",
       "      <td>reddit.com</td>\n",
       "      <td>omfgninja</td>\n",
       "    </tr>\n",
       "    <tr>\n",
       "      <th>38888</th>\n",
       "      <td>gaming</td>\n",
       "      <td>omfgninja</td>\n",
       "    </tr>\n",
       "    <tr>\n",
       "      <th>73512</th>\n",
       "      <td>Bacon</td>\n",
       "      <td>omfgninja</td>\n",
       "    </tr>\n",
       "    <tr>\n",
       "      <th>73515</th>\n",
       "      <td>self</td>\n",
       "      <td>omfgninja</td>\n",
       "    </tr>\n",
       "    <tr>\n",
       "      <th>73840</th>\n",
       "      <td>newreddits</td>\n",
       "      <td>omfgninja</td>\n",
       "    </tr>\n",
       "    <tr>\n",
       "      <th>84730</th>\n",
       "      <td>TeamFortress2</td>\n",
       "      <td>omfgninja</td>\n",
       "    </tr>\n",
       "    <tr>\n",
       "      <th>93807</th>\n",
       "      <td>occult</td>\n",
       "      <td>omfgninja</td>\n",
       "    </tr>\n",
       "    <tr>\n",
       "      <th>95214</th>\n",
       "      <td>robot</td>\n",
       "      <td>omfgninja</td>\n",
       "    </tr>\n",
       "    <tr>\n",
       "      <th>101927</th>\n",
       "      <td>DMT</td>\n",
       "      <td>omfgninja</td>\n",
       "    </tr>\n",
       "    <tr>\n",
       "      <th>102268</th>\n",
       "      <td>Drugs</td>\n",
       "      <td>omfgninja</td>\n",
       "    </tr>\n",
       "  </tbody>\n",
       "</table>\n",
       "</div>"
      ],
      "text/plain": [
       "            subreddit     author\n",
       "18826      reddit.com  omfgninja\n",
       "38888          gaming  omfgninja\n",
       "73512           Bacon  omfgninja\n",
       "73515            self  omfgninja\n",
       "73840      newreddits  omfgninja\n",
       "84730   TeamFortress2  omfgninja\n",
       "93807          occult  omfgninja\n",
       "95214           robot  omfgninja\n",
       "101927            DMT  omfgninja\n",
       "102268          Drugs  omfgninja"
      ]
     },
     "execution_count": 25,
     "metadata": {},
     "output_type": "execute_result"
    }
   ],
   "source": [
    "unionSabKor[unionSabKor['author']=='omfgninja'][0:10]"
   ]
  },
  {
   "cell_type": "markdown",
   "id": "c3fc572b",
   "metadata": {},
   "source": [
    "### Sabrediti na kojima je korisnik 'scientologist2' aktivan ###"
   ]
  },
  {
   "cell_type": "code",
   "execution_count": 26,
   "id": "85724249",
   "metadata": {},
   "outputs": [
    {
     "data": {
      "text/html": [
       "<div>\n",
       "<style scoped>\n",
       "    .dataframe tbody tr th:only-of-type {\n",
       "        vertical-align: middle;\n",
       "    }\n",
       "\n",
       "    .dataframe tbody tr th {\n",
       "        vertical-align: top;\n",
       "    }\n",
       "\n",
       "    .dataframe thead th {\n",
       "        text-align: right;\n",
       "    }\n",
       "</style>\n",
       "<table border=\"1\" class=\"dataframe\">\n",
       "  <thead>\n",
       "    <tr style=\"text-align: right;\">\n",
       "      <th></th>\n",
       "      <th>subreddit</th>\n",
       "      <th>author</th>\n",
       "    </tr>\n",
       "  </thead>\n",
       "  <tbody>\n",
       "    <tr>\n",
       "      <th>37477</th>\n",
       "      <td>geek</td>\n",
       "      <td>scientologist2</td>\n",
       "    </tr>\n",
       "    <tr>\n",
       "      <th>38298</th>\n",
       "      <td>science</td>\n",
       "      <td>scientologist2</td>\n",
       "    </tr>\n",
       "    <tr>\n",
       "      <th>41880</th>\n",
       "      <td>reddit.com</td>\n",
       "      <td>scientologist2</td>\n",
       "    </tr>\n",
       "    <tr>\n",
       "      <th>44964</th>\n",
       "      <td>gaming</td>\n",
       "      <td>scientologist2</td>\n",
       "    </tr>\n",
       "    <tr>\n",
       "      <th>52595</th>\n",
       "      <td>religion</td>\n",
       "      <td>scientologist2</td>\n",
       "    </tr>\n",
       "    <tr>\n",
       "      <th>58079</th>\n",
       "      <td>scientology</td>\n",
       "      <td>scientologist2</td>\n",
       "    </tr>\n",
       "    <tr>\n",
       "      <th>58614</th>\n",
       "      <td>philosophy</td>\n",
       "      <td>scientologist2</td>\n",
       "    </tr>\n",
       "    <tr>\n",
       "      <th>60623</th>\n",
       "      <td>politics</td>\n",
       "      <td>scientologist2</td>\n",
       "    </tr>\n",
       "    <tr>\n",
       "      <th>65160</th>\n",
       "      <td>pics</td>\n",
       "      <td>scientologist2</td>\n",
       "    </tr>\n",
       "    <tr>\n",
       "      <th>68071</th>\n",
       "      <td>technology</td>\n",
       "      <td>scientologist2</td>\n",
       "    </tr>\n",
       "  </tbody>\n",
       "</table>\n",
       "</div>"
      ],
      "text/plain": [
       "         subreddit          author\n",
       "37477         geek  scientologist2\n",
       "38298      science  scientologist2\n",
       "41880   reddit.com  scientologist2\n",
       "44964       gaming  scientologist2\n",
       "52595     religion  scientologist2\n",
       "58079  scientology  scientologist2\n",
       "58614   philosophy  scientologist2\n",
       "60623     politics  scientologist2\n",
       "65160         pics  scientologist2\n",
       "68071   technology  scientologist2"
      ]
     },
     "execution_count": 26,
     "metadata": {},
     "output_type": "execute_result"
    }
   ],
   "source": [
    "unionSabKor[unionSabKor['author']=='scientologist2'][0:10]"
   ]
  },
  {
   "cell_type": "markdown",
   "id": "d62d48bd",
   "metadata": {},
   "source": [
    "### Sabrediti na kojima je korisnik 'codepoet' aktivan ###"
   ]
  },
  {
   "cell_type": "code",
   "execution_count": 27,
   "id": "0001d2ce",
   "metadata": {},
   "outputs": [
    {
     "data": {
      "text/html": [
       "<div>\n",
       "<style scoped>\n",
       "    .dataframe tbody tr th:only-of-type {\n",
       "        vertical-align: middle;\n",
       "    }\n",
       "\n",
       "    .dataframe tbody tr th {\n",
       "        vertical-align: top;\n",
       "    }\n",
       "\n",
       "    .dataframe thead th {\n",
       "        text-align: right;\n",
       "    }\n",
       "</style>\n",
       "<table border=\"1\" class=\"dataframe\">\n",
       "  <thead>\n",
       "    <tr style=\"text-align: right;\">\n",
       "      <th></th>\n",
       "      <th>subreddit</th>\n",
       "      <th>author</th>\n",
       "    </tr>\n",
       "  </thead>\n",
       "  <tbody>\n",
       "    <tr>\n",
       "      <th>6225</th>\n",
       "      <td>politics</td>\n",
       "      <td>codepoet</td>\n",
       "    </tr>\n",
       "    <tr>\n",
       "      <th>6576</th>\n",
       "      <td>reddit.com</td>\n",
       "      <td>codepoet</td>\n",
       "    </tr>\n",
       "    <tr>\n",
       "      <th>34401</th>\n",
       "      <td>pics</td>\n",
       "      <td>codepoet</td>\n",
       "    </tr>\n",
       "    <tr>\n",
       "      <th>41420</th>\n",
       "      <td>technology</td>\n",
       "      <td>codepoet</td>\n",
       "    </tr>\n",
       "    <tr>\n",
       "      <th>49164</th>\n",
       "      <td>offbeat</td>\n",
       "      <td>codepoet</td>\n",
       "    </tr>\n",
       "    <tr>\n",
       "      <th>70741</th>\n",
       "      <td>bugs</td>\n",
       "      <td>codepoet</td>\n",
       "    </tr>\n",
       "    <tr>\n",
       "      <th>70802</th>\n",
       "      <td>Discussion</td>\n",
       "      <td>codepoet</td>\n",
       "    </tr>\n",
       "    <tr>\n",
       "      <th>70820</th>\n",
       "      <td>newreddits</td>\n",
       "      <td>codepoet</td>\n",
       "    </tr>\n",
       "    <tr>\n",
       "      <th>70832</th>\n",
       "      <td>texas</td>\n",
       "      <td>codepoet</td>\n",
       "    </tr>\n",
       "    <tr>\n",
       "      <th>70835</th>\n",
       "      <td>religion</td>\n",
       "      <td>codepoet</td>\n",
       "    </tr>\n",
       "  </tbody>\n",
       "</table>\n",
       "</div>"
      ],
      "text/plain": [
       "        subreddit    author\n",
       "6225     politics  codepoet\n",
       "6576   reddit.com  codepoet\n",
       "34401        pics  codepoet\n",
       "41420  technology  codepoet\n",
       "49164     offbeat  codepoet\n",
       "70741        bugs  codepoet\n",
       "70802  Discussion  codepoet\n",
       "70820  newreddits  codepoet\n",
       "70832       texas  codepoet\n",
       "70835    religion  codepoet"
      ]
     },
     "execution_count": 27,
     "metadata": {},
     "output_type": "execute_result"
    }
   ],
   "source": [
    "unionSabKor[unionSabKor['author']=='codepoet'][0:10]"
   ]
  },
  {
   "cell_type": "markdown",
   "id": "2c892841",
   "metadata": {},
   "source": [
    "## 5) Korelacija broja objava i komentara određenog korisnika ##"
   ]
  },
  {
   "cell_type": "code",
   "execution_count": 27,
   "id": "6c122278",
   "metadata": {},
   "outputs": [
    {
     "name": "stdout",
     "output_type": "stream",
     "text": [
      "               author\n",
      "0               DITUS\n",
      "1              rmuser\n",
      "2               zorno\n",
      "3       anteeknetshop\n",
      "4           malicious\n",
      "...               ...\n",
      "218726         pi-rat\n",
      "218727         edbett\n",
      "218728   leftyintexas\n",
      "218729     UNDERCOVER\n",
      "218730      dodo-bird\n",
      "\n",
      "[218731 rows x 1 columns]\n"
     ]
    }
   ],
   "source": [
    "kor1=data_submissions[['author']].drop_duplicates()\n",
    "kor2=data_comments[['author']].drop_duplicates()\n",
    "korisnici=pd.merge(kor1, kor2, how='outer', on=['author'])\n",
    "print(korisnici)"
   ]
  },
  {
   "cell_type": "code",
   "execution_count": 28,
   "id": "e9d97ba4",
   "metadata": {},
   "outputs": [
    {
     "name": "stdout",
     "output_type": "stream",
     "text": [
      "author\n",
      "gst                    18853\n",
      "qgyh2                  12237\n",
      "rmuser                  9822\n",
      "twolf1                  8595\n",
      "IAmperfectlyCalm        8308\n",
      "                       ...  \n",
      "gezas                      1\n",
      "geyson                     1\n",
      "geyikoloji                 1\n",
      "geyer56                    1\n",
      "zzzzzzzzzzzzzzzzzzz        1\n",
      "Name: id, Length: 184703, dtype: int64\n"
     ]
    }
   ],
   "source": [
    "brojObjava=data_submissions.groupby('author')['id'].count().sort_values(ascending=False)\n",
    "print(brojObjava)"
   ]
  },
  {
   "cell_type": "code",
   "execution_count": 29,
   "id": "86b9df1f",
   "metadata": {},
   "outputs": [
    {
     "name": "stdout",
     "output_type": "stream",
     "text": [
      "author\n",
      "NoMoreNicksLeft    8462\n",
      "malcontent         7423\n",
      "matts2             6975\n",
      "7oby               5640\n",
      "mexicodoug         5499\n",
      "                   ... \n",
      "coverity              1\n",
      "JohnJYates            1\n",
      "JohnHawkins           1\n",
      "cowboybebop           1\n",
      "joshd                 1\n",
      "Name: id, Length: 79650, dtype: int64\n"
     ]
    }
   ],
   "source": [
    "brojKomentara=data_comments.groupby('author')['id'].count().sort_values(ascending=False)\n",
    "print(brojKomentara)"
   ]
  },
  {
   "cell_type": "code",
   "execution_count": 205,
   "id": "4373a88f",
   "metadata": {},
   "outputs": [],
   "source": [
    "#print(brojObjava.corr(brojKomentara, method='pearson'))"
   ]
  },
  {
   "cell_type": "code",
   "execution_count": 30,
   "id": "13855200",
   "metadata": {},
   "outputs": [],
   "source": [
    "from scipy.stats import pearsonr\n",
    "import matplotlib.pyplot as plt\n",
    "import scipy.stats"
   ]
  },
  {
   "cell_type": "code",
   "execution_count": 31,
   "id": "cf0039f4",
   "metadata": {},
   "outputs": [],
   "source": [
    "def Pirsonov(num):\n",
    "    dataMatrix=pd.DataFrame(columns = ['Broj_objava', 'Broj_komentara'], index=None)\n",
    "    #display(dataMatrix)\n",
    "    for i in range(num):\n",
    "        kor=korisnici.loc[i].values[0]\n",
    "        if len(brojKomentara[brojKomentara.index==kor])>0:\n",
    "            dataMatrix.loc[i, 'Broj_komentara']=brojKomentara.loc[kor]\n",
    "        else:\n",
    "            dataMatrix.loc[i, 'Broj_komentara']=0\n",
    "        if len(brojObjava[brojObjava.index==kor])>0:\n",
    "            dataMatrix.loc[i, 'Broj_objava']=brojObjava.loc[kor]\n",
    "        else:\n",
    "            dataMatrix[i, 'Broj_objava']=0\n",
    "    a1=np.array([0])\n",
    "    for i in range(len(dataMatrix)):\n",
    "        if i==0:\n",
    "            a1=np.where(a1==0, dataMatrix['Broj_objava'].loc[0], a1)\n",
    "        else:\n",
    "            a1=np.append(a1, dataMatrix['Broj_objava'].loc[i])\n",
    "    a2=np.array([0])\n",
    "    for i in range(len(dataMatrix)):\n",
    "        if i==0:\n",
    "            a2=np.where(a2==0, dataMatrix['Broj_komentara'].loc[0], a2)\n",
    "        else:\n",
    "            a2=np.append(a2, dataMatrix['Broj_komentara'].loc[i])\n",
    "    corr_matrix = np.corrcoef(a1, a2).round(decimals=7)\n",
    "    print(f'Matrica korelacije između broja objava i broja komentara korisnika:')\n",
    "    print(corr_matrix)\n",
    "    print(f'\\nPirsonov koeficijent korelacije između broja objava i broja komentara korisnika:')\n",
    "    print(pearsonr(a1, a2)[0].round(decimals=7))\n",
    "    print(f'\\nMatrica korelacije između broja objava i broja komentara korisnika:')\n",
    "    fig, ax = plt.subplots()\n",
    "    im = ax.imshow(corr_matrix)\n",
    "    im.set_clim(-1, 1)\n",
    "    ax.grid(False)\n",
    "    ax.xaxis.set(ticks=(0, 1), ticklabels=('Broj objava', 'Broj komentara'))\n",
    "    ax.yaxis.set(ticks=(0, 1), ticklabels=('Broj objava', 'Broj komentara'))\n",
    "    ax.set_ylim(1.5, -0.5)\n",
    "    for i in range(2):\n",
    "        for j in range(2):\n",
    "            ax.text(j, i, corr_matrix[i, j], ha='center', va='center',\n",
    "                    color='r')\n",
    "    cbar = ax.figure.colorbar(im, ax=ax, format='% .7f')\n",
    "    plt.show()\n",
    "    print(f'Vizuelizacija korelacije između broja objava i broja komentara:')\n",
    "    fig, ax = plt.subplots()\n",
    "    ax.plot(a1, a2, linewidth=0, marker='s', label='Podaci')\n",
    "    ax.set_xlabel('Broj objava')\n",
    "    ax.set_ylabel('Broj komentara')\n",
    "    ax.legend(facecolor='white')\n",
    "    plt.show()"
   ]
  },
  {
   "cell_type": "code",
   "execution_count": 32,
   "id": "b7a8fcc3",
   "metadata": {},
   "outputs": [
    {
     "name": "stdout",
     "output_type": "stream",
     "text": [
      "Matrica korelacije između broja objava i broja komentara korisnika:\n",
      "[[1.       0.909317]\n",
      " [0.909317 1.      ]]\n",
      "\n",
      "Pirsonov koeficijent korelacije između broja objava i broja komentara korisnika:\n",
      "0.909317\n",
      "\n",
      "Matrica korelacije između broja objava i broja komentara korisnika:\n"
     ]
    },
    {
     "data": {
      "image/png": "[encoded data removed]",
      "text/plain": [
       "<Figure size 432x288 with 2 Axes>"
      ]
     },
     "metadata": {
      "needs_background": "light"
     },
     "output_type": "display_data"
    },
    {
     "name": "stdout",
     "output_type": "stream",
     "text": [
      "Vizuelizacija korelacije između broja objava i broja komentara:\n"
     ]
    },
    {
     "data": {
      "image/png": "[encoded data removed]",
      "text/plain": [
       "<Figure size 432x288 with 1 Axes>"
      ]
     },
     "metadata": {
      "needs_background": "light"
     },
     "output_type": "display_data"
    }
   ],
   "source": [
    "Pirsonov(10)"
   ]
  },
  {
   "cell_type": "code",
   "execution_count": 33,
   "id": "71b70997",
   "metadata": {},
   "outputs": [
    {
     "name": "stdout",
     "output_type": "stream",
     "text": [
      "Matrica korelacije između broja objava i broja komentara korisnika:\n",
      "[[1.      0.81028]\n",
      " [0.81028 1.     ]]\n",
      "\n",
      "Pirsonov koeficijent korelacije između broja objava i broja komentara korisnika:\n",
      "0.81028\n",
      "\n",
      "Matrica korelacije između broja objava i broja komentara korisnika:\n"
     ]
    },
    {
     "data": {
      "image/png": "[encoded data removed]",
      "text/plain": [
       "<Figure size 432x288 with 2 Axes>"
      ]
     },
     "metadata": {
      "needs_background": "light"
     },
     "output_type": "display_data"
    },
    {
     "name": "stdout",
     "output_type": "stream",
     "text": [
      "Vizuelizacija korelacije između broja objava i broja komentara:\n"
     ]
    },
    {
     "data": {
      "image/png": "[encoded data removed]",
      "text/plain": [
       "<Figure size 432x288 with 1 Axes>"
      ]
     },
     "metadata": {
      "needs_background": "light"
     },
     "output_type": "display_data"
    }
   ],
   "source": [
    "Pirsonov(50)"
   ]
  },
  {
   "cell_type": "code",
   "execution_count": 34,
   "id": "5e21f107",
   "metadata": {},
   "outputs": [
    {
     "name": "stdout",
     "output_type": "stream",
     "text": [
      "Matrica korelacije između broja objava i broja komentara korisnika:\n",
      "[[1.        0.6349815]\n",
      " [0.6349815 1.       ]]\n",
      "\n",
      "Pirsonov koeficijent korelacije između broja objava i broja komentara korisnika:\n",
      "0.6349815\n",
      "\n",
      "Matrica korelacije između broja objava i broja komentara korisnika:\n"
     ]
    },
    {
     "data": {
      "image/png": "[encoded data removed]",
      "text/plain": [
       "<Figure size 432x288 with 2 Axes>"
      ]
     },
     "metadata": {
      "needs_background": "light"
     },
     "output_type": "display_data"
    },
    {
     "name": "stdout",
     "output_type": "stream",
     "text": [
      "Vizuelizacija korelacije između broja objava i broja komentara:\n"
     ]
    },
    {
     "data": {
      "image/png": "[encoded data removed]",
      "text/plain": [
       "<Figure size 432x288 with 1 Axes>"
      ]
     },
     "metadata": {
      "needs_background": "light"
     },
     "output_type": "display_data"
    }
   ],
   "source": [
    "Pirsonov(100)"
   ]
  },
  {
   "cell_type": "code",
   "execution_count": 35,
   "id": "a625a5c9",
   "metadata": {},
   "outputs": [
    {
     "name": "stdout",
     "output_type": "stream",
     "text": [
      "Matrica korelacije između broja objava i broja komentara korisnika:\n",
      "[[1.        0.2539528]\n",
      " [0.2539528 1.       ]]\n",
      "\n",
      "Pirsonov koeficijent korelacije između broja objava i broja komentara korisnika:\n",
      "0.2539528\n",
      "\n",
      "Matrica korelacije između broja objava i broja komentara korisnika:\n"
     ]
    },
    {
     "data": {
      "image/png": "[encoded data removed]",
      "text/plain": [
       "<Figure size 432x288 with 2 Axes>"
      ]
     },
     "metadata": {
      "needs_background": "light"
     },
     "output_type": "display_data"
    },
    {
     "name": "stdout",
     "output_type": "stream",
     "text": [
      "Vizuelizacija korelacije između broja objava i broja komentara:\n"
     ]
    },
    {
     "data": {
      "image/png": "[encoded data removed]",
      "text/plain": [
       "<Figure size 432x288 with 1 Axes>"
      ]
     },
     "metadata": {
      "needs_background": "light"
     },
     "output_type": "display_data"
    }
   ],
   "source": [
    "Pirsonov(2000)"
   ]
  },
  {
   "cell_type": "markdown",
   "id": "c073ae30",
   "metadata": {},
   "source": [
    "## 6) Objave sa najvećim brojem komentara ##"
   ]
  },
  {
   "cell_type": "code",
   "execution_count": 4,
   "id": "e3233509",
   "metadata": {},
   "outputs": [
    {
     "name": "stdout",
     "output_type": "stream",
     "text": [
      "                                                       url  num_comments  \\\n",
      "746726                           http://hundredpushups.com         33329   \n",
      "1522096  http://www.time.com/time/nation/article/0,8599...          3657   \n",
      "110214   https://www.reddit.com/r/reddit.com/comments/6...          2039   \n",
      "1625030  https://www.reddit.com/r/politics/comments/7be...          1934   \n",
      "1167330  http://www.nytimes.com/reuters/us/internationa...          1425   \n",
      "970845   https://www.reddit.com/r/politics/comments/6tv...          1425   \n",
      "419056             http://www.london-airport-shuttle.co.uk          1411   \n",
      "111043   http://www.washingtonpost.com/wp-dyn/content/c...          1377   \n",
      "1358937             http://www.msnbc.msn.com/id/26884523/?          1346   \n",
      "431349   https://www.reddit.com/r/reddit.com/comments/6...          1342   \n",
      "\n",
      "          subreddit          author  locked  \n",
      "746726      science           zekel   False  \n",
      "1522096         WTF        indorock   False  \n",
      "110214   reddit.com     matiasklein   False  \n",
      "1625030    politics    willjohnston   False  \n",
      "1167330  reddit.com     nucleophile   False  \n",
      "970845     politics    TheRealStick   False  \n",
      "419056   reddit.com         4bernal   False  \n",
      "111043   reddit.com           rpi22   False  \n",
      "1358937    politics  IM_A_REPTILIAN   False  \n",
      "431349   reddit.com             cup   False  \n"
     ]
    }
   ],
   "source": [
    "#najveci broj komentara po objavi i koji su im sabrediti\n",
    "objave_bez_over_18=data_submissions[data_submissions['over_18']==False]\n",
    "max_broj_komentara_po_objavi=objave_bez_over_18[['url','num_comments','subreddit','author','locked']]\n",
    "print(max_broj_komentara_po_objavi.sort_values(by='num_comments', ascending=False)[0:10])"
   ]
  },
  {
   "cell_type": "code",
   "execution_count": 7,
   "id": "0f007432",
   "metadata": {},
   "outputs": [
    {
     "name": "stdout",
     "output_type": "stream",
     "text": [
      "                                                       url  num_comments  \\\n",
      "225554   http://www.wired.com/science/discoveries/multi...           628   \n",
      "782615   http://images.teamsugar.com/files/upl0/1/13254...           484   \n",
      "15055           http://webmaster.zattevrienden.be/01/Misc/           442   \n",
      "1593400  http://www.thesun.co.uk/sol/homepage/news/arti...           430   \n",
      "19909               http://reddit.com/info/64rx6/comments/           403   \n",
      "173465   http://jezebel.com/gossip/how-porn-ruined-sex/...           397   \n",
      "1315244  http://damncoolpics.blogspot.com/2008/09/oktob...           391   \n",
      "658859   https://www.reddit.com/r/reddit.com/comments/6...           341   \n",
      "254897   https://www.reddit.com/r/reddit.com/comments/6...           335   \n",
      "1270354              http://blog.joerogan.net/archives/101           329   \n",
      "\n",
      "          subreddit  \n",
      "225554   reddit.com  \n",
      "782615         pics  \n",
      "15055    reddit.com  \n",
      "1593400         WTF  \n",
      "19909    reddit.com  \n",
      "173465   reddit.com  \n",
      "1315244        pics  \n",
      "658859   reddit.com  \n",
      "254897   reddit.com  \n",
      "1270354       funny  \n"
     ]
    }
   ],
   "source": [
    "#najveci broj komentara po objavi i koji su im sabrediti\n",
    "objave_sa_over_18=data_submissions[data_submissions['over_18']==True]\n",
    "max_broj_komentara_po_objavi=objave_sa_over_18[['url','num_comments','subreddit']]\n",
    "print(max_broj_komentara_po_objavi.sort_values(by='num_comments', ascending=False)[0:10])"
   ]
  },
  {
   "cell_type": "code",
   "execution_count": null,
   "id": "86d91fe9",
   "metadata": {},
   "outputs": [],
   "source": [
    "#odrediti uniju za broj sabredita u skupu objava i komentara - pomoc\n",
    "#set1=sabnetiJanSub['subreddit_id'].drop_duplicates()\n",
    "#set2=sabnetiJanCom['subreddit_id'].drop_duplicates()\n",
    "#df_intersection=pd.merge(set1,set2, how='inner', on='subreddit_id') #109  #presek\n",
    "#union=pd.merge(set1, set2, how='outer', on='subreddit_id') #199  #unija\n",
    "#df_diff=pd.concat([set1,set2]).drop_duplicates(keep=False) #razlika"
   ]
  },
  {
   "cell_type": "code",
   "execution_count": null,
   "id": "21750c3d",
   "metadata": {},
   "outputs": [],
   "source": []
  }
 ],
 "metadata": {
  "kernelspec": {
   "display_name": "Python 3",
   "language": "python",
   "name": "python3"
  },
  "language_info": {
   "codemirror_mode": {
    "name": "ipython",
    "version": 3
   },
   "file_extension": ".py",
   "mimetype": "text/x-python",
   "name": "python",
   "nbconvert_exporter": "python",
   "pygments_lexer": "ipython3",
   "version": "3.8.8"
  }
 },
 "nbformat": 4,
 "nbformat_minor": 5
}
